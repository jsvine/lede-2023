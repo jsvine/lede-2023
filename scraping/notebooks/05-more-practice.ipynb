{
 "cells": [
  {
   "cell_type": "markdown",
   "id": "479f1956-0d3e-4f99-9bdb-890cdeb53989",
   "metadata": {
    "slideshow": {
     "slide_type": "slide"
    }
   },
   "source": [
    "# 🌐 Scraping, Part 5: More practice\n",
    "\n",
    "*Getting the hang of nested elements.*"
   ]
  },
  {
   "cell_type": "markdown",
   "id": "bfe53f09-6e0c-4046-81f2-0b953d863acf",
   "metadata": {
    "slideshow": {
     "slide_type": "slide"
    }
   },
   "source": [
    "## Let's try something a just little more complicated\n",
    "\n",
    "Let's examine the posts on FlowingData's homepage: https://flowingdata.com/\n",
    "\n",
    "First, let's pop open the element inspector. Let's get a sense of how the page is structured, and what information we might want to extract."
   ]
  },
  {
   "cell_type": "markdown",
   "id": "dc4defe0-abec-49f4-9d08-59920b4e14eb",
   "metadata": {
    "slideshow": {
     "slide_type": "subslide"
    }
   },
   "source": [
    "At a high level, we're probably most interested in the `<div id=\"recent-posts\" ...>` element. More specifically, there's a `<ul>` (which stands for unordered list) element. Each `<li class=\"archive-post\">` within it seems to represent a post.\n",
    "\n",
    "### __Exercise__: What are some CSS selectors, of varying specificity, we could use to select all of those posts?"
   ]
  },
  {
   "cell_type": "markdown",
   "id": "f67f00fa-8ceb-49ac-bd0d-55711c29e9b7",
   "metadata": {
    "slideshow": {
     "slide_type": "subslide"
    }
   },
   "source": [
    "`.archive-post` is *probably* enough. But you could also write:\n",
    "\n",
    "- `#recent-posts > ul > li`\n",
    "- `#recent-posts .archive-post`\n",
    "- `#recent-posts li.archive-post`"
   ]
  },
  {
   "cell_type": "markdown",
   "id": "b5e04e75-268a-4f51-b1dc-b3fd6e511b2c",
   "metadata": {
    "slideshow": {
     "slide_type": "subslide"
    }
   },
   "source": [
    "Let's try these out. First, we'll load the HTML and convert it to a Python-accessible DOM:"
   ]
  },
  {
   "cell_type": "code",
   "execution_count": 1,
   "id": "e9cc5a53",
   "metadata": {
    "execution": {
     "iopub.execute_input": "2023-06-29T20:03:31.179105Z",
     "iopub.status.busy": "2023-06-29T20:03:31.178690Z",
     "iopub.status.idle": "2023-06-29T20:03:31.271696Z",
     "shell.execute_reply": "2023-06-29T20:03:31.271391Z"
    },
    "slideshow": {
     "slide_type": "skip"
    }
   },
   "outputs": [],
   "source": [
    "import requests\n",
    "from bs4 import BeautifulSoup"
   ]
  },
  {
   "cell_type": "code",
   "execution_count": 2,
   "id": "efba49e7-335d-4a78-ac9a-6f8e0d356d69",
   "metadata": {
    "execution": {
     "iopub.execute_input": "2023-06-29T20:03:31.273365Z",
     "iopub.status.busy": "2023-06-29T20:03:31.273251Z",
     "iopub.status.idle": "2023-06-29T20:03:32.132332Z",
     "shell.execute_reply": "2023-06-29T20:03:32.131780Z"
    },
    "slideshow": {
     "slide_type": "-"
    }
   },
   "outputs": [],
   "source": [
    "fd_html = requests.get(\"https://flowingdata.com/\").text\n",
    "fd_soup = BeautifulSoup(fd_html)"
   ]
  },
  {
   "cell_type": "markdown",
   "id": "b6e0c21e-a708-48f9-b8ad-b16ecb059dbf",
   "metadata": {
    "slideshow": {
     "slide_type": "subslide"
    }
   },
   "source": [
    "Now we can run all of our proposed selectors, comparing the results:"
   ]
  },
  {
   "cell_type": "code",
   "execution_count": 3,
   "id": "bb879a3b-e5a2-4ab7-b3ff-079894b65937",
   "metadata": {
    "execution": {
     "iopub.execute_input": "2023-06-29T20:03:32.135481Z",
     "iopub.status.busy": "2023-06-29T20:03:32.135170Z",
     "iopub.status.idle": "2023-06-29T20:03:32.137822Z",
     "shell.execute_reply": "2023-06-29T20:03:32.137395Z"
    },
    "slideshow": {
     "slide_type": "-"
    }
   },
   "outputs": [],
   "source": [
    "selectors_to_try = [\n",
    "    \".archive-post\",\n",
    "    \"#recent-posts > ul > li\",\n",
    "    \"#recent-posts .archive-post\",\n",
    "    \"#recent-posts li.archive-post\"\n",
    "]"
   ]
  },
  {
   "cell_type": "markdown",
   "id": "9e0f0a2f-77b2-496b-a5ff-f1875f1d4113",
   "metadata": {
    "slideshow": {
     "slide_type": "subslide"
    }
   },
   "source": [
    "Next, we'll let's grab the headline for each post. \n",
    "\n",
    "## Q: How would you do this?"
   ]
  },
  {
   "cell_type": "code",
   "execution_count": 4,
   "id": "267056f1-5962-4164-86f6-8f92b841f73e",
   "metadata": {
    "execution": {
     "iopub.execute_input": "2023-06-29T20:03:32.140440Z",
     "iopub.status.busy": "2023-06-29T20:03:32.140252Z",
     "iopub.status.idle": "2023-06-29T20:03:32.156836Z",
     "shell.execute_reply": "2023-06-29T20:03:32.156473Z"
    },
    "slideshow": {
     "slide_type": "fragment"
    }
   },
   "outputs": [
    {
     "name": "stdout",
     "output_type": "stream",
     "text": [
      "\n",
      "Visualization Tools and Learning Resources, June 2023 Roundup \n",
      "\n",
      "Astericking NBA champions \n",
      "\n",
      "Noise and health \n",
      "\n",
      "Password game requires more ridiculous rules as you play \n",
      "\n",
      "A year of flight paths, for someone with an unlimited pass \n",
      "\n",
      "Map of electric grid required for cleaner energy \n",
      "\n",
      "Crochet lake map \n",
      "\n",
      "Chart Practice: Branch Out Beyond the Visual Bits \n",
      "\n",
      "An interactive guide to color and contrast \n",
      "\n",
      "Switching from Python to R \n",
      "\n",
      "Friend simulation system, with ChatGPT \n",
      "\n",
      "To make electric vehicle batteries, China must be involved \n",
      "\n",
      "Where people are moving in the U.S. \n",
      "\n",
      "Chart Practice: Changing the Audience \n",
      "\n",
      "Life timeline in a spreadsheet \n",
      "\n",
      "Objectiveness distributions \n",
      "\n",
      "Using gaps in location data to track illegal fishing \n",
      "\n",
      "Fake location signals from oil tankers avoiding oversight \n",
      "\n",
      "Generative AI exaggerates stereotypes \n",
      "\n",
      "Smoke from Canada wildfires over the U.S. \n"
     ]
    }
   ],
   "source": [
    "for post_el in fd_soup.select(\".archive-post\"):\n",
    "    hed = post_el.select(\"h1 a\")[0]\n",
    "    print(hed.text)"
   ]
  },
  {
   "cell_type": "markdown",
   "id": "99f2550f-b7cb-4801-b47f-29ad8e81e873",
   "metadata": {
    "slideshow": {
     "slide_type": "subslide"
    }
   },
   "source": [
    "Let's use the `.strip()` method on each text string to strip out the extra whitespace:"
   ]
  },
  {
   "cell_type": "code",
   "execution_count": 5,
   "id": "7dcf4fee-e651-4e72-bd6d-ddbaf16240ec",
   "metadata": {
    "execution": {
     "iopub.execute_input": "2023-06-29T20:03:32.158944Z",
     "iopub.status.busy": "2023-06-29T20:03:32.158799Z",
     "iopub.status.idle": "2023-06-29T20:03:32.171211Z",
     "shell.execute_reply": "2023-06-29T20:03:32.170912Z"
    },
    "slideshow": {
     "slide_type": "-"
    }
   },
   "outputs": [
    {
     "name": "stdout",
     "output_type": "stream",
     "text": [
      "Visualization Tools and Learning Resources, June 2023 Roundup\n",
      "Astericking NBA champions\n",
      "Noise and health\n",
      "Password game requires more ridiculous rules as you play\n",
      "A year of flight paths, for someone with an unlimited pass\n",
      "Map of electric grid required for cleaner energy\n",
      "Crochet lake map\n",
      "Chart Practice: Branch Out Beyond the Visual Bits\n",
      "An interactive guide to color and contrast\n",
      "Switching from Python to R\n",
      "Friend simulation system, with ChatGPT\n",
      "To make electric vehicle batteries, China must be involved\n",
      "Where people are moving in the U.S.\n",
      "Chart Practice: Changing the Audience\n",
      "Life timeline in a spreadsheet\n",
      "Objectiveness distributions\n",
      "Using gaps in location data to track illegal fishing\n",
      "Fake location signals from oil tankers avoiding oversight\n",
      "Generative AI exaggerates stereotypes\n",
      "Smoke from Canada wildfires over the U.S.\n"
     ]
    }
   ],
   "source": [
    "for post_el in fd_soup.select(\".archive-post\"):\n",
    "    hed = post_el.select(\"h1 a\")[0]\n",
    "    print(hed.text.strip())"
   ]
  },
  {
   "cell_type": "markdown",
   "id": "26153982-d12a-4ba4-9581-4e68f6287b17",
   "metadata": {
    "slideshow": {
     "slide_type": "subslide"
    }
   },
   "source": [
    "## Exercise: How would you get the date of a post? And the topic?"
   ]
  },
  {
   "cell_type": "code",
   "execution_count": 6,
   "id": "df124e8a",
   "metadata": {
    "execution": {
     "iopub.execute_input": "2023-06-29T20:03:32.172907Z",
     "iopub.status.busy": "2023-06-29T20:03:32.172780Z",
     "iopub.status.idle": "2023-06-29T20:03:32.182662Z",
     "shell.execute_reply": "2023-06-29T20:03:32.182401Z"
    },
    "slideshow": {
     "slide_type": "-"
    }
   },
   "outputs": [
    {
     "data": {
      "text/plain": [
       "<li class=\"archive-post\">\n",
       "<div>\n",
       "<div class=\"note-wrapper nine columns offset-by-two alpha\"><div class=\"members-note\">Members Only</div></div>\n",
       "<div class=\"nine columns offset-by-two alpha\">\n",
       "<h1>\n",
       "<a href=\"https://flowingdata.com/2023/06/29/process-245-roundup/\" rel=\"bookmark\">\n",
       "Visualization Tools and Learning Resources, June 2023 Roundup </a>\n",
       "</h1>\n",
       "</div>\n",
       "<div class=\"clr\"></div>\n",
       "<div class=\"byinfo two columns alpha\">\n",
       "<a href=\"https://flowingdata.com/2023/06/29/process-245-roundup/\">June 29, 2023</a>\n",
       "<div style=\"margin-top:1.5rem\">\n",
       "<h3 class=\"toplevel\">Topic</h3>\n",
       "<strong><a href=\"https://flowingdata.com/category/the-process/\" rel=\"category tag\">The Process</a></strong>  /  <a href=\"https://flowingdata.com/tag/roundup/\" rel=\"tag\">roundup</a> </div>\n",
       "</div>\n",
       "<div class=\"nine columns omega\" id=\"entry-content-wrapper\">\n",
       "<div class=\"entry\">\n",
       "<div class=\"archive-featured-image\">\n",
       "<a href=\"https://flowingdata.com/2023/06/29/process-245-roundup/\">\n",
       "<img alt=\"\" class=\"attachment-medium size-medium wp-post-image\" data-attachment-id=\"71600\" data-comments-opened=\"0\" data-image-caption=\"\" data-image-description=\"\" data-image-meta='{\"aperture\":\"0\",\"credit\":\"\",\"camera\":\"\",\"caption\":\"\",\"created_timestamp\":\"0\",\"copyright\":\"\",\"focal_length\":\"0\",\"iso\":\"0\",\"shutter_speed\":\"0\",\"title\":\"\",\"orientation\":\"0\"}' data-image-title=\"process-245-featured\" data-large-file=\"https://flowingdata.com/wp-content/uploads/2023/06/process-245-featured-1090x610.png\" data-medium-file=\"https://flowingdata.com/wp-content/uploads/2023/06/process-245-featured-750x420.png\" data-orig-file=\"https://flowingdata.com/wp-content/uploads/2023/06/process-245-featured.png\" data-orig-size=\"1340,750\" data-permalink=\"https://flowingdata.com/2023/06/29/process-245-roundup/process-245-featured/\" decoding=\"async\" height=\"420\" loading=\"lazy\" sizes=\"(max-width: 750px) 100vw, 750px\" src=\"https://flowingdata.com/wp-content/uploads/2023/06/process-245-featured-750x420.png\" srcset=\"https://flowingdata.com/wp-content/uploads/2023/06/process-245-featured-750x420.png 750w, https://flowingdata.com/wp-content/uploads/2023/06/process-245-featured-1090x610.png 1090w, https://flowingdata.com/wp-content/uploads/2023/06/process-245-featured-210x118.png 210w, https://flowingdata.com/wp-content/uploads/2023/06/process-245-featured-768x430.png 768w, https://flowingdata.com/wp-content/uploads/2023/06/process-245-featured.png 1340w\" width=\"750\"/> </a>\n",
       "</div>\n",
       "<p>Here’s the good stuff for June.</p>\n",
       "</div>\n",
       "</div>\n",
       "<div class=\"clr\"></div>\n",
       "</div>\n",
       "<div class=\"clr\"></div>\n",
       "</li>"
      ]
     },
     "execution_count": 6,
     "metadata": {},
     "output_type": "execute_result"
    }
   ],
   "source": [
    "first_post = fd_soup.select(\".archive-post\")[0]\n",
    "first_post"
   ]
  },
  {
   "cell_type": "code",
   "execution_count": 7,
   "id": "f1ad813b",
   "metadata": {
    "execution": {
     "iopub.execute_input": "2023-06-29T20:03:32.184250Z",
     "iopub.status.busy": "2023-06-29T20:03:32.184135Z",
     "iopub.status.idle": "2023-06-29T20:03:32.186658Z",
     "shell.execute_reply": "2023-06-29T20:03:32.186390Z"
    },
    "slideshow": {
     "slide_type": "fragment"
    }
   },
   "outputs": [
    {
     "data": {
      "text/plain": [
       "'June 29, 2023'"
      ]
     },
     "execution_count": 7,
     "metadata": {},
     "output_type": "execute_result"
    }
   ],
   "source": [
    "first_post.select(\".byinfo a\")[0].text"
   ]
  },
  {
   "cell_type": "code",
   "execution_count": 8,
   "id": "5aaeea84",
   "metadata": {
    "execution": {
     "iopub.execute_input": "2023-06-29T20:03:32.188155Z",
     "iopub.status.busy": "2023-06-29T20:03:32.188052Z",
     "iopub.status.idle": "2023-06-29T20:03:32.190470Z",
     "shell.execute_reply": "2023-06-29T20:03:32.190205Z"
    },
    "slideshow": {
     "slide_type": "fragment"
    }
   },
   "outputs": [
    {
     "data": {
      "text/plain": [
       "'The Process'"
      ]
     },
     "execution_count": 8,
     "metadata": {},
     "output_type": "execute_result"
    }
   ],
   "source": [
    "first_post.select(\".byinfo strong a\")[0].text"
   ]
  },
  {
   "cell_type": "markdown",
   "id": "5c62ca11",
   "metadata": {
    "slideshow": {
     "slide_type": "subslide"
    }
   },
   "source": [
    "Now let's get those for each post, and put everything we have so far into a `pandas` `DataFrame`."
   ]
  },
  {
   "cell_type": "code",
   "execution_count": 9,
   "id": "2ae375fb",
   "metadata": {
    "execution": {
     "iopub.execute_input": "2023-06-29T20:03:32.192041Z",
     "iopub.status.busy": "2023-06-29T20:03:32.191937Z",
     "iopub.status.idle": "2023-06-29T20:03:32.193600Z",
     "shell.execute_reply": "2023-06-29T20:03:32.193357Z"
    },
    "slideshow": {
     "slide_type": "skip"
    }
   },
   "outputs": [],
   "source": [
    "import pandas as pd"
   ]
  },
  {
   "cell_type": "code",
   "execution_count": 10,
   "id": "7b5accf1-984d-412e-82fe-71c52f7b259a",
   "metadata": {
    "execution": {
     "iopub.execute_input": "2023-06-29T20:03:32.216196Z",
     "iopub.status.busy": "2023-06-29T20:03:32.216117Z",
     "iopub.status.idle": "2023-06-29T20:03:32.240723Z",
     "shell.execute_reply": "2023-06-29T20:03:32.240465Z"
    },
    "slideshow": {
     "slide_type": "fragment"
    }
   },
   "outputs": [
    {
     "data": {
      "text/html": [
       "<div>\n",
       "<style scoped>\n",
       "    .dataframe tbody tr th:only-of-type {\n",
       "        vertical-align: middle;\n",
       "    }\n",
       "\n",
       "    .dataframe tbody tr th {\n",
       "        vertical-align: top;\n",
       "    }\n",
       "\n",
       "    .dataframe thead th {\n",
       "        text-align: right;\n",
       "    }\n",
       "</style>\n",
       "<table border=\"1\" class=\"dataframe\">\n",
       "  <thead>\n",
       "    <tr style=\"text-align: right;\">\n",
       "      <th></th>\n",
       "      <th>hed</th>\n",
       "      <th>date</th>\n",
       "      <th>topic</th>\n",
       "    </tr>\n",
       "  </thead>\n",
       "  <tbody>\n",
       "    <tr>\n",
       "      <th>0</th>\n",
       "      <td>Visualization Tools and Learning Resources, Ju...</td>\n",
       "      <td>June 29, 2023</td>\n",
       "      <td>The Process</td>\n",
       "    </tr>\n",
       "    <tr>\n",
       "      <th>1</th>\n",
       "      <td>Astericking NBA champions</td>\n",
       "      <td>June 29, 2023</td>\n",
       "      <td>Statistics</td>\n",
       "    </tr>\n",
       "    <tr>\n",
       "      <th>2</th>\n",
       "      <td>Noise and health</td>\n",
       "      <td>June 28, 2023</td>\n",
       "      <td>Infographics</td>\n",
       "    </tr>\n",
       "    <tr>\n",
       "      <th>3</th>\n",
       "      <td>Password game requires more ridiculous rules a...</td>\n",
       "      <td>June 27, 2023</td>\n",
       "      <td>Infographics</td>\n",
       "    </tr>\n",
       "    <tr>\n",
       "      <th>4</th>\n",
       "      <td>A year of flight paths, for someone with an un...</td>\n",
       "      <td>June 27, 2023</td>\n",
       "      <td>Maps</td>\n",
       "    </tr>\n",
       "    <tr>\n",
       "      <th>5</th>\n",
       "      <td>Map of electric grid required for cleaner energy</td>\n",
       "      <td>June 26, 2023</td>\n",
       "      <td>Maps</td>\n",
       "    </tr>\n",
       "    <tr>\n",
       "      <th>6</th>\n",
       "      <td>Crochet lake map</td>\n",
       "      <td>June 23, 2023</td>\n",
       "      <td>Maps</td>\n",
       "    </tr>\n",
       "    <tr>\n",
       "      <th>7</th>\n",
       "      <td>Chart Practice: Branch Out Beyond the Visual Bits</td>\n",
       "      <td>June 22, 2023</td>\n",
       "      <td>The Process</td>\n",
       "    </tr>\n",
       "    <tr>\n",
       "      <th>8</th>\n",
       "      <td>An interactive guide to color and contrast</td>\n",
       "      <td>June 22, 2023</td>\n",
       "      <td>Design</td>\n",
       "    </tr>\n",
       "    <tr>\n",
       "      <th>9</th>\n",
       "      <td>Switching from Python to R</td>\n",
       "      <td>June 21, 2023</td>\n",
       "      <td>Coding</td>\n",
       "    </tr>\n",
       "    <tr>\n",
       "      <th>10</th>\n",
       "      <td>Friend simulation system, with ChatGPT</td>\n",
       "      <td>June 20, 2023</td>\n",
       "      <td>Network Visualization</td>\n",
       "    </tr>\n",
       "    <tr>\n",
       "      <th>11</th>\n",
       "      <td>To make electric vehicle batteries, China must...</td>\n",
       "      <td>June 19, 2023</td>\n",
       "      <td>Infographics</td>\n",
       "    </tr>\n",
       "    <tr>\n",
       "      <th>12</th>\n",
       "      <td>Where people are moving in the U.S.</td>\n",
       "      <td>June 16, 2023</td>\n",
       "      <td>Statistical Visualization</td>\n",
       "    </tr>\n",
       "    <tr>\n",
       "      <th>13</th>\n",
       "      <td>Chart Practice: Changing the Audience</td>\n",
       "      <td>June 15, 2023</td>\n",
       "      <td>The Process</td>\n",
       "    </tr>\n",
       "    <tr>\n",
       "      <th>14</th>\n",
       "      <td>Life timeline in a spreadsheet</td>\n",
       "      <td>June 15, 2023</td>\n",
       "      <td>Self-surveillance</td>\n",
       "    </tr>\n",
       "    <tr>\n",
       "      <th>15</th>\n",
       "      <td>Objectiveness distributions</td>\n",
       "      <td>June 14, 2023</td>\n",
       "      <td>Infographics</td>\n",
       "    </tr>\n",
       "    <tr>\n",
       "      <th>16</th>\n",
       "      <td>Using gaps in location data to track illegal f...</td>\n",
       "      <td>June 13, 2023</td>\n",
       "      <td>Maps</td>\n",
       "    </tr>\n",
       "    <tr>\n",
       "      <th>17</th>\n",
       "      <td>Fake location signals from oil tankers avoidin...</td>\n",
       "      <td>June 13, 2023</td>\n",
       "      <td>Maps</td>\n",
       "    </tr>\n",
       "    <tr>\n",
       "      <th>18</th>\n",
       "      <td>Generative AI exaggerates stereotypes</td>\n",
       "      <td>June 12, 2023</td>\n",
       "      <td>Infographics</td>\n",
       "    </tr>\n",
       "    <tr>\n",
       "      <th>19</th>\n",
       "      <td>Smoke from Canada wildfires over the U.S.</td>\n",
       "      <td>June 9, 2023</td>\n",
       "      <td>Maps</td>\n",
       "    </tr>\n",
       "  </tbody>\n",
       "</table>\n",
       "</div>"
      ],
      "text/plain": [
       "                                                  hed           date  \\\n",
       "0   Visualization Tools and Learning Resources, Ju...  June 29, 2023   \n",
       "1                           Astericking NBA champions  June 29, 2023   \n",
       "2                                    Noise and health  June 28, 2023   \n",
       "3   Password game requires more ridiculous rules a...  June 27, 2023   \n",
       "4   A year of flight paths, for someone with an un...  June 27, 2023   \n",
       "5    Map of electric grid required for cleaner energy  June 26, 2023   \n",
       "6                                    Crochet lake map  June 23, 2023   \n",
       "7   Chart Practice: Branch Out Beyond the Visual Bits  June 22, 2023   \n",
       "8          An interactive guide to color and contrast  June 22, 2023   \n",
       "9                          Switching from Python to R  June 21, 2023   \n",
       "10             Friend simulation system, with ChatGPT  June 20, 2023   \n",
       "11  To make electric vehicle batteries, China must...  June 19, 2023   \n",
       "12                Where people are moving in the U.S.  June 16, 2023   \n",
       "13              Chart Practice: Changing the Audience  June 15, 2023   \n",
       "14                     Life timeline in a spreadsheet  June 15, 2023   \n",
       "15                        Objectiveness distributions  June 14, 2023   \n",
       "16  Using gaps in location data to track illegal f...  June 13, 2023   \n",
       "17  Fake location signals from oil tankers avoidin...  June 13, 2023   \n",
       "18              Generative AI exaggerates stereotypes  June 12, 2023   \n",
       "19          Smoke from Canada wildfires over the U.S.   June 9, 2023   \n",
       "\n",
       "                        topic  \n",
       "0                 The Process  \n",
       "1                  Statistics  \n",
       "2                Infographics  \n",
       "3                Infographics  \n",
       "4                        Maps  \n",
       "5                        Maps  \n",
       "6                        Maps  \n",
       "7                 The Process  \n",
       "8                      Design  \n",
       "9                      Coding  \n",
       "10      Network Visualization  \n",
       "11               Infographics  \n",
       "12  Statistical Visualization  \n",
       "13                The Process  \n",
       "14          Self-surveillance  \n",
       "15               Infographics  \n",
       "16                       Maps  \n",
       "17                       Maps  \n",
       "18               Infographics  \n",
       "19                       Maps  "
      ]
     },
     "execution_count": 10,
     "metadata": {},
     "output_type": "execute_result"
    }
   ],
   "source": [
    "fd_posts = pd.DataFrame([{\n",
    "    \"hed\": post_el.select(\"h1 a\")[0].text.strip(),\n",
    "    \"date\": post_el.select(\".byinfo a\")[0].text,\n",
    "    \"topic\": post_el.select(\".byinfo strong a\")[0].text,\n",
    "} for post_el in fd_soup.select(\".archive-post\") ])\n",
    "\n",
    "fd_posts"
   ]
  },
  {
   "cell_type": "markdown",
   "id": "ac3e32d1-2d3b-48d5-8a10-d95fd6b4f5c9",
   "metadata": {
    "slideshow": {
     "slide_type": "subslide"
    }
   },
   "source": [
    "What is the most common topic?"
   ]
  },
  {
   "cell_type": "code",
   "execution_count": 11,
   "id": "72e4e3a0-a870-4c34-ae5c-c1a3c1f2e22e",
   "metadata": {
    "execution": {
     "iopub.execute_input": "2023-06-29T20:03:32.242463Z",
     "iopub.status.busy": "2023-06-29T20:03:32.242253Z",
     "iopub.status.idle": "2023-06-29T20:03:32.245742Z",
     "shell.execute_reply": "2023-06-29T20:03:32.245505Z"
    },
    "slideshow": {
     "slide_type": "fragment"
    }
   },
   "outputs": [
    {
     "data": {
      "text/plain": [
       "topic\n",
       "Maps                         6\n",
       "Infographics                 5\n",
       "The Process                  3\n",
       "Statistics                   1\n",
       "Design                       1\n",
       "Coding                       1\n",
       "Network Visualization        1\n",
       "Statistical Visualization    1\n",
       "Self-surveillance            1\n",
       "Name: count, dtype: int64"
      ]
     },
     "execution_count": 11,
     "metadata": {},
     "output_type": "execute_result"
    }
   ],
   "source": [
    "fd_posts[\"topic\"].value_counts()"
   ]
  },
  {
   "cell_type": "markdown",
   "id": "4d7c4550-3a54-47ff-a38a-33ba8ed83abc",
   "metadata": {
    "slideshow": {
     "slide_type": "subslide"
    }
   },
   "source": [
    "## __Exercise__: Add a column indicating whether any given post is for \"Members Only\"\n",
    "\n",
    "How many are there?"
   ]
  },
  {
   "cell_type": "code",
   "execution_count": 12,
   "id": "a55469ad-ed44-40e3-80ad-bf349f28b6c8",
   "metadata": {
    "execution": {
     "iopub.execute_input": "2023-06-29T20:03:32.247140Z",
     "iopub.status.busy": "2023-06-29T20:03:32.247040Z",
     "iopub.status.idle": "2023-06-29T20:03:32.269512Z",
     "shell.execute_reply": "2023-06-29T20:03:32.269246Z"
    },
    "slideshow": {
     "slide_type": "fragment"
    }
   },
   "outputs": [
    {
     "data": {
      "text/html": [
       "<div>\n",
       "<style scoped>\n",
       "    .dataframe tbody tr th:only-of-type {\n",
       "        vertical-align: middle;\n",
       "    }\n",
       "\n",
       "    .dataframe tbody tr th {\n",
       "        vertical-align: top;\n",
       "    }\n",
       "\n",
       "    .dataframe thead th {\n",
       "        text-align: right;\n",
       "    }\n",
       "</style>\n",
       "<table border=\"1\" class=\"dataframe\">\n",
       "  <thead>\n",
       "    <tr style=\"text-align: right;\">\n",
       "      <th></th>\n",
       "      <th>hed</th>\n",
       "      <th>date</th>\n",
       "      <th>topic</th>\n",
       "      <th>members_only</th>\n",
       "    </tr>\n",
       "  </thead>\n",
       "  <tbody>\n",
       "    <tr>\n",
       "      <th>0</th>\n",
       "      <td>Visualization Tools and Learning Resources, Ju...</td>\n",
       "      <td>June 29, 2023</td>\n",
       "      <td>The Process</td>\n",
       "      <td>1</td>\n",
       "    </tr>\n",
       "    <tr>\n",
       "      <th>1</th>\n",
       "      <td>Astericking NBA champions</td>\n",
       "      <td>June 29, 2023</td>\n",
       "      <td>Statistics</td>\n",
       "      <td>0</td>\n",
       "    </tr>\n",
       "    <tr>\n",
       "      <th>2</th>\n",
       "      <td>Noise and health</td>\n",
       "      <td>June 28, 2023</td>\n",
       "      <td>Infographics</td>\n",
       "      <td>0</td>\n",
       "    </tr>\n",
       "    <tr>\n",
       "      <th>3</th>\n",
       "      <td>Password game requires more ridiculous rules a...</td>\n",
       "      <td>June 27, 2023</td>\n",
       "      <td>Infographics</td>\n",
       "      <td>0</td>\n",
       "    </tr>\n",
       "    <tr>\n",
       "      <th>4</th>\n",
       "      <td>A year of flight paths, for someone with an un...</td>\n",
       "      <td>June 27, 2023</td>\n",
       "      <td>Maps</td>\n",
       "      <td>0</td>\n",
       "    </tr>\n",
       "    <tr>\n",
       "      <th>5</th>\n",
       "      <td>Map of electric grid required for cleaner energy</td>\n",
       "      <td>June 26, 2023</td>\n",
       "      <td>Maps</td>\n",
       "      <td>0</td>\n",
       "    </tr>\n",
       "    <tr>\n",
       "      <th>6</th>\n",
       "      <td>Crochet lake map</td>\n",
       "      <td>June 23, 2023</td>\n",
       "      <td>Maps</td>\n",
       "      <td>0</td>\n",
       "    </tr>\n",
       "    <tr>\n",
       "      <th>7</th>\n",
       "      <td>Chart Practice: Branch Out Beyond the Visual Bits</td>\n",
       "      <td>June 22, 2023</td>\n",
       "      <td>The Process</td>\n",
       "      <td>1</td>\n",
       "    </tr>\n",
       "    <tr>\n",
       "      <th>8</th>\n",
       "      <td>An interactive guide to color and contrast</td>\n",
       "      <td>June 22, 2023</td>\n",
       "      <td>Design</td>\n",
       "      <td>0</td>\n",
       "    </tr>\n",
       "    <tr>\n",
       "      <th>9</th>\n",
       "      <td>Switching from Python to R</td>\n",
       "      <td>June 21, 2023</td>\n",
       "      <td>Coding</td>\n",
       "      <td>0</td>\n",
       "    </tr>\n",
       "    <tr>\n",
       "      <th>10</th>\n",
       "      <td>Friend simulation system, with ChatGPT</td>\n",
       "      <td>June 20, 2023</td>\n",
       "      <td>Network Visualization</td>\n",
       "      <td>0</td>\n",
       "    </tr>\n",
       "    <tr>\n",
       "      <th>11</th>\n",
       "      <td>To make electric vehicle batteries, China must...</td>\n",
       "      <td>June 19, 2023</td>\n",
       "      <td>Infographics</td>\n",
       "      <td>0</td>\n",
       "    </tr>\n",
       "    <tr>\n",
       "      <th>12</th>\n",
       "      <td>Where people are moving in the U.S.</td>\n",
       "      <td>June 16, 2023</td>\n",
       "      <td>Statistical Visualization</td>\n",
       "      <td>0</td>\n",
       "    </tr>\n",
       "    <tr>\n",
       "      <th>13</th>\n",
       "      <td>Chart Practice: Changing the Audience</td>\n",
       "      <td>June 15, 2023</td>\n",
       "      <td>The Process</td>\n",
       "      <td>1</td>\n",
       "    </tr>\n",
       "    <tr>\n",
       "      <th>14</th>\n",
       "      <td>Life timeline in a spreadsheet</td>\n",
       "      <td>June 15, 2023</td>\n",
       "      <td>Self-surveillance</td>\n",
       "      <td>0</td>\n",
       "    </tr>\n",
       "    <tr>\n",
       "      <th>15</th>\n",
       "      <td>Objectiveness distributions</td>\n",
       "      <td>June 14, 2023</td>\n",
       "      <td>Infographics</td>\n",
       "      <td>0</td>\n",
       "    </tr>\n",
       "    <tr>\n",
       "      <th>16</th>\n",
       "      <td>Using gaps in location data to track illegal f...</td>\n",
       "      <td>June 13, 2023</td>\n",
       "      <td>Maps</td>\n",
       "      <td>0</td>\n",
       "    </tr>\n",
       "    <tr>\n",
       "      <th>17</th>\n",
       "      <td>Fake location signals from oil tankers avoidin...</td>\n",
       "      <td>June 13, 2023</td>\n",
       "      <td>Maps</td>\n",
       "      <td>0</td>\n",
       "    </tr>\n",
       "    <tr>\n",
       "      <th>18</th>\n",
       "      <td>Generative AI exaggerates stereotypes</td>\n",
       "      <td>June 12, 2023</td>\n",
       "      <td>Infographics</td>\n",
       "      <td>0</td>\n",
       "    </tr>\n",
       "    <tr>\n",
       "      <th>19</th>\n",
       "      <td>Smoke from Canada wildfires over the U.S.</td>\n",
       "      <td>June 9, 2023</td>\n",
       "      <td>Maps</td>\n",
       "      <td>0</td>\n",
       "    </tr>\n",
       "  </tbody>\n",
       "</table>\n",
       "</div>"
      ],
      "text/plain": [
       "                                                  hed           date  \\\n",
       "0   Visualization Tools and Learning Resources, Ju...  June 29, 2023   \n",
       "1                           Astericking NBA champions  June 29, 2023   \n",
       "2                                    Noise and health  June 28, 2023   \n",
       "3   Password game requires more ridiculous rules a...  June 27, 2023   \n",
       "4   A year of flight paths, for someone with an un...  June 27, 2023   \n",
       "5    Map of electric grid required for cleaner energy  June 26, 2023   \n",
       "6                                    Crochet lake map  June 23, 2023   \n",
       "7   Chart Practice: Branch Out Beyond the Visual Bits  June 22, 2023   \n",
       "8          An interactive guide to color and contrast  June 22, 2023   \n",
       "9                          Switching from Python to R  June 21, 2023   \n",
       "10             Friend simulation system, with ChatGPT  June 20, 2023   \n",
       "11  To make electric vehicle batteries, China must...  June 19, 2023   \n",
       "12                Where people are moving in the U.S.  June 16, 2023   \n",
       "13              Chart Practice: Changing the Audience  June 15, 2023   \n",
       "14                     Life timeline in a spreadsheet  June 15, 2023   \n",
       "15                        Objectiveness distributions  June 14, 2023   \n",
       "16  Using gaps in location data to track illegal f...  June 13, 2023   \n",
       "17  Fake location signals from oil tankers avoidin...  June 13, 2023   \n",
       "18              Generative AI exaggerates stereotypes  June 12, 2023   \n",
       "19          Smoke from Canada wildfires over the U.S.   June 9, 2023   \n",
       "\n",
       "                        topic  members_only  \n",
       "0                 The Process             1  \n",
       "1                  Statistics             0  \n",
       "2                Infographics             0  \n",
       "3                Infographics             0  \n",
       "4                        Maps             0  \n",
       "5                        Maps             0  \n",
       "6                        Maps             0  \n",
       "7                 The Process             1  \n",
       "8                      Design             0  \n",
       "9                      Coding             0  \n",
       "10      Network Visualization             0  \n",
       "11               Infographics             0  \n",
       "12  Statistical Visualization             0  \n",
       "13                The Process             1  \n",
       "14          Self-surveillance             0  \n",
       "15               Infographics             0  \n",
       "16                       Maps             0  \n",
       "17                       Maps             0  \n",
       "18               Infographics             0  \n",
       "19                       Maps             0  "
      ]
     },
     "execution_count": 12,
     "metadata": {},
     "output_type": "execute_result"
    }
   ],
   "source": [
    "fd_posts = pd.DataFrame([{\n",
    "    \"hed\": post_el.select(\"h1 a\")[0].text.strip(),\n",
    "    \"date\": post_el.select(\".byinfo a\")[0].text,\n",
    "    \"topic\": post_el.select(\".byinfo strong a\")[0].text,\n",
    "    \"members_only\": len(post_el.select(\".members-note\")),    \n",
    "} for post_el in fd_soup.select(\".archive-post\") ])\n",
    "\n",
    "fd_posts"
   ]
  },
  {
   "cell_type": "code",
   "execution_count": 13,
   "id": "5dd09031",
   "metadata": {
    "execution": {
     "iopub.execute_input": "2023-06-29T20:03:32.270880Z",
     "iopub.status.busy": "2023-06-29T20:03:32.270797Z",
     "iopub.status.idle": "2023-06-29T20:03:32.273063Z",
     "shell.execute_reply": "2023-06-29T20:03:32.272836Z"
    },
    "slideshow": {
     "slide_type": "subslide"
    }
   },
   "outputs": [
    {
     "data": {
      "text/plain": [
       "3"
      ]
     },
     "execution_count": 13,
     "metadata": {},
     "output_type": "execute_result"
    }
   ],
   "source": [
    "fd_posts[\"members_only\"].sum()"
   ]
  },
  {
   "cell_type": "markdown",
   "id": "be3329f1",
   "metadata": {
    "slideshow": {
     "slide_type": "skip"
    }
   },
   "source": [
    "---\n",
    "\n",
    "---\n",
    "\n",
    "---"
   ]
  }
 ],
 "metadata": {
  "celltoolbar": "Slideshow",
  "kernelspec": {
   "display_name": "Python 3 (ipykernel)",
   "language": "python",
   "name": "python3"
  },
  "language_info": {
   "codemirror_mode": {
    "name": "ipython",
    "version": 3
   },
   "file_extension": ".py",
   "mimetype": "text/x-python",
   "name": "python",
   "nbconvert_exporter": "python",
   "pygments_lexer": "ipython3",
   "version": "3.10.4"
  }
 },
 "nbformat": 4,
 "nbformat_minor": 5
}
