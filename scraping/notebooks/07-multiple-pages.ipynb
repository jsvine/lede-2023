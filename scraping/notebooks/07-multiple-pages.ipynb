{
 "cells": [
  {
   "cell_type": "markdown",
   "id": "479f1956-0d3e-4f99-9bdb-890cdeb53989",
   "metadata": {
    "slideshow": {
     "slide_type": "slide"
    }
   },
   "source": [
    "# 🌐 Scraping, Part 7: Scraping multiple pages\n",
    "\n",
    "*Enumerating and traversing.*"
   ]
  },
  {
   "cell_type": "code",
   "execution_count": 1,
   "id": "21fc8172",
   "metadata": {
    "slideshow": {
     "slide_type": "skip"
    }
   },
   "outputs": [],
   "source": [
    "import requests\n",
    "from bs4 import BeautifulSoup"
   ]
  },
  {
   "cell_type": "markdown",
   "id": "d97f52f1",
   "metadata": {
    "slideshow": {
     "slide_type": "slide"
    }
   },
   "source": [
    "## Discussion time: Let's talk ethics"
   ]
  },
  {
   "cell_type": "markdown",
   "id": "617bd54c",
   "metadata": {
    "slideshow": {
     "slide_type": "subslide"
    }
   },
   "source": [
    "## Considerations\n",
    "\n",
    "- Burden on the server? Minimize it.\n",
    "- Purpose / public interest? Have a clear one.\n",
    "- Accountability? Provide it."
   ]
  },
  {
   "cell_type": "markdown",
   "id": "62adbdd1",
   "metadata": {
    "slideshow": {
     "slide_type": "slide"
    }
   },
   "source": [
    "## Let's start low stakes: \n",
    "\n",
    "## <center>https://scraping-practice-jsvine.vercel.app</center>"
   ]
  },
  {
   "cell_type": "markdown",
   "id": "d74b8349",
   "metadata": {
    "slideshow": {
     "slide_type": "slide"
    }
   },
   "source": [
    "## *Enumerating* multiple pages\n",
    "\n",
    "Often times, the data you want is split across a series of numbered pages.\n",
    "\n",
    "Open the \"__Paginated table__\" example on the practice server. Click around. Look at the URLs of each page. What do you notice?"
   ]
  },
  {
   "cell_type": "markdown",
   "id": "1a0639cf",
   "metadata": {
    "slideshow": {
     "slide_type": "subslide"
    }
   },
   "source": [
    "## Iterating over the pages\n",
    "\n",
    "Each page's URL looks like `https://[...]/launches/paginated/?page=NUMBER`.\n",
    "\n",
    "How would we make a list of *all* the URLs necessary to get the full dataset?"
   ]
  },
  {
   "cell_type": "code",
   "execution_count": 2,
   "id": "464ca3c9",
   "metadata": {
    "slideshow": {
     "slide_type": "subslide"
    }
   },
   "outputs": [
    {
     "name": "stdout",
     "output_type": "stream",
     "text": [
      "1\n",
      "2\n",
      "3\n",
      "4\n",
      "5\n",
      "6\n",
      "7\n",
      "8\n",
      "9\n",
      "10\n",
      "11\n",
      "12\n",
      "13\n",
      "14\n",
      "15\n",
      "16\n",
      "17\n",
      "18\n",
      "19\n",
      "20\n",
      "21\n",
      "22\n",
      "23\n"
     ]
    }
   ],
   "source": [
    "for i in range(23):\n",
    "    print(i + 1)"
   ]
  },
  {
   "cell_type": "code",
   "execution_count": 3,
   "id": "7b56485c",
   "metadata": {
    "slideshow": {
     "slide_type": "subslide"
    }
   },
   "outputs": [
    {
     "name": "stdout",
     "output_type": "stream",
     "text": [
      "https://scraping-practice-jsvine.vercel.app/launches/paginated/?page=1\n",
      "https://scraping-practice-jsvine.vercel.app/launches/paginated/?page=2\n",
      "https://scraping-practice-jsvine.vercel.app/launches/paginated/?page=3\n",
      "https://scraping-practice-jsvine.vercel.app/launches/paginated/?page=4\n",
      "https://scraping-practice-jsvine.vercel.app/launches/paginated/?page=5\n",
      "https://scraping-practice-jsvine.vercel.app/launches/paginated/?page=6\n",
      "https://scraping-practice-jsvine.vercel.app/launches/paginated/?page=7\n",
      "https://scraping-practice-jsvine.vercel.app/launches/paginated/?page=8\n",
      "https://scraping-practice-jsvine.vercel.app/launches/paginated/?page=9\n",
      "https://scraping-practice-jsvine.vercel.app/launches/paginated/?page=10\n",
      "https://scraping-practice-jsvine.vercel.app/launches/paginated/?page=11\n",
      "https://scraping-practice-jsvine.vercel.app/launches/paginated/?page=12\n",
      "https://scraping-practice-jsvine.vercel.app/launches/paginated/?page=13\n",
      "https://scraping-practice-jsvine.vercel.app/launches/paginated/?page=14\n",
      "https://scraping-practice-jsvine.vercel.app/launches/paginated/?page=15\n",
      "https://scraping-practice-jsvine.vercel.app/launches/paginated/?page=16\n",
      "https://scraping-practice-jsvine.vercel.app/launches/paginated/?page=17\n",
      "https://scraping-practice-jsvine.vercel.app/launches/paginated/?page=18\n",
      "https://scraping-practice-jsvine.vercel.app/launches/paginated/?page=19\n",
      "https://scraping-practice-jsvine.vercel.app/launches/paginated/?page=20\n",
      "https://scraping-practice-jsvine.vercel.app/launches/paginated/?page=21\n",
      "https://scraping-practice-jsvine.vercel.app/launches/paginated/?page=22\n",
      "https://scraping-practice-jsvine.vercel.app/launches/paginated/?page=23\n"
     ]
    }
   ],
   "source": [
    "BASE_URL = \"https://scraping-practice-jsvine.vercel.app/launches/paginated/\"\n",
    "for i in range(23):\n",
    "    print(BASE_URL + \"?page=\" + str(i + 1))"
   ]
  },
  {
   "cell_type": "markdown",
   "id": "3eb96289",
   "metadata": {
    "slideshow": {
     "slide_type": "subslide"
    }
   },
   "source": [
    "Now let's try scraping data from there, starting just with the `Page -- of --` heading, to make sure we're getting the correct information:"
   ]
  },
  {
   "cell_type": "code",
   "execution_count": 4,
   "id": "746c39c7",
   "metadata": {},
   "outputs": [],
   "source": [
    "import requests\n",
    "from bs4 import BeautifulSoup"
   ]
  },
  {
   "cell_type": "code",
   "execution_count": 5,
   "id": "b8efb02c",
   "metadata": {
    "slideshow": {
     "slide_type": "-"
    }
   },
   "outputs": [
    {
     "name": "stdout",
     "output_type": "stream",
     "text": [
      "Page 1 of 23\n",
      "Page 2 of 23\n",
      "Page 3 of 23\n"
     ]
    }
   ],
   "source": [
    "BASE_URL = \"https://scraping-practice-jsvine.vercel.app/launches/paginated/\"\n",
    "\n",
    "# Note the shorter range, for practice\n",
    "for i in range(3):\n",
    "    page_url = BASE_URL + \"?page=\" + str(i + 1)\n",
    "    page_html = requests.get(page_url).text\n",
    "    page_soup = BeautifulSoup(page_html)\n",
    "    heading = page_soup.select(\"h3\")[0]\n",
    "    print(heading.text)"
   ]
  },
  {
   "cell_type": "markdown",
   "id": "248c3139",
   "metadata": {
    "slideshow": {
     "slide_type": "subslide"
    }
   },
   "source": [
    "Great, now let's try to get the data itself and store it somewhere:"
   ]
  },
  {
   "cell_type": "code",
   "execution_count": 6,
   "id": "60525eee",
   "metadata": {
    "scrolled": true,
    "slideshow": {
     "slide_type": "-"
    }
   },
   "outputs": [
    {
     "name": "stdout",
     "output_type": "stream",
     "text": [
      "Fetching page 1\n",
      "Fetching page 2\n",
      "Fetching page 3\n"
     ]
    },
    {
     "data": {
      "text/plain": [
       "[['Jun 23, 2023',\n",
       "  'Starlink Group 5-12',\n",
       "  'Falcon 9',\n",
       "  'Space Exploration Technologies Corporation',\n",
       "  'FL'],\n",
       " ['Jun 22, 2023',\n",
       "  'Starlink Gp 5-7',\n",
       "  'Falcon 9',\n",
       "  'Space Exploration Technologies Corporation',\n",
       "  'CA'],\n",
       " ['Jun 18, 2023',\n",
       "  'PSN MFS',\n",
       "  'Falcon 9',\n",
       "  'Space Exploration Technologies Corporation',\n",
       "  'FL']]"
      ]
     },
     "execution_count": 6,
     "metadata": {},
     "output_type": "execute_result"
    }
   ],
   "source": [
    "all_rows = []\n",
    "\n",
    "for i in range(3):\n",
    "    print(\"Fetching page \" + str(i + 1))\n",
    "    page_url = BASE_URL + \"?page=\" + str(i + 1)\n",
    "    page_html = requests.get(page_url).text\n",
    "    page_soup = BeautifulSoup(page_html)\n",
    "    table = page_soup.select(\"table\")[0]\n",
    "    row_els = table.select(\"tbody tr\")\n",
    "    for tr in row_els:\n",
    "        cells = [ td.text for td in tr.select(\"td\") ]\n",
    "        all_rows.append(cells)\n",
    "        \n",
    "all_rows[:3]"
   ]
  },
  {
   "cell_type": "code",
   "execution_count": 7,
   "id": "e0a6cbff",
   "metadata": {},
   "outputs": [
    {
     "data": {
      "text/plain": [
       "75"
      ]
     },
     "execution_count": 7,
     "metadata": {},
     "output_type": "execute_result"
    }
   ],
   "source": [
    "len(all_rows)"
   ]
  },
  {
   "cell_type": "markdown",
   "id": "a08b63a3",
   "metadata": {
    "slideshow": {
     "slide_type": "subslide"
    }
   },
   "source": [
    "... and put it in a `DataFrame`:"
   ]
  },
  {
   "cell_type": "code",
   "execution_count": 8,
   "id": "561561a1",
   "metadata": {
    "slideshow": {
     "slide_type": "-"
    }
   },
   "outputs": [
    {
     "data": {
      "text/html": [
       "<div>\n",
       "<style scoped>\n",
       "    .dataframe tbody tr th:only-of-type {\n",
       "        vertical-align: middle;\n",
       "    }\n",
       "\n",
       "    .dataframe tbody tr th {\n",
       "        vertical-align: top;\n",
       "    }\n",
       "\n",
       "    .dataframe thead th {\n",
       "        text-align: right;\n",
       "    }\n",
       "</style>\n",
       "<table border=\"1\" class=\"dataframe\">\n",
       "  <thead>\n",
       "    <tr style=\"text-align: right;\">\n",
       "      <th></th>\n",
       "      <th>0</th>\n",
       "      <th>1</th>\n",
       "      <th>2</th>\n",
       "      <th>3</th>\n",
       "      <th>4</th>\n",
       "    </tr>\n",
       "  </thead>\n",
       "  <tbody>\n",
       "    <tr>\n",
       "      <th>0</th>\n",
       "      <td>Jun 23, 2023</td>\n",
       "      <td>Starlink Group 5-12</td>\n",
       "      <td>Falcon 9</td>\n",
       "      <td>Space Exploration Technologies Corporation</td>\n",
       "      <td>FL</td>\n",
       "    </tr>\n",
       "    <tr>\n",
       "      <th>1</th>\n",
       "      <td>Jun 22, 2023</td>\n",
       "      <td>Starlink Gp 5-7</td>\n",
       "      <td>Falcon 9</td>\n",
       "      <td>Space Exploration Technologies Corporation</td>\n",
       "      <td>CA</td>\n",
       "    </tr>\n",
       "    <tr>\n",
       "      <th>2</th>\n",
       "      <td>Jun 18, 2023</td>\n",
       "      <td>PSN MFS</td>\n",
       "      <td>Falcon 9</td>\n",
       "      <td>Space Exploration Technologies Corporation</td>\n",
       "      <td>FL</td>\n",
       "    </tr>\n",
       "    <tr>\n",
       "      <th>3</th>\n",
       "      <td>Jun 17, 2023</td>\n",
       "      <td>FST-1</td>\n",
       "      <td>Electron</td>\n",
       "      <td>Rocket Lab Global</td>\n",
       "      <td>VA</td>\n",
       "    </tr>\n",
       "    <tr>\n",
       "      <th>4</th>\n",
       "      <td>Jun 12, 2023</td>\n",
       "      <td>Transporter-8</td>\n",
       "      <td>Falcon 9</td>\n",
       "      <td>Space Exploration Technologies Corporation</td>\n",
       "      <td>CA</td>\n",
       "    </tr>\n",
       "    <tr>\n",
       "      <th>...</th>\n",
       "      <td>...</td>\n",
       "      <td>...</td>\n",
       "      <td>...</td>\n",
       "      <td>...</td>\n",
       "      <td>...</td>\n",
       "    </tr>\n",
       "    <tr>\n",
       "      <th>70</th>\n",
       "      <td>Oct 5, 2022</td>\n",
       "      <td>Crew-5</td>\n",
       "      <td>Falcon 9</td>\n",
       "      <td>Space Exploration Technologies Corporation</td>\n",
       "      <td>FL</td>\n",
       "    </tr>\n",
       "    <tr>\n",
       "      <th>71</th>\n",
       "      <td>Oct 4, 2022</td>\n",
       "      <td>SES 20-21</td>\n",
       "      <td>Atlas V</td>\n",
       "      <td>United Launch Alliance</td>\n",
       "      <td>FL</td>\n",
       "    </tr>\n",
       "    <tr>\n",
       "      <th>72</th>\n",
       "      <td>Oct 1, 2022</td>\n",
       "      <td>FLTA002</td>\n",
       "      <td>Alpha</td>\n",
       "      <td>Firefly Aerospace</td>\n",
       "      <td>CA</td>\n",
       "    </tr>\n",
       "    <tr>\n",
       "      <th>73</th>\n",
       "      <td>Sep 24, 2022</td>\n",
       "      <td>Starlink Group 4-35</td>\n",
       "      <td>Falcon 9</td>\n",
       "      <td>Space Exploration Technologies Corporation</td>\n",
       "      <td>FL</td>\n",
       "    </tr>\n",
       "    <tr>\n",
       "      <th>74</th>\n",
       "      <td>Sep 18, 2022</td>\n",
       "      <td>Starlink Group 4-34</td>\n",
       "      <td>Falcon 9</td>\n",
       "      <td>Space Exploration Technologies Corporation</td>\n",
       "      <td>FL</td>\n",
       "    </tr>\n",
       "  </tbody>\n",
       "</table>\n",
       "<p>75 rows × 5 columns</p>\n",
       "</div>"
      ],
      "text/plain": [
       "               0                    1         2  \\\n",
       "0   Jun 23, 2023  Starlink Group 5-12  Falcon 9   \n",
       "1   Jun 22, 2023      Starlink Gp 5-7  Falcon 9   \n",
       "2   Jun 18, 2023              PSN MFS  Falcon 9   \n",
       "3   Jun 17, 2023                FST-1  Electron   \n",
       "4   Jun 12, 2023        Transporter-8  Falcon 9   \n",
       "..           ...                  ...       ...   \n",
       "70   Oct 5, 2022               Crew-5  Falcon 9   \n",
       "71   Oct 4, 2022            SES 20-21   Atlas V   \n",
       "72   Oct 1, 2022              FLTA002     Alpha   \n",
       "73  Sep 24, 2022  Starlink Group 4-35  Falcon 9   \n",
       "74  Sep 18, 2022  Starlink Group 4-34  Falcon 9   \n",
       "\n",
       "                                             3   4  \n",
       "0   Space Exploration Technologies Corporation  FL  \n",
       "1   Space Exploration Technologies Corporation  CA  \n",
       "2   Space Exploration Technologies Corporation  FL  \n",
       "3                            Rocket Lab Global  VA  \n",
       "4   Space Exploration Technologies Corporation  CA  \n",
       "..                                         ...  ..  \n",
       "70  Space Exploration Technologies Corporation  FL  \n",
       "71                      United Launch Alliance  FL  \n",
       "72                           Firefly Aerospace  CA  \n",
       "73  Space Exploration Technologies Corporation  FL  \n",
       "74  Space Exploration Technologies Corporation  FL  \n",
       "\n",
       "[75 rows x 5 columns]"
      ]
     },
     "execution_count": 8,
     "metadata": {},
     "output_type": "execute_result"
    }
   ],
   "source": [
    "import pandas as pd\n",
    "pd.DataFrame(all_rows)"
   ]
  },
  {
   "cell_type": "markdown",
   "id": "2b78adf7",
   "metadata": {
    "slideshow": {
     "slide_type": "subslide"
    }
   },
   "source": [
    "## Discussion: What improvements could we make?"
   ]
  },
  {
   "cell_type": "markdown",
   "id": "13a352b5",
   "metadata": {
    "slideshow": {
     "slide_type": "fragment"
    }
   },
   "source": [
    "- Get the number of pages programmatically\n",
    "- Fetch each page only once\n",
    "- Handle errors"
   ]
  },
  {
   "cell_type": "markdown",
   "id": "832a3fc9",
   "metadata": {
    "slideshow": {
     "slide_type": "slide"
    }
   },
   "source": [
    "## *Traversing* directories and other listings\n",
    "\n",
    "Enumerating and traversing are similar techniques. With enumeration/pagination, you're just incrementing the page number to figure out the next URL. But with traversing, you'll need to get your list of URLs *programmatically*, from the starting point's HTML."
   ]
  },
  {
   "cell_type": "markdown",
   "id": "9fda52ae",
   "metadata": {
    "slideshow": {
     "slide_type": "subslide"
    }
   },
   "source": [
    "## Examine this page, and its HTML:\n",
    "\n",
    "## <center>https://scraping-practice-jsvine.vercel.app/launches/directory/</center>\n",
    "\n",
    "## How would get the tables from each sub-page?"
   ]
  },
  {
   "cell_type": "markdown",
   "id": "7b7e8fe9",
   "metadata": {
    "slideshow": {
     "slide_type": "subslide"
    }
   },
   "source": [
    "Let's get the URLs for each subpage:"
   ]
  },
  {
   "cell_type": "code",
   "execution_count": 9,
   "id": "c63d37c9",
   "metadata": {
    "slideshow": {
     "slide_type": "fragment"
    }
   },
   "outputs": [],
   "source": [
    "BASE_URL = \"https://scraping-practice-jsvine.vercel.app/launches/directory/\"\n",
    "html = requests.get(BASE_URL).text\n",
    "soup = BeautifulSoup(html)"
   ]
  },
  {
   "cell_type": "markdown",
   "id": "47f4b268",
   "metadata": {
    "slideshow": {
     "slide_type": "fragment"
    }
   },
   "source": [
    "First, we can try just getting the `href` attribute of each link:"
   ]
  },
  {
   "cell_type": "code",
   "execution_count": 10,
   "id": "79a73560",
   "metadata": {
    "slideshow": {
     "slide_type": "fragment"
    }
   },
   "outputs": [
    {
     "name": "stdout",
     "output_type": "stream",
     "text": [
      "cb50c8c\n",
      "6840f28\n",
      "0ed154e\n"
     ]
    }
   ],
   "source": [
    "links = soup.select(\"ul li a\")\n",
    "\n",
    "for link in links[:3]:\n",
    "    print(link[\"href\"])"
   ]
  },
  {
   "cell_type": "markdown",
   "id": "8479a77c",
   "metadata": {
    "slideshow": {
     "slide_type": "subslide"
    }
   },
   "source": [
    "Let's turn those into proper URLs:"
   ]
  },
  {
   "cell_type": "code",
   "execution_count": 11,
   "id": "38773530",
   "metadata": {
    "slideshow": {
     "slide_type": "fragment"
    }
   },
   "outputs": [
    {
     "name": "stdout",
     "output_type": "stream",
     "text": [
      "https://scraping-practice-jsvine.vercel.app/launches/directory/cb50c8c\n",
      "https://scraping-practice-jsvine.vercel.app/launches/directory/6840f28\n",
      "https://scraping-practice-jsvine.vercel.app/launches/directory/0ed154e\n"
     ]
    }
   ],
   "source": [
    "links = soup.select(\"ul li a\")\n",
    "\n",
    "for link in links[:3]:\n",
    "    print(BASE_URL + link[\"href\"])"
   ]
  },
  {
   "cell_type": "markdown",
   "id": "432e1d9e",
   "metadata": {
    "slideshow": {
     "slide_type": "subslide"
    }
   },
   "source": [
    "Now that we have the URLs, we can take a similar approach as we did with the paginated tables:"
   ]
  },
  {
   "cell_type": "code",
   "execution_count": 12,
   "id": "0cedeee1",
   "metadata": {
    "slideshow": {
     "slide_type": "-"
    }
   },
   "outputs": [
    {
     "name": "stdout",
     "output_type": "stream",
     "text": [
      "Commercial Space Launches: ABL Space Systems\n",
      "Commercial Space Launches: American Rocket\n",
      "Commercial Space Launches: Armadillo Aerospace\n"
     ]
    }
   ],
   "source": [
    "links = soup.select(\"ul li a\")\n",
    "\n",
    "for link in links[:3]:\n",
    "    page_url = BASE_URL + link[\"href\"]\n",
    "    page_html = requests.get(page_url).text\n",
    "    page_soup = BeautifulSoup(page_html)\n",
    "    heading = page_soup.select(\"h1\")[0]\n",
    "    print(heading.text)"
   ]
  },
  {
   "cell_type": "markdown",
   "id": "5b95166d",
   "metadata": {
    "slideshow": {
     "slide_type": "subslide"
    }
   },
   "source": [
    "## Exercise\n",
    "\n",
    "Create a `DataFrame` of all data for the first three companies in the directory. Use the code we used for the paginated tables as inspiration."
   ]
  },
  {
   "cell_type": "code",
   "execution_count": 13,
   "id": "8bd3afd6",
   "metadata": {
    "slideshow": {
     "slide_type": "subslide"
    }
   },
   "outputs": [
    {
     "name": "stdout",
     "output_type": "stream",
     "text": [
      "Fetching https://scraping-practice-jsvine.vercel.app/launches/directory/cb50c8c\n",
      "Fetching https://scraping-practice-jsvine.vercel.app/launches/directory/6840f28\n",
      "Fetching https://scraping-practice-jsvine.vercel.app/launches/directory/0ed154e\n"
     ]
    },
    {
     "data": {
      "text/html": [
       "<div>\n",
       "<style scoped>\n",
       "    .dataframe tbody tr th:only-of-type {\n",
       "        vertical-align: middle;\n",
       "    }\n",
       "\n",
       "    .dataframe tbody tr th {\n",
       "        vertical-align: top;\n",
       "    }\n",
       "\n",
       "    .dataframe thead th {\n",
       "        text-align: right;\n",
       "    }\n",
       "</style>\n",
       "<table border=\"1\" class=\"dataframe\">\n",
       "  <thead>\n",
       "    <tr style=\"text-align: right;\">\n",
       "      <th></th>\n",
       "      <th>0</th>\n",
       "      <th>1</th>\n",
       "      <th>2</th>\n",
       "      <th>3</th>\n",
       "      <th>4</th>\n",
       "    </tr>\n",
       "  </thead>\n",
       "  <tbody>\n",
       "    <tr>\n",
       "      <th>0</th>\n",
       "      <td>Jan 10, 2023</td>\n",
       "      <td>Demonstration Mission-1</td>\n",
       "      <td>RS1</td>\n",
       "      <td>ABL Space Systems</td>\n",
       "      <td>AK</td>\n",
       "    </tr>\n",
       "    <tr>\n",
       "      <th>1</th>\n",
       "      <td>Oct 5, 1989</td>\n",
       "      <td>SET-1</td>\n",
       "      <td>SMLV</td>\n",
       "      <td>American Rocket</td>\n",
       "      <td>CA</td>\n",
       "    </tr>\n",
       "    <tr>\n",
       "      <th>2</th>\n",
       "      <td>Jan 5, 2013</td>\n",
       "      <td>Scientific</td>\n",
       "      <td>STIG-B III</td>\n",
       "      <td>Armadillo Aerospace</td>\n",
       "      <td>NM</td>\n",
       "    </tr>\n",
       "    <tr>\n",
       "      <th>3</th>\n",
       "      <td>Nov 4, 2012</td>\n",
       "      <td>Scientific</td>\n",
       "      <td>STIG-B</td>\n",
       "      <td>Armadillo Aerospace</td>\n",
       "      <td>NM</td>\n",
       "    </tr>\n",
       "    <tr>\n",
       "      <th>4</th>\n",
       "      <td>Oct 6, 2012</td>\n",
       "      <td>Scientific</td>\n",
       "      <td>STIG-B</td>\n",
       "      <td>Armadillo Aerospace</td>\n",
       "      <td>NM</td>\n",
       "    </tr>\n",
       "  </tbody>\n",
       "</table>\n",
       "</div>"
      ],
      "text/plain": [
       "              0                        1           2                    3   4\n",
       "0  Jan 10, 2023  Demonstration Mission-1         RS1    ABL Space Systems  AK\n",
       "1   Oct 5, 1989                    SET-1        SMLV      American Rocket  CA\n",
       "2   Jan 5, 2013               Scientific  STIG-B III  Armadillo Aerospace  NM\n",
       "3   Nov 4, 2012               Scientific      STIG-B  Armadillo Aerospace  NM\n",
       "4   Oct 6, 2012               Scientific      STIG-B  Armadillo Aerospace  NM"
      ]
     },
     "execution_count": 13,
     "metadata": {},
     "output_type": "execute_result"
    }
   ],
   "source": [
    "all_rows = []\n",
    "\n",
    "links = soup.select(\"ul li a\")\n",
    "\n",
    "for link in links[:3]:\n",
    "    page_url = BASE_URL + link[\"href\"]\n",
    "    print(\"Fetching \" + page_url)\n",
    "    page_html = requests.get(page_url).text\n",
    "    page_soup = BeautifulSoup(page_html)\n",
    "    table = page_soup.select(\"table\")[0]\n",
    "    row_els = table.select(\"tbody tr\")\n",
    "    for tr in row_els:\n",
    "        cells = [ td.text for td in tr.select(\"td\") ]\n",
    "        all_rows.append(cells)\n",
    "        \n",
    "pd.DataFrame(all_rows)"
   ]
  },
  {
   "cell_type": "markdown",
   "id": "63342957",
   "metadata": {
    "slideshow": {
     "slide_type": "skip"
    }
   },
   "source": [
    "---\n",
    "\n",
    "---\n",
    "\n",
    "---"
   ]
  }
 ],
 "metadata": {
  "celltoolbar": "Slideshow",
  "kernelspec": {
   "display_name": "Python 3 (ipykernel)",
   "language": "python",
   "name": "python3"
  },
  "language_info": {
   "codemirror_mode": {
    "name": "ipython",
    "version": 3
   },
   "file_extension": ".py",
   "mimetype": "text/x-python",
   "name": "python",
   "nbconvert_exporter": "python",
   "pygments_lexer": "ipython3",
   "version": "3.10.4"
  }
 },
 "nbformat": 4,
 "nbformat_minor": 5
}
