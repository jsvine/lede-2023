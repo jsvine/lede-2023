{
 "cells": [
  {
   "cell_type": "markdown",
   "id": "479f1956-0d3e-4f99-9bdb-890cdeb53989",
   "metadata": {
    "slideshow": {
     "slide_type": "slide"
    }
   },
   "source": [
    "# 🌐 Scraping, Part 8: Scraping gracefully\n",
    "\n",
    "*Sleeping, announcing yourself, caching, and catching HTTP errors.*"
   ]
  },
  {
   "cell_type": "code",
   "execution_count": 1,
   "id": "21fc8172",
   "metadata": {
    "slideshow": {
     "slide_type": "skip"
    }
   },
   "outputs": [],
   "source": [
    "import requests\n",
    "from bs4 import BeautifulSoup"
   ]
  },
  {
   "cell_type": "markdown",
   "id": "d97f52f1",
   "metadata": {
    "slideshow": {
     "slide_type": "slide"
    }
   },
   "source": [
    "## Sleeping 💤\n",
    "\n",
    "If you're scraping a lot of pages, or a delicate site, you might want to add some slowness."
   ]
  },
  {
   "cell_type": "code",
   "execution_count": 2,
   "id": "596f168d",
   "metadata": {
    "slideshow": {
     "slide_type": "subslide"
    }
   },
   "outputs": [
    {
     "name": "stdout",
     "output_type": "stream",
     "text": [
      "Fetching page 1\n",
      "Fetching page 2\n",
      "Fetching page 3\n"
     ]
    }
   ],
   "source": [
    "from time import sleep\n",
    "\n",
    "for i in range(3):\n",
    "    print(\"Fetching page \" + str(i + 1))\n",
    "    sleep(1)"
   ]
  },
  {
   "cell_type": "markdown",
   "id": "77b90c4e",
   "metadata": {
    "slideshow": {
     "slide_type": "slide"
    }
   },
   "source": [
    "## Announcing yourself 📢\n",
    "\n",
    "Are you undertaking a substantial scraping project? Announce yourself with HTTP headers."
   ]
  },
  {
   "cell_type": "code",
   "execution_count": 3,
   "id": "8af8446e",
   "metadata": {
    "slideshow": {
     "slide_type": "subslide"
    }
   },
   "outputs": [],
   "source": [
    "ident = (\n",
    "    \"Jeremy Singer-Vine (jsvine@gmail.com), \" + \n",
    "    \"scraping for educational purposes\"\n",
    ")\n",
    "\n",
    "html = requests.get(\n",
    "    \"https://example.com\",\n",
    "    headers = {\n",
    "        \"From\": ident\n",
    "    }\n",
    ").text"
   ]
  },
  {
   "cell_type": "markdown",
   "id": "617bd54c",
   "metadata": {
    "slideshow": {
     "slide_type": "slide"
    }
   },
   "source": [
    "## Caching 💾\n",
    "\n",
    "Only fetch each page once (unless it's changing rapidly). How?\n",
    "\n",
    "- Come up with a predictable `page->filepath` naming scheme\n",
    "- On each iteration, get the page's `filepath` in the scheme\n",
    "- If the `filepath` does not yet exist, save the HTML to the `filepath` after you fetch it\n",
    "- If the `filepath` already exists, skip the fetching and just load the file"
   ]
  },
  {
   "cell_type": "markdown",
   "id": "75bb1fd3",
   "metadata": {
    "slideshow": {
     "slide_type": "subslide"
    }
   },
   "source": [
    "Make a subdirectory wherever your notebook is, using your command line:\n",
    "\n",
    "```sh\n",
    "mkdir table-pages\n",
    "```"
   ]
  },
  {
   "cell_type": "markdown",
   "id": "ed61d13a",
   "metadata": {
    "slideshow": {
     "slide_type": "fragment"
    }
   },
   "source": [
    "Import `Path`:"
   ]
  },
  {
   "cell_type": "code",
   "execution_count": 4,
   "id": "a53f57a4",
   "metadata": {
    "slideshow": {
     "slide_type": "-"
    }
   },
   "outputs": [],
   "source": [
    "from pathlib import Path"
   ]
  },
  {
   "cell_type": "markdown",
   "id": "c7961c1e",
   "metadata": {
    "slideshow": {
     "slide_type": "subslide"
    }
   },
   "source": [
    "Implement caching:"
   ]
  },
  {
   "cell_type": "code",
   "execution_count": 5,
   "id": "157e25c8",
   "metadata": {
    "slideshow": {
     "slide_type": "-"
    }
   },
   "outputs": [
    {
     "name": "stdout",
     "output_type": "stream",
     "text": [
      "table-pages/1.html\n",
      "table-pages/2.html\n",
      "table-pages/3.html\n"
     ]
    }
   ],
   "source": [
    "BASE_URL = \"https://scraping-practice-jsvine.vercel.app/launches/paginated/\"\n",
    "\n",
    "for i in range(3):\n",
    "    dest = Path(\"table-pages/\" + str(i + 1) + \".html\")\n",
    "    print(dest)"
   ]
  },
  {
   "cell_type": "code",
   "execution_count": 6,
   "id": "943ac2ec",
   "metadata": {
    "slideshow": {
     "slide_type": "subslide"
    }
   },
   "outputs": [
    {
     "name": "stdout",
     "output_type": "stream",
     "text": [
      "Already have table-pages/1.html, loading!\n",
      "Page 1 of 23\n",
      "Already have table-pages/2.html, loading!\n",
      "Page 2 of 23\n",
      "Already have table-pages/3.html, loading!\n",
      "Page 3 of 23\n"
     ]
    }
   ],
   "source": [
    "BASE_URL = \"https://scraping-practice-jsvine.vercel.app/launches/paginated/\"\n",
    "\n",
    "for i in range(3):\n",
    "    dest = Path(\"table-pages/\" + str(i + 1) + \".html\")\n",
    "    \n",
    "    if dest.exists(): # ... load it from file\n",
    "        print(f\"Already have {dest}, loading!\")\n",
    "        page_html = open(dest).read()\n",
    "        \n",
    "    else: # ... fetch it\n",
    "        page_url = BASE_URL + \"?page=\" + str(i + 1)\n",
    "        print(\"Fetching \" + page_url)\n",
    "        page_html = requests.get(page_url).text\n",
    "        \n",
    "        # ... and then save it to file\n",
    "        with open(dest, \"w\") as f:\n",
    "            f.write(page_html)\n",
    "            \n",
    "    page_soup = BeautifulSoup(page_html)\n",
    "    heading = page_soup.select(\"h3\")[0]\n",
    "    print(heading.text)"
   ]
  },
  {
   "cell_type": "markdown",
   "id": "229ee627",
   "metadata": {
    "slideshow": {
     "slide_type": "slide"
    }
   },
   "source": [
    "## Catching HTTP errors 🥴\n",
    "\n",
    "So far, we've been dealing with reliable servers. But sometimes they get overloaded or malfunction.\n",
    "\n",
    "There are a wide variety of errors, and different ways of handling them, but we'll focus on one specific and common case here."
   ]
  },
  {
   "cell_type": "code",
   "execution_count": 7,
   "id": "df0542de",
   "metadata": {
    "slideshow": {
     "slide_type": "subslide"
    }
   },
   "outputs": [
    {
     "data": {
      "text/plain": [
       "<Response [500]>"
      ]
     },
     "execution_count": 7,
     "metadata": {},
     "output_type": "execute_result"
    }
   ],
   "source": [
    "flaky_url = \"https://scraping-practice-jsvine.vercel.app/launches/paginated/flaky/\"\n",
    "\n",
    "requests.get(flaky_url)"
   ]
  },
  {
   "cell_type": "code",
   "execution_count": 8,
   "id": "0bfb095d",
   "metadata": {
    "slideshow": {
     "slide_type": "fragment"
    }
   },
   "outputs": [
    {
     "name": "stdout",
     "output_type": "stream",
     "text": [
      "200\n"
     ]
    }
   ],
   "source": [
    "response = requests.get(flaky_url)\n",
    "print(response.status_code)"
   ]
  },
  {
   "cell_type": "markdown",
   "id": "9d4a168b",
   "metadata": {
    "slideshow": {
     "slide_type": "subslide"
    }
   },
   "source": [
    "Here's what happens when we try to scrape a flaky server with no safeguards:"
   ]
  },
  {
   "cell_type": "code",
   "execution_count": 9,
   "id": "8b5f1c47",
   "metadata": {
    "slideshow": {
     "slide_type": "-"
    }
   },
   "outputs": [
    {
     "name": "stdout",
     "output_type": "stream",
     "text": [
      "Fetching https://scraping-practice-jsvine.vercel.app/launches/paginated/flaky/?page=1\n"
     ]
    },
    {
     "ename": "IndexError",
     "evalue": "list index out of range",
     "output_type": "error",
     "traceback": [
      "\u001b[0;31m---------------------------------------------------------------------------\u001b[0m",
      "\u001b[0;31mIndexError\u001b[0m                                Traceback (most recent call last)",
      "Cell \u001b[0;32mIn[9], line 6\u001b[0m\n\u001b[1;32m      4\u001b[0m page_html \u001b[38;5;241m=\u001b[39m requests\u001b[38;5;241m.\u001b[39mget(page_url)\u001b[38;5;241m.\u001b[39mtext            \n\u001b[1;32m      5\u001b[0m page_soup \u001b[38;5;241m=\u001b[39m BeautifulSoup(page_html)\n\u001b[0;32m----> 6\u001b[0m heading \u001b[38;5;241m=\u001b[39m \u001b[43mpage_soup\u001b[49m\u001b[38;5;241;43m.\u001b[39;49m\u001b[43mselect\u001b[49m\u001b[43m(\u001b[49m\u001b[38;5;124;43m\"\u001b[39;49m\u001b[38;5;124;43mh3\u001b[39;49m\u001b[38;5;124;43m\"\u001b[39;49m\u001b[43m)\u001b[49m\u001b[43m[\u001b[49m\u001b[38;5;241;43m0\u001b[39;49m\u001b[43m]\u001b[49m\n\u001b[1;32m      7\u001b[0m \u001b[38;5;28mprint\u001b[39m(heading\u001b[38;5;241m.\u001b[39mtext)\n",
      "\u001b[0;31mIndexError\u001b[0m: list index out of range"
     ]
    }
   ],
   "source": [
    "for i in range(3):\n",
    "    page_url = flaky_url + \"?page=\" + str(i + 1)\n",
    "    print(\"Fetching \" + page_url)\n",
    "    page_html = requests.get(page_url).text            \n",
    "    page_soup = BeautifulSoup(page_html)\n",
    "    heading = page_soup.select(\"h3\")[0]\n",
    "    print(heading.text)"
   ]
  },
  {
   "cell_type": "markdown",
   "id": "f3b4a401",
   "metadata": {
    "slideshow": {
     "slide_type": "subslide"
    }
   },
   "source": [
    "And here's *one* way we can fix that:"
   ]
  },
  {
   "cell_type": "code",
   "execution_count": null,
   "id": "bb17eece",
   "metadata": {},
   "outputs": [],
   "source": [
    "for i in range(3):\n",
    "    page_url = flaky_url + \"?page=\" + str(i + 1)\n",
    "    while True:\n",
    "        print(\"Fetching \" + page_url)\n",
    "        page_response = requests.get(page_url)\n",
    "        if page_response.status_code == 200:\n",
    "            break\n",
    "        else:\n",
    "            print(\"Sleeping and then trying again...\")\n",
    "            sleep(3)\n",
    "            \n",
    "    page_html = page_response.text            \n",
    "    page_soup = BeautifulSoup(page_html)\n",
    "    heading = page_soup.select(\"h3\")[0]\n",
    "    print(heading.text)"
   ]
  },
  {
   "cell_type": "markdown",
   "id": "63342957",
   "metadata": {
    "slideshow": {
     "slide_type": "skip"
    }
   },
   "source": [
    "---\n",
    "\n",
    "---\n",
    "\n",
    "---"
   ]
  }
 ],
 "metadata": {
  "celltoolbar": "Slideshow",
  "kernelspec": {
   "display_name": "Python 3 (ipykernel)",
   "language": "python",
   "name": "python3"
  },
  "language_info": {
   "codemirror_mode": {
    "name": "ipython",
    "version": 3
   },
   "file_extension": ".py",
   "mimetype": "text/x-python",
   "name": "python",
   "nbconvert_exporter": "python",
   "pygments_lexer": "ipython3",
   "version": "3.10.4"
  }
 },
 "nbformat": 4,
 "nbformat_minor": 5
}
