{
 "cells": [
  {
   "cell_type": "markdown",
   "id": "479f1956-0d3e-4f99-9bdb-890cdeb53989",
   "metadata": {
    "slideshow": {
     "slide_type": "slide"
    }
   },
   "source": [
    "# 🌐 Scraping, Part 4: Practice, practice, practice!\n",
    "\n",
    "*Let's scrape some dataaaaaaa!*\n",
    "\n",
    "*Note: In these examples, I'll be using `lxml`, but feel free to use `BeautifulSoup` if you prefer.*"
   ]
  },
  {
   "cell_type": "markdown",
   "id": "74d9564f-54de-48a9-9914-a5e82c4cf7c3",
   "metadata": {
    "slideshow": {
     "slide_type": "slide"
    }
   },
   "source": [
    "## Let's start with Soma's personal website\n",
    "\n",
    "It's https://jonathansoma.com.\n",
    "\n",
    "Open it in your browser. View the raw HTML, and also practice popping open the element inspector."
   ]
  },
  {
   "cell_type": "markdown",
   "id": "fd6c0724-2736-415b-ad8a-b3d3ed1a9202",
   "metadata": {
    "slideshow": {
     "slide_type": "subslide"
    }
   },
   "source": [
    "## Q: What do you see? What would you want to extract from it?"
   ]
  },
  {
   "cell_type": "markdown",
   "id": "04e5d896-3fe5-4332-9046-c5bbed69c35f",
   "metadata": {
    "slideshow": {
     "slide_type": "fragment"
    }
   },
   "source": [
    "Some ideas:\n",
    "\n",
    "- How many hyperlinks does Soma's homepage contain?\n",
    "- Which paragraph contains the most hyperlinks?"
   ]
  },
  {
   "cell_type": "markdown",
   "id": "c3e15b23-f01f-47b3-be70-4d16fb1df43d",
   "metadata": {
    "slideshow": {
     "slide_type": "subslide"
    }
   },
   "source": [
    "Let's load the HTML in Python. Remember how?"
   ]
  },
  {
   "cell_type": "code",
   "execution_count": 1,
   "id": "333d27f9-3e64-4881-a0cf-36f0d8028b70",
   "metadata": {
    "slideshow": {
     "slide_type": "fragment"
    }
   },
   "outputs": [],
   "source": [
    "import requests"
   ]
  },
  {
   "cell_type": "code",
   "execution_count": 2,
   "id": "ee6ead5d-2a8b-42d7-8b10-01119f7ce2de",
   "metadata": {
    "slideshow": {
     "slide_type": "fragment"
    }
   },
   "outputs": [
    {
     "name": "stdout",
     "output_type": "stream",
     "text": [
      "<!DOCTYPE html>\n",
      "<html>\n",
      "<head>\n",
      "<title>Jonathan Soma makes things</title>\n",
      "<style>\n",
      "#content {\n",
      "width: 700px;\n",
      "color: #333;\n",
      "margin: 0 auto;\n",
      "padding-bottom: 100px;\n",
      "padding-top: 100px;\n",
      "font-family: Georgia, s\n"
     ]
    }
   ],
   "source": [
    "soma_html = requests.get(\"https://jonathansoma.com/\").text\n",
    "print(soma_html[:200])"
   ]
  },
  {
   "cell_type": "markdown",
   "id": "8aeaf626",
   "metadata": {
    "slideshow": {
     "slide_type": "subslide"
    }
   },
   "source": [
    "Now let's parse it with `lxml`. Remember how?"
   ]
  },
  {
   "cell_type": "code",
   "execution_count": 3,
   "id": "5dc23ad8-fefb-403c-8a2e-c768956fb044",
   "metadata": {
    "slideshow": {
     "slide_type": "fragment"
    }
   },
   "outputs": [],
   "source": [
    "import lxml.html\n",
    "soma_dom = lxml.html.fromstring(soma_html)"
   ]
  },
  {
   "cell_type": "markdown",
   "id": "a26295e7",
   "metadata": {
    "slideshow": {
     "slide_type": "subslide"
    }
   },
   "source": [
    "## Q: How many links on Soma's homepage?"
   ]
  },
  {
   "cell_type": "code",
   "execution_count": 4,
   "id": "9e9b5ec7-f8d2-4a8b-a172-4fe1414397ba",
   "metadata": {
    "slideshow": {
     "slide_type": "fragment"
    }
   },
   "outputs": [
    {
     "data": {
      "text/plain": [
       "11"
      ]
     },
     "execution_count": 4,
     "metadata": {},
     "output_type": "execute_result"
    }
   ],
   "source": [
    "soma_links = soma_dom.cssselect(\"a\")\n",
    "len(soma_links)"
   ]
  },
  {
   "cell_type": "markdown",
   "id": "0d390807-3d25-47b8-826e-1804071ccf36",
   "metadata": {
    "slideshow": {
     "slide_type": "subslide"
    }
   },
   "source": [
    "## Q: What are all the URLs those hyperlinks point to?"
   ]
  },
  {
   "cell_type": "code",
   "execution_count": 5,
   "id": "c3f38e52-4392-4c25-8ffd-e058f333ad26",
   "metadata": {
    "slideshow": {
     "slide_type": "fragment"
    }
   },
   "outputs": [
    {
     "name": "stdout",
     "output_type": "stream",
     "text": [
      "http://brooklynbrainery.com\n",
      "http://dabbles.in\n",
      "http://www.omgmsg.com\n",
      "https://investigate.ai\n",
      "http://jonathansoma.com/singles\n",
      "http://handsomeatlas.com\n",
      "http://jonathansoma.com/notes/dosas-and-injera/\n",
      "http://jonathansoma.com/open-source-language-map\n",
      "https://tinyletter.com/jsoma\n",
      "http://twitter.com/dangerscarf\n",
      "mailto:jonathan.soma@gmail.com\n"
     ]
    }
   ],
   "source": [
    "for link in soma_links:\n",
    "    print(link.attrib[\"href\"])\n",
    "    # In BeautifulSoup: print(link[\"href\"])"
   ]
  },
  {
   "cell_type": "markdown",
   "id": "893921e8-a012-490e-a295-969036e7d1c6",
   "metadata": {
    "slideshow": {
     "slide_type": "subslide"
    }
   },
   "source": [
    "## Exercise: How many links are in each paragraph?"
   ]
  },
  {
   "cell_type": "markdown",
   "id": "fdc4e764-d6c2-48b6-adb8-2ca00d32e619",
   "metadata": {
    "slideshow": {
     "slide_type": "subslide"
    }
   },
   "source": [
    "Let's start with grabbing each paragraph:"
   ]
  },
  {
   "cell_type": "code",
   "execution_count": 6,
   "id": "6df63c5e-b287-48d3-b7e1-0711cf39099f",
   "metadata": {
    "slideshow": {
     "slide_type": "-"
    }
   },
   "outputs": [
    {
     "name": "stdout",
     "output_type": "stream",
     "text": [
      "Paragraph 1: I run a fake school and a paid newsletter about hobbies and have been known to talk too much about food. I love just about everything.\n",
      "---\n",
      "Paragraph 2: I've worked on baby-steps data science for journalists and lonely young men and rad old maps and pancakes and crowdsourced linguistics.\n",
      "---\n",
      "Paragraph 3: Want updates? I have a newsletter for that, too.\n",
      "---\n",
      "Paragraph 4:  \n",
      "---\n",
      "Paragraph 5: pithy = @dangerscarf lengthy = jonathan.soma@gmail.com\n",
      "---\n"
     ]
    }
   ],
   "source": [
    "soma_paras = soma_dom.cssselect(\"p\")\n",
    "for i, p in enumerate(soma_paras):\n",
    "    print(f\"Paragraph {i+1}: {p.text_content()}\")\n",
    "    print(\"---\")"
   ]
  },
  {
   "cell_type": "markdown",
   "id": "55f4ef87-4894-40e5-8453-752fd873b1b3",
   "metadata": {
    "slideshow": {
     "slide_type": "subslide"
    }
   },
   "source": [
    "Now let's search *within* each paragraph for its links; we can do this because `.cssselect(...)` works on *any* element:"
   ]
  },
  {
   "cell_type": "code",
   "execution_count": 7,
   "id": "bad3548f-9411-4ad4-9e2b-59291316e156",
   "metadata": {
    "slideshow": {
     "slide_type": "-"
    }
   },
   "outputs": [
    {
     "name": "stdout",
     "output_type": "stream",
     "text": [
      "Paragraph 1 has 3 link(s)\n",
      "---\n",
      "Paragraph 2 has 5 link(s)\n",
      "---\n",
      "Paragraph 3 has 1 link(s)\n",
      "---\n",
      "Paragraph 4 has 0 link(s)\n",
      "---\n",
      "Paragraph 5 has 2 link(s)\n",
      "---\n"
     ]
    }
   ],
   "source": [
    "for i, p in enumerate(soma_dom.cssselect(\"p\")):\n",
    "    p_links = p.cssselect(\"a\")\n",
    "    print(f\"Paragraph {i+1} has {len(p_links)} link(s)\")\n",
    "    print(\"---\")"
   ]
  },
  {
   "cell_type": "markdown",
   "id": "8d6989a8-f435-4116-9695-cdb37ef9447a",
   "metadata": {
    "slideshow": {
     "slide_type": "subslide"
    }
   },
   "source": [
    "Now let's print the text and URL of each link:"
   ]
  },
  {
   "cell_type": "code",
   "execution_count": 8,
   "id": "b8bf20bc-151c-4262-a45b-6a1d7911bbf4",
   "metadata": {
    "slideshow": {
     "slide_type": "-"
    }
   },
   "outputs": [
    {
     "name": "stdout",
     "output_type": "stream",
     "text": [
      "Paragraph 1 has 3 link(s):\n",
      "→ fake school: http://brooklynbrainery.com\n",
      "→ paid newsletter about hobbies: http://dabbles.in\n",
      "→ food: http://www.omgmsg.com\n",
      "---\n",
      "Paragraph 2 has 5 link(s):\n",
      "→ baby-steps data science for journalists: https://investigate.ai\n",
      "→ lonely young men: http://jonathansoma.com/singles\n",
      "→ rad old maps: http://handsomeatlas.com\n",
      "→ pancakes: http://jonathansoma.com/notes/dosas-and-injera/\n",
      "→ crowdsourced linguistics: http://jonathansoma.com/open-source-language-map\n",
      "---\n",
      "Paragraph 3 has 1 link(s):\n",
      "→ newsletter: https://tinyletter.com/jsoma\n",
      "---\n",
      "Paragraph 4 has 0 link(s):\n",
      "---\n",
      "Paragraph 5 has 2 link(s):\n",
      "→ @dangerscarf: http://twitter.com/dangerscarf\n",
      "→ jonathan.soma@gmail.com: mailto:jonathan.soma@gmail.com\n",
      "---\n"
     ]
    }
   ],
   "source": [
    "for i, p in enumerate(soma_dom.cssselect(\"p\")):\n",
    "    p_links = p.cssselect(\"a\")\n",
    "    print(f\"Paragraph {i+1} has {len(p_links)} link(s):\")\n",
    "    for a in p_links:\n",
    "        text = a.text_content()\n",
    "        url = a.attrib[\"href\"]\n",
    "        print(f\"→ {text}: {url}\")\n",
    "    print(\"---\")"
   ]
  },
  {
   "cell_type": "markdown",
   "id": "721815d6-15e2-421b-b3e2-14add5bf6a0a",
   "metadata": {
    "slideshow": {
     "slide_type": "subslide"
    }
   },
   "source": [
    "## Exercise: `pandas` refresher\n",
    "\n",
    "How would you make `pandas` `DataFrame` representing each link's text and URL?\n",
    "\n",
    "(You can forget, for now, about what paragraph the link is in.)"
   ]
  },
  {
   "cell_type": "code",
   "execution_count": 9,
   "id": "7737ab13-0108-4514-b62f-bb3bdb0e495f",
   "metadata": {
    "slideshow": {
     "slide_type": "subslide"
    }
   },
   "outputs": [],
   "source": [
    "import pandas as pd"
   ]
  },
  {
   "cell_type": "code",
   "execution_count": 10,
   "id": "cf729565-12db-4af8-a2ab-5163d7d19412",
   "metadata": {
    "slideshow": {
     "slide_type": "fragment"
    }
   },
   "outputs": [
    {
     "data": {
      "text/html": [
       "<div>\n",
       "<style scoped>\n",
       "    .dataframe tbody tr th:only-of-type {\n",
       "        vertical-align: middle;\n",
       "    }\n",
       "\n",
       "    .dataframe tbody tr th {\n",
       "        vertical-align: top;\n",
       "    }\n",
       "\n",
       "    .dataframe thead th {\n",
       "        text-align: right;\n",
       "    }\n",
       "</style>\n",
       "<table border=\"1\" class=\"dataframe\">\n",
       "  <thead>\n",
       "    <tr style=\"text-align: right;\">\n",
       "      <th></th>\n",
       "      <th>text</th>\n",
       "      <th>url</th>\n",
       "    </tr>\n",
       "  </thead>\n",
       "  <tbody>\n",
       "    <tr>\n",
       "      <th>0</th>\n",
       "      <td>fake school</td>\n",
       "      <td>http://brooklynbrainery.com</td>\n",
       "    </tr>\n",
       "    <tr>\n",
       "      <th>1</th>\n",
       "      <td>paid newsletter about hobbies</td>\n",
       "      <td>http://dabbles.in</td>\n",
       "    </tr>\n",
       "    <tr>\n",
       "      <th>2</th>\n",
       "      <td>food</td>\n",
       "      <td>http://www.omgmsg.com</td>\n",
       "    </tr>\n",
       "    <tr>\n",
       "      <th>3</th>\n",
       "      <td>baby-steps data science for journalists</td>\n",
       "      <td>https://investigate.ai</td>\n",
       "    </tr>\n",
       "    <tr>\n",
       "      <th>4</th>\n",
       "      <td>lonely young men</td>\n",
       "      <td>http://jonathansoma.com/singles</td>\n",
       "    </tr>\n",
       "    <tr>\n",
       "      <th>5</th>\n",
       "      <td>rad old maps</td>\n",
       "      <td>http://handsomeatlas.com</td>\n",
       "    </tr>\n",
       "    <tr>\n",
       "      <th>6</th>\n",
       "      <td>pancakes</td>\n",
       "      <td>http://jonathansoma.com/notes/dosas-and-injera/</td>\n",
       "    </tr>\n",
       "    <tr>\n",
       "      <th>7</th>\n",
       "      <td>crowdsourced linguistics</td>\n",
       "      <td>http://jonathansoma.com/open-source-language-map</td>\n",
       "    </tr>\n",
       "    <tr>\n",
       "      <th>8</th>\n",
       "      <td>newsletter</td>\n",
       "      <td>https://tinyletter.com/jsoma</td>\n",
       "    </tr>\n",
       "    <tr>\n",
       "      <th>9</th>\n",
       "      <td>@dangerscarf</td>\n",
       "      <td>http://twitter.com/dangerscarf</td>\n",
       "    </tr>\n",
       "    <tr>\n",
       "      <th>10</th>\n",
       "      <td>jonathan.soma@gmail.com</td>\n",
       "      <td>mailto:jonathan.soma@gmail.com</td>\n",
       "    </tr>\n",
       "  </tbody>\n",
       "</table>\n",
       "</div>"
      ],
      "text/plain": [
       "                                       text  \\\n",
       "0                               fake school   \n",
       "1             paid newsletter about hobbies   \n",
       "2                                      food   \n",
       "3   baby-steps data science for journalists   \n",
       "4                          lonely young men   \n",
       "5                              rad old maps   \n",
       "6                                  pancakes   \n",
       "7                  crowdsourced linguistics   \n",
       "8                                newsletter   \n",
       "9                              @dangerscarf   \n",
       "10                  jonathan.soma@gmail.com   \n",
       "\n",
       "                                                 url  \n",
       "0                        http://brooklynbrainery.com  \n",
       "1                                  http://dabbles.in  \n",
       "2                              http://www.omgmsg.com  \n",
       "3                             https://investigate.ai  \n",
       "4                    http://jonathansoma.com/singles  \n",
       "5                           http://handsomeatlas.com  \n",
       "6    http://jonathansoma.com/notes/dosas-and-injera/  \n",
       "7   http://jonathansoma.com/open-source-language-map  \n",
       "8                       https://tinyletter.com/jsoma  \n",
       "9                     http://twitter.com/dangerscarf  \n",
       "10                    mailto:jonathan.soma@gmail.com  "
      ]
     },
     "execution_count": 10,
     "metadata": {},
     "output_type": "execute_result"
    }
   ],
   "source": [
    "soma_link_df = pd.DataFrame([ {\n",
    "    \"text\": link.text_content(),\n",
    "    \"url\": link.attrib[\"href\"]\n",
    "} for link in soma_links ])\n",
    "\n",
    "soma_link_df"
   ]
  },
  {
   "cell_type": "markdown",
   "id": "62bf6d0a-38fd-42b0-ae52-0f377694b0b6",
   "metadata": {
    "slideshow": {
     "slide_type": "subslide"
    }
   },
   "source": [
    "If [list comprehensions](https://docs.python.org/3/tutorial/datastructures.html#list-comprehensions) aren't your cup of tea, here's another way we could have done that:"
   ]
  },
  {
   "cell_type": "code",
   "execution_count": 11,
   "id": "2b6c08b7-9181-46c6-b93d-90e1901ae691",
   "metadata": {
    "slideshow": {
     "slide_type": "-"
    }
   },
   "outputs": [
    {
     "data": {
      "text/plain": [
       "[{'text': 'fake school', 'url': 'http://brooklynbrainery.com'},\n",
       " {'text': 'paid newsletter about hobbies', 'url': 'http://dabbles.in'},\n",
       " {'text': 'food', 'url': 'http://www.omgmsg.com'},\n",
       " {'text': 'baby-steps data science for journalists',\n",
       "  'url': 'https://investigate.ai'},\n",
       " {'text': 'lonely young men', 'url': 'http://jonathansoma.com/singles'},\n",
       " {'text': 'rad old maps', 'url': 'http://handsomeatlas.com'},\n",
       " {'text': 'pancakes',\n",
       "  'url': 'http://jonathansoma.com/notes/dosas-and-injera/'},\n",
       " {'text': 'crowdsourced linguistics',\n",
       "  'url': 'http://jonathansoma.com/open-source-language-map'},\n",
       " {'text': 'newsletter', 'url': 'https://tinyletter.com/jsoma'},\n",
       " {'text': '@dangerscarf', 'url': 'http://twitter.com/dangerscarf'},\n",
       " {'text': 'jonathan.soma@gmail.com', 'url': 'mailto:jonathan.soma@gmail.com'}]"
      ]
     },
     "execution_count": 11,
     "metadata": {},
     "output_type": "execute_result"
    }
   ],
   "source": [
    "soma_link_list = []\n",
    "\n",
    "for link in soma_links:\n",
    "    item_data = {\n",
    "        \"text\": link.text_content(),\n",
    "        \"url\": link.attrib[\"href\"],\n",
    "    }\n",
    "    soma_link_list.append(item_data)\n",
    "\n",
    "soma_link_list"
   ]
  },
  {
   "cell_type": "code",
   "execution_count": 12,
   "id": "3276b72c-9313-4539-ad8b-b0155559ca32",
   "metadata": {
    "slideshow": {
     "slide_type": "subslide"
    }
   },
   "outputs": [
    {
     "data": {
      "text/html": [
       "<div>\n",
       "<style scoped>\n",
       "    .dataframe tbody tr th:only-of-type {\n",
       "        vertical-align: middle;\n",
       "    }\n",
       "\n",
       "    .dataframe tbody tr th {\n",
       "        vertical-align: top;\n",
       "    }\n",
       "\n",
       "    .dataframe thead th {\n",
       "        text-align: right;\n",
       "    }\n",
       "</style>\n",
       "<table border=\"1\" class=\"dataframe\">\n",
       "  <thead>\n",
       "    <tr style=\"text-align: right;\">\n",
       "      <th></th>\n",
       "      <th>text</th>\n",
       "      <th>url</th>\n",
       "    </tr>\n",
       "  </thead>\n",
       "  <tbody>\n",
       "    <tr>\n",
       "      <th>0</th>\n",
       "      <td>fake school</td>\n",
       "      <td>http://brooklynbrainery.com</td>\n",
       "    </tr>\n",
       "    <tr>\n",
       "      <th>1</th>\n",
       "      <td>paid newsletter about hobbies</td>\n",
       "      <td>http://dabbles.in</td>\n",
       "    </tr>\n",
       "    <tr>\n",
       "      <th>2</th>\n",
       "      <td>food</td>\n",
       "      <td>http://www.omgmsg.com</td>\n",
       "    </tr>\n",
       "    <tr>\n",
       "      <th>3</th>\n",
       "      <td>baby-steps data science for journalists</td>\n",
       "      <td>https://investigate.ai</td>\n",
       "    </tr>\n",
       "    <tr>\n",
       "      <th>4</th>\n",
       "      <td>lonely young men</td>\n",
       "      <td>http://jonathansoma.com/singles</td>\n",
       "    </tr>\n",
       "    <tr>\n",
       "      <th>5</th>\n",
       "      <td>rad old maps</td>\n",
       "      <td>http://handsomeatlas.com</td>\n",
       "    </tr>\n",
       "    <tr>\n",
       "      <th>6</th>\n",
       "      <td>pancakes</td>\n",
       "      <td>http://jonathansoma.com/notes/dosas-and-injera/</td>\n",
       "    </tr>\n",
       "    <tr>\n",
       "      <th>7</th>\n",
       "      <td>crowdsourced linguistics</td>\n",
       "      <td>http://jonathansoma.com/open-source-language-map</td>\n",
       "    </tr>\n",
       "    <tr>\n",
       "      <th>8</th>\n",
       "      <td>newsletter</td>\n",
       "      <td>https://tinyletter.com/jsoma</td>\n",
       "    </tr>\n",
       "    <tr>\n",
       "      <th>9</th>\n",
       "      <td>@dangerscarf</td>\n",
       "      <td>http://twitter.com/dangerscarf</td>\n",
       "    </tr>\n",
       "    <tr>\n",
       "      <th>10</th>\n",
       "      <td>jonathan.soma@gmail.com</td>\n",
       "      <td>mailto:jonathan.soma@gmail.com</td>\n",
       "    </tr>\n",
       "  </tbody>\n",
       "</table>\n",
       "</div>"
      ],
      "text/plain": [
       "                                       text  \\\n",
       "0                               fake school   \n",
       "1             paid newsletter about hobbies   \n",
       "2                                      food   \n",
       "3   baby-steps data science for journalists   \n",
       "4                          lonely young men   \n",
       "5                              rad old maps   \n",
       "6                                  pancakes   \n",
       "7                  crowdsourced linguistics   \n",
       "8                                newsletter   \n",
       "9                              @dangerscarf   \n",
       "10                  jonathan.soma@gmail.com   \n",
       "\n",
       "                                                 url  \n",
       "0                        http://brooklynbrainery.com  \n",
       "1                                  http://dabbles.in  \n",
       "2                              http://www.omgmsg.com  \n",
       "3                             https://investigate.ai  \n",
       "4                    http://jonathansoma.com/singles  \n",
       "5                           http://handsomeatlas.com  \n",
       "6    http://jonathansoma.com/notes/dosas-and-injera/  \n",
       "7   http://jonathansoma.com/open-source-language-map  \n",
       "8                       https://tinyletter.com/jsoma  \n",
       "9                     http://twitter.com/dangerscarf  \n",
       "10                    mailto:jonathan.soma@gmail.com  "
      ]
     },
     "execution_count": 12,
     "metadata": {},
     "output_type": "execute_result"
    }
   ],
   "source": [
    "soma_link_df = pd.DataFrame(soma_link_list)\n",
    "soma_link_df"
   ]
  },
  {
   "cell_type": "markdown",
   "id": "5fc9651d-4f30-46e3-9ae3-21cafd5478ee",
   "metadata": {
    "slideshow": {
     "slide_type": "subslide"
    }
   },
   "source": [
    "## Exercise: Add the URL's *protocol* to the DataFrame\n",
    "\n",
    "(The protocol is the bit that comes before the `:`.)"
   ]
  },
  {
   "cell_type": "code",
   "execution_count": 13,
   "id": "834597eb-59c5-4a92-9e10-43cbe37bd224",
   "metadata": {
    "slideshow": {
     "slide_type": "subslide"
    }
   },
   "outputs": [
    {
     "data": {
      "text/html": [
       "<div>\n",
       "<style scoped>\n",
       "    .dataframe tbody tr th:only-of-type {\n",
       "        vertical-align: middle;\n",
       "    }\n",
       "\n",
       "    .dataframe tbody tr th {\n",
       "        vertical-align: top;\n",
       "    }\n",
       "\n",
       "    .dataframe thead th {\n",
       "        text-align: right;\n",
       "    }\n",
       "</style>\n",
       "<table border=\"1\" class=\"dataframe\">\n",
       "  <thead>\n",
       "    <tr style=\"text-align: right;\">\n",
       "      <th></th>\n",
       "      <th>text</th>\n",
       "      <th>url</th>\n",
       "      <th>protocol</th>\n",
       "    </tr>\n",
       "  </thead>\n",
       "  <tbody>\n",
       "    <tr>\n",
       "      <th>0</th>\n",
       "      <td>fake school</td>\n",
       "      <td>http://brooklynbrainery.com</td>\n",
       "      <td>http</td>\n",
       "    </tr>\n",
       "    <tr>\n",
       "      <th>1</th>\n",
       "      <td>paid newsletter about hobbies</td>\n",
       "      <td>http://dabbles.in</td>\n",
       "      <td>http</td>\n",
       "    </tr>\n",
       "    <tr>\n",
       "      <th>2</th>\n",
       "      <td>food</td>\n",
       "      <td>http://www.omgmsg.com</td>\n",
       "      <td>http</td>\n",
       "    </tr>\n",
       "    <tr>\n",
       "      <th>3</th>\n",
       "      <td>baby-steps data science for journalists</td>\n",
       "      <td>https://investigate.ai</td>\n",
       "      <td>https</td>\n",
       "    </tr>\n",
       "    <tr>\n",
       "      <th>4</th>\n",
       "      <td>lonely young men</td>\n",
       "      <td>http://jonathansoma.com/singles</td>\n",
       "      <td>http</td>\n",
       "    </tr>\n",
       "    <tr>\n",
       "      <th>5</th>\n",
       "      <td>rad old maps</td>\n",
       "      <td>http://handsomeatlas.com</td>\n",
       "      <td>http</td>\n",
       "    </tr>\n",
       "    <tr>\n",
       "      <th>6</th>\n",
       "      <td>pancakes</td>\n",
       "      <td>http://jonathansoma.com/notes/dosas-and-injera/</td>\n",
       "      <td>http</td>\n",
       "    </tr>\n",
       "    <tr>\n",
       "      <th>7</th>\n",
       "      <td>crowdsourced linguistics</td>\n",
       "      <td>http://jonathansoma.com/open-source-language-map</td>\n",
       "      <td>http</td>\n",
       "    </tr>\n",
       "    <tr>\n",
       "      <th>8</th>\n",
       "      <td>newsletter</td>\n",
       "      <td>https://tinyletter.com/jsoma</td>\n",
       "      <td>https</td>\n",
       "    </tr>\n",
       "    <tr>\n",
       "      <th>9</th>\n",
       "      <td>@dangerscarf</td>\n",
       "      <td>http://twitter.com/dangerscarf</td>\n",
       "      <td>http</td>\n",
       "    </tr>\n",
       "    <tr>\n",
       "      <th>10</th>\n",
       "      <td>jonathan.soma@gmail.com</td>\n",
       "      <td>mailto:jonathan.soma@gmail.com</td>\n",
       "      <td>mailto</td>\n",
       "    </tr>\n",
       "  </tbody>\n",
       "</table>\n",
       "</div>"
      ],
      "text/plain": [
       "                                       text  \\\n",
       "0                               fake school   \n",
       "1             paid newsletter about hobbies   \n",
       "2                                      food   \n",
       "3   baby-steps data science for journalists   \n",
       "4                          lonely young men   \n",
       "5                              rad old maps   \n",
       "6                                  pancakes   \n",
       "7                  crowdsourced linguistics   \n",
       "8                                newsletter   \n",
       "9                              @dangerscarf   \n",
       "10                  jonathan.soma@gmail.com   \n",
       "\n",
       "                                                 url protocol  \n",
       "0                        http://brooklynbrainery.com     http  \n",
       "1                                  http://dabbles.in     http  \n",
       "2                              http://www.omgmsg.com     http  \n",
       "3                             https://investigate.ai    https  \n",
       "4                    http://jonathansoma.com/singles     http  \n",
       "5                           http://handsomeatlas.com     http  \n",
       "6    http://jonathansoma.com/notes/dosas-and-injera/     http  \n",
       "7   http://jonathansoma.com/open-source-language-map     http  \n",
       "8                       https://tinyletter.com/jsoma    https  \n",
       "9                     http://twitter.com/dangerscarf     http  \n",
       "10                    mailto:jonathan.soma@gmail.com   mailto  "
      ]
     },
     "execution_count": 13,
     "metadata": {},
     "output_type": "execute_result"
    }
   ],
   "source": [
    "soma_link_list = []\n",
    "\n",
    "for link in soma_links:\n",
    "    item_data = {\n",
    "        \"text\": link.text_content(),\n",
    "        \"url\": link.attrib[\"href\"],\n",
    "        \"protocol\": link.attrib[\"href\"].split(\":\")[0],\n",
    "    }\n",
    "    soma_link_list.append(item_data)\n",
    "\n",
    "soma_link_df = pd.DataFrame(soma_link_list)\n",
    "\n",
    "soma_link_df"
   ]
  },
  {
   "cell_type": "code",
   "execution_count": 14,
   "id": "03956cca",
   "metadata": {
    "slideshow": {
     "slide_type": "subslide"
    }
   },
   "outputs": [
    {
     "data": {
      "text/plain": [
       "protocol\n",
       "http      8\n",
       "https     2\n",
       "mailto    1\n",
       "Name: count, dtype: int64"
      ]
     },
     "execution_count": 14,
     "metadata": {},
     "output_type": "execute_result"
    }
   ],
   "source": [
    "soma_link_df[\"protocol\"].value_counts()"
   ]
  },
  {
   "cell_type": "markdown",
   "id": "f11ae2a7-75b2-46bf-9555-88492f65349e",
   "metadata": {
    "slideshow": {
     "slide_type": "skip"
    }
   },
   "source": [
    "---\n",
    "\n",
    "---\n",
    "\n",
    "---"
   ]
  }
 ],
 "metadata": {
  "celltoolbar": "Slideshow",
  "kernelspec": {
   "display_name": "Python 3 (ipykernel)",
   "language": "python",
   "name": "python3"
  },
  "language_info": {
   "codemirror_mode": {
    "name": "ipython",
    "version": 3
   },
   "file_extension": ".py",
   "mimetype": "text/x-python",
   "name": "python",
   "nbconvert_exporter": "python",
   "pygments_lexer": "ipython3",
   "version": "3.10.4"
  }
 },
 "nbformat": 4,
 "nbformat_minor": 5
}
