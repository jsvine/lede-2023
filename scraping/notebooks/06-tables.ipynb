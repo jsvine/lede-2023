{
 "cells": [
  {
   "cell_type": "markdown",
   "id": "479f1956-0d3e-4f99-9bdb-890cdeb53989",
   "metadata": {
    "slideshow": {
     "slide_type": "slide"
    }
   },
   "source": [
    "# 🌐 Scraping, Part 6: Table Talk\n",
    "\n",
    "*From HTML table to data table.*"
   ]
  },
  {
   "cell_type": "markdown",
   "id": "e16858de-4663-4402-ab6a-8f359cecc07c",
   "metadata": {
    "slideshow": {
     "slide_type": "slide"
    }
   },
   "source": [
    "## The `<table>` element"
   ]
  },
  {
   "cell_type": "markdown",
   "id": "b34e27dc-d1d1-4554-8267-b96f393007b6",
   "metadata": {
    "slideshow": {
     "slide_type": "subslide"
    }
   },
   "source": [
    "<pre style=\"font-size: 0.85em; line-height: 0.85em;\"> ┌───────────┐\n",
    " │  &lt;table&gt;  │\n",
    " └─┬─────────┘\n",
    "   │  ┌───────────┐\n",
    "   ├─►│  &lt;thead&gt;  │\n",
    "   │  └─────┬─────┘\n",
    "   │        │  ┌───────┐\n",
    "   │        └─►│  &lt;tr&gt; │\n",
    "   │           └───┬───┘\n",
    "   │               │  ┌────────┐\n",
    "   │               └─►│  &lt;th&gt;  │\n",
    "   │                  └────────┘\n",
    "   │  ┌───────────┐\n",
    "   └─►│  &lt;tbody&gt;  │\n",
    "      └─────┬─────┘\n",
    "            │  ┌────────┐\n",
    "            └─►│  &lt;tr&gt;  │\n",
    "               └───┬────┘\n",
    "                   │  ┌────────┐\n",
    "                   └─►│  &lt;td&gt;  │\n",
    "                      └────────┘\n",
    "</pre>"
   ]
  },
  {
   "cell_type": "markdown",
   "id": "ec77e4ff-db45-427d-bcdf-4d2b95eb5456",
   "metadata": {
    "slideshow": {
     "slide_type": "slide"
    }
   },
   "source": [
    "Let's try parsing the table of giant watermelons from \"`Homework 02, Part 2: The command line is fun (I promise) (optional)`\"\n",
    "\n",
    "Here's the website: http://www.bigpumpkins.com/WeighoffResultsGPC.aspx?c=W&y=2022"
   ]
  },
  {
   "cell_type": "code",
   "execution_count": 1,
   "id": "21fc8172",
   "metadata": {
    "slideshow": {
     "slide_type": "skip"
    }
   },
   "outputs": [],
   "source": [
    "import requests\n",
    "from bs4 import BeautifulSoup"
   ]
  },
  {
   "cell_type": "markdown",
   "id": "05f1bf01",
   "metadata": {
    "slideshow": {
     "slide_type": "subslide"
    }
   },
   "source": [
    "Let's fetch the HTML:"
   ]
  },
  {
   "cell_type": "code",
   "execution_count": 2,
   "id": "c847c0aa-2d16-4e65-8179-0a29513f3177",
   "metadata": {
    "slideshow": {
     "slide_type": "-"
    }
   },
   "outputs": [],
   "source": [
    "watermelon_url = \"http://www.bigpumpkins.com/WeighoffResultsGPC.aspx?c=W&y=2022\"\n",
    "watermelon_html = requests.get(watermelon_url).text"
   ]
  },
  {
   "cell_type": "markdown",
   "id": "aabec8a4",
   "metadata": {
    "slideshow": {
     "slide_type": "fragment"
    }
   },
   "source": [
    "... and convert it to a `BeautifulSoup` object:"
   ]
  },
  {
   "cell_type": "code",
   "execution_count": 3,
   "id": "7e3d0e62",
   "metadata": {
    "slideshow": {
     "slide_type": "-"
    }
   },
   "outputs": [],
   "source": [
    "watermelon_soup = BeautifulSoup(watermelon_html)"
   ]
  },
  {
   "cell_type": "markdown",
   "id": "7c614c70-5f6b-45ad-b2f9-3e1863c1fdbd",
   "metadata": {
    "slideshow": {
     "slide_type": "subslide"
    }
   },
   "source": [
    "Now let's select all tables:"
   ]
  },
  {
   "cell_type": "code",
   "execution_count": 4,
   "id": "7d817ef5-ce7b-414b-ad7f-9441699588a2",
   "metadata": {
    "slideshow": {
     "slide_type": "-"
    }
   },
   "outputs": [
    {
     "data": {
      "text/plain": [
       "4"
      ]
     },
     "execution_count": 4,
     "metadata": {},
     "output_type": "execute_result"
    }
   ],
   "source": [
    "tables = watermelon_soup.select(\"table\")\n",
    "len(tables)"
   ]
  },
  {
   "cell_type": "markdown",
   "id": "ebbc0375-deef-44c9-82f8-b2152d817e3c",
   "metadata": {
    "slideshow": {
     "slide_type": "fragment"
    }
   },
   "source": [
    "There's really only one table we care about, though. Let's update our CSS selector, making it *more specific*. Looking at the HTML, how would you do that?"
   ]
  },
  {
   "cell_type": "code",
   "execution_count": 5,
   "id": "e3a09eb2-c5de-4030-97bc-46b9bcba9317",
   "metadata": {
    "slideshow": {
     "slide_type": "fragment"
    }
   },
   "outputs": [
    {
     "data": {
      "text/plain": [
       "1"
      ]
     },
     "execution_count": 5,
     "metadata": {},
     "output_type": "execute_result"
    }
   ],
   "source": [
    "tables = watermelon_soup.select(\"table.ReportResults\")\n",
    "len(tables)"
   ]
  },
  {
   "cell_type": "markdown",
   "id": "150f6786",
   "metadata": {
    "slideshow": {
     "slide_type": "subslide"
    }
   },
   "source": [
    "Let's look at that table:"
   ]
  },
  {
   "cell_type": "code",
   "execution_count": 6,
   "id": "fb39a929-c345-4e91-baa2-da0300e454b2",
   "metadata": {
    "slideshow": {
     "slide_type": "-"
    }
   },
   "outputs": [
    {
     "data": {
      "text/plain": [
       "'PlaceWeight (lbs)Grower NameCityState/ProvCountryGPC SiteSeed (Mother)Pollinator (Father)OTTEst. WeightPct. Chart1325.40Mudd, FramkVine GroveKentuckyUnited StatesAllardt Pumpkin Festival305 Mudd 16305 Mudd223.0303.007.02309.00McCaslin, NickHawesvilleKentuckyUnited StatesChillicothe Halloween Festival301.5 McCaslinSelf224.0307.001.03306.00Vial, AndrewLibertyNorth CarolinaUnited StatesNC State Fair GPC Weigh-Off341.5 Vial 19330.5 Vial B 19223.0301.002.04302.50Mudd, FrankVine GroveKentuckyUnited St'"
      ]
     },
     "execution_count": 6,
     "metadata": {},
     "output_type": "execute_result"
    }
   ],
   "source": [
    "watermelon_table = tables[0]\n",
    "watermelon_table.text[:500]"
   ]
  },
  {
   "cell_type": "markdown",
   "id": "8709eccb",
   "metadata": {
    "slideshow": {
     "slide_type": "subslide"
    }
   },
   "source": [
    "Now let's get the row elements:"
   ]
  },
  {
   "cell_type": "code",
   "execution_count": 7,
   "id": "6640232c-953c-4555-ab47-8a48586f00d1",
   "metadata": {
    "slideshow": {
     "slide_type": "-"
    }
   },
   "outputs": [
    {
     "data": {
      "text/plain": [
       "300"
      ]
     },
     "execution_count": 7,
     "metadata": {},
     "output_type": "execute_result"
    }
   ],
   "source": [
    "row_els = watermelon_table.select(\"tbody tr\")\n",
    "len(row_els)"
   ]
  },
  {
   "cell_type": "markdown",
   "id": "ecb9effa-99ee-4bf0-bc4e-630f4fed2865",
   "metadata": {
    "slideshow": {
     "slide_type": "fragment"
    }
   },
   "source": [
    "Let's take a look at the first one:"
   ]
  },
  {
   "cell_type": "code",
   "execution_count": 8,
   "id": "60a08462-e690-4290-9e81-f2777d56bcba",
   "metadata": {
    "slideshow": {
     "slide_type": "-"
    }
   },
   "outputs": [
    {
     "data": {
      "text/plain": [
       "<tr><td align=\"right\">1</td><td align=\"right\">325.40</td><td>Mudd, Framk</td><td>Vine Grove</td><td>Kentucky</td><td>United States</td><td>Allardt Pumpkin Festival</td><td>305 Mudd 16</td><td>305 Mudd</td><td align=\"right\">223.0</td><td align=\"right\">303.00</td><td align=\"right\">7.0</td></tr>"
      ]
     },
     "execution_count": 8,
     "metadata": {},
     "output_type": "execute_result"
    }
   ],
   "source": [
    "row_els[0]"
   ]
  },
  {
   "cell_type": "markdown",
   "id": "0436f436-8d25-44d8-9cc5-24c9564ba569",
   "metadata": {
    "slideshow": {
     "slide_type": "subslide"
    }
   },
   "source": [
    "Let's turn this row into a list, where each cell is one item in the list:"
   ]
  },
  {
   "cell_type": "code",
   "execution_count": 9,
   "id": "ee60963e-6553-402b-bb14-5135b4e14c8b",
   "metadata": {
    "slideshow": {
     "slide_type": "-"
    }
   },
   "outputs": [
    {
     "data": {
      "text/plain": [
       "['1',\n",
       " '325.40',\n",
       " 'Mudd, Framk',\n",
       " 'Vine Grove',\n",
       " 'Kentucky',\n",
       " 'United States',\n",
       " 'Allardt Pumpkin Festival',\n",
       " '305 Mudd 16',\n",
       " '305 Mudd',\n",
       " '223.0',\n",
       " '303.00',\n",
       " '7.0']"
      ]
     },
     "execution_count": 9,
     "metadata": {},
     "output_type": "execute_result"
    }
   ],
   "source": [
    "[ cell.text for cell in row_els[0].select(\"td\") ]"
   ]
  },
  {
   "cell_type": "markdown",
   "id": "a35316e9-68a7-41a3-9346-16c9a9d1613d",
   "metadata": {
    "slideshow": {
     "slide_type": "subslide"
    }
   },
   "source": [
    "## Exercise: How would you extract data from all the rows?"
   ]
  },
  {
   "cell_type": "code",
   "execution_count": 10,
   "id": "6eee9f4f-65cc-4ca7-a97d-8cf96c15eec1",
   "metadata": {
    "slideshow": {
     "slide_type": "fragment"
    }
   },
   "outputs": [
    {
     "data": {
      "text/plain": [
       "[['1',\n",
       "  '325.40',\n",
       "  'Mudd, Framk',\n",
       "  'Vine Grove',\n",
       "  'Kentucky',\n",
       "  'United States',\n",
       "  'Allardt Pumpkin Festival',\n",
       "  '305 Mudd 16',\n",
       "  '305 Mudd',\n",
       "  '223.0',\n",
       "  '303.00',\n",
       "  '7.0'],\n",
       " ['2',\n",
       "  '309.00',\n",
       "  'McCaslin, Nick',\n",
       "  'Hawesville',\n",
       "  'Kentucky',\n",
       "  'United States',\n",
       "  'Chillicothe Halloween Festival',\n",
       "  '301.5 McCaslin',\n",
       "  'Self',\n",
       "  '224.0',\n",
       "  '307.00',\n",
       "  '1.0'],\n",
       " ['3',\n",
       "  '306.00',\n",
       "  'Vial, Andrew',\n",
       "  'Liberty',\n",
       "  'North Carolina',\n",
       "  'United States',\n",
       "  'NC State Fair GPC Weigh-Off',\n",
       "  '341.5 Vial 19',\n",
       "  '330.5 Vial B 19',\n",
       "  '223.0',\n",
       "  '301.00',\n",
       "  '2.0']]"
      ]
     },
     "execution_count": 10,
     "metadata": {},
     "output_type": "execute_result"
    }
   ],
   "source": [
    "watermelon_entries = []\n",
    "for row in row_els:\n",
    "    row_cells = []\n",
    "    for cell in row.select(\"td\"):\n",
    "        row_cells.append(cell.text)\n",
    "    watermelon_entries.append(row_cells)\n",
    "\n",
    "watermelon_entries[:3]"
   ]
  },
  {
   "cell_type": "markdown",
   "id": "ff3a6eaa",
   "metadata": {},
   "source": [
    "Here's how we'd do that just with list comprehensions:"
   ]
  },
  {
   "cell_type": "code",
   "execution_count": 11,
   "id": "ec696354",
   "metadata": {
    "slideshow": {
     "slide_type": "fragment"
    }
   },
   "outputs": [
    {
     "data": {
      "text/plain": [
       "[['1',\n",
       "  '325.40',\n",
       "  'Mudd, Framk',\n",
       "  'Vine Grove',\n",
       "  'Kentucky',\n",
       "  'United States',\n",
       "  'Allardt Pumpkin Festival',\n",
       "  '305 Mudd 16',\n",
       "  '305 Mudd',\n",
       "  '223.0',\n",
       "  '303.00',\n",
       "  '7.0'],\n",
       " ['2',\n",
       "  '309.00',\n",
       "  'McCaslin, Nick',\n",
       "  'Hawesville',\n",
       "  'Kentucky',\n",
       "  'United States',\n",
       "  'Chillicothe Halloween Festival',\n",
       "  '301.5 McCaslin',\n",
       "  'Self',\n",
       "  '224.0',\n",
       "  '307.00',\n",
       "  '1.0'],\n",
       " ['3',\n",
       "  '306.00',\n",
       "  'Vial, Andrew',\n",
       "  'Liberty',\n",
       "  'North Carolina',\n",
       "  'United States',\n",
       "  'NC State Fair GPC Weigh-Off',\n",
       "  '341.5 Vial 19',\n",
       "  '330.5 Vial B 19',\n",
       "  '223.0',\n",
       "  '301.00',\n",
       "  '2.0']]"
      ]
     },
     "execution_count": 11,
     "metadata": {},
     "output_type": "execute_result"
    }
   ],
   "source": [
    "watermelon_entries = [\n",
    "    [ cell.text for cell in row.select(\"td\") ]\n",
    "    for row in row_els\n",
    "]\n",
    "\n",
    "watermelon_entries[:3]"
   ]
  },
  {
   "cell_type": "markdown",
   "id": "e9e64792-a3fe-466a-8cc6-ad1ce8ab3a30",
   "metadata": {
    "slideshow": {
     "slide_type": "subslide"
    }
   },
   "source": [
    "Now all we're missing is the header."
   ]
  },
  {
   "cell_type": "code",
   "execution_count": 12,
   "id": "106f2021-10c5-4081-8282-5a2da6916a3b",
   "metadata": {
    "slideshow": {
     "slide_type": "fragment"
    }
   },
   "outputs": [
    {
     "data": {
      "text/plain": [
       "['Place',\n",
       " 'Weight (lbs)',\n",
       " 'Grower Name',\n",
       " 'City',\n",
       " 'State/Prov',\n",
       " 'Country',\n",
       " 'GPC Site',\n",
       " 'Seed (Mother)',\n",
       " 'Pollinator (Father)',\n",
       " 'OTT',\n",
       " 'Est. Weight',\n",
       " 'Pct. Chart']"
      ]
     },
     "execution_count": 12,
     "metadata": {},
     "output_type": "execute_result"
    }
   ],
   "source": [
    "header_cells = watermelon_table.select(\"thead th\")\n",
    "watermelon_headers = [ header.text for header in header_cells ]\n",
    "watermelon_headers"
   ]
  },
  {
   "cell_type": "markdown",
   "id": "0935c477-6c01-4b1e-aced-1ce661474c09",
   "metadata": {
    "slideshow": {
     "slide_type": "subslide"
    }
   },
   "source": [
    "Now let's put it all together, making a `DataFrame` that uses the headers as column names:"
   ]
  },
  {
   "cell_type": "code",
   "execution_count": 13,
   "id": "96f83726-60c7-4b2a-abe6-808bd8b5a2cf",
   "metadata": {
    "slideshow": {
     "slide_type": "fragment"
    }
   },
   "outputs": [
    {
     "data": {
      "text/html": [
       "<div>\n",
       "<style scoped>\n",
       "    .dataframe tbody tr th:only-of-type {\n",
       "        vertical-align: middle;\n",
       "    }\n",
       "\n",
       "    .dataframe tbody tr th {\n",
       "        vertical-align: top;\n",
       "    }\n",
       "\n",
       "    .dataframe thead th {\n",
       "        text-align: right;\n",
       "    }\n",
       "</style>\n",
       "<table border=\"1\" class=\"dataframe\">\n",
       "  <thead>\n",
       "    <tr style=\"text-align: right;\">\n",
       "      <th></th>\n",
       "      <th>Place</th>\n",
       "      <th>Weight (lbs)</th>\n",
       "      <th>Grower Name</th>\n",
       "      <th>City</th>\n",
       "      <th>State/Prov</th>\n",
       "      <th>Country</th>\n",
       "      <th>GPC Site</th>\n",
       "      <th>Seed (Mother)</th>\n",
       "      <th>Pollinator (Father)</th>\n",
       "      <th>OTT</th>\n",
       "      <th>Est. Weight</th>\n",
       "      <th>Pct. Chart</th>\n",
       "    </tr>\n",
       "  </thead>\n",
       "  <tbody>\n",
       "    <tr>\n",
       "      <th>0</th>\n",
       "      <td>1</td>\n",
       "      <td>325.40</td>\n",
       "      <td>Mudd, Framk</td>\n",
       "      <td>Vine Grove</td>\n",
       "      <td>Kentucky</td>\n",
       "      <td>United States</td>\n",
       "      <td>Allardt Pumpkin Festival</td>\n",
       "      <td>305 Mudd 16</td>\n",
       "      <td>305 Mudd</td>\n",
       "      <td>223.0</td>\n",
       "      <td>303.00</td>\n",
       "      <td>7.0</td>\n",
       "    </tr>\n",
       "    <tr>\n",
       "      <th>1</th>\n",
       "      <td>2</td>\n",
       "      <td>309.00</td>\n",
       "      <td>McCaslin, Nick</td>\n",
       "      <td>Hawesville</td>\n",
       "      <td>Kentucky</td>\n",
       "      <td>United States</td>\n",
       "      <td>Chillicothe Halloween Festival</td>\n",
       "      <td>301.5 McCaslin</td>\n",
       "      <td>Self</td>\n",
       "      <td>224.0</td>\n",
       "      <td>307.00</td>\n",
       "      <td>1.0</td>\n",
       "    </tr>\n",
       "    <tr>\n",
       "      <th>2</th>\n",
       "      <td>3</td>\n",
       "      <td>306.00</td>\n",
       "      <td>Vial, Andrew</td>\n",
       "      <td>Liberty</td>\n",
       "      <td>North Carolina</td>\n",
       "      <td>United States</td>\n",
       "      <td>NC State Fair GPC Weigh-Off</td>\n",
       "      <td>341.5 Vial 19</td>\n",
       "      <td>330.5 Vial B 19</td>\n",
       "      <td>223.0</td>\n",
       "      <td>301.00</td>\n",
       "      <td>2.0</td>\n",
       "    </tr>\n",
       "    <tr>\n",
       "      <th>3</th>\n",
       "      <td>4</td>\n",
       "      <td>302.50</td>\n",
       "      <td>Mudd, Frank</td>\n",
       "      <td>Vine Grove</td>\n",
       "      <td>Kentucky</td>\n",
       "      <td>United States</td>\n",
       "      <td>Roberts Family Farms</td>\n",
       "      <td>305 Mudd 16</td>\n",
       "      <td>Self</td>\n",
       "      <td>221.0</td>\n",
       "      <td>297.00</td>\n",
       "      <td>2.0</td>\n",
       "    </tr>\n",
       "    <tr>\n",
       "      <th>4</th>\n",
       "      <td>5</td>\n",
       "      <td>291.50</td>\n",
       "      <td>VanBeck, Patrick</td>\n",
       "      <td>Willlow Spring</td>\n",
       "      <td>North Carolina</td>\n",
       "      <td>United States</td>\n",
       "      <td>NC State Fair GPC Weigh-Off</td>\n",
       "      <td>Carolina Cross Burpee</td>\n",
       "      <td>305 Vial DMG</td>\n",
       "      <td>221.0</td>\n",
       "      <td>297.00</td>\n",
       "      <td>-2.0</td>\n",
       "    </tr>\n",
       "  </tbody>\n",
       "</table>\n",
       "</div>"
      ],
      "text/plain": [
       "  Place Weight (lbs)       Grower Name            City      State/Prov  \\\n",
       "0     1       325.40       Mudd, Framk      Vine Grove        Kentucky   \n",
       "1     2       309.00    McCaslin, Nick      Hawesville        Kentucky   \n",
       "2     3       306.00      Vial, Andrew         Liberty  North Carolina   \n",
       "3     4       302.50       Mudd, Frank      Vine Grove        Kentucky   \n",
       "4     5       291.50  VanBeck, Patrick  Willlow Spring  North Carolina   \n",
       "\n",
       "         Country                        GPC Site          Seed (Mother)  \\\n",
       "0  United States        Allardt Pumpkin Festival            305 Mudd 16   \n",
       "1  United States  Chillicothe Halloween Festival         301.5 McCaslin   \n",
       "2  United States     NC State Fair GPC Weigh-Off          341.5 Vial 19   \n",
       "3  United States            Roberts Family Farms            305 Mudd 16   \n",
       "4  United States     NC State Fair GPC Weigh-Off  Carolina Cross Burpee   \n",
       "\n",
       "  Pollinator (Father)    OTT Est. Weight Pct. Chart  \n",
       "0            305 Mudd  223.0      303.00        7.0  \n",
       "1                Self  224.0      307.00        1.0  \n",
       "2     330.5 Vial B 19  223.0      301.00        2.0  \n",
       "3                Self  221.0      297.00        2.0  \n",
       "4        305 Vial DMG  221.0      297.00       -2.0  "
      ]
     },
     "execution_count": 13,
     "metadata": {},
     "output_type": "execute_result"
    }
   ],
   "source": [
    "import pandas as pd\n",
    "watermelon_df = pd.DataFrame(watermelon_entries, columns=watermelon_headers)\n",
    "watermelon_df.head()"
   ]
  },
  {
   "cell_type": "markdown",
   "id": "cee308ba-3204-4f00-aabe-332fba1b4e38",
   "metadata": {
    "slideshow": {
     "slide_type": "subslide"
    }
   },
   "source": [
    "## Q: What grower entered the most melons?"
   ]
  },
  {
   "cell_type": "code",
   "execution_count": 14,
   "id": "edfc90f2-edd4-4d7e-b45e-0c6353f2b1fc",
   "metadata": {
    "slideshow": {
     "slide_type": "fragment"
    }
   },
   "outputs": [
    {
     "data": {
      "text/plain": [
       "Grower Name\n",
       "Melka, Friedrich    6\n",
       "Smiley, Samantha    5\n",
       "Kent, Chris         5\n",
       "McCaslin, Nick      5\n",
       "Mudd, Frank         5\n",
       "Name: count, dtype: int64"
      ]
     },
     "execution_count": 14,
     "metadata": {},
     "output_type": "execute_result"
    }
   ],
   "source": [
    "watermelon_df[\"Grower Name\"].value_counts().head()"
   ]
  },
  {
   "cell_type": "markdown",
   "id": "726c6060-38ff-47ab-847d-d7fa8e23688d",
   "metadata": {
    "slideshow": {
     "slide_type": "subslide"
    }
   },
   "source": [
    "## Q: What country grew the most melons?"
   ]
  },
  {
   "cell_type": "code",
   "execution_count": 15,
   "id": "0d40d2b1-2e6b-43f2-b923-2f96c22107da",
   "metadata": {
    "slideshow": {
     "slide_type": "fragment"
    }
   },
   "outputs": [
    {
     "data": {
      "text/plain": [
       "Country\n",
       "United States    213\n",
       "Canada            29\n",
       "Germany           15\n",
       "Italy             11\n",
       "Austria            8\n",
       "Name: count, dtype: int64"
      ]
     },
     "execution_count": 15,
     "metadata": {},
     "output_type": "execute_result"
    }
   ],
   "source": [
    "watermelon_df[\"Country\"].value_counts().head()"
   ]
  },
  {
   "cell_type": "markdown",
   "id": "d94428da-d648-4cc8-a282-2b5d92bee84d",
   "metadata": {
    "slideshow": {
     "slide_type": "subslide"
    }
   },
   "source": [
    "## Q: Which growers entered the most total weight in watermelons?"
   ]
  },
  {
   "cell_type": "code",
   "execution_count": 16,
   "id": "11208dfe-9c1a-4551-b2cc-ccc07042edfb",
   "metadata": {
    "slideshow": {
     "slide_type": "fragment"
    }
   },
   "outputs": [
    {
     "data": {
      "text/plain": [
       "Grower Name\n",
       "McCaslin, Nick      1327.0\n",
       "Mudd, Frank         1203.2\n",
       "Kent, Chris         1163.0\n",
       "Smiley, Samantha    1101.3\n",
       "Houston, Hank       1044.0\n",
       "Name: Weight (lbs), dtype: float64"
      ]
     },
     "execution_count": 16,
     "metadata": {},
     "output_type": "execute_result"
    }
   ],
   "source": [
    "(\n",
    "    watermelon_df\n",
    "    .astype({ \"Weight (lbs)\": float })\n",
    "    .groupby(\"Grower Name\")\n",
    "    [\"Weight (lbs)\"]\n",
    "    .sum()\n",
    "    .sort_values(ascending=False)\n",
    "    .head()\n",
    ")"
   ]
  },
  {
   "cell_type": "markdown",
   "id": "63342957",
   "metadata": {
    "slideshow": {
     "slide_type": "skip"
    }
   },
   "source": [
    "---\n",
    "\n",
    "---\n",
    "\n",
    "---"
   ]
  }
 ],
 "metadata": {
  "celltoolbar": "Slideshow",
  "kernelspec": {
   "display_name": "Python 3 (ipykernel)",
   "language": "python",
   "name": "python3"
  },
  "language_info": {
   "codemirror_mode": {
    "name": "ipython",
    "version": 3
   },
   "file_extension": ".py",
   "mimetype": "text/x-python",
   "name": "python",
   "nbconvert_exporter": "python",
   "pygments_lexer": "ipython3",
   "version": "3.10.4"
  }
 },
 "nbformat": 4,
 "nbformat_minor": 5
}
