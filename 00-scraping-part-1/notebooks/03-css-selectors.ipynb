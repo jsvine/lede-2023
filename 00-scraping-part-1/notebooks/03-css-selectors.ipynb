{
 "cells": [
  {
   "cell_type": "markdown",
   "id": "917281a1-e256-4bf0-9934-65a00e3bd821",
   "metadata": {
    "slideshow": {
     "slide_type": "slide"
    }
   },
   "source": [
    "# 🌐 Scraping, Part 1.3: CSS Selectors\n",
    "\n",
    "*More flexibility, more power*"
   ]
  },
  {
   "cell_type": "markdown",
   "id": "0dc9f672-5a83-4ff5-a6f1-1572b932d768",
   "metadata": {
    "slideshow": {
     "slide_type": "slide"
    }
   },
   "source": [
    "## Q: What is CSS?"
   ]
  },
  {
   "cell_type": "markdown",
   "id": "0196c8e3-166f-485c-b668-99325df76513",
   "metadata": {
    "slideshow": {
     "slide_type": "subslide"
    }
   },
   "source": [
    "We can actually see some in `example.com`'s HTML:"
   ]
  },
  {
   "cell_type": "markdown",
   "id": "4c027920-d5cb-4969-abfa-356f4faf837c",
   "metadata": {
    "slideshow": {
     "slide_type": "-"
    }
   },
   "source": [
    "```html\n",
    "<style type=\"text/css\">\n",
    "body {\n",
    "    background-color: #f0f0f2;\n",
    "    margin: 0;\n",
    "    padding: 0;\n",
    "    font-family: -apple-system, system-ui, BlinkMacSystemFont, \"Segoe UI\", \"Open Sans\", \"Helvetica Neue\", Helvetica, Arial, sans-serif;\n",
    "    \n",
    "}\n",
    "div {\n",
    "    width: 600px;\n",
    "    margin: 5em auto;\n",
    "    padding: 2em;\n",
    "    background-color: #fdfdff;\n",
    "    border-radius: 0.5em;\n",
    "    box-shadow: 2px 3px 7px 2px rgba(0,0,0,0.02);\n",
    "}\n",
    "/* [...] */\n",
    "</style>\n",
    "```"
   ]
  },
  {
   "cell_type": "markdown",
   "id": "c6672b5d-40e0-4287-960e-e0f5bf8de499",
   "metadata": {
    "slideshow": {
     "slide_type": "slide"
    }
   },
   "source": [
    "### CSS is a mini-language \n",
    "\n",
    "... for applying style/behavior to a *particular set* of elements on a page."
   ]
  },
  {
   "cell_type": "markdown",
   "id": "129c10b5-ee7a-4319-ae1d-6f95d3f78a9c",
   "metadata": {
    "slideshow": {
     "slide_type": "subslide"
    }
   },
   "source": [
    "The rules look like this:"
   ]
  },
  {
   "cell_type": "markdown",
   "id": "b18ea1fd-4aac-45a0-b169-bf9a4ea0b5f8",
   "metadata": {
    "slideshow": {
     "slide_type": "-"
    }
   },
   "source": [
    "```css\n",
    "selector {\n",
    "    property: value;\n",
    "    another-property: another-value;\n",
    "}\n",
    "```"
   ]
  },
  {
   "cell_type": "markdown",
   "id": "e9064fa4-4522-43cd-9db6-a08fe75501d0",
   "metadata": {
    "slideshow": {
     "slide_type": "-"
    }
   },
   "source": [
    "For the purpose of web-scraping, all we care about is the `selector` part.\n",
    "\n",
    "These CSS selectors turn out to be a remarkably expressive, powerful language for __pointing to HTML elements__."
   ]
  },
  {
   "cell_type": "markdown",
   "id": "f463c6e3-198b-4ec7-8988-ba34fb79636f",
   "metadata": {
    "slideshow": {
     "slide_type": "slide"
    }
   },
   "source": [
    "## How do CSS selectors work?\n",
    "\n",
    "Each CSS selector *matches* some set of elements.\n",
    "\n",
    "Here are some of the key matching rules you'll want to know:"
   ]
  },
  {
   "cell_type": "markdown",
   "id": "4f943a51-a65e-4626-8a80-aec3ada8a4a1",
   "metadata": {
    "slideshow": {
     "slide_type": "subslide"
    }
   },
   "source": [
    "### `tagname`\n",
    "\n",
    "Selects all instances of `<tagname>`, no matter where in the body it is.\n",
    "\n",
    "Example: `p`"
   ]
  },
  {
   "cell_type": "markdown",
   "id": "d2853b80-d73d-445c-9cd7-91eb3d459633",
   "metadata": {
    "slideshow": {
     "slide_type": "subslide"
    }
   },
   "source": [
    "### `.classname`\n",
    "\n",
    "The `.` selector limits matches to elements with `class=\"classname\"`. (This is a handy shortcut, since `class` is a very common HTML attribute.)\n",
    "\n",
    "Example: `.active` or `p.active`"
   ]
  },
  {
   "cell_type": "markdown",
   "id": "1e832857-4f2c-406e-8ad2-6c3ba2021df5",
   "metadata": {
    "slideshow": {
     "slide_type": "subslide"
    }
   },
   "source": [
    "### `#idname`\n",
    "\n",
    "The `#` selector limits matches to elements with `id=\"idname\"`. (This is another handy shortcut, since `id` is *also* a very common HTML attribute.)\n",
    "\n",
    "Example: `#main` or `p#main`"
   ]
  },
  {
   "cell_type": "markdown",
   "id": "cc6b9505-adf7-4fe5-9bd9-3c832f7cf128",
   "metadata": {
    "slideshow": {
     "slide_type": "subslide"
    }
   },
   "source": [
    "### `tagname, othertagname`\n",
    "\n",
    "Selects all instances of `<tagname>` *and* `<othertagname>`.\n",
    "\n",
    "Example: `p, a`"
   ]
  },
  {
   "cell_type": "markdown",
   "id": "aeeda92d-e21d-441a-a484-c5dc7c5ebbe0",
   "metadata": {
    "slideshow": {
     "slide_type": "subslide"
    }
   },
   "source": [
    "### `tagname othertagname`\n",
    "\n",
    "Selects all instances of `<othertagname>` that are *descendents* (at any level) of `<tagname>`.\n",
    "\n",
    "Example: `div a`"
   ]
  },
  {
   "cell_type": "markdown",
   "id": "9afdec0c-5864-4d28-aadb-5ad6c623b2e7",
   "metadata": {
    "slideshow": {
     "slide_type": "subslide"
    }
   },
   "source": [
    "### `tagname > othertagname`\n",
    "\n",
    "Selects all instances of `<othertagname>` that are *direct* children of `<tagname>`.\n",
    "\n",
    "Example: `div > p`"
   ]
  },
  {
   "cell_type": "markdown",
   "id": "43b21876-f39f-409e-97fc-fae94516c669",
   "metadata": {
    "slideshow": {
     "slide_type": "subslide"
    }
   },
   "source": [
    "### `tagname + othertagname`\n",
    "\n",
    "Selects all instances of `<othertagname>` that *immediately follow* `<tagname>` as a *sibling*.\n",
    "\n",
    "Example: `p + p`"
   ]
  },
  {
   "cell_type": "markdown",
   "id": "e89f3088-0cc6-4cf9-9200-15f014bdd92b",
   "metadata": {
    "slideshow": {
     "slide_type": "subslide"
    }
   },
   "source": [
    "### `*`\n",
    "\n",
    "Stands in for *any tag*; helpful when used in combination with other selection rules.\n",
    "\n",
    "Example: `div > *`"
   ]
  },
  {
   "cell_type": "markdown",
   "id": "57d92ebc-3c1a-41e7-b4db-0d4ae67f4d50",
   "metadata": {
    "slideshow": {
     "slide_type": "slide"
    }
   },
   "source": [
    "## Let's try using them"
   ]
  },
  {
   "cell_type": "markdown",
   "id": "21cb2d0e-f29d-4589-ae47-77663cc97dda",
   "metadata": {
    "slideshow": {
     "slide_type": "slide"
    }
   },
   "source": [
    "## Q: Do you remember how to get example.com's HTML into Python?"
   ]
  },
  {
   "cell_type": "code",
   "execution_count": 1,
   "id": "f54ac7df-ec46-42af-8b1b-26cd6055ca8b",
   "metadata": {
    "slideshow": {
     "slide_type": "fragment"
    }
   },
   "outputs": [],
   "source": [
    "import requests"
   ]
  },
  {
   "cell_type": "code",
   "execution_count": 2,
   "id": "dcf8816f-e108-4bba-832b-1374704e04ba",
   "metadata": {
    "slideshow": {
     "slide_type": "fragment"
    }
   },
   "outputs": [],
   "source": [
    "example_html = requests.get(\"https://example.com\").text"
   ]
  },
  {
   "cell_type": "code",
   "execution_count": 3,
   "id": "33bde496-f162-4a45-be86-90c88f4047d0",
   "metadata": {
    "slideshow": {
     "slide_type": "fragment"
    }
   },
   "outputs": [
    {
     "name": "stdout",
     "output_type": "stream",
     "text": [
      "<!doctype html>\n",
      "<html>\n",
      "<head>\n",
      "    <title>Example Domain</title>\n",
      "\n",
      "    <meta charset=\"utf-8\" />\n",
      "    <m\n"
     ]
    }
   ],
   "source": [
    "print(example_html[:100])"
   ]
  },
  {
   "cell_type": "markdown",
   "id": "d93183c4-36d3-45e3-8a9c-5b315bf1a7a5",
   "metadata": {
    "slideshow": {
     "slide_type": "slide"
    }
   },
   "source": [
    "## Let's use CSS selectors in `lxml`\n",
    "\n",
    "Install `cssselect`, which adds CSS selection capabilities to `lxml`:\n",
    "\n",
    "```\n",
    "pip install cssselect\n",
    "```"
   ]
  },
  {
   "cell_type": "markdown",
   "id": "ed98ee07-6336-45e1-b072-a4ba761ba950",
   "metadata": {
    "slideshow": {
     "slide_type": "fragment"
    }
   },
   "source": [
    "Import `lxml.html`:"
   ]
  },
  {
   "cell_type": "code",
   "execution_count": 4,
   "id": "030468b4-8a40-4177-80f5-b6476a6810a6",
   "metadata": {
    "slideshow": {
     "slide_type": "-"
    }
   },
   "outputs": [],
   "source": [
    "import lxml.html\n",
    "# You don't have to do anything special to import `cssselect`;\n",
    "# `lxml` will handle that for you."
   ]
  },
  {
   "cell_type": "markdown",
   "id": "b238a461-f90c-4af7-b836-c4b4bd872e7e",
   "metadata": {
    "slideshow": {
     "slide_type": "subslide"
    }
   },
   "source": [
    "... and turn the HTML text into an `lxml.html.HtmlElement` object:"
   ]
  },
  {
   "cell_type": "code",
   "execution_count": 5,
   "id": "b5bed46b-6fe5-408b-94cd-bc88780af397",
   "metadata": {
    "slideshow": {
     "slide_type": "-"
    }
   },
   "outputs": [
    {
     "data": {
      "text/plain": [
       "lxml.html.HtmlElement"
      ]
     },
     "execution_count": 5,
     "metadata": {},
     "output_type": "execute_result"
    }
   ],
   "source": [
    "dom = lxml.html.fromstring(example_html)\n",
    "type(dom)"
   ]
  },
  {
   "cell_type": "markdown",
   "id": "4b003c4a-db0a-4c8f-bcbc-b6175d5dfd47",
   "metadata": {
    "slideshow": {
     "slide_type": "subslide"
    }
   },
   "source": [
    "We can use the `.cssselect(\"selector\")` method on any element object, including the top-level `HtmlElement`.\n",
    "\n",
    "Let's start simple, getting the title:"
   ]
  },
  {
   "cell_type": "code",
   "execution_count": 6,
   "id": "552c134a-e4cd-4419-bc95-0607d90737ea",
   "metadata": {
    "slideshow": {
     "slide_type": "-"
    }
   },
   "outputs": [
    {
     "data": {
      "text/plain": [
       "[<Element title at 0x10300cc20>]"
      ]
     },
     "execution_count": 6,
     "metadata": {},
     "output_type": "execute_result"
    }
   ],
   "source": [
    "dom.cssselect(\"title\")"
   ]
  },
  {
   "cell_type": "markdown",
   "id": "470414fe-39ca-4825-9a81-3c3f40d100be",
   "metadata": {
    "slideshow": {
     "slide_type": "-"
    }
   },
   "source": [
    "## Q: What do you notice?"
   ]
  },
  {
   "cell_type": "markdown",
   "id": "78431ed0-0cb7-4178-abbe-af5c03fc0330",
   "metadata": {
    "slideshow": {
     "slide_type": "subslide"
    }
   },
   "source": [
    "## A: `.cssselect(...)` returns *a list* of elements matching the selector\n",
    "\n",
    "... not just the the first match.\n",
    "\n",
    "So for simple tag selections, `.cssselect(\"tagname\")` is equivalent to `.findall(\"tagname\")`."
   ]
  },
  {
   "cell_type": "markdown",
   "id": "f032e78c",
   "metadata": {
    "slideshow": {
     "slide_type": "subslide"
    }
   },
   "source": [
    "If we want to work with the first element, we'll need to get that item from the list:"
   ]
  },
  {
   "cell_type": "code",
   "execution_count": 7,
   "id": "016a8601-a0d9-420f-bfcd-bff359a98a67",
   "metadata": {
    "slideshow": {
     "slide_type": "-"
    }
   },
   "outputs": [
    {
     "data": {
      "text/plain": [
       "<Element title at 0x10300cc20>"
      ]
     },
     "execution_count": 7,
     "metadata": {},
     "output_type": "execute_result"
    }
   ],
   "source": [
    "dom.cssselect(\"title\")[0]"
   ]
  },
  {
   "cell_type": "markdown",
   "id": "bbab1e9a-d5ff-4c79-9b19-2069c4747608",
   "metadata": {
    "slideshow": {
     "slide_type": "subslide"
    }
   },
   "source": [
    "Let's get the paragraphs:"
   ]
  },
  {
   "cell_type": "code",
   "execution_count": 8,
   "id": "6dc17d24-6cf6-445c-9ca4-bcbdfc004262",
   "metadata": {
    "slideshow": {
     "slide_type": "-"
    }
   },
   "outputs": [
    {
     "data": {
      "text/plain": [
       "[<Element p at 0x106942840>, <Element p at 0x106942c00>]"
      ]
     },
     "execution_count": 8,
     "metadata": {},
     "output_type": "execute_result"
    }
   ],
   "source": [
    "dom.cssselect(\"p\")"
   ]
  },
  {
   "cell_type": "markdown",
   "id": "e366809a-7c72-4796-9618-bd51f925ba85",
   "metadata": {
    "slideshow": {
     "slide_type": "subslide"
    }
   },
   "source": [
    "## Q: What if we wanted not just the `<p>` tags, but also the `h1` tag? \n",
    "\n",
    "What are some ways we could do that?"
   ]
  },
  {
   "cell_type": "code",
   "execution_count": 9,
   "id": "5f51096a-73eb-432e-974c-10de76939e61",
   "metadata": {
    "slideshow": {
     "slide_type": "fragment"
    }
   },
   "outputs": [
    {
     "data": {
      "text/plain": [
       "[<Element h1 at 0x106943330>,\n",
       " <Element p at 0x106942840>,\n",
       " <Element p at 0x106942c00>]"
      ]
     },
     "execution_count": 9,
     "metadata": {},
     "output_type": "execute_result"
    }
   ],
   "source": [
    "dom.cssselect(\"p, h1\")"
   ]
  },
  {
   "cell_type": "code",
   "execution_count": 10,
   "id": "16fbf3f4-9477-4bb7-af4e-e99664f36a08",
   "metadata": {
    "slideshow": {
     "slide_type": "fragment"
    }
   },
   "outputs": [
    {
     "data": {
      "text/plain": [
       "[<Element h1 at 0x106943330>,\n",
       " <Element p at 0x106942840>,\n",
       " <Element p at 0x106942c00>]"
      ]
     },
     "execution_count": 10,
     "metadata": {},
     "output_type": "execute_result"
    }
   ],
   "source": [
    "dom.cssselect(\"div > *\")"
   ]
  },
  {
   "cell_type": "markdown",
   "id": "ed1732dd-6a02-47f3-b6fc-e03dda5e4b36",
   "metadata": {
    "slideshow": {
     "slide_type": "subslide"
    }
   },
   "source": [
    "## Q: What do you notice about the ordering of the elements in the list?"
   ]
  },
  {
   "cell_type": "code",
   "execution_count": 11,
   "id": "a86bc147",
   "metadata": {
    "slideshow": {
     "slide_type": "-"
    }
   },
   "outputs": [
    {
     "data": {
      "text/plain": [
       "[<Element h1 at 0x106943330>,\n",
       " <Element p at 0x106942840>,\n",
       " <Element p at 0x106942c00>]"
      ]
     },
     "execution_count": 11,
     "metadata": {},
     "output_type": "execute_result"
    }
   ],
   "source": [
    "dom.cssselect(\"p, h1\")"
   ]
  },
  {
   "cell_type": "markdown",
   "id": "b197a942-9af4-4269-ab30-915bebedbd37",
   "metadata": {
    "slideshow": {
     "slide_type": "fragment"
    }
   },
   "source": [
    "A: They're in the order they *appear in the document*, not in the order they were specified by the rule.\n",
    "\n",
    "(That means `p, h1` is 100% equivalent to `h1, p`.)"
   ]
  },
  {
   "cell_type": "markdown",
   "id": "899327b6-f1d8-4285-a548-51b56d70dd35",
   "metadata": {
    "slideshow": {
     "slide_type": "subslide"
    }
   },
   "source": [
    "## Q: How would you expect the results of `div *` to differ from `div > *`?"
   ]
  },
  {
   "cell_type": "markdown",
   "id": "2ed7aad4-90aa-4733-8278-0d40a7c3b497",
   "metadata": {
    "slideshow": {
     "slide_type": "fragment"
    }
   },
   "source": [
    "A: `div *` will get *any* element inside a `<div>` tag, not just the immediate children."
   ]
  },
  {
   "cell_type": "code",
   "execution_count": 12,
   "id": "ba5f123a-3b79-4820-b3ee-d6ab3713d46a",
   "metadata": {
    "slideshow": {
     "slide_type": "-"
    }
   },
   "outputs": [
    {
     "data": {
      "text/plain": [
       "[<Element h1 at 0x106943330>,\n",
       " <Element p at 0x106942840>,\n",
       " <Element p at 0x106942c00>,\n",
       " <Element a at 0x1069438d0>]"
      ]
     },
     "execution_count": 12,
     "metadata": {},
     "output_type": "execute_result"
    }
   ],
   "source": [
    "dom.cssselect(\"div *\")"
   ]
  },
  {
   "cell_type": "markdown",
   "id": "c372494f-12c5-4024-91e6-6a5321ad84d2",
   "metadata": {
    "slideshow": {
     "slide_type": "slide"
    }
   },
   "source": [
    "## Now let's try with `BeautifulSoup`\n",
    "\n",
    "Do you remember how to get started with it?"
   ]
  },
  {
   "cell_type": "code",
   "execution_count": 13,
   "id": "58184077-db30-4f01-b335-c4fa41f155b0",
   "metadata": {
    "slideshow": {
     "slide_type": "fragment"
    }
   },
   "outputs": [],
   "source": [
    "from bs4 import BeautifulSoup"
   ]
  },
  {
   "cell_type": "code",
   "execution_count": 14,
   "id": "b7fa2954-b817-4777-97ec-8d9eeaeab368",
   "metadata": {
    "slideshow": {
     "slide_type": "fragment"
    }
   },
   "outputs": [
    {
     "data": {
      "text/plain": [
       "bs4.BeautifulSoup"
      ]
     },
     "execution_count": 14,
     "metadata": {},
     "output_type": "execute_result"
    }
   ],
   "source": [
    "soup = BeautifulSoup(example_html)\n",
    "type(soup)"
   ]
  },
  {
   "cell_type": "markdown",
   "id": "53dc920d-cbcb-4101-afe3-d9c66668cce2",
   "metadata": {
    "slideshow": {
     "slide_type": "subslide"
    }
   },
   "source": [
    "CSS selections with `BeautifulSoup` work exactly the same as with `lxml`, only the method name is slightly different:"
   ]
  },
  {
   "cell_type": "code",
   "execution_count": 15,
   "id": "5e1ab067-88a5-4405-9595-00769cb3d194",
   "metadata": {
    "slideshow": {
     "slide_type": "-"
    }
   },
   "outputs": [
    {
     "data": {
      "text/plain": [
       "[<h1>Example Domain</h1>,\n",
       " <p>This domain is for use in illustrative examples in documents. You may use this\n",
       "     domain in literature without prior coordination or asking for permission.</p>,\n",
       " <p><a href=\"https://www.iana.org/domains/example\">More information...</a></p>]"
      ]
     },
     "execution_count": 15,
     "metadata": {},
     "output_type": "execute_result"
    }
   ],
   "source": [
    "soup.select(\"p, h1\")"
   ]
  },
  {
   "cell_type": "markdown",
   "id": "692efbf4-8484-4171-abf7-702b32a140ae",
   "metadata": {
    "slideshow": {
     "slide_type": "skip"
    }
   },
   "source": [
    "---\n",
    "\n",
    "---\n",
    "\n",
    "---"
   ]
  }
 ],
 "metadata": {
  "celltoolbar": "Slideshow",
  "kernelspec": {
   "display_name": "Python 3 (ipykernel)",
   "language": "python",
   "name": "python3"
  },
  "language_info": {
   "codemirror_mode": {
    "name": "ipython",
    "version": 3
   },
   "file_extension": ".py",
   "mimetype": "text/x-python",
   "name": "python",
   "nbconvert_exporter": "python",
   "pygments_lexer": "ipython3",
   "version": "3.10.4"
  }
 },
 "nbformat": 4,
 "nbformat_minor": 5
}
