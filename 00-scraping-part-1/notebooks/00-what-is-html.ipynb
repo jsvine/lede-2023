{
 "cells": [
  {
   "cell_type": "markdown",
   "id": "f21912d6-cf4d-462f-9794-fa3f175684da",
   "metadata": {
    "slideshow": {
     "slide_type": "slide"
    }
   },
   "source": [
    "# 🌐 Scraping, Part 1.0: What is HTML?\n",
    "   \n",
    "\n",
    "*... and what is it made of?*\n"
   ]
  },
  {
   "cell_type": "markdown",
   "id": "267cf586-3ca8-4182-8628-cb62831b3a88",
   "metadata": {
    "slideshow": {
     "slide_type": "slide"
    },
    "tags": []
   },
   "source": [
    "## Q: What is HTML?"
   ]
  },
  {
   "cell_type": "markdown",
   "id": "be6b942d-25fa-4808-989a-010d9b92fdb1",
   "metadata": {
    "slideshow": {
     "slide_type": "subslide"
    },
    "tags": []
   },
   "source": [
    "## A: It's the stuff webpages are made of!\n",
    "\n",
    "```html\n",
    "<p>\n",
    "    Hello, world!\n",
    "</p>\n",
    "<p>\n",
    "    <strong>Hello</strong>, <em>world</em>!\n",
    "</p>\n",
    "<p>\n",
    "    <span style=\"background-color: lime;\">Hello</span> ...\n",
    "</p>\n",
    "<ul>\n",
    "    <li>world!</li>\n",
    "    <li>class!</li>\n",
    "    <li>robot!</li>\n",
    "</ul>\n",
    "```\n",
    "\n",
    "<center>↓↓↓</center>"
   ]
  },
  {
   "cell_type": "markdown",
   "id": "d71ea52a-d4e4-48da-87c2-251dbd7b99c3",
   "metadata": {
    "slideshow": {
     "slide_type": "subslide"
    },
    "tags": []
   },
   "source": [
    "<p>\n",
    "    Hello, world!\n",
    "</p>\n",
    "<p>\n",
    "    <strong>Hello</strong>, <em>world</em>!\n",
    "</p>\n",
    "<p>\n",
    "    <span style=\"background-color: lime;\">Hello</span> ...\n",
    "</p>\n",
    "<ul>\n",
    "    <li>world!</li>\n",
    "    <li>class!</li>\n",
    "    <li>robot!</li>\n",
    "</ul>"
   ]
  },
  {
   "cell_type": "markdown",
   "id": "e156fd14-0530-44f2-b021-3f08d56e4297",
   "metadata": {
    "slideshow": {
     "slide_type": "slide"
    },
    "tags": [],
    "toc-hr-collapsed": true
   },
   "source": [
    "## Q: What is HTML made of?"
   ]
  },
  {
   "cell_type": "markdown",
   "id": "67ea9a00-acff-4b4c-9db8-20bdcf4d4450",
   "metadata": {
    "slideshow": {
     "slide_type": "subslide"
    }
   },
   "source": [
    "## A: Elements\n",
    "\n",
    "![](https://developer.mozilla.org/en-US/docs/Glossary/Element/anatomy-of-an-html-element.png)\n",
    "\n",
    "<cite>Source: https://developer.mozilla.org/en-US/docs/Glossary/Element</cite>"
   ]
  },
  {
   "cell_type": "markdown",
   "id": "0a009bb9-00b5-4fb6-8dbe-7b6910c4ee45",
   "metadata": {
    "slideshow": {
     "slide_type": "slide"
    },
    "tags": [],
    "toc-hr-collapsed": true
   },
   "source": [
    "## Q: What are elements made of?"
   ]
  },
  {
   "cell_type": "markdown",
   "id": "082c47ab",
   "metadata": {
    "slideshow": {
     "slide_type": "subslide"
    }
   },
   "source": [
    "\n",
    "## A: Tags, attributes, and content (... sitting in a tree)\n"
   ]
  },
  {
   "cell_type": "markdown",
   "id": "55b2ae5f-c524-4516-b6e8-e5ceb991c896",
   "metadata": {
    "slideshow": {
     "slide_type": "slide"
    },
    "tags": []
   },
   "source": [
    "## Tags 🏷\n",
    "\n",
    "Tags define __elements__, which are the fundamental units of a webpage. Elements can represent paragraphs, lists, videos, and many other things. \n",
    "\n",
    "<small><cite>There are lots of different tags/elements, each with their own purpose: https://www.w3schools.com/tags/</cite></small>"
   ]
  },
  {
   "cell_type": "markdown",
   "id": "45a13778",
   "metadata": {
    "slideshow": {
     "slide_type": "subslide"
    }
   },
   "source": [
    "Tags are (almost) always __come in pairs__ — one marking the beginning of the container, and another marking the end.\n",
    "\n",
    "The pairs (typically) __surround some content__ (more on this later)."
   ]
  },
  {
   "cell_type": "markdown",
   "id": "429d2c69",
   "metadata": {
    "slideshow": {
     "slide_type": "subslide"
    }
   },
   "source": [
    "__Opening tags__ start with a __left angle bracket__ (`<`)\n",
    "- ... followed by the __tag's name__ (e.g., `span`)\n",
    "- ... optionally followed by a __series of attributes__ (e.g., `style=\"background-color: lime;\"`)\n",
    "- ... followed by a __right angle bracket__ (`>`)\n",
    "\n",
    "Then comes the __content__ (e.g., `Hello`).\n",
    "\n",
    "__Closing tags__ always take the same form: `</tagname>`\n",
    "- For instance: `</span>`\n",
    "- Forgetting the slash is a common mistake\n",
    "    "
   ]
  },
  {
   "cell_type": "markdown",
   "id": "78762e0a",
   "metadata": {
    "slideshow": {
     "slide_type": "subslide"
    }
   },
   "source": [
    "\n",
    "![](https://developer.mozilla.org/en-US/docs/Glossary/Element/anatomy-of-an-html-element.png)\n",
    "\n",
    "<cite>Source: https://developer.mozilla.org/en-US/docs/Glossary/Element</cite>"
   ]
  },
  {
   "cell_type": "markdown",
   "id": "51e2238c",
   "metadata": {
    "slideshow": {
     "slide_type": "subslide"
    }
   },
   "source": [
    "### An exception to the pairing rule\n",
    "\n",
    "Some simple elements — those that can never contain content — are known as \"__void elements__\" and don't use a closing tag.\n",
    "\n",
    "A common example is `<hr>` (the horizontal rule).\n",
    "\n",
    "<small><cite>Read more: https://developer.mozilla.org/en-US/docs/Glossary/Void_element</cite></small>"
   ]
  },
  {
   "cell_type": "markdown",
   "id": "014488a0-80f1-4fd4-8b22-1a7732e20cfa",
   "metadata": {
    "slideshow": {
     "slide_type": "slide"
    },
    "tags": []
   },
   "source": [
    "## Attributes ℹ️\n",
    "\n",
    "Attributes define an element's __non-content properties__."
   ]
  },
  {
   "cell_type": "markdown",
   "id": "31ead913",
   "metadata": {
    "slideshow": {
     "slide_type": "subslide"
    }
   },
   "source": [
    "Attributes are written as __key-value pairs__, in the form of `key=\"value\"`, e.g., `href=\"https://example.com\"`."
   ]
  },
  {
   "cell_type": "markdown",
   "id": "41408d53",
   "metadata": {
    "slideshow": {
     "slide_type": "fragment"
    }
   },
   "source": [
    "__Sometimes the value is blank__, in which case, the attribute's implicit value is `true`. For instance, `<input type=\"checkbox\" checked>` (<input type=\"checkbox\" checked/>)."
   ]
  },
  {
   "cell_type": "markdown",
   "id": "55af5f52",
   "metadata": {
    "slideshow": {
     "slide_type": "subslide"
    }
   },
   "source": [
    "One of the most common attributes you'll see is the `href` attribute on the `<a>` tag. \n",
    "\n",
    "An `<a>` tag represents a hyperlink, and the `href` attribute defines its destination — i.e., its URL.\n",
    "\n",
    "For instance, `<a href=\"https://example.com\">Click here</a>` generates this: <a href=\"https://example.com\">Click here</a>."
   ]
  },
  {
   "cell_type": "markdown",
   "id": "bb86ba4e-8218-4dfd-81cc-e06a649d6547",
   "metadata": {
    "jp-MarkdownHeadingCollapsed": true,
    "slideshow": {
     "slide_type": "slide"
    },
    "tags": []
   },
   "source": [
    "## Content 🔤\n",
    "\n",
    "Non-void elements can hold __text and/or other elements__.\n",
    "\n",
    "For example, the `Click here` in `<a href=\"https://example.com\">Click here</a>` is *text content*."
   ]
  },
  {
   "cell_type": "markdown",
   "id": "37dce9ce",
   "metadata": {
    "slideshow": {
     "slide_type": "subslide"
    }
   },
   "source": [
    "Content can also be __one or more elements__.\n",
    "\n",
    "Here's an example with elements inside another element, and text inside *those* elements: `<ol> <li>One</li> <li>Two</li> <li>Three</li> </ol>`\n",
    "\n",
    "And here's how that'd render:\n",
    "\n",
    "<blockquote>\n",
    "<ol> <li>One</li> <li>Two</li> <li>Three</li> </ol></blockquote>"
   ]
  },
  {
   "cell_type": "markdown",
   "id": "0613abc5-4848-4ffa-8d10-c70d317b86c4",
   "metadata": {
    "slideshow": {
     "slide_type": "slide"
    },
    "tags": []
   },
   "source": [
    "## ... sitting in a tree 🌳\n",
    "\n",
    "Because elements can contain other elements, a webpage's structure comes to resemble a tree.\n",
    "\n",
    "You'll see this tree structure referenced often as the \"__DOM__\", short for Document Object Model."
   ]
  },
  {
   "cell_type": "markdown",
   "id": "0366c536",
   "metadata": {
    "slideshow": {
     "slide_type": "subslide"
    }
   },
   "source": [
    "As with a family tree, you'll hear/see the relationships between elements (also sometimes called \"nodes\") referred to as __parent__, __child__, and __sibling__ elements.\n",
    "\n",
    "... but unlike real families, __parents can have infinite children__ but a __child can only have one parent__."
   ]
  },
  {
   "cell_type": "markdown",
   "id": "ab89d23d",
   "metadata": {
    "slideshow": {
     "slide_type": "subslide"
    }
   },
   "source": [
    "The __top of the tree__ is consistent:\n",
    "\n",
    "```\n",
    "  ┌──────────┐\n",
    "  │  <html>  │\n",
    "  └─┬────────┘\n",
    "    │  ┌──────────┐\n",
    "    ├─►│  <head>  │\n",
    "    │  └──────────┘\n",
    "    │  ┌──────────┐\n",
    "    └─►│  <body>  │\n",
    "       └──────────┘\n",
    "```\n",
    "\n",
    "... but everything else is largely free-form."
   ]
  },
  {
   "cell_type": "markdown",
   "id": "8e62d1d0",
   "metadata": {
    "slideshow": {
     "slide_type": "subslide"
    }
   },
   "source": [
    "Elements can be nested infinitely ...\n",
    "\n",
    "... but they *cannot cross one another's boundaries*. \n",
    "\n",
    "For instance, `<p><span>Hello</p></span>` is invalid."
   ]
  },
  {
   "cell_type": "markdown",
   "id": "5c05e639-a2be-4d2c-af5b-c6c83ba6a438",
   "metadata": {
    "slideshow": {
     "slide_type": "slide"
    }
   },
   "source": [
    "## Let's look at some HTML!\n",
    "\n",
    "1. Open your browser and visit __https://example.com__\n",
    "2. View the source — here's how:\n",
    "    - On Firefox: `Command-U`\n",
    "    - On Chrome: `Command-Option-U`\n",
    "    - On Safari: Preferences->Advanced->Show Develop menu ... then `Command-Option-U`\n",
    "3. Alternatively, use the tool at __https://neatnik.net/view-source/__"
   ]
  },
  {
   "cell_type": "markdown",
   "id": "1f96bc4a-02bb-4ef3-a8c4-dc5f87b49c1e",
   "metadata": {
    "slideshow": {
     "slide_type": "subslide"
    }
   },
   "source": [
    "## What do you see?\n",
    "\n",
    "What do you think the various tags and attributes represent?\n"
   ]
  },
  {
   "cell_type": "markdown",
   "id": "4465de48-04c0-440e-900d-73e04fe60e22",
   "metadata": {
    "slideshow": {
     "slide_type": "slide"
    }
   },
   "source": [
    "## Exercise: Try that with a few of your favorite websites\n",
    "\n",
    "What do you see?"
   ]
  },
  {
   "cell_type": "markdown",
   "id": "b998599e-fa90-4c54-b82c-3ad454908a92",
   "metadata": {
    "slideshow": {
     "slide_type": "skip"
    }
   },
   "source": [
    "---\n",
    "\n",
    "---\n",
    "\n",
    "---"
   ]
  }
 ],
 "metadata": {
  "celltoolbar": "Slideshow",
  "kernelspec": {
   "display_name": "Python 3 (ipykernel)",
   "language": "python",
   "name": "python3"
  },
  "language_info": {
   "codemirror_mode": {
    "name": "ipython",
    "version": 3
   },
   "file_extension": ".py",
   "mimetype": "text/x-python",
   "name": "python",
   "nbconvert_exporter": "python",
   "pygments_lexer": "ipython3",
   "version": "3.10.4"
  },
  "rise": {
   "transition": "none"
  }
 },
 "nbformat": 4,
 "nbformat_minor": 5
}
