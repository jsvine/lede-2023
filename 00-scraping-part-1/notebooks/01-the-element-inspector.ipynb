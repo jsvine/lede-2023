{
 "cells": [
  {
   "cell_type": "markdown",
   "id": "2da9bed8-8240-4dc7-9b84-f938ee955535",
   "metadata": {
    "slideshow": {
     "slide_type": "slide"
    }
   },
   "source": [
    "# 🌐 Scraping, Part 1.1: The web inspector\n",
    "\n",
    "\n",
    "*Poking around the DOM*"
   ]
  },
  {
   "cell_type": "markdown",
   "id": "53a78c8f-b6af-4c1a-8bd5-d7e440cb7a66",
   "metadata": {
    "slideshow": {
     "slide_type": "slide"
    }
   },
   "source": [
    "## As webpages get larger + more complex ...\n",
    "\n",
    "... their raw HTML can be difficult to read."
   ]
  },
  {
   "cell_type": "markdown",
   "id": "effb2cf6-090a-48a9-99e3-02a45b3c30f6",
   "metadata": {
    "slideshow": {
     "slide_type": "slide"
    }
   },
   "source": [
    "## Enter the element inspector!\n",
    "\n",
    "Every modern web browser has a set of \"developer tools.\" They have all sorts of features, but the one we'll focus on in this class is the element inspector.\n",
    "\n",
    "Here, I'll assume that you're using Firefox, Chrome, or Safari."
   ]
  },
  {
   "cell_type": "markdown",
   "id": "4bb38976-ab30-4949-b05b-a84835eb93f3",
   "metadata": {
    "slideshow": {
     "slide_type": "subslide"
    }
   },
   "source": [
    "There are a [few ways to open your development tools](https://developer.mozilla.org/en-US/docs/Learn/Common_questions/Tools_and_setup/What_are_browser_developer_tools), but the simplest is this:\n",
    "\n",
    "1. __Right-click on any webpage__ to bring up the context menu\n",
    "2. __Click *Inspect*__ (Firefox, Chrome) or __*Inspect Element*__ (Safari)"
   ]
  },
  {
   "cell_type": "markdown",
   "id": "947eb4e1-ed6f-4b78-a0a2-b99cfa78a5a2",
   "metadata": {
    "slideshow": {
     "slide_type": "subslide"
    }
   },
   "source": [
    "![](../images/inspect-context.png)"
   ]
  },
  {
   "cell_type": "markdown",
   "id": "79d299ea-7049-4e01-9068-42a2ee914455",
   "metadata": {
    "slideshow": {
     "slide_type": "subslide"
    }
   },
   "source": [
    "Once you do, it should look something like this, with the developer tools in a new pane of the browser window, at the bottom:\n",
    "\n",
    "![](../images/inspect-tools.png)"
   ]
  },
  {
   "cell_type": "markdown",
   "id": "e879d488",
   "metadata": {
    "slideshow": {
     "slide_type": "subslide"
    }
   },
   "source": [
    "Each of the tabs in that pane represents a different developer tool. \n",
    "\n",
    "We'll __stick to this first one__, which is called \"Elements\" in Chrome and Safari, and \"Inspector\" in Firefox. \n",
    "\n",
    "In this tab, your browser renders the page's __DOM__ (again, as a refresher: Document Object Model)."
   ]
  },
  {
   "cell_type": "markdown",
   "id": "11e22dbd-dd6a-4671-beff-d91789f099fd",
   "metadata": {
    "slideshow": {
     "slide_type": "slide"
    }
   },
   "source": [
    "## Exercise: Try exploring the inspector.\n",
    "\n",
    "What do you see? \n",
    "\n",
    "What sorts of interactions do you notice?"
   ]
  },
  {
   "cell_type": "markdown",
   "id": "324a4e90-aa0a-4139-9584-0e4bd2e03127",
   "metadata": {
    "slideshow": {
     "slide_type": "subslide"
    }
   },
   "source": [
    "In the inspector, you can:\n",
    "\n",
    "- __Hover__ over an element to see it visually highlighted on the page\n",
    "- __Toggle__ the ▶/▼ icons to show/hide an element's children\n",
    "- __Double-click__ tag names, attributes, and/or text to edit them\n",
    "- __Right-click__ to access even more options\n",
    "- __Press Control-F__ to open the search bar"
   ]
  },
  {
   "cell_type": "markdown",
   "id": "81cf7b36-74a9-4a8c-8113-ecd1d0866863",
   "metadata": {
    "slideshow": {
     "slide_type": "slide"
    }
   },
   "source": [
    "## Exercise: Try this with a few other websites\n",
    "\n",
    "What do you notice? What new kinds of HTML elements, structures, and/or patterns do you see?"
   ]
  },
  {
   "cell_type": "markdown",
   "id": "53274baf-e25c-4ccb-b68f-36b0d82cc1cf",
   "metadata": {
    "slideshow": {
     "slide_type": "skip"
    }
   },
   "source": [
    "---\n",
    "\n",
    "---\n",
    "\n",
    "---"
   ]
  }
 ],
 "metadata": {
  "celltoolbar": "Slideshow",
  "kernelspec": {
   "display_name": "Python 3 (ipykernel)",
   "language": "python",
   "name": "python3"
  },
  "language_info": {
   "codemirror_mode": {
    "name": "ipython",
    "version": 3
   },
   "file_extension": ".py",
   "mimetype": "text/x-python",
   "name": "python",
   "nbconvert_exporter": "python",
   "pygments_lexer": "ipython3",
   "version": "3.10.4"
  }
 },
 "nbformat": 4,
 "nbformat_minor": 5
}
