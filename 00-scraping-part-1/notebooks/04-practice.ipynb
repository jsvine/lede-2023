{
 "cells": [
  {
   "cell_type": "markdown",
   "id": "479f1956-0d3e-4f99-9bdb-890cdeb53989",
   "metadata": {
    "slideshow": {
     "slide_type": "slide"
    }
   },
   "source": [
    "# 🌐 Scraping, Part 1.4: Practice, practice, practice!\n",
    "\n",
    "*Let's scrape some dataaaaaaa!*\n",
    "\n",
    "*Note: In these examples, I'll be using `lxml`, but feel free to use `BeautifulSoup` if you prefer.*"
   ]
  },
  {
   "cell_type": "markdown",
   "id": "74d9564f-54de-48a9-9914-a5e82c4cf7c3",
   "metadata": {
    "slideshow": {
     "slide_type": "slide"
    }
   },
   "source": [
    "## Let's start with Soma's personal website\n",
    "\n",
    "It's https://jonathansoma.com.\n",
    "\n",
    "Open it in your browser. View the raw HTML, and also practice popping open the element inspector."
   ]
  },
  {
   "cell_type": "markdown",
   "id": "fd6c0724-2736-415b-ad8a-b3d3ed1a9202",
   "metadata": {
    "slideshow": {
     "slide_type": "subslide"
    }
   },
   "source": [
    "## Q: What do you see? What would you want to extract from it?"
   ]
  },
  {
   "cell_type": "markdown",
   "id": "04e5d896-3fe5-4332-9046-c5bbed69c35f",
   "metadata": {
    "slideshow": {
     "slide_type": "fragment"
    }
   },
   "source": [
    "Some ideas:\n",
    "\n",
    "- How many hyperlinks does Soma's homepage contain?\n",
    "- Which paragraph contains the most hyperlinks?"
   ]
  },
  {
   "cell_type": "markdown",
   "id": "c3e15b23-f01f-47b3-be70-4d16fb1df43d",
   "metadata": {
    "slideshow": {
     "slide_type": "subslide"
    }
   },
   "source": [
    "Let's load the HTML in Python. Remember how?"
   ]
  },
  {
   "cell_type": "code",
   "execution_count": 1,
   "id": "333d27f9-3e64-4881-a0cf-36f0d8028b70",
   "metadata": {
    "slideshow": {
     "slide_type": "fragment"
    }
   },
   "outputs": [],
   "source": [
    "import requests"
   ]
  },
  {
   "cell_type": "code",
   "execution_count": 2,
   "id": "ee6ead5d-2a8b-42d7-8b10-01119f7ce2de",
   "metadata": {
    "slideshow": {
     "slide_type": "fragment"
    }
   },
   "outputs": [
    {
     "name": "stdout",
     "output_type": "stream",
     "text": [
      "<!DOCTYPE html>\n",
      "<html>\n",
      "<head>\n",
      "<title>Jonathan Soma makes things</title>\n",
      "<style>\n",
      "#content {\n",
      "width: 700px;\n",
      "color: #333;\n",
      "margin: 0 auto;\n",
      "padding-bottom: 100px;\n",
      "padding-top: 100px;\n",
      "font-family: Georgia, s\n"
     ]
    }
   ],
   "source": [
    "soma_html = requests.get(\"https://jonathansoma.com/\").text\n",
    "print(soma_html[:200])"
   ]
  },
  {
   "cell_type": "markdown",
   "id": "8aeaf626",
   "metadata": {
    "slideshow": {
     "slide_type": "subslide"
    }
   },
   "source": [
    "Now let's parse it with `lxml`. Remember how?"
   ]
  },
  {
   "cell_type": "code",
   "execution_count": 3,
   "id": "5dc23ad8-fefb-403c-8a2e-c768956fb044",
   "metadata": {
    "slideshow": {
     "slide_type": "fragment"
    }
   },
   "outputs": [],
   "source": [
    "import lxml.html\n",
    "soma_dom = lxml.html.fromstring(soma_html)"
   ]
  },
  {
   "cell_type": "markdown",
   "id": "a26295e7",
   "metadata": {
    "slideshow": {
     "slide_type": "subslide"
    }
   },
   "source": [
    "## Q: How many links on Soma's homepage?"
   ]
  },
  {
   "cell_type": "code",
   "execution_count": 4,
   "id": "9e9b5ec7-f8d2-4a8b-a172-4fe1414397ba",
   "metadata": {
    "slideshow": {
     "slide_type": "fragment"
    }
   },
   "outputs": [
    {
     "data": {
      "text/plain": [
       "11"
      ]
     },
     "execution_count": 4,
     "metadata": {},
     "output_type": "execute_result"
    }
   ],
   "source": [
    "soma_links = soma_dom.cssselect(\"a\")\n",
    "len(soma_links)"
   ]
  },
  {
   "cell_type": "markdown",
   "id": "0d390807-3d25-47b8-826e-1804071ccf36",
   "metadata": {
    "slideshow": {
     "slide_type": "subslide"
    }
   },
   "source": [
    "## Q: What are all the URLs those hyperlinks point to?"
   ]
  },
  {
   "cell_type": "code",
   "execution_count": 5,
   "id": "c3f38e52-4392-4c25-8ffd-e058f333ad26",
   "metadata": {
    "slideshow": {
     "slide_type": "fragment"
    }
   },
   "outputs": [
    {
     "name": "stdout",
     "output_type": "stream",
     "text": [
      "http://brooklynbrainery.com\n",
      "http://dabbles.in\n",
      "http://www.omgmsg.com\n",
      "https://investigate.ai\n",
      "http://jonathansoma.com/singles\n",
      "http://handsomeatlas.com\n",
      "http://jonathansoma.com/notes/dosas-and-injera/\n",
      "http://jonathansoma.com/open-source-language-map\n",
      "https://tinyletter.com/jsoma\n",
      "http://twitter.com/dangerscarf\n",
      "mailto:jonathan.soma@gmail.com\n"
     ]
    }
   ],
   "source": [
    "for link in soma_links:\n",
    "    print(link.attrib[\"href\"])"
   ]
  },
  {
   "cell_type": "markdown",
   "id": "893921e8-a012-490e-a295-969036e7d1c6",
   "metadata": {
    "slideshow": {
     "slide_type": "subslide"
    }
   },
   "source": [
    "## Exercise: How many links are in each paragraph?"
   ]
  },
  {
   "cell_type": "markdown",
   "id": "fdc4e764-d6c2-48b6-adb8-2ca00d32e619",
   "metadata": {
    "slideshow": {
     "slide_type": "subslide"
    }
   },
   "source": [
    "Let's start with grabbing each paragraph:"
   ]
  },
  {
   "cell_type": "code",
   "execution_count": 6,
   "id": "6df63c5e-b287-48d3-b7e1-0711cf39099f",
   "metadata": {
    "slideshow": {
     "slide_type": "-"
    }
   },
   "outputs": [
    {
     "name": "stdout",
     "output_type": "stream",
     "text": [
      "Paragraph 1: I run a fake school and a paid newsletter about hobbies and have been known to talk too much about food. I love just about everything.\n",
      "---\n",
      "Paragraph 2: I've worked on baby-steps data science for journalists and lonely young men and rad old maps and pancakes and crowdsourced linguistics.\n",
      "---\n",
      "Paragraph 3: Want updates? I have a newsletter for that, too.\n",
      "---\n",
      "Paragraph 4:  \n",
      "---\n",
      "Paragraph 5: pithy = @dangerscarf lengthy = jonathan.soma@gmail.com\n",
      "---\n"
     ]
    }
   ],
   "source": [
    "for i, p in enumerate(soma_dom.cssselect(\"p\")):\n",
    "    print(f\"Paragraph {i+1}: {p.text_content()}\")\n",
    "    print(\"---\")"
   ]
  },
  {
   "cell_type": "markdown",
   "id": "55f4ef87-4894-40e5-8453-752fd873b1b3",
   "metadata": {
    "slideshow": {
     "slide_type": "subslide"
    }
   },
   "source": [
    "Now let's search *within* each paragraph for its links; we can do this because `.cssselect(...)` works on *any* element:"
   ]
  },
  {
   "cell_type": "code",
   "execution_count": 7,
   "id": "bad3548f-9411-4ad4-9e2b-59291316e156",
   "metadata": {
    "slideshow": {
     "slide_type": "-"
    }
   },
   "outputs": [
    {
     "name": "stdout",
     "output_type": "stream",
     "text": [
      "Paragraph 1 has 3 link(s)\n",
      "---\n",
      "Paragraph 2 has 5 link(s)\n",
      "---\n",
      "Paragraph 3 has 1 link(s)\n",
      "---\n",
      "Paragraph 4 has 0 link(s)\n",
      "---\n",
      "Paragraph 5 has 2 link(s)\n",
      "---\n"
     ]
    }
   ],
   "source": [
    "for i, p in enumerate(soma_dom.cssselect(\"p\")):\n",
    "    p_links = p.cssselect(\"a\")\n",
    "    print(f\"Paragraph {i+1} has {len(p_links)} link(s)\")\n",
    "    print(\"---\")"
   ]
  },
  {
   "cell_type": "markdown",
   "id": "8d6989a8-f435-4116-9695-cdb37ef9447a",
   "metadata": {
    "slideshow": {
     "slide_type": "subslide"
    }
   },
   "source": [
    "Now let's print the text and URL of each link:"
   ]
  },
  {
   "cell_type": "code",
   "execution_count": 8,
   "id": "b8bf20bc-151c-4262-a45b-6a1d7911bbf4",
   "metadata": {
    "slideshow": {
     "slide_type": "-"
    }
   },
   "outputs": [
    {
     "name": "stdout",
     "output_type": "stream",
     "text": [
      "Paragraph 1 has 3 link(s):\n",
      "→ fake school: http://brooklynbrainery.com\n",
      "→ paid newsletter about hobbies: http://dabbles.in\n",
      "→ food: http://www.omgmsg.com\n",
      "---\n",
      "Paragraph 2 has 5 link(s):\n",
      "→ baby-steps data science for journalists: https://investigate.ai\n",
      "→ lonely young men: http://jonathansoma.com/singles\n",
      "→ rad old maps: http://handsomeatlas.com\n",
      "→ pancakes: http://jonathansoma.com/notes/dosas-and-injera/\n",
      "→ crowdsourced linguistics: http://jonathansoma.com/open-source-language-map\n",
      "---\n",
      "Paragraph 3 has 1 link(s):\n",
      "→ newsletter: https://tinyletter.com/jsoma\n",
      "---\n",
      "Paragraph 4 has 0 link(s):\n",
      "---\n",
      "Paragraph 5 has 2 link(s):\n",
      "→ @dangerscarf: http://twitter.com/dangerscarf\n",
      "→ jonathan.soma@gmail.com: mailto:jonathan.soma@gmail.com\n",
      "---\n"
     ]
    }
   ],
   "source": [
    "for i, p in enumerate(soma_dom.cssselect(\"p\")):\n",
    "    p_links = p.cssselect(\"a\")\n",
    "    print(f\"Paragraph {i+1} has {len(p_links)} link(s):\")\n",
    "    for a in p_links:\n",
    "        text = a.text_content()\n",
    "        url = a.attrib[\"href\"]\n",
    "        print(f\"→ {text}: {url}\")\n",
    "    print(\"---\")"
   ]
  },
  {
   "cell_type": "markdown",
   "id": "721815d6-15e2-421b-b3e2-14add5bf6a0a",
   "metadata": {
    "slideshow": {
     "slide_type": "subslide"
    }
   },
   "source": [
    "## Exercise: `pandas` refresher\n",
    "\n",
    "How would you make `pandas` `DataFrame` representing each link's text and URL?\n",
    "\n",
    "(You can forget, for now, about what paragraph the link is in.)"
   ]
  },
  {
   "cell_type": "code",
   "execution_count": 9,
   "id": "7737ab13-0108-4514-b62f-bb3bdb0e495f",
   "metadata": {
    "slideshow": {
     "slide_type": "subslide"
    }
   },
   "outputs": [],
   "source": [
    "import pandas as pd"
   ]
  },
  {
   "cell_type": "code",
   "execution_count": 10,
   "id": "cf729565-12db-4af8-a2ab-5163d7d19412",
   "metadata": {
    "slideshow": {
     "slide_type": "fragment"
    }
   },
   "outputs": [
    {
     "data": {
      "text/html": [
       "<div>\n",
       "<style scoped>\n",
       "    .dataframe tbody tr th:only-of-type {\n",
       "        vertical-align: middle;\n",
       "    }\n",
       "\n",
       "    .dataframe tbody tr th {\n",
       "        vertical-align: top;\n",
       "    }\n",
       "\n",
       "    .dataframe thead th {\n",
       "        text-align: right;\n",
       "    }\n",
       "</style>\n",
       "<table border=\"1\" class=\"dataframe\">\n",
       "  <thead>\n",
       "    <tr style=\"text-align: right;\">\n",
       "      <th></th>\n",
       "      <th>text</th>\n",
       "      <th>url</th>\n",
       "    </tr>\n",
       "  </thead>\n",
       "  <tbody>\n",
       "    <tr>\n",
       "      <th>0</th>\n",
       "      <td>fake school</td>\n",
       "      <td>http://brooklynbrainery.com</td>\n",
       "    </tr>\n",
       "    <tr>\n",
       "      <th>1</th>\n",
       "      <td>paid newsletter about hobbies</td>\n",
       "      <td>http://dabbles.in</td>\n",
       "    </tr>\n",
       "    <tr>\n",
       "      <th>2</th>\n",
       "      <td>food</td>\n",
       "      <td>http://www.omgmsg.com</td>\n",
       "    </tr>\n",
       "    <tr>\n",
       "      <th>3</th>\n",
       "      <td>baby-steps data science for journalists</td>\n",
       "      <td>https://investigate.ai</td>\n",
       "    </tr>\n",
       "    <tr>\n",
       "      <th>4</th>\n",
       "      <td>lonely young men</td>\n",
       "      <td>http://jonathansoma.com/singles</td>\n",
       "    </tr>\n",
       "    <tr>\n",
       "      <th>5</th>\n",
       "      <td>rad old maps</td>\n",
       "      <td>http://handsomeatlas.com</td>\n",
       "    </tr>\n",
       "    <tr>\n",
       "      <th>6</th>\n",
       "      <td>pancakes</td>\n",
       "      <td>http://jonathansoma.com/notes/dosas-and-injera/</td>\n",
       "    </tr>\n",
       "    <tr>\n",
       "      <th>7</th>\n",
       "      <td>crowdsourced linguistics</td>\n",
       "      <td>http://jonathansoma.com/open-source-language-map</td>\n",
       "    </tr>\n",
       "    <tr>\n",
       "      <th>8</th>\n",
       "      <td>newsletter</td>\n",
       "      <td>https://tinyletter.com/jsoma</td>\n",
       "    </tr>\n",
       "    <tr>\n",
       "      <th>9</th>\n",
       "      <td>@dangerscarf</td>\n",
       "      <td>http://twitter.com/dangerscarf</td>\n",
       "    </tr>\n",
       "    <tr>\n",
       "      <th>10</th>\n",
       "      <td>jonathan.soma@gmail.com</td>\n",
       "      <td>mailto:jonathan.soma@gmail.com</td>\n",
       "    </tr>\n",
       "  </tbody>\n",
       "</table>\n",
       "</div>"
      ],
      "text/plain": [
       "                                       text  \\\n",
       "0                               fake school   \n",
       "1             paid newsletter about hobbies   \n",
       "2                                      food   \n",
       "3   baby-steps data science for journalists   \n",
       "4                          lonely young men   \n",
       "5                              rad old maps   \n",
       "6                                  pancakes   \n",
       "7                  crowdsourced linguistics   \n",
       "8                                newsletter   \n",
       "9                              @dangerscarf   \n",
       "10                  jonathan.soma@gmail.com   \n",
       "\n",
       "                                                 url  \n",
       "0                        http://brooklynbrainery.com  \n",
       "1                                  http://dabbles.in  \n",
       "2                              http://www.omgmsg.com  \n",
       "3                             https://investigate.ai  \n",
       "4                    http://jonathansoma.com/singles  \n",
       "5                           http://handsomeatlas.com  \n",
       "6    http://jonathansoma.com/notes/dosas-and-injera/  \n",
       "7   http://jonathansoma.com/open-source-language-map  \n",
       "8                       https://tinyletter.com/jsoma  \n",
       "9                     http://twitter.com/dangerscarf  \n",
       "10                    mailto:jonathan.soma@gmail.com  "
      ]
     },
     "execution_count": 10,
     "metadata": {},
     "output_type": "execute_result"
    }
   ],
   "source": [
    "soma_link_df = pd.DataFrame([ {\n",
    "    \"text\": link.text_content(),\n",
    "    \"url\": link.attrib[\"href\"]\n",
    "} for link in soma_links ])\n",
    "\n",
    "soma_link_df"
   ]
  },
  {
   "cell_type": "markdown",
   "id": "62bf6d0a-38fd-42b0-ae52-0f377694b0b6",
   "metadata": {
    "slideshow": {
     "slide_type": "subslide"
    }
   },
   "source": [
    "If [list comprehensions](https://docs.python.org/3/tutorial/datastructures.html#list-comprehensions) aren't your cup of tea, here's another way we could have done that:"
   ]
  },
  {
   "cell_type": "code",
   "execution_count": 11,
   "id": "2b6c08b7-9181-46c6-b93d-90e1901ae691",
   "metadata": {
    "slideshow": {
     "slide_type": "-"
    }
   },
   "outputs": [
    {
     "data": {
      "text/plain": [
       "[{'text': 'fake school', 'url': 'http://brooklynbrainery.com'},\n",
       " {'text': 'paid newsletter about hobbies', 'url': 'http://dabbles.in'},\n",
       " {'text': 'food', 'url': 'http://www.omgmsg.com'},\n",
       " {'text': 'baby-steps data science for journalists',\n",
       "  'url': 'https://investigate.ai'},\n",
       " {'text': 'lonely young men', 'url': 'http://jonathansoma.com/singles'},\n",
       " {'text': 'rad old maps', 'url': 'http://handsomeatlas.com'},\n",
       " {'text': 'pancakes',\n",
       "  'url': 'http://jonathansoma.com/notes/dosas-and-injera/'},\n",
       " {'text': 'crowdsourced linguistics',\n",
       "  'url': 'http://jonathansoma.com/open-source-language-map'},\n",
       " {'text': 'newsletter', 'url': 'https://tinyletter.com/jsoma'},\n",
       " {'text': '@dangerscarf', 'url': 'http://twitter.com/dangerscarf'},\n",
       " {'text': 'jonathan.soma@gmail.com', 'url': 'mailto:jonathan.soma@gmail.com'}]"
      ]
     },
     "execution_count": 11,
     "metadata": {},
     "output_type": "execute_result"
    }
   ],
   "source": [
    "soma_link_list = []\n",
    "\n",
    "for link in soma_links:\n",
    "    item_data = {\n",
    "        \"text\": link.text_content(),\n",
    "        \"url\": link.attrib[\"href\"],\n",
    "    }\n",
    "    soma_link_list.append(item_data)\n",
    "\n",
    "soma_link_list"
   ]
  },
  {
   "cell_type": "code",
   "execution_count": 12,
   "id": "3276b72c-9313-4539-ad8b-b0155559ca32",
   "metadata": {
    "slideshow": {
     "slide_type": "subslide"
    }
   },
   "outputs": [
    {
     "data": {
      "text/html": [
       "<div>\n",
       "<style scoped>\n",
       "    .dataframe tbody tr th:only-of-type {\n",
       "        vertical-align: middle;\n",
       "    }\n",
       "\n",
       "    .dataframe tbody tr th {\n",
       "        vertical-align: top;\n",
       "    }\n",
       "\n",
       "    .dataframe thead th {\n",
       "        text-align: right;\n",
       "    }\n",
       "</style>\n",
       "<table border=\"1\" class=\"dataframe\">\n",
       "  <thead>\n",
       "    <tr style=\"text-align: right;\">\n",
       "      <th></th>\n",
       "      <th>text</th>\n",
       "      <th>url</th>\n",
       "    </tr>\n",
       "  </thead>\n",
       "  <tbody>\n",
       "    <tr>\n",
       "      <th>0</th>\n",
       "      <td>fake school</td>\n",
       "      <td>http://brooklynbrainery.com</td>\n",
       "    </tr>\n",
       "    <tr>\n",
       "      <th>1</th>\n",
       "      <td>paid newsletter about hobbies</td>\n",
       "      <td>http://dabbles.in</td>\n",
       "    </tr>\n",
       "    <tr>\n",
       "      <th>2</th>\n",
       "      <td>food</td>\n",
       "      <td>http://www.omgmsg.com</td>\n",
       "    </tr>\n",
       "    <tr>\n",
       "      <th>3</th>\n",
       "      <td>baby-steps data science for journalists</td>\n",
       "      <td>https://investigate.ai</td>\n",
       "    </tr>\n",
       "    <tr>\n",
       "      <th>4</th>\n",
       "      <td>lonely young men</td>\n",
       "      <td>http://jonathansoma.com/singles</td>\n",
       "    </tr>\n",
       "    <tr>\n",
       "      <th>5</th>\n",
       "      <td>rad old maps</td>\n",
       "      <td>http://handsomeatlas.com</td>\n",
       "    </tr>\n",
       "    <tr>\n",
       "      <th>6</th>\n",
       "      <td>pancakes</td>\n",
       "      <td>http://jonathansoma.com/notes/dosas-and-injera/</td>\n",
       "    </tr>\n",
       "    <tr>\n",
       "      <th>7</th>\n",
       "      <td>crowdsourced linguistics</td>\n",
       "      <td>http://jonathansoma.com/open-source-language-map</td>\n",
       "    </tr>\n",
       "    <tr>\n",
       "      <th>8</th>\n",
       "      <td>newsletter</td>\n",
       "      <td>https://tinyletter.com/jsoma</td>\n",
       "    </tr>\n",
       "    <tr>\n",
       "      <th>9</th>\n",
       "      <td>@dangerscarf</td>\n",
       "      <td>http://twitter.com/dangerscarf</td>\n",
       "    </tr>\n",
       "    <tr>\n",
       "      <th>10</th>\n",
       "      <td>jonathan.soma@gmail.com</td>\n",
       "      <td>mailto:jonathan.soma@gmail.com</td>\n",
       "    </tr>\n",
       "  </tbody>\n",
       "</table>\n",
       "</div>"
      ],
      "text/plain": [
       "                                       text  \\\n",
       "0                               fake school   \n",
       "1             paid newsletter about hobbies   \n",
       "2                                      food   \n",
       "3   baby-steps data science for journalists   \n",
       "4                          lonely young men   \n",
       "5                              rad old maps   \n",
       "6                                  pancakes   \n",
       "7                  crowdsourced linguistics   \n",
       "8                                newsletter   \n",
       "9                              @dangerscarf   \n",
       "10                  jonathan.soma@gmail.com   \n",
       "\n",
       "                                                 url  \n",
       "0                        http://brooklynbrainery.com  \n",
       "1                                  http://dabbles.in  \n",
       "2                              http://www.omgmsg.com  \n",
       "3                             https://investigate.ai  \n",
       "4                    http://jonathansoma.com/singles  \n",
       "5                           http://handsomeatlas.com  \n",
       "6    http://jonathansoma.com/notes/dosas-and-injera/  \n",
       "7   http://jonathansoma.com/open-source-language-map  \n",
       "8                       https://tinyletter.com/jsoma  \n",
       "9                     http://twitter.com/dangerscarf  \n",
       "10                    mailto:jonathan.soma@gmail.com  "
      ]
     },
     "execution_count": 12,
     "metadata": {},
     "output_type": "execute_result"
    }
   ],
   "source": [
    "soma_link_df = pd.DataFrame(soma_link_list)\n",
    "soma_link_df"
   ]
  },
  {
   "cell_type": "markdown",
   "id": "5fc9651d-4f30-46e3-9ae3-21cafd5478ee",
   "metadata": {
    "slideshow": {
     "slide_type": "subslide"
    }
   },
   "source": [
    "## Exercise: Add the URL's *protocol* to the DataFrame\n",
    "\n",
    "(The protocol is the bit that comes before the `:`.)"
   ]
  },
  {
   "cell_type": "code",
   "execution_count": 13,
   "id": "834597eb-59c5-4a92-9e10-43cbe37bd224",
   "metadata": {
    "slideshow": {
     "slide_type": "subslide"
    }
   },
   "outputs": [
    {
     "data": {
      "text/html": [
       "<div>\n",
       "<style scoped>\n",
       "    .dataframe tbody tr th:only-of-type {\n",
       "        vertical-align: middle;\n",
       "    }\n",
       "\n",
       "    .dataframe tbody tr th {\n",
       "        vertical-align: top;\n",
       "    }\n",
       "\n",
       "    .dataframe thead th {\n",
       "        text-align: right;\n",
       "    }\n",
       "</style>\n",
       "<table border=\"1\" class=\"dataframe\">\n",
       "  <thead>\n",
       "    <tr style=\"text-align: right;\">\n",
       "      <th></th>\n",
       "      <th>text</th>\n",
       "      <th>url</th>\n",
       "      <th>protocol</th>\n",
       "    </tr>\n",
       "  </thead>\n",
       "  <tbody>\n",
       "    <tr>\n",
       "      <th>0</th>\n",
       "      <td>fake school</td>\n",
       "      <td>http://brooklynbrainery.com</td>\n",
       "      <td>http</td>\n",
       "    </tr>\n",
       "    <tr>\n",
       "      <th>1</th>\n",
       "      <td>paid newsletter about hobbies</td>\n",
       "      <td>http://dabbles.in</td>\n",
       "      <td>http</td>\n",
       "    </tr>\n",
       "    <tr>\n",
       "      <th>2</th>\n",
       "      <td>food</td>\n",
       "      <td>http://www.omgmsg.com</td>\n",
       "      <td>http</td>\n",
       "    </tr>\n",
       "    <tr>\n",
       "      <th>3</th>\n",
       "      <td>baby-steps data science for journalists</td>\n",
       "      <td>https://investigate.ai</td>\n",
       "      <td>https</td>\n",
       "    </tr>\n",
       "    <tr>\n",
       "      <th>4</th>\n",
       "      <td>lonely young men</td>\n",
       "      <td>http://jonathansoma.com/singles</td>\n",
       "      <td>http</td>\n",
       "    </tr>\n",
       "    <tr>\n",
       "      <th>5</th>\n",
       "      <td>rad old maps</td>\n",
       "      <td>http://handsomeatlas.com</td>\n",
       "      <td>http</td>\n",
       "    </tr>\n",
       "    <tr>\n",
       "      <th>6</th>\n",
       "      <td>pancakes</td>\n",
       "      <td>http://jonathansoma.com/notes/dosas-and-injera/</td>\n",
       "      <td>http</td>\n",
       "    </tr>\n",
       "    <tr>\n",
       "      <th>7</th>\n",
       "      <td>crowdsourced linguistics</td>\n",
       "      <td>http://jonathansoma.com/open-source-language-map</td>\n",
       "      <td>http</td>\n",
       "    </tr>\n",
       "    <tr>\n",
       "      <th>8</th>\n",
       "      <td>newsletter</td>\n",
       "      <td>https://tinyletter.com/jsoma</td>\n",
       "      <td>https</td>\n",
       "    </tr>\n",
       "    <tr>\n",
       "      <th>9</th>\n",
       "      <td>@dangerscarf</td>\n",
       "      <td>http://twitter.com/dangerscarf</td>\n",
       "      <td>http</td>\n",
       "    </tr>\n",
       "    <tr>\n",
       "      <th>10</th>\n",
       "      <td>jonathan.soma@gmail.com</td>\n",
       "      <td>mailto:jonathan.soma@gmail.com</td>\n",
       "      <td>mailto</td>\n",
       "    </tr>\n",
       "  </tbody>\n",
       "</table>\n",
       "</div>"
      ],
      "text/plain": [
       "                                       text  \\\n",
       "0                               fake school   \n",
       "1             paid newsletter about hobbies   \n",
       "2                                      food   \n",
       "3   baby-steps data science for journalists   \n",
       "4                          lonely young men   \n",
       "5                              rad old maps   \n",
       "6                                  pancakes   \n",
       "7                  crowdsourced linguistics   \n",
       "8                                newsletter   \n",
       "9                              @dangerscarf   \n",
       "10                  jonathan.soma@gmail.com   \n",
       "\n",
       "                                                 url protocol  \n",
       "0                        http://brooklynbrainery.com     http  \n",
       "1                                  http://dabbles.in     http  \n",
       "2                              http://www.omgmsg.com     http  \n",
       "3                             https://investigate.ai    https  \n",
       "4                    http://jonathansoma.com/singles     http  \n",
       "5                           http://handsomeatlas.com     http  \n",
       "6    http://jonathansoma.com/notes/dosas-and-injera/     http  \n",
       "7   http://jonathansoma.com/open-source-language-map     http  \n",
       "8                       https://tinyletter.com/jsoma    https  \n",
       "9                     http://twitter.com/dangerscarf     http  \n",
       "10                    mailto:jonathan.soma@gmail.com   mailto  "
      ]
     },
     "execution_count": 13,
     "metadata": {},
     "output_type": "execute_result"
    }
   ],
   "source": [
    "soma_link_list = []\n",
    "\n",
    "for link in soma_links:\n",
    "    item_data = {\n",
    "        \"text\": link.text_content(),\n",
    "        \"url\": link.attrib[\"href\"],\n",
    "        \"protocol\": link.attrib[\"href\"].split(\":\")[0],\n",
    "    }\n",
    "    soma_link_list.append(item_data)\n",
    "\n",
    "soma_link_df = pd.DataFrame(soma_link_list)\n",
    "\n",
    "soma_link_df"
   ]
  },
  {
   "cell_type": "code",
   "execution_count": 14,
   "id": "03956cca",
   "metadata": {
    "slideshow": {
     "slide_type": "subslide"
    }
   },
   "outputs": [
    {
     "data": {
      "text/plain": [
       "protocol\n",
       "http      8\n",
       "https     2\n",
       "mailto    1\n",
       "Name: count, dtype: int64"
      ]
     },
     "execution_count": 14,
     "metadata": {},
     "output_type": "execute_result"
    }
   ],
   "source": [
    "soma_link_df[\"protocol\"].value_counts()"
   ]
  },
  {
   "cell_type": "markdown",
   "id": "bfe53f09-6e0c-4046-81f2-0b953d863acf",
   "metadata": {
    "slideshow": {
     "slide_type": "slide"
    }
   },
   "source": [
    "## Let's try something a just little more complicated\n",
    "\n",
    "Let's examine the posts on FlowingData's homepage: https://flowingdata.com/\n",
    "\n",
    "First, let's pop open the element inspector. Let's get a sense of how the page is structured, and what information we might want to extract."
   ]
  },
  {
   "cell_type": "markdown",
   "id": "dc4defe0-abec-49f4-9d08-59920b4e14eb",
   "metadata": {
    "slideshow": {
     "slide_type": "subslide"
    }
   },
   "source": [
    "At a high level, we're probably most interested in the `<div id=\"recent-posts\" ...>` element. More specifically, there's a `<ul>` (which stands for unordered list) element. Each `<li class=\"archive-post\">` within it seems to represent a post.\n",
    "\n",
    "### __Exercise__: What are some CSS selectors, of varying specificity, we could use to select all of those posts?"
   ]
  },
  {
   "cell_type": "markdown",
   "id": "f67f00fa-8ceb-49ac-bd0d-55711c29e9b7",
   "metadata": {
    "slideshow": {
     "slide_type": "subslide"
    }
   },
   "source": [
    "`.archive-post` is *probably* enough. But you could also write:\n",
    "\n",
    "- `#recent-posts > ul > li`\n",
    "- `#recent-posts .archive-post`\n",
    "- `#recent-posts li.archive-post`"
   ]
  },
  {
   "cell_type": "markdown",
   "id": "b5e04e75-268a-4f51-b1dc-b3fd6e511b2c",
   "metadata": {
    "slideshow": {
     "slide_type": "subslide"
    }
   },
   "source": [
    "Let's try these out. First, we'll load the HTML and convert it to a Python-accessible DOM:"
   ]
  },
  {
   "cell_type": "code",
   "execution_count": 15,
   "id": "efba49e7-335d-4a78-ac9a-6f8e0d356d69",
   "metadata": {
    "slideshow": {
     "slide_type": "-"
    }
   },
   "outputs": [],
   "source": [
    "fd_html = requests.get(\"https://flowingdata.com/\").text\n",
    "fd_dom = lxml.html.fromstring(fd_html)"
   ]
  },
  {
   "cell_type": "markdown",
   "id": "b6e0c21e-a708-48f9-b8ad-b16ecb059dbf",
   "metadata": {
    "slideshow": {
     "slide_type": "subslide"
    }
   },
   "source": [
    "Now we can run all of our proposed selectors, comparing the results:"
   ]
  },
  {
   "cell_type": "code",
   "execution_count": 16,
   "id": "bb879a3b-e5a2-4ab7-b3ff-079894b65937",
   "metadata": {
    "slideshow": {
     "slide_type": "-"
    }
   },
   "outputs": [],
   "source": [
    "selectors_to_try = [\n",
    "    \".archive-post\",\n",
    "    \"#recent-posts > ul > li\",\n",
    "    \"#recent-posts .archive-post\",\n",
    "    \"#recent-posts li.archive-post\"\n",
    "]"
   ]
  },
  {
   "cell_type": "code",
   "execution_count": 17,
   "id": "85ce606d-1a6c-4be1-9851-cb21b642da25",
   "metadata": {
    "slideshow": {
     "slide_type": "-"
    }
   },
   "outputs": [
    {
     "name": "stdout",
     "output_type": "stream",
     "text": [
      ".archive-post                  matches 20 elements\n",
      "#recent-posts > ul > li        matches 20 elements\n",
      "#recent-posts .archive-post    matches 20 elements\n",
      "#recent-posts li.archive-post  matches 20 elements\n"
     ]
    }
   ],
   "source": [
    "for sel in selectors_to_try:\n",
    "    num_elements = len(fd_dom.cssselect(sel))\n",
    "    print(f\"{sel: <30} matches {num_elements} elements\")"
   ]
  },
  {
   "cell_type": "markdown",
   "id": "9e0f0a2f-77b2-496b-a5ff-f1875f1d4113",
   "metadata": {
    "slideshow": {
     "slide_type": "subslide"
    }
   },
   "source": [
    "Next, we'll let's grab the headline for each post. \n",
    "\n",
    "## Q: How would you do this?"
   ]
  },
  {
   "cell_type": "code",
   "execution_count": 18,
   "id": "267056f1-5962-4164-86f6-8f92b841f73e",
   "metadata": {
    "slideshow": {
     "slide_type": "fragment"
    }
   },
   "outputs": [
    {
     "name": "stdout",
     "output_type": "stream",
     "text": [
      "\n",
      "Switching from Python to R \n",
      "\n",
      "Friend simulation system, with ChatGPT \n",
      "\n",
      "To make electric vehicle batteries, China must be involved \n",
      "\n",
      "Where people are moving in the U.S. \n",
      "\n",
      "Chart Practice: Changing the Audience \n",
      "\n",
      "Life timeline in a spreadsheet \n",
      "\n",
      "Objectiveness distributions \n",
      "\n",
      "Using gaps in location data to track illegal fishing \n",
      "\n",
      "Fake location signals from oil tankers avoiding oversight \n",
      "\n",
      "Generative AI exaggerates stereotypes \n",
      "\n",
      "Smoke from Canada wildfires over the U.S. \n",
      "\n",
      "Artificial Data Visualization \n",
      "\n",
      "NYC city council district voting guide \n",
      "\n",
      "See if you are middle class \n",
      "\n",
      "A moving drumbeat, explained visually \n",
      "\n",
      "Map of donut federations \n",
      "\n",
      "Changes to Blackjack payouts so that gamblers lose more to casinos \n",
      "\n",
      "Rights at risk at the U.S. Supreme Court level \n",
      "\n",
      "An open-access journal for visualization research \n",
      "\n",
      "Chart Practice: Feature Focus \n"
     ]
    }
   ],
   "source": [
    "for post_el in fd_dom.cssselect(\".archive-post\"):\n",
    "    hed = post_el.cssselect(\"h1 a\")[0]\n",
    "    print(hed.text_content())"
   ]
  },
  {
   "cell_type": "markdown",
   "id": "99f2550f-b7cb-4801-b47f-29ad8e81e873",
   "metadata": {
    "slideshow": {
     "slide_type": "subslide"
    }
   },
   "source": [
    "Let's use the `.strip()` method on each text string to strip out the extra whitespace:"
   ]
  },
  {
   "cell_type": "code",
   "execution_count": 19,
   "id": "7dcf4fee-e651-4e72-bd6d-ddbaf16240ec",
   "metadata": {
    "slideshow": {
     "slide_type": "-"
    }
   },
   "outputs": [
    {
     "name": "stdout",
     "output_type": "stream",
     "text": [
      "Switching from Python to R\n",
      "Friend simulation system, with ChatGPT\n",
      "To make electric vehicle batteries, China must be involved\n",
      "Where people are moving in the U.S.\n",
      "Chart Practice: Changing the Audience\n",
      "Life timeline in a spreadsheet\n",
      "Objectiveness distributions\n",
      "Using gaps in location data to track illegal fishing\n",
      "Fake location signals from oil tankers avoiding oversight\n",
      "Generative AI exaggerates stereotypes\n",
      "Smoke from Canada wildfires over the U.S.\n",
      "Artificial Data Visualization\n",
      "NYC city council district voting guide\n",
      "See if you are middle class\n",
      "A moving drumbeat, explained visually\n",
      "Map of donut federations\n",
      "Changes to Blackjack payouts so that gamblers lose more to casinos\n",
      "Rights at risk at the U.S. Supreme Court level\n",
      "An open-access journal for visualization research\n",
      "Chart Practice: Feature Focus\n"
     ]
    }
   ],
   "source": [
    "for post_el in fd_dom.cssselect(\".archive-post\"):\n",
    "    hed = post_el.cssselect(\"h1 a\")[0]\n",
    "    print(hed.text_content().strip())"
   ]
  },
  {
   "cell_type": "markdown",
   "id": "26153982-d12a-4ba4-9581-4e68f6287b17",
   "metadata": {
    "slideshow": {
     "slide_type": "subslide"
    }
   },
   "source": [
    "## Exercise: How would you get the date of a post? And the topic?"
   ]
  },
  {
   "cell_type": "code",
   "execution_count": 20,
   "id": "df124e8a",
   "metadata": {
    "slideshow": {
     "slide_type": "-"
    }
   },
   "outputs": [
    {
     "data": {
      "text/plain": [
       "<Element li at 0x1079868e0>"
      ]
     },
     "execution_count": 20,
     "metadata": {},
     "output_type": "execute_result"
    }
   ],
   "source": [
    "first_post = fd_dom.cssselect(\".archive-post\")[0]\n",
    "first_post"
   ]
  },
  {
   "cell_type": "code",
   "execution_count": 21,
   "id": "f1ad813b",
   "metadata": {
    "slideshow": {
     "slide_type": "fragment"
    }
   },
   "outputs": [
    {
     "data": {
      "text/plain": [
       "'June 21, 2023'"
      ]
     },
     "execution_count": 21,
     "metadata": {},
     "output_type": "execute_result"
    }
   ],
   "source": [
    "first_post.cssselect(\".byinfo a\")[0].text_content()"
   ]
  },
  {
   "cell_type": "code",
   "execution_count": 22,
   "id": "5aaeea84",
   "metadata": {
    "slideshow": {
     "slide_type": "fragment"
    }
   },
   "outputs": [
    {
     "data": {
      "text/plain": [
       "'Coding'"
      ]
     },
     "execution_count": 22,
     "metadata": {},
     "output_type": "execute_result"
    }
   ],
   "source": [
    "first_post.cssselect(\".byinfo strong a\")[0].text_content()"
   ]
  },
  {
   "cell_type": "markdown",
   "id": "5c62ca11",
   "metadata": {
    "slideshow": {
     "slide_type": "subslide"
    }
   },
   "source": [
    "Now let's get those for each post, and put everything we have so far into a `pandas` `DataFrame`."
   ]
  },
  {
   "cell_type": "code",
   "execution_count": 23,
   "id": "7b5accf1-984d-412e-82fe-71c52f7b259a",
   "metadata": {
    "slideshow": {
     "slide_type": "fragment"
    }
   },
   "outputs": [
    {
     "data": {
      "text/html": [
       "<div>\n",
       "<style scoped>\n",
       "    .dataframe tbody tr th:only-of-type {\n",
       "        vertical-align: middle;\n",
       "    }\n",
       "\n",
       "    .dataframe tbody tr th {\n",
       "        vertical-align: top;\n",
       "    }\n",
       "\n",
       "    .dataframe thead th {\n",
       "        text-align: right;\n",
       "    }\n",
       "</style>\n",
       "<table border=\"1\" class=\"dataframe\">\n",
       "  <thead>\n",
       "    <tr style=\"text-align: right;\">\n",
       "      <th></th>\n",
       "      <th>hed</th>\n",
       "      <th>date</th>\n",
       "      <th>topic</th>\n",
       "    </tr>\n",
       "  </thead>\n",
       "  <tbody>\n",
       "    <tr>\n",
       "      <th>0</th>\n",
       "      <td>Switching from Python to R</td>\n",
       "      <td>June 21, 2023</td>\n",
       "      <td>Coding</td>\n",
       "    </tr>\n",
       "    <tr>\n",
       "      <th>1</th>\n",
       "      <td>Friend simulation system, with ChatGPT</td>\n",
       "      <td>June 20, 2023</td>\n",
       "      <td>Network Visualization</td>\n",
       "    </tr>\n",
       "    <tr>\n",
       "      <th>2</th>\n",
       "      <td>To make electric vehicle batteries, China must...</td>\n",
       "      <td>June 19, 2023</td>\n",
       "      <td>Infographics</td>\n",
       "    </tr>\n",
       "    <tr>\n",
       "      <th>3</th>\n",
       "      <td>Where people are moving in the U.S.</td>\n",
       "      <td>June 16, 2023</td>\n",
       "      <td>Statistical Visualization</td>\n",
       "    </tr>\n",
       "    <tr>\n",
       "      <th>4</th>\n",
       "      <td>Chart Practice: Changing the Audience</td>\n",
       "      <td>June 15, 2023</td>\n",
       "      <td>The Process</td>\n",
       "    </tr>\n",
       "    <tr>\n",
       "      <th>5</th>\n",
       "      <td>Life timeline in a spreadsheet</td>\n",
       "      <td>June 15, 2023</td>\n",
       "      <td>Self-surveillance</td>\n",
       "    </tr>\n",
       "    <tr>\n",
       "      <th>6</th>\n",
       "      <td>Objectiveness distributions</td>\n",
       "      <td>June 14, 2023</td>\n",
       "      <td>Infographics</td>\n",
       "    </tr>\n",
       "    <tr>\n",
       "      <th>7</th>\n",
       "      <td>Using gaps in location data to track illegal f...</td>\n",
       "      <td>June 13, 2023</td>\n",
       "      <td>Maps</td>\n",
       "    </tr>\n",
       "    <tr>\n",
       "      <th>8</th>\n",
       "      <td>Fake location signals from oil tankers avoidin...</td>\n",
       "      <td>June 13, 2023</td>\n",
       "      <td>Maps</td>\n",
       "    </tr>\n",
       "    <tr>\n",
       "      <th>9</th>\n",
       "      <td>Generative AI exaggerates stereotypes</td>\n",
       "      <td>June 12, 2023</td>\n",
       "      <td>Infographics</td>\n",
       "    </tr>\n",
       "    <tr>\n",
       "      <th>10</th>\n",
       "      <td>Smoke from Canada wildfires over the U.S.</td>\n",
       "      <td>June 9, 2023</td>\n",
       "      <td>Maps</td>\n",
       "    </tr>\n",
       "    <tr>\n",
       "      <th>11</th>\n",
       "      <td>Artificial Data Visualization</td>\n",
       "      <td>June 8, 2023</td>\n",
       "      <td>The Process</td>\n",
       "    </tr>\n",
       "    <tr>\n",
       "      <th>12</th>\n",
       "      <td>NYC city council district voting guide</td>\n",
       "      <td>June 8, 2023</td>\n",
       "      <td>Infographics</td>\n",
       "    </tr>\n",
       "    <tr>\n",
       "      <th>13</th>\n",
       "      <td>See if you are middle class</td>\n",
       "      <td>June 7, 2023</td>\n",
       "      <td>Statistical Visualization</td>\n",
       "    </tr>\n",
       "    <tr>\n",
       "      <th>14</th>\n",
       "      <td>A moving drumbeat, explained visually</td>\n",
       "      <td>June 6, 2023</td>\n",
       "      <td>Infographics</td>\n",
       "    </tr>\n",
       "    <tr>\n",
       "      <th>15</th>\n",
       "      <td>Map of donut federations</td>\n",
       "      <td>June 5, 2023</td>\n",
       "      <td>Maps</td>\n",
       "    </tr>\n",
       "    <tr>\n",
       "      <th>16</th>\n",
       "      <td>Changes to Blackjack payouts so that gamblers ...</td>\n",
       "      <td>June 5, 2023</td>\n",
       "      <td>Statistics</td>\n",
       "    </tr>\n",
       "    <tr>\n",
       "      <th>17</th>\n",
       "      <td>Rights at risk at the U.S. Supreme Court level</td>\n",
       "      <td>June 2, 2023</td>\n",
       "      <td>Infographics</td>\n",
       "    </tr>\n",
       "    <tr>\n",
       "      <th>18</th>\n",
       "      <td>An open-access journal for visualization research</td>\n",
       "      <td>June 2, 2023</td>\n",
       "      <td>News</td>\n",
       "    </tr>\n",
       "    <tr>\n",
       "      <th>19</th>\n",
       "      <td>Chart Practice: Feature Focus</td>\n",
       "      <td>June 1, 2023</td>\n",
       "      <td>The Process</td>\n",
       "    </tr>\n",
       "  </tbody>\n",
       "</table>\n",
       "</div>"
      ],
      "text/plain": [
       "                                                  hed           date  \\\n",
       "0                          Switching from Python to R  June 21, 2023   \n",
       "1              Friend simulation system, with ChatGPT  June 20, 2023   \n",
       "2   To make electric vehicle batteries, China must...  June 19, 2023   \n",
       "3                 Where people are moving in the U.S.  June 16, 2023   \n",
       "4               Chart Practice: Changing the Audience  June 15, 2023   \n",
       "5                      Life timeline in a spreadsheet  June 15, 2023   \n",
       "6                         Objectiveness distributions  June 14, 2023   \n",
       "7   Using gaps in location data to track illegal f...  June 13, 2023   \n",
       "8   Fake location signals from oil tankers avoidin...  June 13, 2023   \n",
       "9               Generative AI exaggerates stereotypes  June 12, 2023   \n",
       "10          Smoke from Canada wildfires over the U.S.   June 9, 2023   \n",
       "11                      Artificial Data Visualization   June 8, 2023   \n",
       "12             NYC city council district voting guide   June 8, 2023   \n",
       "13                        See if you are middle class   June 7, 2023   \n",
       "14              A moving drumbeat, explained visually   June 6, 2023   \n",
       "15                           Map of donut federations   June 5, 2023   \n",
       "16  Changes to Blackjack payouts so that gamblers ...   June 5, 2023   \n",
       "17     Rights at risk at the U.S. Supreme Court level   June 2, 2023   \n",
       "18  An open-access journal for visualization research   June 2, 2023   \n",
       "19                      Chart Practice: Feature Focus   June 1, 2023   \n",
       "\n",
       "                        topic  \n",
       "0                      Coding  \n",
       "1       Network Visualization  \n",
       "2                Infographics  \n",
       "3   Statistical Visualization  \n",
       "4                 The Process  \n",
       "5           Self-surveillance  \n",
       "6                Infographics  \n",
       "7                        Maps  \n",
       "8                        Maps  \n",
       "9                Infographics  \n",
       "10                       Maps  \n",
       "11                The Process  \n",
       "12               Infographics  \n",
       "13  Statistical Visualization  \n",
       "14               Infographics  \n",
       "15                       Maps  \n",
       "16                 Statistics  \n",
       "17               Infographics  \n",
       "18                       News  \n",
       "19                The Process  "
      ]
     },
     "execution_count": 23,
     "metadata": {},
     "output_type": "execute_result"
    }
   ],
   "source": [
    "fd_posts = pd.DataFrame([{\n",
    "    \"hed\": post_el.cssselect(\"h1 a\")[0].text_content().strip(),\n",
    "    \"date\": post_el.cssselect(\".byinfo a\")[0].text_content(),\n",
    "    \"topic\": post_el.cssselect(\".byinfo strong a\")[0].text_content(),\n",
    "} for post_el in fd_dom.cssselect(\".archive-post\") ])\n",
    "\n",
    "fd_posts"
   ]
  },
  {
   "cell_type": "markdown",
   "id": "ac3e32d1-2d3b-48d5-8a10-d95fd6b4f5c9",
   "metadata": {
    "slideshow": {
     "slide_type": "subslide"
    }
   },
   "source": [
    "What is the most common topic?"
   ]
  },
  {
   "cell_type": "code",
   "execution_count": 24,
   "id": "72e4e3a0-a870-4c34-ae5c-c1a3c1f2e22e",
   "metadata": {
    "slideshow": {
     "slide_type": "fragment"
    }
   },
   "outputs": [
    {
     "data": {
      "text/plain": [
       "topic\n",
       "Infographics                 6\n",
       "Maps                         4\n",
       "The Process                  3\n",
       "Statistical Visualization    2\n",
       "Coding                       1\n",
       "Network Visualization        1\n",
       "Self-surveillance            1\n",
       "Statistics                   1\n",
       "News                         1\n",
       "Name: count, dtype: int64"
      ]
     },
     "execution_count": 24,
     "metadata": {},
     "output_type": "execute_result"
    }
   ],
   "source": [
    "fd_posts[\"topic\"].value_counts()"
   ]
  },
  {
   "cell_type": "markdown",
   "id": "4d7c4550-3a54-47ff-a38a-33ba8ed83abc",
   "metadata": {
    "slideshow": {
     "slide_type": "subslide"
    }
   },
   "source": [
    "## __Exercise__: Add a column indicating whether any given post is for \"Members Only\"\n",
    "\n",
    "How many are there?"
   ]
  },
  {
   "cell_type": "code",
   "execution_count": 25,
   "id": "a55469ad-ed44-40e3-80ad-bf349f28b6c8",
   "metadata": {
    "slideshow": {
     "slide_type": "fragment"
    }
   },
   "outputs": [
    {
     "data": {
      "text/html": [
       "<div>\n",
       "<style scoped>\n",
       "    .dataframe tbody tr th:only-of-type {\n",
       "        vertical-align: middle;\n",
       "    }\n",
       "\n",
       "    .dataframe tbody tr th {\n",
       "        vertical-align: top;\n",
       "    }\n",
       "\n",
       "    .dataframe thead th {\n",
       "        text-align: right;\n",
       "    }\n",
       "</style>\n",
       "<table border=\"1\" class=\"dataframe\">\n",
       "  <thead>\n",
       "    <tr style=\"text-align: right;\">\n",
       "      <th></th>\n",
       "      <th>hed</th>\n",
       "      <th>date</th>\n",
       "      <th>topic</th>\n",
       "      <th>members_only</th>\n",
       "    </tr>\n",
       "  </thead>\n",
       "  <tbody>\n",
       "    <tr>\n",
       "      <th>0</th>\n",
       "      <td>Switching from Python to R</td>\n",
       "      <td>June 21, 2023</td>\n",
       "      <td>Coding</td>\n",
       "      <td>0</td>\n",
       "    </tr>\n",
       "    <tr>\n",
       "      <th>1</th>\n",
       "      <td>Friend simulation system, with ChatGPT</td>\n",
       "      <td>June 20, 2023</td>\n",
       "      <td>Network Visualization</td>\n",
       "      <td>0</td>\n",
       "    </tr>\n",
       "    <tr>\n",
       "      <th>2</th>\n",
       "      <td>To make electric vehicle batteries, China must...</td>\n",
       "      <td>June 19, 2023</td>\n",
       "      <td>Infographics</td>\n",
       "      <td>0</td>\n",
       "    </tr>\n",
       "    <tr>\n",
       "      <th>3</th>\n",
       "      <td>Where people are moving in the U.S.</td>\n",
       "      <td>June 16, 2023</td>\n",
       "      <td>Statistical Visualization</td>\n",
       "      <td>0</td>\n",
       "    </tr>\n",
       "    <tr>\n",
       "      <th>4</th>\n",
       "      <td>Chart Practice: Changing the Audience</td>\n",
       "      <td>June 15, 2023</td>\n",
       "      <td>The Process</td>\n",
       "      <td>1</td>\n",
       "    </tr>\n",
       "    <tr>\n",
       "      <th>5</th>\n",
       "      <td>Life timeline in a spreadsheet</td>\n",
       "      <td>June 15, 2023</td>\n",
       "      <td>Self-surveillance</td>\n",
       "      <td>0</td>\n",
       "    </tr>\n",
       "    <tr>\n",
       "      <th>6</th>\n",
       "      <td>Objectiveness distributions</td>\n",
       "      <td>June 14, 2023</td>\n",
       "      <td>Infographics</td>\n",
       "      <td>0</td>\n",
       "    </tr>\n",
       "    <tr>\n",
       "      <th>7</th>\n",
       "      <td>Using gaps in location data to track illegal f...</td>\n",
       "      <td>June 13, 2023</td>\n",
       "      <td>Maps</td>\n",
       "      <td>0</td>\n",
       "    </tr>\n",
       "    <tr>\n",
       "      <th>8</th>\n",
       "      <td>Fake location signals from oil tankers avoidin...</td>\n",
       "      <td>June 13, 2023</td>\n",
       "      <td>Maps</td>\n",
       "      <td>0</td>\n",
       "    </tr>\n",
       "    <tr>\n",
       "      <th>9</th>\n",
       "      <td>Generative AI exaggerates stereotypes</td>\n",
       "      <td>June 12, 2023</td>\n",
       "      <td>Infographics</td>\n",
       "      <td>0</td>\n",
       "    </tr>\n",
       "    <tr>\n",
       "      <th>10</th>\n",
       "      <td>Smoke from Canada wildfires over the U.S.</td>\n",
       "      <td>June 9, 2023</td>\n",
       "      <td>Maps</td>\n",
       "      <td>0</td>\n",
       "    </tr>\n",
       "    <tr>\n",
       "      <th>11</th>\n",
       "      <td>Artificial Data Visualization</td>\n",
       "      <td>June 8, 2023</td>\n",
       "      <td>The Process</td>\n",
       "      <td>1</td>\n",
       "    </tr>\n",
       "    <tr>\n",
       "      <th>12</th>\n",
       "      <td>NYC city council district voting guide</td>\n",
       "      <td>June 8, 2023</td>\n",
       "      <td>Infographics</td>\n",
       "      <td>0</td>\n",
       "    </tr>\n",
       "    <tr>\n",
       "      <th>13</th>\n",
       "      <td>See if you are middle class</td>\n",
       "      <td>June 7, 2023</td>\n",
       "      <td>Statistical Visualization</td>\n",
       "      <td>0</td>\n",
       "    </tr>\n",
       "    <tr>\n",
       "      <th>14</th>\n",
       "      <td>A moving drumbeat, explained visually</td>\n",
       "      <td>June 6, 2023</td>\n",
       "      <td>Infographics</td>\n",
       "      <td>0</td>\n",
       "    </tr>\n",
       "    <tr>\n",
       "      <th>15</th>\n",
       "      <td>Map of donut federations</td>\n",
       "      <td>June 5, 2023</td>\n",
       "      <td>Maps</td>\n",
       "      <td>0</td>\n",
       "    </tr>\n",
       "    <tr>\n",
       "      <th>16</th>\n",
       "      <td>Changes to Blackjack payouts so that gamblers ...</td>\n",
       "      <td>June 5, 2023</td>\n",
       "      <td>Statistics</td>\n",
       "      <td>0</td>\n",
       "    </tr>\n",
       "    <tr>\n",
       "      <th>17</th>\n",
       "      <td>Rights at risk at the U.S. Supreme Court level</td>\n",
       "      <td>June 2, 2023</td>\n",
       "      <td>Infographics</td>\n",
       "      <td>0</td>\n",
       "    </tr>\n",
       "    <tr>\n",
       "      <th>18</th>\n",
       "      <td>An open-access journal for visualization research</td>\n",
       "      <td>June 2, 2023</td>\n",
       "      <td>News</td>\n",
       "      <td>0</td>\n",
       "    </tr>\n",
       "    <tr>\n",
       "      <th>19</th>\n",
       "      <td>Chart Practice: Feature Focus</td>\n",
       "      <td>June 1, 2023</td>\n",
       "      <td>The Process</td>\n",
       "      <td>1</td>\n",
       "    </tr>\n",
       "  </tbody>\n",
       "</table>\n",
       "</div>"
      ],
      "text/plain": [
       "                                                  hed           date  \\\n",
       "0                          Switching from Python to R  June 21, 2023   \n",
       "1              Friend simulation system, with ChatGPT  June 20, 2023   \n",
       "2   To make electric vehicle batteries, China must...  June 19, 2023   \n",
       "3                 Where people are moving in the U.S.  June 16, 2023   \n",
       "4               Chart Practice: Changing the Audience  June 15, 2023   \n",
       "5                      Life timeline in a spreadsheet  June 15, 2023   \n",
       "6                         Objectiveness distributions  June 14, 2023   \n",
       "7   Using gaps in location data to track illegal f...  June 13, 2023   \n",
       "8   Fake location signals from oil tankers avoidin...  June 13, 2023   \n",
       "9               Generative AI exaggerates stereotypes  June 12, 2023   \n",
       "10          Smoke from Canada wildfires over the U.S.   June 9, 2023   \n",
       "11                      Artificial Data Visualization   June 8, 2023   \n",
       "12             NYC city council district voting guide   June 8, 2023   \n",
       "13                        See if you are middle class   June 7, 2023   \n",
       "14              A moving drumbeat, explained visually   June 6, 2023   \n",
       "15                           Map of donut federations   June 5, 2023   \n",
       "16  Changes to Blackjack payouts so that gamblers ...   June 5, 2023   \n",
       "17     Rights at risk at the U.S. Supreme Court level   June 2, 2023   \n",
       "18  An open-access journal for visualization research   June 2, 2023   \n",
       "19                      Chart Practice: Feature Focus   June 1, 2023   \n",
       "\n",
       "                        topic  members_only  \n",
       "0                      Coding             0  \n",
       "1       Network Visualization             0  \n",
       "2                Infographics             0  \n",
       "3   Statistical Visualization             0  \n",
       "4                 The Process             1  \n",
       "5           Self-surveillance             0  \n",
       "6                Infographics             0  \n",
       "7                        Maps             0  \n",
       "8                        Maps             0  \n",
       "9                Infographics             0  \n",
       "10                       Maps             0  \n",
       "11                The Process             1  \n",
       "12               Infographics             0  \n",
       "13  Statistical Visualization             0  \n",
       "14               Infographics             0  \n",
       "15                       Maps             0  \n",
       "16                 Statistics             0  \n",
       "17               Infographics             0  \n",
       "18                       News             0  \n",
       "19                The Process             1  "
      ]
     },
     "execution_count": 25,
     "metadata": {},
     "output_type": "execute_result"
    }
   ],
   "source": [
    "fd_posts = pd.DataFrame([{\n",
    "    \"hed\": post_el.cssselect(\"h1 a\")[0].text_content().strip(),\n",
    "    \"date\": post_el.cssselect(\".byinfo a\")[0].text_content(),\n",
    "    \"topic\": post_el.cssselect(\".byinfo strong a\")[0].text_content(),\n",
    "    \"members_only\": len(post_el.cssselect(\".members-note\")),\n",
    "} for post_el in fd_dom.cssselect(\".archive-post\") ])\n",
    "\n",
    "fd_posts"
   ]
  },
  {
   "cell_type": "code",
   "execution_count": 26,
   "id": "5dd09031",
   "metadata": {
    "slideshow": {
     "slide_type": "-"
    }
   },
   "outputs": [
    {
     "data": {
      "text/plain": [
       "3"
      ]
     },
     "execution_count": 26,
     "metadata": {},
     "output_type": "execute_result"
    }
   ],
   "source": [
    "fd_posts[\"members_only\"].sum()"
   ]
  },
  {
   "cell_type": "markdown",
   "id": "e16858de-4663-4402-ab6a-8f359cecc07c",
   "metadata": {
    "slideshow": {
     "slide_type": "slide"
    }
   },
   "source": [
    "## Let's talk (and parse) `<table>`s"
   ]
  },
  {
   "cell_type": "markdown",
   "id": "b34e27dc-d1d1-4554-8267-b96f393007b6",
   "metadata": {
    "slideshow": {
     "slide_type": "-"
    }
   },
   "source": [
    "```\n",
    " ┌───────────┐\n",
    " │  <table>  │\n",
    " └─┬─────────┘\n",
    "   │  ┌───────────┐\n",
    "   ├─►│  <thead>  │\n",
    "   │  └─────┬─────┘\n",
    "   │        │  ┌───────┐\n",
    "   │        └─►│  <tr> │\n",
    "   │           └───┬───┘\n",
    "   │               │  ┌────────┐\n",
    "   │               └─►│  <th>  │\n",
    "   │                  └────────┘\n",
    "   │  ┌───────────┐\n",
    "   └─►│  <tbody>  │\n",
    "      └─────┬─────┘\n",
    "            │  ┌────────┐\n",
    "            └─►│  <tr>  │\n",
    "               └───┬────┘\n",
    "                   │  ┌────────┐\n",
    "                   └─►│  <td>  │\n",
    "                      └────────┘\n",
    "```"
   ]
  },
  {
   "cell_type": "markdown",
   "id": "ec77e4ff-db45-427d-bcdf-4d2b95eb5456",
   "metadata": {
    "slideshow": {
     "slide_type": "subslide"
    }
   },
   "source": [
    "Let's try parsing the table of giant watermelons from \"`Homework 02, Part 2: The command line is fun (I promise) (optional)`\"\n",
    "\n",
    "Here's the website: http://www.bigpumpkins.com/WeighoffResultsGPC.aspx?c=W&y=2022"
   ]
  },
  {
   "cell_type": "code",
   "execution_count": 27,
   "id": "c847c0aa-2d16-4e65-8179-0a29513f3177",
   "metadata": {
    "slideshow": {
     "slide_type": "subslide"
    }
   },
   "outputs": [],
   "source": [
    "watermelon_html = requests.get(\n",
    "    \"http://www.bigpumpkins.com/WeighoffResultsGPC.aspx?c=W&y=2022\"\n",
    ").text\n",
    "\n",
    "watermelon_dom = lxml.html.fromstring(watermelon_html)"
   ]
  },
  {
   "cell_type": "markdown",
   "id": "7c614c70-5f6b-45ad-b2f9-3e1863c1fdbd",
   "metadata": {
    "slideshow": {
     "slide_type": "subslide"
    }
   },
   "source": [
    "Let's get the table:"
   ]
  },
  {
   "cell_type": "code",
   "execution_count": 28,
   "id": "7d817ef5-ce7b-414b-ad7f-9441699588a2",
   "metadata": {
    "slideshow": {
     "slide_type": "-"
    }
   },
   "outputs": [
    {
     "data": {
      "text/plain": [
       "[<Element table at 0x11e59f4c0>,\n",
       " <Element table at 0x10b269b20>,\n",
       " <Element table at 0x11e5e49a0>,\n",
       " <Element table at 0x11e5e6020>]"
      ]
     },
     "execution_count": 28,
     "metadata": {},
     "output_type": "execute_result"
    }
   ],
   "source": [
    "watermelon_dom.cssselect(\"table\")"
   ]
  },
  {
   "cell_type": "markdown",
   "id": "0d97671d-4988-47b8-8b3c-c1278e020a83",
   "metadata": {
    "slideshow": {
     "slide_type": "fragment"
    }
   },
   "source": [
    "Hmmmmm. What's happening?"
   ]
  },
  {
   "cell_type": "markdown",
   "id": "ebbc0375-deef-44c9-82f8-b2152d817e3c",
   "metadata": {
    "slideshow": {
     "slide_type": "subslide"
    }
   },
   "source": [
    "Let's get the table *with more specificity*. How would you do that?"
   ]
  },
  {
   "cell_type": "code",
   "execution_count": 29,
   "id": "e3a09eb2-c5de-4030-97bc-46b9bcba9317",
   "metadata": {
    "slideshow": {
     "slide_type": "fragment"
    }
   },
   "outputs": [
    {
     "data": {
      "text/plain": [
       "[<Element table at 0x11e5e6020>]"
      ]
     },
     "execution_count": 29,
     "metadata": {},
     "output_type": "execute_result"
    }
   ],
   "source": [
    "watermelon_dom.cssselect(\"table.ReportResults\")"
   ]
  },
  {
   "cell_type": "code",
   "execution_count": 30,
   "id": "fb39a929-c345-4e91-baa2-da0300e454b2",
   "metadata": {
    "slideshow": {
     "slide_type": "fragment"
    }
   },
   "outputs": [],
   "source": [
    "watermelon_table = watermelon_dom.cssselect(\"table.ReportResults\")[0]"
   ]
  },
  {
   "cell_type": "markdown",
   "id": "8709eccb",
   "metadata": {
    "slideshow": {
     "slide_type": "subslide"
    }
   },
   "source": [
    "Now let's get the row elements:"
   ]
  },
  {
   "cell_type": "code",
   "execution_count": 31,
   "id": "6640232c-953c-4555-ab47-8a48586f00d1",
   "metadata": {
    "slideshow": {
     "slide_type": "-"
    }
   },
   "outputs": [
    {
     "data": {
      "text/plain": [
       "300"
      ]
     },
     "execution_count": 31,
     "metadata": {},
     "output_type": "execute_result"
    }
   ],
   "source": [
    "row_els = watermelon_table.cssselect(\"tbody tr\")\n",
    "len(row_els)"
   ]
  },
  {
   "cell_type": "markdown",
   "id": "ecb9effa-99ee-4bf0-bc4e-630f4fed2865",
   "metadata": {
    "slideshow": {
     "slide_type": "fragment"
    }
   },
   "source": [
    "Let's take a look at the first one, using `lxml.html.tostring(el)`:"
   ]
  },
  {
   "cell_type": "code",
   "execution_count": 32,
   "id": "60a08462-e690-4290-9e81-f2777d56bcba",
   "metadata": {
    "slideshow": {
     "slide_type": "subslide"
    }
   },
   "outputs": [
    {
     "data": {
      "text/plain": [
       "b'<tr><td align=\"right\">1</td><td align=\"right\">325.40</td><td>Mudd, Framk</td><td>Vine Grove</td><td>Kentucky</td><td>United States</td><td>Allardt Pumpkin Festival</td><td>305 Mudd 16</td><td>305 Mudd</td><td align=\"right\">223.0</td><td align=\"right\">303.00</td><td align=\"right\">7.0</td></tr>'"
      ]
     },
     "execution_count": 32,
     "metadata": {},
     "output_type": "execute_result"
    }
   ],
   "source": [
    "lxml.html.tostring(row_els[0])"
   ]
  },
  {
   "cell_type": "markdown",
   "id": "0436f436-8d25-44d8-9cc5-24c9564ba569",
   "metadata": {
    "slideshow": {
     "slide_type": "fragment"
    }
   },
   "source": [
    "Let's turn this row into a list, where each cell is one item in the list:"
   ]
  },
  {
   "cell_type": "code",
   "execution_count": 33,
   "id": "ee60963e-6553-402b-bb14-5135b4e14c8b",
   "metadata": {
    "slideshow": {
     "slide_type": "-"
    }
   },
   "outputs": [
    {
     "data": {
      "text/plain": [
       "['1',\n",
       " '325.40',\n",
       " 'Mudd, Framk',\n",
       " 'Vine Grove',\n",
       " 'Kentucky',\n",
       " 'United States',\n",
       " 'Allardt Pumpkin Festival',\n",
       " '305 Mudd 16',\n",
       " '305 Mudd',\n",
       " '223.0',\n",
       " '303.00',\n",
       " '7.0']"
      ]
     },
     "execution_count": 33,
     "metadata": {},
     "output_type": "execute_result"
    }
   ],
   "source": [
    "[ cell.text_content() for cell in row_els[0].cssselect(\"td\") ]"
   ]
  },
  {
   "cell_type": "markdown",
   "id": "a35316e9-68a7-41a3-9346-16c9a9d1613d",
   "metadata": {
    "slideshow": {
     "slide_type": "subslide"
    }
   },
   "source": [
    "## Exercise: How would you extract and represent data for all the rows?"
   ]
  },
  {
   "cell_type": "code",
   "execution_count": 34,
   "id": "6eee9f4f-65cc-4ca7-a97d-8cf96c15eec1",
   "metadata": {
    "slideshow": {
     "slide_type": "fragment"
    }
   },
   "outputs": [
    {
     "data": {
      "text/plain": [
       "[['1',\n",
       "  '325.40',\n",
       "  'Mudd, Framk',\n",
       "  'Vine Grove',\n",
       "  'Kentucky',\n",
       "  'United States',\n",
       "  'Allardt Pumpkin Festival',\n",
       "  '305 Mudd 16',\n",
       "  '305 Mudd',\n",
       "  '223.0',\n",
       "  '303.00',\n",
       "  '7.0'],\n",
       " ['2',\n",
       "  '309.00',\n",
       "  'McCaslin, Nick',\n",
       "  'Hawesville',\n",
       "  'Kentucky',\n",
       "  'United States',\n",
       "  'Chillicothe Halloween Festival',\n",
       "  '301.5 McCaslin',\n",
       "  'Self',\n",
       "  '224.0',\n",
       "  '307.00',\n",
       "  '1.0'],\n",
       " ['3',\n",
       "  '306.00',\n",
       "  'Vial, Andrew',\n",
       "  'Liberty',\n",
       "  'North Carolina',\n",
       "  'United States',\n",
       "  'NC State Fair GPC Weigh-Off',\n",
       "  '341.5 Vial 19',\n",
       "  '330.5 Vial B 19',\n",
       "  '223.0',\n",
       "  '301.00',\n",
       "  '2.0']]"
      ]
     },
     "execution_count": 34,
     "metadata": {},
     "output_type": "execute_result"
    }
   ],
   "source": [
    "watermelon_entries = [\n",
    "    [ cell.text_content() for cell in row.cssselect(\"td\") ]\n",
    "for row in row_els ]\n",
    "\n",
    "watermelon_entries[:3]"
   ]
  },
  {
   "cell_type": "markdown",
   "id": "e9e64792-a3fe-466a-8cc6-ad1ce8ab3a30",
   "metadata": {
    "slideshow": {
     "slide_type": "subslide"
    }
   },
   "source": [
    "Now all we're missing is the header."
   ]
  },
  {
   "cell_type": "code",
   "execution_count": 35,
   "id": "106f2021-10c5-4081-8282-5a2da6916a3b",
   "metadata": {
    "slideshow": {
     "slide_type": "fragment"
    }
   },
   "outputs": [
    {
     "data": {
      "text/plain": [
       "['Place',\n",
       " 'Weight (lbs)',\n",
       " 'Grower Name',\n",
       " 'City',\n",
       " 'State/Prov',\n",
       " 'Country',\n",
       " 'GPC Site',\n",
       " 'Seed (Mother)',\n",
       " 'Pollinator (Father)',\n",
       " 'OTT',\n",
       " 'Est. Weight',\n",
       " 'Pct. Chart']"
      ]
     },
     "execution_count": 35,
     "metadata": {},
     "output_type": "execute_result"
    }
   ],
   "source": [
    "watermelon_headers = [ header.text_content() for header in watermelon_table.cssselect(\"thead th\") ]\n",
    "watermelon_headers"
   ]
  },
  {
   "cell_type": "markdown",
   "id": "0935c477-6c01-4b1e-aced-1ce661474c09",
   "metadata": {
    "slideshow": {
     "slide_type": "subslide"
    }
   },
   "source": [
    "Now let's put it all together, making a `DataFrame` that uses the headers as column names:"
   ]
  },
  {
   "cell_type": "code",
   "execution_count": 36,
   "id": "96f83726-60c7-4b2a-abe6-808bd8b5a2cf",
   "metadata": {
    "slideshow": {
     "slide_type": "fragment"
    }
   },
   "outputs": [
    {
     "data": {
      "text/html": [
       "<div>\n",
       "<style scoped>\n",
       "    .dataframe tbody tr th:only-of-type {\n",
       "        vertical-align: middle;\n",
       "    }\n",
       "\n",
       "    .dataframe tbody tr th {\n",
       "        vertical-align: top;\n",
       "    }\n",
       "\n",
       "    .dataframe thead th {\n",
       "        text-align: right;\n",
       "    }\n",
       "</style>\n",
       "<table border=\"1\" class=\"dataframe\">\n",
       "  <thead>\n",
       "    <tr style=\"text-align: right;\">\n",
       "      <th></th>\n",
       "      <th>Place</th>\n",
       "      <th>Weight (lbs)</th>\n",
       "      <th>Grower Name</th>\n",
       "      <th>City</th>\n",
       "      <th>State/Prov</th>\n",
       "      <th>Country</th>\n",
       "      <th>GPC Site</th>\n",
       "      <th>Seed (Mother)</th>\n",
       "      <th>Pollinator (Father)</th>\n",
       "      <th>OTT</th>\n",
       "      <th>Est. Weight</th>\n",
       "      <th>Pct. Chart</th>\n",
       "    </tr>\n",
       "  </thead>\n",
       "  <tbody>\n",
       "    <tr>\n",
       "      <th>0</th>\n",
       "      <td>1</td>\n",
       "      <td>325.40</td>\n",
       "      <td>Mudd, Framk</td>\n",
       "      <td>Vine Grove</td>\n",
       "      <td>Kentucky</td>\n",
       "      <td>United States</td>\n",
       "      <td>Allardt Pumpkin Festival</td>\n",
       "      <td>305 Mudd 16</td>\n",
       "      <td>305 Mudd</td>\n",
       "      <td>223.0</td>\n",
       "      <td>303.00</td>\n",
       "      <td>7.0</td>\n",
       "    </tr>\n",
       "    <tr>\n",
       "      <th>1</th>\n",
       "      <td>2</td>\n",
       "      <td>309.00</td>\n",
       "      <td>McCaslin, Nick</td>\n",
       "      <td>Hawesville</td>\n",
       "      <td>Kentucky</td>\n",
       "      <td>United States</td>\n",
       "      <td>Chillicothe Halloween Festival</td>\n",
       "      <td>301.5 McCaslin</td>\n",
       "      <td>Self</td>\n",
       "      <td>224.0</td>\n",
       "      <td>307.00</td>\n",
       "      <td>1.0</td>\n",
       "    </tr>\n",
       "    <tr>\n",
       "      <th>2</th>\n",
       "      <td>3</td>\n",
       "      <td>306.00</td>\n",
       "      <td>Vial, Andrew</td>\n",
       "      <td>Liberty</td>\n",
       "      <td>North Carolina</td>\n",
       "      <td>United States</td>\n",
       "      <td>NC State Fair GPC Weigh-Off</td>\n",
       "      <td>341.5 Vial 19</td>\n",
       "      <td>330.5 Vial B 19</td>\n",
       "      <td>223.0</td>\n",
       "      <td>301.00</td>\n",
       "      <td>2.0</td>\n",
       "    </tr>\n",
       "    <tr>\n",
       "      <th>3</th>\n",
       "      <td>4</td>\n",
       "      <td>302.50</td>\n",
       "      <td>Mudd, Frank</td>\n",
       "      <td>Vine Grove</td>\n",
       "      <td>Kentucky</td>\n",
       "      <td>United States</td>\n",
       "      <td>Roberts Family Farms</td>\n",
       "      <td>305 Mudd 16</td>\n",
       "      <td>Self</td>\n",
       "      <td>221.0</td>\n",
       "      <td>297.00</td>\n",
       "      <td>2.0</td>\n",
       "    </tr>\n",
       "    <tr>\n",
       "      <th>4</th>\n",
       "      <td>5</td>\n",
       "      <td>291.50</td>\n",
       "      <td>VanBeck, Patrick</td>\n",
       "      <td>Willlow Spring</td>\n",
       "      <td>North Carolina</td>\n",
       "      <td>United States</td>\n",
       "      <td>NC State Fair GPC Weigh-Off</td>\n",
       "      <td>Carolina Cross Burpee</td>\n",
       "      <td>305 Vial DMG</td>\n",
       "      <td>221.0</td>\n",
       "      <td>297.00</td>\n",
       "      <td>-2.0</td>\n",
       "    </tr>\n",
       "  </tbody>\n",
       "</table>\n",
       "</div>"
      ],
      "text/plain": [
       "  Place Weight (lbs)       Grower Name            City      State/Prov  \\\n",
       "0     1       325.40       Mudd, Framk      Vine Grove        Kentucky   \n",
       "1     2       309.00    McCaslin, Nick      Hawesville        Kentucky   \n",
       "2     3       306.00      Vial, Andrew         Liberty  North Carolina   \n",
       "3     4       302.50       Mudd, Frank      Vine Grove        Kentucky   \n",
       "4     5       291.50  VanBeck, Patrick  Willlow Spring  North Carolina   \n",
       "\n",
       "         Country                        GPC Site          Seed (Mother)  \\\n",
       "0  United States        Allardt Pumpkin Festival            305 Mudd 16   \n",
       "1  United States  Chillicothe Halloween Festival         301.5 McCaslin   \n",
       "2  United States     NC State Fair GPC Weigh-Off          341.5 Vial 19   \n",
       "3  United States            Roberts Family Farms            305 Mudd 16   \n",
       "4  United States     NC State Fair GPC Weigh-Off  Carolina Cross Burpee   \n",
       "\n",
       "  Pollinator (Father)    OTT Est. Weight Pct. Chart  \n",
       "0            305 Mudd  223.0      303.00        7.0  \n",
       "1                Self  224.0      307.00        1.0  \n",
       "2     330.5 Vial B 19  223.0      301.00        2.0  \n",
       "3                Self  221.0      297.00        2.0  \n",
       "4        305 Vial DMG  221.0      297.00       -2.0  "
      ]
     },
     "execution_count": 36,
     "metadata": {},
     "output_type": "execute_result"
    }
   ],
   "source": [
    "watermelon_df = pd.DataFrame(watermelon_entries, columns=watermelon_headers)\n",
    "watermelon_df.head()"
   ]
  },
  {
   "cell_type": "markdown",
   "id": "cee308ba-3204-4f00-aabe-332fba1b4e38",
   "metadata": {
    "slideshow": {
     "slide_type": "subslide"
    }
   },
   "source": [
    "## Q: What grower entered the most melons?"
   ]
  },
  {
   "cell_type": "code",
   "execution_count": 37,
   "id": "edfc90f2-edd4-4d7e-b45e-0c6353f2b1fc",
   "metadata": {
    "slideshow": {
     "slide_type": "fragment"
    }
   },
   "outputs": [
    {
     "data": {
      "text/plain": [
       "Grower Name\n",
       "Melka, Friedrich    6\n",
       "Smiley, Samantha    5\n",
       "Kent, Chris         5\n",
       "McCaslin, Nick      5\n",
       "Mudd, Frank         5\n",
       "Name: count, dtype: int64"
      ]
     },
     "execution_count": 37,
     "metadata": {},
     "output_type": "execute_result"
    }
   ],
   "source": [
    "watermelon_df[\"Grower Name\"].value_counts().head()"
   ]
  },
  {
   "cell_type": "markdown",
   "id": "726c6060-38ff-47ab-847d-d7fa8e23688d",
   "metadata": {
    "slideshow": {
     "slide_type": "subslide"
    }
   },
   "source": [
    "## Q: What country grew the most melons?"
   ]
  },
  {
   "cell_type": "code",
   "execution_count": 38,
   "id": "0d40d2b1-2e6b-43f2-b923-2f96c22107da",
   "metadata": {
    "slideshow": {
     "slide_type": "fragment"
    }
   },
   "outputs": [
    {
     "data": {
      "text/plain": [
       "Country\n",
       "United States    213\n",
       "Canada            29\n",
       "Germany           15\n",
       "Italy             11\n",
       "Austria            8\n",
       "Name: count, dtype: int64"
      ]
     },
     "execution_count": 38,
     "metadata": {},
     "output_type": "execute_result"
    }
   ],
   "source": [
    "watermelon_df[\"Country\"].value_counts().head()"
   ]
  },
  {
   "cell_type": "markdown",
   "id": "d94428da-d648-4cc8-a282-2b5d92bee84d",
   "metadata": {
    "slideshow": {
     "slide_type": "subslide"
    }
   },
   "source": [
    "## Q: Which growers entered the most total weight in watermelons?"
   ]
  },
  {
   "cell_type": "code",
   "execution_count": 39,
   "id": "11208dfe-9c1a-4551-b2cc-ccc07042edfb",
   "metadata": {
    "slideshow": {
     "slide_type": "fragment"
    }
   },
   "outputs": [
    {
     "data": {
      "text/plain": [
       "Grower Name\n",
       "McCaslin, Nick      1327.0\n",
       "Mudd, Frank         1203.2\n",
       "Kent, Chris         1163.0\n",
       "Smiley, Samantha    1101.3\n",
       "Houston, Hank       1044.0\n",
       "Name: Weight (lbs), dtype: float64"
      ]
     },
     "execution_count": 39,
     "metadata": {},
     "output_type": "execute_result"
    }
   ],
   "source": [
    "(\n",
    "    watermelon_df\n",
    "    .astype({ \"Weight (lbs)\": float })\n",
    "    .groupby(\"Grower Name\")\n",
    "    [\"Weight (lbs)\"]\n",
    "    .sum()\n",
    "    .sort_values(ascending=False)\n",
    "    .head()\n",
    ")"
   ]
  },
  {
   "cell_type": "markdown",
   "id": "f11ae2a7-75b2-46bf-9555-88492f65349e",
   "metadata": {
    "slideshow": {
     "slide_type": "skip"
    }
   },
   "source": [
    "---\n",
    "\n",
    "---\n",
    "\n",
    "---"
   ]
  }
 ],
 "metadata": {
  "celltoolbar": "Slideshow",
  "kernelspec": {
   "display_name": "Python 3 (ipykernel)",
   "language": "python",
   "name": "python3"
  },
  "language_info": {
   "codemirror_mode": {
    "name": "ipython",
    "version": 3
   },
   "file_extension": ".py",
   "mimetype": "text/x-python",
   "name": "python",
   "nbconvert_exporter": "python",
   "pygments_lexer": "ipython3",
   "version": "3.10.4"
  }
 },
 "nbformat": 4,
 "nbformat_minor": 5
}
