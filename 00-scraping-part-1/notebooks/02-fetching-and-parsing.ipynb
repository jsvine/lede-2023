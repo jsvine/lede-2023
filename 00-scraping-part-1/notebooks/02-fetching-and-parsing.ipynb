{
 "cells": [
  {
   "cell_type": "markdown",
   "id": "f21912d6-cf4d-462f-9794-fa3f175684da",
   "metadata": {
    "slideshow": {
     "slide_type": "slide"
    }
   },
   "source": [
    "# 🌐 Scraping, Part 1.2: HTML → Python\n",
    "\n",
    "*Fetching and parsing HTML*"
   ]
  },
  {
   "cell_type": "markdown",
   "id": "267cf586-3ca8-4182-8628-cb62831b3a88",
   "metadata": {
    "slideshow": {
     "slide_type": "slide"
    },
    "tags": []
   },
   "source": [
    "## How can we *get* HTML, so that we can parse it?"
   ]
  },
  {
   "cell_type": "markdown",
   "id": "198f62a3-853f-4ab4-b4f4-b14bdf586648",
   "metadata": {
    "slideshow": {
     "slide_type": "fragment"
    }
   },
   "source": [
    "- You can always just save HTML from your __browser__: `File->Save Page As`\n",
    "\n",
    "- You can also use the __command line__ to fetch HTML: `curl https://example.com > ~/Downloads/example-source.html`\n",
    "\n",
    "- In this class, though, we'll focus on using __Python__ to fetch HTML"
   ]
  },
  {
   "cell_type": "markdown",
   "id": "c2b38c4a-4eb8-4023-95f0-c50531b28506",
   "metadata": {
    "slideshow": {
     "slide_type": "slide"
    }
   },
   "source": [
    "## ⚠️ One note of caution\n",
    "\n",
    "- All of these methods will get you the page's *original* HTML\n",
    "- ... but webpages are *dynamic*, and JavaScript running on the page can add/remove/alter elements on it.\n",
    "- Sometimes the data you want will be the result of that JavaScript code, in which case: 🤷‍♂️\n",
    "- Just kidding. Leon will be teaching you how to deal with those situations.\n",
    "\n",
    "---"
   ]
  },
  {
   "cell_type": "markdown",
   "id": "642a5186-cf54-4534-b5e1-2ce32ed5a6a7",
   "metadata": {
    "slideshow": {
     "slide_type": "slide"
    }
   },
   "source": [
    "## Let's fetch some HTML with Python!"
   ]
  },
  {
   "cell_type": "markdown",
   "id": "1f34158c-9eb5-42b4-9ce0-105ad969ffb7",
   "metadata": {
    "slideshow": {
     "slide_type": "subslide"
    },
    "tags": []
   },
   "source": [
    "If you haven't already, install the `requests` library (in your virtual environment):\n",
    "\n",
    "```sh\n",
    "pip install requests\n",
    "```\n",
    "\n",
    "Or, from within Jupyter:\n",
    "\n",
    "```sh\n",
    "!pip install requests\n",
    "```"
   ]
  },
  {
   "cell_type": "code",
   "execution_count": 1,
   "id": "bb60ded6-73cb-4241-bb78-1a22b8c4f884",
   "metadata": {
    "execution": {
     "iopub.execute_input": "2023-06-22T03:06:13.693596Z",
     "iopub.status.busy": "2023-06-22T03:06:13.692946Z",
     "iopub.status.idle": "2023-06-22T03:06:13.742293Z",
     "shell.execute_reply": "2023-06-22T03:06:13.741861Z"
    },
    "slideshow": {
     "slide_type": "subslide"
    },
    "tags": []
   },
   "outputs": [],
   "source": [
    "import requests"
   ]
  },
  {
   "cell_type": "code",
   "execution_count": 2,
   "id": "caf4aa21-937d-4be2-ac42-d8945e8385d3",
   "metadata": {
    "execution": {
     "iopub.execute_input": "2023-06-22T03:06:13.744652Z",
     "iopub.status.busy": "2023-06-22T03:06:13.744449Z",
     "iopub.status.idle": "2023-06-22T03:06:13.800317Z",
     "shell.execute_reply": "2023-06-22T03:06:13.799919Z"
    },
    "slideshow": {
     "slide_type": "fragment"
    },
    "tags": []
   },
   "outputs": [
    {
     "data": {
      "text/plain": [
       "<Response [200]>"
      ]
     },
     "execution_count": 2,
     "metadata": {},
     "output_type": "execute_result"
    }
   ],
   "source": [
    "example_http_response = requests.get(\"https://example.com\")\n",
    "example_http_response"
   ]
  },
  {
   "cell_type": "code",
   "execution_count": 3,
   "id": "7398bc2c-27a8-4738-8946-db01c17a307a",
   "metadata": {
    "execution": {
     "iopub.execute_input": "2023-06-22T03:06:13.802513Z",
     "iopub.status.busy": "2023-06-22T03:06:13.802347Z",
     "iopub.status.idle": "2023-06-22T03:06:13.804807Z",
     "shell.execute_reply": "2023-06-22T03:06:13.804467Z"
    },
    "slideshow": {
     "slide_type": "fragment"
    },
    "tags": []
   },
   "outputs": [
    {
     "name": "stdout",
     "output_type": "stream",
     "text": [
      "<!doctype html>\n",
      "<html>\n",
      "<head>\n",
      "    <title>Example Domain</title>\n",
      "\n",
      "    <meta charset=\"utf-8\" />\n",
      "    <meta http-equiv=\"Content-type\" content=\"text/html; charset=utf-8\" />\n",
      "    <meta name=\"viewport\" content=\"width=device-width, initial-scale=1\" />\n",
      "    <style type=\"text/css\">\n",
      "    body {\n",
      "        background-color: #f0f0f2;\n",
      "        margin: 0;\n",
      "        padding: 0;\n",
      "        font-family: -apple-system, system-ui, BlinkMacSystemFont, \"Segoe UI\", \"Open Sans\", \"Helvetica Neue\", Helvetica, Arial, sans-serif;\n",
      "        \n",
      "    }\n",
      "    div {\n",
      "        width: 600px;\n",
      "        margin: 5em auto;\n",
      "        padding: 2em;\n",
      "        background-color: #fdfdff;\n",
      "        border-radius: 0.5em;\n",
      "        box-shadow: 2px 3px 7px 2px rgba(0,0,0,0.02);\n",
      "    }\n",
      "    a:link, a:visited {\n",
      "        color: #38488f;\n",
      "        text-decoration: none;\n",
      "    }\n",
      "    @media (max-width: 700px) {\n",
      "        div {\n",
      "            margin: 0 auto;\n",
      "            width: auto;\n",
      "        }\n",
      "    }\n",
      "    </style>    \n",
      "</head>\n",
      "\n",
      "<body>\n",
      "<div>\n",
      "    <h1>Example Domain</h1>\n",
      "    <p>This domain is for use in illustrative examples in documents. You may use this\n",
      "    domain in literature without prior coordination or asking for permission.</p>\n",
      "    <p><a href=\"https://www.iana.org/domains/example\">More information...</a></p>\n",
      "</div>\n",
      "</body>\n",
      "</html>\n",
      "\n"
     ]
    }
   ],
   "source": [
    "example_html = example_http_response.text\n",
    "print(example_html)"
   ]
  },
  {
   "cell_type": "markdown",
   "id": "dc5e7504-7e21-44b3-89bc-712e128702cc",
   "metadata": {
    "slideshow": {
     "slide_type": "slide"
    }
   },
   "source": [
    "## Exercise: Try this with a few of your favorite websites\n",
    "\n",
    "A quick one-liner:\n",
    "\n",
    "```python\n",
    "print(requests.get(\"https://myURL.com\").text)\n",
    "```\n",
    "\n",
    "What do you see?"
   ]
  },
  {
   "cell_type": "markdown",
   "id": "9ca820dc-6cba-418d-b8e7-84fa2658e25c",
   "metadata": {
    "slideshow": {
     "slide_type": "slide"
    }
   },
   "source": [
    "## HTML → DOM\n",
    "\n",
    "In order to work with HTML inside of Python, we'll need to convert that raw text into a Python representation of the tree of elements — the \"DOM\" (Document Object Model) — that the HTML represents.\n",
    "\n",
    "In Python there are two popular libraries for doing this `BeautifulSoup` and `lxml`. We'll practice with both, so you can understand their similarities and differences."
   ]
  },
  {
   "cell_type": "markdown",
   "id": "f396e5f3-244d-4fcf-a880-3d29148d325e",
   "metadata": {
    "slideshow": {
     "slide_type": "slide"
    }
   },
   "source": [
    "## Let's start with `BeautifulSoup`\n",
    "\n",
    "If you haven't already installed it:\n",
    "\n",
    "```\n",
    "pip install beautifulsoup4\n",
    "```"
   ]
  },
  {
   "cell_type": "markdown",
   "id": "22cb6491-e7e3-4bc6-b466-b873642e0bcb",
   "metadata": {
    "slideshow": {
     "slide_type": "subslide"
    }
   },
   "source": [
    "Import the library:"
   ]
  },
  {
   "cell_type": "code",
   "execution_count": 4,
   "id": "d171b392-b96b-41dd-bad2-462538d7bfb5",
   "metadata": {
    "execution": {
     "iopub.execute_input": "2023-06-22T03:06:13.806951Z",
     "iopub.status.busy": "2023-06-22T03:06:13.806799Z",
     "iopub.status.idle": "2023-06-22T03:06:13.847874Z",
     "shell.execute_reply": "2023-06-22T03:06:13.847534Z"
    },
    "slideshow": {
     "slide_type": "-"
    }
   },
   "outputs": [],
   "source": [
    "from bs4 import BeautifulSoup"
   ]
  },
  {
   "cell_type": "markdown",
   "id": "06df904e-0a6c-4989-9b04-524041e5c9a4",
   "metadata": {
    "slideshow": {
     "slide_type": "subslide"
    }
   },
   "source": [
    "Convert the HTML text to a `BeautifulSoup` object:"
   ]
  },
  {
   "cell_type": "code",
   "execution_count": 5,
   "id": "955c6d8e-eef2-4e88-bdbe-bb469bac08e9",
   "metadata": {
    "execution": {
     "iopub.execute_input": "2023-06-22T03:06:13.849644Z",
     "iopub.status.busy": "2023-06-22T03:06:13.849534Z",
     "iopub.status.idle": "2023-06-22T03:06:13.852158Z",
     "shell.execute_reply": "2023-06-22T03:06:13.851918Z"
    },
    "slideshow": {
     "slide_type": "-"
    }
   },
   "outputs": [
    {
     "data": {
      "text/plain": [
       "bs4.BeautifulSoup"
      ]
     },
     "execution_count": 5,
     "metadata": {},
     "output_type": "execute_result"
    }
   ],
   "source": [
    "soup = BeautifulSoup(example_html)\n",
    "type(soup)"
   ]
  },
  {
   "cell_type": "markdown",
   "id": "dfe7b9da-523f-42bd-9a02-a88cd82d973b",
   "metadata": {
    "slideshow": {
     "slide_type": "subslide"
    }
   },
   "source": [
    "Select the `<title>` tag:"
   ]
  },
  {
   "cell_type": "code",
   "execution_count": 6,
   "id": "a60e1ad3-6729-4458-85e4-1f54ac242c0d",
   "metadata": {
    "execution": {
     "iopub.execute_input": "2023-06-22T03:06:13.853711Z",
     "iopub.status.busy": "2023-06-22T03:06:13.853600Z",
     "iopub.status.idle": "2023-06-22T03:06:13.855809Z",
     "shell.execute_reply": "2023-06-22T03:06:13.855549Z"
    },
    "slideshow": {
     "slide_type": "-"
    }
   },
   "outputs": [
    {
     "data": {
      "text/plain": [
       "<title>Example Domain</title>"
      ]
     },
     "execution_count": 6,
     "metadata": {},
     "output_type": "execute_result"
    }
   ],
   "source": [
    "soup.title"
   ]
  },
  {
   "cell_type": "markdown",
   "id": "9ad0aa26-2668-4dff-af8e-95490bce770d",
   "metadata": {
    "slideshow": {
     "slide_type": "fragment"
    }
   },
   "source": [
    "We can also do it like this:"
   ]
  },
  {
   "cell_type": "code",
   "execution_count": 7,
   "id": "8638b535-7db0-4678-bef0-ca7b967c26a3",
   "metadata": {
    "execution": {
     "iopub.execute_input": "2023-06-22T03:06:13.857283Z",
     "iopub.status.busy": "2023-06-22T03:06:13.857181Z",
     "iopub.status.idle": "2023-06-22T03:06:13.859349Z",
     "shell.execute_reply": "2023-06-22T03:06:13.859114Z"
    },
    "slideshow": {
     "slide_type": "-"
    }
   },
   "outputs": [
    {
     "data": {
      "text/plain": [
       "<title>Example Domain</title>"
      ]
     },
     "execution_count": 7,
     "metadata": {},
     "output_type": "execute_result"
    }
   ],
   "source": [
    "soup.head.title"
   ]
  },
  {
   "cell_type": "markdown",
   "id": "c86278e0-2ff6-4d43-bafd-10bd93fd4151",
   "metadata": {
    "slideshow": {
     "slide_type": "subslide"
    }
   },
   "source": [
    "Get the text of that tag:"
   ]
  },
  {
   "cell_type": "code",
   "execution_count": 8,
   "id": "393a5b53-b62f-4576-8e9d-97e599d07217",
   "metadata": {
    "execution": {
     "iopub.execute_input": "2023-06-22T03:06:13.860877Z",
     "iopub.status.busy": "2023-06-22T03:06:13.860785Z",
     "iopub.status.idle": "2023-06-22T03:06:13.862774Z",
     "shell.execute_reply": "2023-06-22T03:06:13.862539Z"
    },
    "slideshow": {
     "slide_type": "-"
    }
   },
   "outputs": [
    {
     "data": {
      "text/plain": [
       "'Example Domain'"
      ]
     },
     "execution_count": 8,
     "metadata": {},
     "output_type": "execute_result"
    }
   ],
   "source": [
    "soup.head.title.text"
   ]
  },
  {
   "cell_type": "markdown",
   "id": "3a2ea4f8-12e6-4676-87a3-743324444fe5",
   "metadata": {
    "slideshow": {
     "slide_type": "subslide"
    }
   },
   "source": [
    "## Q: How would you get the `<p>` tags?"
   ]
  },
  {
   "cell_type": "code",
   "execution_count": 9,
   "id": "dec0327d-46e3-469e-9a0e-5da16e175ef2",
   "metadata": {
    "execution": {
     "iopub.execute_input": "2023-06-22T03:06:13.864933Z",
     "iopub.status.busy": "2023-06-22T03:06:13.864823Z",
     "iopub.status.idle": "2023-06-22T03:06:13.866941Z",
     "shell.execute_reply": "2023-06-22T03:06:13.866715Z"
    },
    "slideshow": {
     "slide_type": "fragment"
    }
   },
   "outputs": [
    {
     "data": {
      "text/plain": [
       "<p>This domain is for use in illustrative examples in documents. You may use this\n",
       "    domain in literature without prior coordination or asking for permission.</p>"
      ]
     },
     "execution_count": 9,
     "metadata": {},
     "output_type": "execute_result"
    }
   ],
   "source": [
    "soup.body.p"
   ]
  },
  {
   "cell_type": "markdown",
   "id": "13cc12c3-af63-4fa1-885e-f4a365c6d7da",
   "metadata": {
    "slideshow": {
     "slide_type": "fragment"
    }
   },
   "source": [
    "## Q: What's wrong with that?"
   ]
  },
  {
   "cell_type": "markdown",
   "id": "782c2bb1",
   "metadata": {
    "slideshow": {
     "slide_type": "fragment"
    }
   },
   "source": [
    "## A: There are two `<p>` tags in the HTML, but this only returns the first"
   ]
  },
  {
   "cell_type": "markdown",
   "id": "957f7603-f3e0-47ae-a4af-2dd74a6a2e6c",
   "metadata": {
    "slideshow": {
     "slide_type": "subslide"
    }
   },
   "source": [
    "`.find_all(tagname)` to the rescue:"
   ]
  },
  {
   "cell_type": "code",
   "execution_count": 10,
   "id": "6fb8084e-e69e-4db0-a0a9-a9a127874ac0",
   "metadata": {
    "execution": {
     "iopub.execute_input": "2023-06-22T03:06:13.868576Z",
     "iopub.status.busy": "2023-06-22T03:06:13.868471Z",
     "iopub.status.idle": "2023-06-22T03:06:13.870632Z",
     "shell.execute_reply": "2023-06-22T03:06:13.870387Z"
    },
    "slideshow": {
     "slide_type": "-"
    }
   },
   "outputs": [
    {
     "data": {
      "text/plain": [
       "[<p>This domain is for use in illustrative examples in documents. You may use this\n",
       "     domain in literature without prior coordination or asking for permission.</p>,\n",
       " <p><a href=\"https://www.iana.org/domains/example\">More information...</a></p>]"
      ]
     },
     "execution_count": 10,
     "metadata": {},
     "output_type": "execute_result"
    }
   ],
   "source": [
    "all_p_tags = soup.body.find_all(\"p\")\n",
    "all_p_tags"
   ]
  },
  {
   "cell_type": "code",
   "execution_count": 11,
   "id": "fcaf8bb1-4bbb-4e3c-a712-f913c04f6dd1",
   "metadata": {
    "execution": {
     "iopub.execute_input": "2023-06-22T03:06:13.872034Z",
     "iopub.status.busy": "2023-06-22T03:06:13.871933Z",
     "iopub.status.idle": "2023-06-22T03:06:13.873619Z",
     "shell.execute_reply": "2023-06-22T03:06:13.873375Z"
    },
    "slideshow": {
     "slide_type": "fragment"
    }
   },
   "outputs": [
    {
     "name": "stdout",
     "output_type": "stream",
     "text": [
      "Para. 1: This domain is for use in illustrative examples in documents. You may use this\n",
      "    domain in literature without prior coordination or asking for permission.\n",
      "---\n",
      "Para. 2: More information...\n",
      "---\n"
     ]
    }
   ],
   "source": [
    "for i, p in enumerate(all_p_tags):\n",
    "    print(f\"Para. {i+1}: {p.text}\")\n",
    "    print(\"---\")"
   ]
  },
  {
   "cell_type": "markdown",
   "id": "7e03cdf9-6631-4595-8e93-4115ec6c42bd",
   "metadata": {
    "slideshow": {
     "slide_type": "fragment"
    }
   },
   "source": [
    "## Q: What do you notice?"
   ]
  },
  {
   "cell_type": "code",
   "execution_count": 12,
   "id": "e0df8594",
   "metadata": {
    "execution": {
     "iopub.execute_input": "2023-06-22T03:06:13.875061Z",
     "iopub.status.busy": "2023-06-22T03:06:13.874960Z",
     "iopub.status.idle": "2023-06-22T03:06:13.876789Z",
     "shell.execute_reply": "2023-06-22T03:06:13.876557Z"
    },
    "slideshow": {
     "slide_type": "-"
    }
   },
   "outputs": [
    {
     "name": "stdout",
     "output_type": "stream",
     "text": [
      "Para. 1: This domain is for use in illustrative examples in documents. You may use this\n",
      "    domain in literature without prior coordination or asking for permission.\n",
      "---\n",
      "Para. 2: More information...\n",
      "---\n"
     ]
    }
   ],
   "source": [
    "for i, p in enumerate(all_p_tags):\n",
    "    print(f\"Para. {i+1}: {p.text}\")\n",
    "    print(\"---\")"
   ]
  },
  {
   "cell_type": "markdown",
   "id": "f4804313-e8ce-443c-bfad-a878186c15ae",
   "metadata": {
    "slideshow": {
     "slide_type": "fragment"
    }
   },
   "source": [
    "That's right: `.text` gets all text content (and *only* text content) inside an element, even if it's nested inside one of that element's children."
   ]
  },
  {
   "cell_type": "markdown",
   "id": "a98e886c-f33e-4f80-b7c4-fc3fe34680a8",
   "metadata": {
    "slideshow": {
     "slide_type": "subslide"
    }
   },
   "source": [
    "## Extracting attributes\n",
    "\n",
    "How do we get attributes, like the `<a>` tag's `href`? \n",
    "\n",
    "Like this:\n",
    "\n",
    "```python\n",
    "element[\"attribute_name\"]\n",
    "```"
   ]
  },
  {
   "cell_type": "code",
   "execution_count": 13,
   "id": "e99c7b9b-59df-49fa-bd72-372c22a9e509",
   "metadata": {
    "execution": {
     "iopub.execute_input": "2023-06-22T03:06:13.878317Z",
     "iopub.status.busy": "2023-06-22T03:06:13.878223Z",
     "iopub.status.idle": "2023-06-22T03:06:13.880136Z",
     "shell.execute_reply": "2023-06-22T03:06:13.879900Z"
    },
    "slideshow": {
     "slide_type": "-"
    }
   },
   "outputs": [
    {
     "data": {
      "text/plain": [
       "'https://www.iana.org/domains/example'"
      ]
     },
     "execution_count": 13,
     "metadata": {},
     "output_type": "execute_result"
    }
   ],
   "source": [
    "a_tag = soup.body.a  # Just getting the first\n",
    "a_tag[\"href\"]"
   ]
  },
  {
   "cell_type": "markdown",
   "id": "e01b04ce-4406-49bf-85d1-e1406664f493",
   "metadata": {
    "slideshow": {
     "slide_type": "slide"
    }
   },
   "source": [
    "## Now let's do the same with `lxml`\n",
    "\n",
    "```\n",
    "pip install lxml\n",
    "```"
   ]
  },
  {
   "cell_type": "markdown",
   "id": "f622de98-dd4f-4997-98da-7a697500ca6d",
   "metadata": {
    "slideshow": {
     "slide_type": "subslide"
    }
   },
   "source": [
    "Import the library:"
   ]
  },
  {
   "cell_type": "code",
   "execution_count": 14,
   "id": "21f84702-4fa7-41ca-ac70-b1eedf6b06e5",
   "metadata": {
    "execution": {
     "iopub.execute_input": "2023-06-22T03:06:13.881666Z",
     "iopub.status.busy": "2023-06-22T03:06:13.881566Z",
     "iopub.status.idle": "2023-06-22T03:06:13.884965Z",
     "shell.execute_reply": "2023-06-22T03:06:13.884709Z"
    },
    "slideshow": {
     "slide_type": "-"
    }
   },
   "outputs": [],
   "source": [
    "import lxml.html"
   ]
  },
  {
   "cell_type": "markdown",
   "id": "5300e155-e869-465c-9b9c-57fd2a355f6d",
   "metadata": {
    "slideshow": {
     "slide_type": "fragment"
    }
   },
   "source": [
    "Convert the HTML text to an `lxml.html.HtmlElement` object:"
   ]
  },
  {
   "cell_type": "code",
   "execution_count": 15,
   "id": "4c95e736-8696-4b8b-9342-7c2d2dcba375",
   "metadata": {
    "execution": {
     "iopub.execute_input": "2023-06-22T03:06:13.886335Z",
     "iopub.status.busy": "2023-06-22T03:06:13.886255Z",
     "iopub.status.idle": "2023-06-22T03:06:13.888435Z",
     "shell.execute_reply": "2023-06-22T03:06:13.888194Z"
    },
    "slideshow": {
     "slide_type": "-"
    }
   },
   "outputs": [
    {
     "data": {
      "text/plain": [
       "lxml.html.HtmlElement"
      ]
     },
     "execution_count": 15,
     "metadata": {},
     "output_type": "execute_result"
    }
   ],
   "source": [
    "dom = lxml.html.fromstring(example_html)\n",
    "type(dom)"
   ]
  },
  {
   "cell_type": "markdown",
   "id": "9a8139b8-1ebe-49d7-8725-00c99f0da258",
   "metadata": {
    "slideshow": {
     "slide_type": "subslide"
    }
   },
   "source": [
    "Select the `<title>` tag:"
   ]
  },
  {
   "cell_type": "code",
   "execution_count": 16,
   "id": "75b82f27-5097-42be-ade2-cf2c4cce55ba",
   "metadata": {
    "execution": {
     "iopub.execute_input": "2023-06-22T03:06:13.889894Z",
     "iopub.status.busy": "2023-06-22T03:06:13.889821Z",
     "iopub.status.idle": "2023-06-22T03:06:13.891921Z",
     "shell.execute_reply": "2023-06-22T03:06:13.891644Z"
    }
   },
   "outputs": [
    {
     "data": {
      "text/plain": [
       "<Element title at 0x1084675b0>"
      ]
     },
     "execution_count": 16,
     "metadata": {},
     "output_type": "execute_result"
    }
   ],
   "source": [
    "# This is equivalent to soup.head.title\n",
    "\n",
    "dom.head.find(\"title\")"
   ]
  },
  {
   "cell_type": "markdown",
   "id": "c103a72a-f08f-4e3d-ae71-b1a4d015807f",
   "metadata": {
    "slideshow": {
     "slide_type": "fragment"
    }
   },
   "source": [
    "To get the text inside an element, call `.text_content()` (the equivalent to `.text` in `BeautifulSoup`):"
   ]
  },
  {
   "cell_type": "code",
   "execution_count": 17,
   "id": "45fdd7f4-e312-4162-9336-9c062fc768c9",
   "metadata": {
    "execution": {
     "iopub.execute_input": "2023-06-22T03:06:13.893434Z",
     "iopub.status.busy": "2023-06-22T03:06:13.893351Z",
     "iopub.status.idle": "2023-06-22T03:06:13.895403Z",
     "shell.execute_reply": "2023-06-22T03:06:13.895168Z"
    }
   },
   "outputs": [
    {
     "data": {
      "text/plain": [
       "'Example Domain'"
      ]
     },
     "execution_count": 17,
     "metadata": {},
     "output_type": "execute_result"
    }
   ],
   "source": [
    "dom.head.find(\"title\").text_content()"
   ]
  },
  {
   "cell_type": "markdown",
   "id": "7114e071-bb4a-46dd-833a-05d816852ca5",
   "metadata": {
    "slideshow": {
     "slide_type": "subslide"
    }
   },
   "source": [
    "## Q: How would you get the `<p>` tags?"
   ]
  },
  {
   "cell_type": "code",
   "execution_count": 18,
   "id": "d31a1407-5234-4e37-aa06-f5dfcd0f7c4f",
   "metadata": {
    "execution": {
     "iopub.execute_input": "2023-06-22T03:06:13.896821Z",
     "iopub.status.busy": "2023-06-22T03:06:13.896739Z",
     "iopub.status.idle": "2023-06-22T03:06:13.898234Z",
     "shell.execute_reply": "2023-06-22T03:06:13.898004Z"
    },
    "slideshow": {
     "slide_type": "fragment"
    }
   },
   "outputs": [],
   "source": [
    "# Hmmmmmmm!\n",
    "dom.body.find(\"p\")"
   ]
  },
  {
   "cell_type": "markdown",
   "id": "e4961377-3e18-41b6-99e8-50456154ac63",
   "metadata": {
    "slideshow": {
     "slide_type": "subslide"
    }
   },
   "source": [
    "## Q: Why do you think we might be getting empty output?\n",
    "\n",
    "(Take a look at the `example.com` HTML.)"
   ]
  },
  {
   "cell_type": "markdown",
   "id": "8497aeb9-d1d4-4b88-b745-59c00de5e41d",
   "metadata": {
    "slideshow": {
     "slide_type": "subslide"
    }
   },
   "source": [
    "## A: The `<p>` tags are not the immediate children of the body. \n",
    "\n",
    "Instead, they're children of the `<div>` tag, which itself is the child of the `<body>` tag. Here's how we tell `.find(...)` where to look for it:"
   ]
  },
  {
   "cell_type": "code",
   "execution_count": 19,
   "id": "59805284-401b-45af-a8ab-e0e086c5a7bd",
   "metadata": {
    "execution": {
     "iopub.execute_input": "2023-06-22T03:06:13.899790Z",
     "iopub.status.busy": "2023-06-22T03:06:13.899711Z",
     "iopub.status.idle": "2023-06-22T03:06:13.901799Z",
     "shell.execute_reply": "2023-06-22T03:06:13.901556Z"
    },
    "slideshow": {
     "slide_type": "-"
    }
   },
   "outputs": [
    {
     "data": {
      "text/plain": [
       "<Element p at 0x108490a40>"
      ]
     },
     "execution_count": 19,
     "metadata": {},
     "output_type": "execute_result"
    }
   ],
   "source": [
    "dom.body.find(\"div/p\")"
   ]
  },
  {
   "cell_type": "markdown",
   "id": "1424dacc-a871-4546-9901-fbc777cb3095",
   "metadata": {
    "slideshow": {
     "slide_type": "subslide"
    }
   },
   "source": [
    "Again, though, we're only getting one result. Let's get a list of all the `<p>` tags.\n",
    "\n",
    "`.findall(tagname)` to the rescue:"
   ]
  },
  {
   "cell_type": "code",
   "execution_count": 20,
   "id": "19b74169-9a8e-4010-b471-f10e01a81a82",
   "metadata": {
    "execution": {
     "iopub.execute_input": "2023-06-22T03:06:13.903273Z",
     "iopub.status.busy": "2023-06-22T03:06:13.903196Z",
     "iopub.status.idle": "2023-06-22T03:06:13.905306Z",
     "shell.execute_reply": "2023-06-22T03:06:13.905065Z"
    },
    "slideshow": {
     "slide_type": "-"
    }
   },
   "outputs": [
    {
     "data": {
      "text/plain": [
       "[<Element p at 0x108490a40>, <Element p at 0x1084910d0>]"
      ]
     },
     "execution_count": 20,
     "metadata": {},
     "output_type": "execute_result"
    }
   ],
   "source": [
    "all_p_tags = dom.body.findall(\"div/p\")\n",
    "all_p_tags"
   ]
  },
  {
   "cell_type": "markdown",
   "id": "170a9478-f49c-4bdb-88f8-27f5d216847c",
   "metadata": {
    "slideshow": {
     "slide_type": "subslide"
    }
   },
   "source": [
    "Let's extract the text of each paragraph:"
   ]
  },
  {
   "cell_type": "code",
   "execution_count": 21,
   "id": "de9823e8-fb0b-457f-bb37-b611d28a1b34",
   "metadata": {
    "execution": {
     "iopub.execute_input": "2023-06-22T03:06:13.906722Z",
     "iopub.status.busy": "2023-06-22T03:06:13.906645Z",
     "iopub.status.idle": "2023-06-22T03:06:13.908334Z",
     "shell.execute_reply": "2023-06-22T03:06:13.908068Z"
    },
    "slideshow": {
     "slide_type": "-"
    }
   },
   "outputs": [
    {
     "name": "stdout",
     "output_type": "stream",
     "text": [
      "Para. 1: This domain is for use in illustrative examples in documents. You may use this\n",
      "    domain in literature without prior coordination or asking for permission.\n",
      "---\n",
      "Para. 2: More information...\n",
      "---\n"
     ]
    }
   ],
   "source": [
    "for i, p in enumerate(all_p_tags):\n",
    "    print(f\"Para. {i+1}: {p.text_content()}\")\n",
    "    print(\"---\")"
   ]
  },
  {
   "cell_type": "markdown",
   "id": "5229eecc-7daf-472f-ba35-ff47425b8514",
   "metadata": {
    "slideshow": {
     "slide_type": "subslide"
    }
   },
   "source": [
    "To get element __attributes__ in `lxml`, we use this syntax:\n",
    "\n",
    "```python\n",
    "element.attrib[\"attribute_name\"]\n",
    "```"
   ]
  },
  {
   "cell_type": "code",
   "execution_count": 22,
   "id": "e0b9b22e-a8ef-47f4-b556-e2a81907dfa9",
   "metadata": {
    "execution": {
     "iopub.execute_input": "2023-06-22T03:06:13.916123Z",
     "iopub.status.busy": "2023-06-22T03:06:13.916043Z",
     "iopub.status.idle": "2023-06-22T03:06:13.918179Z",
     "shell.execute_reply": "2023-06-22T03:06:13.917929Z"
    },
    "slideshow": {
     "slide_type": "-"
    }
   },
   "outputs": [
    {
     "data": {
      "text/plain": [
       "'https://www.iana.org/domains/example'"
      ]
     },
     "execution_count": 22,
     "metadata": {},
     "output_type": "execute_result"
    }
   ],
   "source": [
    "a_tag = dom.body.find(\"div/p/a\")\n",
    "a_tag.attrib[\"href\"]"
   ]
  },
  {
   "cell_type": "markdown",
   "id": "b56d7788-c29f-497b-a31f-1f6bb92226b1",
   "metadata": {
    "slideshow": {
     "slide_type": "skip"
    }
   },
   "source": [
    "---\n",
    "\n",
    "---\n",
    "\n",
    "---"
   ]
  }
 ],
 "metadata": {
  "celltoolbar": "Slideshow",
  "kernelspec": {
   "display_name": "Python 3 (ipykernel)",
   "language": "python",
   "name": "python3"
  },
  "language_info": {
   "codemirror_mode": {
    "name": "ipython",
    "version": 3
   },
   "file_extension": ".py",
   "mimetype": "text/x-python",
   "name": "python",
   "nbconvert_exporter": "python",
   "pygments_lexer": "ipython3",
   "version": "3.10.4"
  }
 },
 "nbformat": 4,
 "nbformat_minor": 5
}
