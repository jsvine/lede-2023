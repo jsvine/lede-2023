{
 "cells": [
  {
   "cell_type": "markdown",
   "id": "9738b932",
   "metadata": {
    "slideshow": {
     "slide_type": "slide"
    }
   },
   "source": [
    "# 📄 Parsing PDFs: WTF?\n",
    "\n",
    "*What \\*is\\* a PDF?*"
   ]
  },
  {
   "cell_type": "markdown",
   "id": "13e7870d",
   "metadata": {
    "slideshow": {
     "slide_type": "slide"
    }
   },
   "source": [
    "## What *is* a PDF?"
   ]
  },
  {
   "cell_type": "markdown",
   "id": "331aed61",
   "metadata": {
    "slideshow": {
     "slide_type": "subslide"
    }
   },
   "source": [
    "###  A cockroach that has survived 30 years of digital upheaval\n",
    "\n",
    "> The Portable Document Format (PDF) was created by Adobe Systems, introduced at the Windows and OS|2 Conference in __January 1993__ and remained a proprietary format until it was released as an open standard in 2008. Since then, it is under the control of International Organization for Standardization(ISO) Committee of volunteer industry experts.\n",
    "\n",
    "[[source](https://en.wikipedia.org/wiki/History_of_PDF)]"
   ]
  },
  {
   "cell_type": "markdown",
   "id": "af4e6384",
   "metadata": {
    "slideshow": {
     "slide_type": "subslide"
    }
   },
   "source": [
    "### HTML is for browsers, PDFs are for … printers\n",
    "\n",
    "- Browsers are smart, printers are dumb\n",
    "- Print publishers want pixel-perfect control\n",
    "- HTML is declarative and semantic, PDFs are imperative"
   ]
  },
  {
   "cell_type": "markdown",
   "id": "bedc002a",
   "metadata": {
    "slideshow": {
     "slide_type": "subslide"
    }
   },
   "source": [
    "###  It's surprisingly useful format\n",
    "\n",
    "... just not for representing data."
   ]
  },
  {
   "cell_type": "markdown",
   "id": "710c642d",
   "metadata": {
    "slideshow": {
     "slide_type": "slide"
    }
   },
   "source": [
    "## How does the format work?"
   ]
  },
  {
   "cell_type": "markdown",
   "id": "973d6751",
   "metadata": {
    "slideshow": {
     "slide_type": "subslide"
    }
   },
   "source": [
    "![h:600px](../images/reference-0.png)"
   ]
  },
  {
   "cell_type": "markdown",
   "id": "9b39b922",
   "metadata": {
    "slideshow": {
     "slide_type": "subslide"
    }
   },
   "source": [
    "![h:600px](../images/reference-1.png)"
   ]
  },
  {
   "cell_type": "markdown",
   "id": "ed64947f",
   "metadata": {
    "slideshow": {
     "slide_type": "subslide"
    }
   },
   "source": [
    "![h:600px](../images/reference-2.png)"
   ]
  },
  {
   "cell_type": "markdown",
   "id": "04ba2ef1",
   "metadata": {
    "slideshow": {
     "slide_type": "subslide"
    }
   },
   "source": [
    "## Semantic vs. imperative"
   ]
  },
  {
   "cell_type": "markdown",
   "id": "e2a4ccb8",
   "metadata": {
    "slideshow": {
     "slide_type": "subslide"
    }
   },
   "source": [
    "```html\n",
    "<table>\n",
    "  <tr>\n",
    "    <th>Name</th>\n",
    "    <th>Animal</th>\n",
    "    <th>Age</th>\n",
    "  </tr>\n",
    "  <tr>\n",
    "    <td>Fido</td>\n",
    "    <td>Dog</td>\n",
    "    <td>13</td>\n",
    "  </tr>\n",
    "  <tr>\n",
    "    <td>Jojo</td>\n",
    "    <td>Cat</td>\n",
    "    <td>7</td>\n",
    "  </tr>\n",
    "</table>\n",
    "````\n",
    "\n",
    "... versus:"
   ]
  },
  {
   "cell_type": "markdown",
   "id": "5534379d",
   "metadata": {
    "slideshow": {
     "slide_type": "subslide"
    }
   },
   "source": [
    "```pdf\n",
    "q\n",
    "    1 0 0 1 50 400 cm\n",
    "    0.5 G\n",
    "    0 0 m\n",
    "    500 0 l\n",
    "    S\n",
    "    0 -20 m\n",
    "    500 -20 l\n",
    "    S\n",
    "    0 -40 m\n",
    "    500 -40 l\n",
    "    S\n",
    "    0 -60 m\n",
    "    500 -60 l\n",
    "    S\n",
    "    0 -80 m\n",
    "    500 -80 l\n",
    "    S\n",
    "    0 -100 m\n",
    "[...]\n",
    "```"
   ]
  },
  {
   "cell_type": "markdown",
   "id": "4811a509",
   "metadata": {
    "slideshow": {
     "slide_type": "subslide"
    }
   },
   "source": [
    "![h:500px](../images/internals-txt.png)"
   ]
  },
  {
   "cell_type": "markdown",
   "id": "02d581f7",
   "metadata": {
    "slideshow": {
     "slide_type": "slide"
    }
   },
   "source": [
    "## Appearance vs. structure\n",
    "\n",
    "- Two similar-looking PDFs can have very different underlying structures.\n",
    "\n",
    "- Every PDF-generating program works slightly differently — and sometimes wrong."
   ]
  },
  {
   "cell_type": "markdown",
   "id": "b4bc96b5",
   "metadata": {
    "slideshow": {
     "slide_type": "slide"
    }
   },
   "source": [
    "⚠️ <span style=\"background-color: yellow\">(This is the most important slide of the lesson.)</span>\n",
    "\n",
    "## “True” PDFs vs. Image PDFs\n",
    "\n",
    "- __True PDFs__ encode each textual and graphical element\n",
    "- __Image PDFs__ are just a stack of images\n",
    "- __Searchable image PDFs__ add a crude layer of text via \"optical character recognition\" (OCR)\n",
    "\n",
    "How can we tell the difference?"
   ]
  },
  {
   "cell_type": "markdown",
   "id": "5c4a6b68",
   "metadata": {
    "slideshow": {
     "slide_type": "skip"
    }
   },
   "source": [
    "---\n",
    "\n",
    "---\n",
    "\n",
    "---"
   ]
  }
 ],
 "metadata": {
  "celltoolbar": "Slideshow",
  "kernelspec": {
   "display_name": "Python 3 (ipykernel)",
   "language": "python",
   "name": "python3"
  },
  "language_info": {
   "codemirror_mode": {
    "name": "ipython",
    "version": 3
   },
   "file_extension": ".py",
   "mimetype": "text/x-python",
   "name": "python",
   "nbconvert_exporter": "python",
   "pygments_lexer": "ipython3",
   "version": "3.10.4"
  }
 },
 "nbformat": 4,
 "nbformat_minor": 5
}
