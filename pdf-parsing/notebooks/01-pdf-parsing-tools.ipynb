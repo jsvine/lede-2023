{
 "cells": [
  {
   "cell_type": "markdown",
   "id": "9738b932",
   "metadata": {
    "slideshow": {
     "slide_type": "slide"
    }
   },
   "source": [
    "# 📄 Parsing PDFs: Useful, mostly-free tools\n",
    "\n",
    "*A PDF-parsing starter pack.*"
   ]
  },
  {
   "cell_type": "markdown",
   "id": "b4bc96b5",
   "metadata": {
    "slideshow": {
     "slide_type": "slide"
    }
   },
   "source": [
    "## OCR, point-and-click\n",
    "\n",
    "- [Google Docs](https://support.google.com/drive/answer/176692)\n",
    "- [CometDocs](https://www.cometdocs.com/)\n",
    "- [Pinpoint](https://journaliststudio.google.com/pinpoint)\n",
    "- [Aleph](https://aleph.occrp.org/)\n",
    "- 💰 [ABBYY FineReader](https://pdf.abbyy.com/)"
   ]
  },
  {
   "cell_type": "markdown",
   "id": "138be141",
   "metadata": {
    "slideshow": {
     "slide_type": "slide"
    }
   },
   "source": [
    "## OCR, command-line\n",
    "\n",
    "- [tesseract](https://tesseract-ocr.github.io/)\n",
    "- [ocrmypdf](https://ocrmypdf.readthedocs.io/en/latest/)\n",
    "- [textra](https://github.com/freedmand/textra) (Mac OS 13+ only)\n",
    "- 💰 [Amazon Textract](https://aws.amazon.com/textract/)"
   ]
  },
  {
   "cell_type": "markdown",
   "id": "6c0cb0b5",
   "metadata": {
    "slideshow": {
     "slide_type": "slide"
    }
   },
   "source": [
    "## Table extraction, point-and-click\n",
    "\n",
    "- [Tabula](https://tabula.technology/)\n",
    "- 💰 [Newer versions of Excel](https://www.howtogeek.com/770474/how-to-import-data-from-a-pdf-to-microsoft-excel/) (esp. for images)\n",
    "- 💰 [Adobe Acrobat](https://www.adobe.com/acrobat/how-to/pdf-to-excel-xlsx-converter.html)\n",
    "- 💰 [ABBYY FineReader](https://pdf.abbyy.com/)"
   ]
  },
  {
   "cell_type": "markdown",
   "id": "cdb8c5e0",
   "metadata": {
    "slideshow": {
     "slide_type": "slide"
    }
   },
   "source": [
    "## Table extraction, programmatically\n",
    "\n",
    "- [Tabula-py](https://tabula-py.readthedocs.io/en/latest/)\n",
    "- [Camelot](https://camelot-py.readthedocs.io/en/master/)\n",
    "- [pdfplumber](https://github.com/jsvine/pdfplumber)\n",
    "- 💰 [Amazon Textract](https://aws.amazon.com/textract/)"
   ]
  },
  {
   "cell_type": "markdown",
   "id": "582a33c0",
   "metadata": {
    "slideshow": {
     "slide_type": "slide"
    }
   },
   "source": [
    "## Extracting non-tabular data\n",
    "\n",
    "- [pdfplumber](https://github.com/jsvine/pdfplumber)\n",
    "- [Pinpoint](https://support.google.com/pinpoint/answer/13012346) (?)"
   ]
  },
  {
   "cell_type": "markdown",
   "id": "5c4a6b68",
   "metadata": {
    "slideshow": {
     "slide_type": "skip"
    }
   },
   "source": [
    "---\n",
    "\n",
    "---\n",
    "\n",
    "---"
   ]
  }
 ],
 "metadata": {
  "celltoolbar": "Slideshow",
  "kernelspec": {
   "display_name": "Python 3 (ipykernel)",
   "language": "python",
   "name": "python3"
  },
  "language_info": {
   "codemirror_mode": {
    "name": "ipython",
    "version": 3
   },
   "file_extension": ".py",
   "mimetype": "text/x-python",
   "name": "python",
   "nbconvert_exporter": "python",
   "pygments_lexer": "ipython3",
   "version": "3.10.4"
  }
 },
 "nbformat": 4,
 "nbformat_minor": 5
}
