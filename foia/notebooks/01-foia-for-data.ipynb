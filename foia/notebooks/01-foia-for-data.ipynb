{
 "cells": [
  {
   "cell_type": "markdown",
   "id": "69c84c6c",
   "metadata": {
    "slideshow": {
     "slide_type": "slide"
    }
   },
   "source": [
    "# 📝 FOIA: Requesting Data\n",
    "\n",
    "*Same law, different nuances.*"
   ]
  },
  {
   "cell_type": "markdown",
   "id": "b8c2883f",
   "metadata": {
    "slideshow": {
     "slide_type": "slide"
    }
   },
   "source": [
    "## What kind of data do governments keep?"
   ]
  },
  {
   "cell_type": "markdown",
   "id": "fe89644a",
   "metadata": {
    "slideshow": {
     "slide_type": "fragment"
    }
   },
   "source": [
    "- Data collected through __surveys__ (e.g., the Census)\n",
    "- Data collected through __paperwork__ (e.g., student loans)\n",
    "- Data generated through __government actions__ (e.g., FDA drug approvals)\n",
    "- Data generated through __regulatory oversight__ (e.g., nursing home inspections)\n",
    "- Data __imported from other sources__ (e.g., hospital COVID numbers)\n",
    "- Measurements collected by __government staff__ (e.g., scientific research)\n",
    "- Measurements collected by __physical sensors__ (e.g., air quality)\n",
    "- Measurements collected by __digital sensors__ (e.g., website traffic)\n"
   ]
  },
  {
   "cell_type": "markdown",
   "id": "525f1579",
   "metadata": {
    "slideshow": {
     "slide_type": "slide"
    }
   },
   "source": [
    "## All of this data *can* (theoretically) be FOIA'ed"
   ]
  },
  {
   "cell_type": "markdown",
   "id": "fcfd19b4",
   "metadata": {
    "slideshow": {
     "slide_type": "slide"
    }
   },
   "source": [
    "## The good news first"
   ]
  },
  {
   "cell_type": "markdown",
   "id": "338b82c3",
   "metadata": {
    "slideshow": {
     "slide_type": "subslide"
    }
   },
   "source": [
    "## Databases *contain* records\n",
    "\n",
    "You can request the whole set of records, or particular subsets of them."
   ]
  },
  {
   "cell_type": "markdown",
   "id": "2f76ee04",
   "metadata": {
    "slideshow": {
     "slide_type": "subslide"
    }
   },
   "source": [
    "## Agencies must respect rules re. format\n",
    "\n",
    "FOIA requires agencies to:\n",
    "\n",
    "- \"provide the [requested] record in any form or format requested by the person if the record is readily reproducible by the agency in that form or format\"\n",
    "- \"make reasonable efforts to maintain its records in forms or formats that are reproducible\"\n",
    "\n",
    "So, no, you should not settle for an Excel sheet converted into a PDF."
   ]
  },
  {
   "cell_type": "markdown",
   "id": "8777a98d",
   "metadata": {
    "slideshow": {
     "slide_type": "subslide"
    }
   },
   "source": [
    "## Redactions are (sometimes) easier w/ databases\n",
    "\n",
    "The structured-ness of databases makes it easier to auto-redact entire columns, rather than FOIA officers having to read or manually redact every entry."
   ]
  },
  {
   "cell_type": "markdown",
   "id": "4661a8de",
   "metadata": {
    "slideshow": {
     "slide_type": "slide"
    }
   },
   "source": [
    "## The less-good news"
   ]
  },
  {
   "cell_type": "markdown",
   "id": "18e940b0",
   "metadata": {
    "slideshow": {
     "slide_type": "subslide"
    }
   },
   "source": [
    "## FOIA officers are not IT experts\n",
    "\n",
    "It can take some collaborative communication to help them understand (a) what you're really asking for, and (b) how they can get it for you.\n",
    "\n",
    "Generally speaking, the FOIA officer is your friend, not your enemy."
   ]
  },
  {
   "cell_type": "markdown",
   "id": "deaff3a9",
   "metadata": {
    "slideshow": {
     "slide_type": "subslide"
    }
   },
   "source": [
    "## Database records sometimes *aren't* easily exportable\n",
    "\n",
    "This seems to crop up with (a) very old, or (b) \"off the shelf\" software."
   ]
  },
  {
   "cell_type": "markdown",
   "id": "a588f477",
   "metadata": {
    "slideshow": {
     "slide_type": "subslide"
    }
   },
   "source": [
    "## Database requests are often deemed \"complex\"\n",
    "\n",
    "The complex processing tracks for some agencies are several years backlogged."
   ]
  },
  {
   "cell_type": "markdown",
   "id": "890aa483",
   "metadata": {
    "slideshow": {
     "slide_type": "subslide"
    }
   },
   "source": [
    "## Databases are sometimes poorly documented\n",
    "\n",
    "Agencies are not required to *create* documentation for you."
   ]
  },
  {
   "cell_type": "markdown",
   "id": "4b7c89ae",
   "metadata": {
    "slideshow": {
     "slide_type": "slide"
    }
   },
   "source": [
    "## Strategies and tactics for successful data records requests"
   ]
  },
  {
   "cell_type": "markdown",
   "id": "f59518e7",
   "metadata": {
    "slideshow": {
     "slide_type": "subslide"
    }
   },
   "source": [
    "## Research, research, research\n",
    "\n",
    "The more you know about a database, the better your request can be."
   ]
  },
  {
   "cell_type": "markdown",
   "id": "8bf9ea85",
   "metadata": {
    "slideshow": {
     "slide_type": "subslide"
    }
   },
   "source": [
    "## Preempt common objections\n",
    "\n",
    "- Agree to forgo fields containing __clearly non-disclosable records__\n",
    "\n",
    "- *Consider* agreeing to skip fields that contain __narrative or free-form text__\n",
    "\n",
    "- Emphasize that the records can be __bulk-exported__\n",
    "\n",
    "- Stress that you're used to __working with large datasets__"
   ]
  },
  {
   "cell_type": "markdown",
   "id": "9b7cf982",
   "metadata": {
    "slideshow": {
     "slide_type": "subslide"
    }
   },
   "source": [
    "## Specify the format you want\n",
    "\n",
    "The formats the agency *can* provide is not fully in your control, but you can emphasize that you want the records as close to their original format as possible."
   ]
  },
  {
   "cell_type": "markdown",
   "id": "05dcf5c1",
   "metadata": {
    "slideshow": {
     "slide_type": "subslide"
    }
   },
   "source": [
    "## Request the documentation\n",
    "\n",
    "Record layouts, database schemas, entity relationship diagrams, database diagrams, data dictionaries, glossaries, user guides, etc.\n",
    "\n",
    "Consider the \"one-two punch\" strategy: Request documentation first, then use that documentation to request the data."
   ]
  },
  {
   "cell_type": "markdown",
   "id": "0617483c",
   "metadata": {
    "slideshow": {
     "slide_type": "slide"
    }
   },
   "source": [
    "## Data Liberation Project Resources\n",
    "\n",
    "- [Our requests, all CC0-licensed](https://www.data-liberation-project.org/requests/)\n",
    "- [Fathoming Federal Data](https://docs.google.com/document/d/1PNNrsK0rYoue4cD2CZ9vtxr2Yoy5oD4dOSmcBXnIRAo/edit)\n",
    "- [Data FOIA research template](https://docs.google.com/document/d/1c6hNJzzh19CBj9VFNppIRUKmOSFAJEFxehbKXCebY-M/edit)"
   ]
  },
  {
   "cell_type": "markdown",
   "id": "b50a8168",
   "metadata": {
    "slideshow": {
     "slide_type": "skip"
    }
   },
   "source": [
    "---\n",
    "\n",
    "---\n",
    "\n",
    "---"
   ]
  }
 ],
 "metadata": {
  "celltoolbar": "Slideshow",
  "kernelspec": {
   "display_name": "Python 3 (ipykernel)",
   "language": "python",
   "name": "python3"
  },
  "language_info": {
   "codemirror_mode": {
    "name": "ipython",
    "version": 3
   },
   "file_extension": ".py",
   "mimetype": "text/x-python",
   "name": "python",
   "nbconvert_exporter": "python",
   "pygments_lexer": "ipython3",
   "version": "3.10.4"
  }
 },
 "nbformat": 4,
 "nbformat_minor": 5
}
