{
 "cells": [
  {
   "cell_type": "markdown",
   "id": "a025cf20",
   "metadata": {
    "slideshow": {
     "slide_type": "slide"
    }
   },
   "source": [
    "# 📝 FOIA: The Basics\n",
    "\n",
    "*The US federal law, and how it works.*"
   ]
  },
  {
   "cell_type": "markdown",
   "id": "6cb6f996",
   "metadata": {
    "slideshow": {
     "slide_type": "slide"
    }
   },
   "source": [
    "## Who has filed a FOIA before?\n",
    "\n",
    "- To any government in the world?\n",
    "- To any part of the US government (including state/local governments)?\n",
    "- To the US federal government?"
   ]
  },
  {
   "cell_type": "markdown",
   "id": "2caa1276",
   "metadata": {
    "slideshow": {
     "slide_type": "slide"
    }
   },
   "source": [
    "## Why non-Americans should file FOIAs to the US\n",
    "\n",
    "- Because __you can__\n",
    "- Because __it's free__\n",
    "- Because it can reveal information about __US activities in your country__\n",
    "    - The military, embassy activity, scientific research, economic relations, …\n",
    "- Because it can reveal information about __your government__\n",
    "    - Contracts, emails between your representatives and their US counterparts, lobbying activity, …"
   ]
  },
  {
   "cell_type": "markdown",
   "id": "882ce710",
   "metadata": {
    "slideshow": {
     "slide_type": "slide"
    }
   },
   "source": [
    "## What is FOIA?\n",
    "\n",
    "- Today, when I say \"FOIA\", I mean the US federal Freedom of Information Act\n",
    "- Broader term: \"public records laws/requests\""
   ]
  },
  {
   "cell_type": "markdown",
   "id": "ad37eeef",
   "metadata": {},
   "source": [
    "## The US Freedom of Information Act\n",
    "\n",
    "- Initially approved by Congress and in 1966\n",
    "- Went into effect July 5, 1967\n",
    "- Amended and modernized several times since\n",
    "- Interpretation is guided by federal courts and the Department of Justice"
   ]
  },
  {
   "cell_type": "markdown",
   "id": "76f50aa2",
   "metadata": {
    "slideshow": {
     "slide_type": "slide"
    }
   },
   "source": [
    "## What does FOIA do?\n",
    "\n",
    "The Freedom of Information Act is relatively short, and [worth reading in its entirety](https://www.law.cornell.edu/uscode/text/5/552). But this is, perhaps, the most important excerpt:\n",
    "\n",
    "> __each agency__, upon any __request for records__ which (i) __reasonably describes__ such records and (ii) is made in accordance with published rules stating the time, place, __fees (if any)__, and procedures to be followed, shall make the records __promptly__ available to __any person__\n",
    "\n",
    "We'll unpack this, key phrase by key phrase."
   ]
  },
  {
   "cell_type": "markdown",
   "id": "d1015e54",
   "metadata": {
    "slideshow": {
     "slide_type": "slide"
    }
   },
   "source": [
    "> each agency, upon any request for records which (i) reasonably describes such records and (ii) is made in accordance with published rules stating the time, place, fees (if any), and procedures to be followed, shall make the records promptly available to <mark>any person</mark>"
   ]
  },
  {
   "cell_type": "markdown",
   "id": "6435437c",
   "metadata": {
    "slideshow": {
     "slide_type": "slide"
    }
   },
   "source": [
    "> each <mark>agency</mark>, upon any request for records which (i) reasonably describes such records and (ii) is made in accordance with published rules stating the time, place, fees (if any), and procedures to be followed, shall make the records promptly available to any person"
   ]
  },
  {
   "cell_type": "markdown",
   "id": "853f0599",
   "metadata": {
    "slideshow": {
     "slide_type": "subslide"
    }
   },
   "source": [
    "## Three branches of US government\n",
    "\n",
    "- __Executive__: The White House and all federal agencies\n",
    "- __Legislative__: Congress — i.e., the House and Senate\n",
    "- __Judicial__: The courts"
   ]
  },
  {
   "cell_type": "markdown",
   "id": "c956440b",
   "metadata": {
    "slideshow": {
     "slide_type": "subslide"
    }
   },
   "source": [
    "## What branches of government can be FOIA'ed?\n",
    "\n",
    "- __Executive__:\n",
    "    - ✅ All federal agencies\n",
    "    - ❌ The White House\n",
    "- ❌ __Legislative__: Congress — i.e., the House and Senate\n",
    "- ❌ __Judicial__: The courts"
   ]
  },
  {
   "cell_type": "markdown",
   "id": "b5f88813",
   "metadata": {
    "slideshow": {
     "slide_type": "subslide"
    }
   },
   "source": [
    "## Federal Agencies\n",
    "\n",
    "Federal agencies are *largely* (but not entirely) organized into [15 major departments](https://en.wikipedia.org/wiki/United_States_federal_executive_departments):\n",
    "\n",
    "- State \n",
    "- Treasury \n",
    "- Defense \n",
    "- Justice \n",
    "- Interior \n",
    "- Agriculture \n",
    "- Commerce \n",
    "- Labor \n",
    "- Health and Human Services \n",
    "- Housing and Urban Development \n",
    "- Transportation \n",
    "- Energy \n",
    "- Education \n",
    "- Veterans Affairs \n",
    "- Homeland Security"
   ]
  },
  {
   "cell_type": "markdown",
   "id": "5c270592",
   "metadata": {
    "slideshow": {
     "slide_type": "subslide"
    }
   },
   "source": [
    "## Each of these federal agencies has sub-agencies\n",
    "\n",
    "For example, the Department of Homeland Security [has many sub-agencies](https://www.dhs.gov/sites/default/files/2023-02/23_0221_dhs_public-organization-chart.pdf), including:\n",
    "\n",
    "- Federal Emergency Management Agency (FEMA)\n",
    "- Customs and Border Protection (CBP)\n",
    "- Immigration and Customs Enforcement (ICE)\n",
    "- Transportation Security Administration (TSA)\n",
    "- United States Coast Guard (USCG)\n",
    "- …"
   ]
  },
  {
   "cell_type": "markdown",
   "id": "06693f44",
   "metadata": {
    "slideshow": {
     "slide_type": "subslide"
    }
   },
   "source": [
    "## The executive branch also has many \"independent agencies\"\n",
    "\n",
    "These are [agencies](https://en.wikipedia.org/wiki/Independent_agencies_of_the_United_States_government) that operate on their own, independent of any department and with less direct influence from the President. Some of them are obscure, but others you may recognize:\n",
    "\n",
    "- Central Intelligence Agency (CIA)\n",
    "- Environmental Protection Agency (EPA)\n",
    "- Federal Trade Commission (FTC)\n",
    "- Securities and Exchange Commission (SEC)\n",
    "- Federal Election Commission (FEC)\n",
    "- Consumer Financial Protection Bureau (CFPB)\n",
    "- …"
   ]
  },
  {
   "cell_type": "markdown",
   "id": "7c240f7f",
   "metadata": {
    "slideshow": {
     "slide_type": "subslide"
    }
   },
   "source": [
    "## All these types of federal agencies are FOIA-able!\n",
    "\n",
    "There are hundreds of agencies and subagencyes. Here are a couple of official listings:\n",
    "\n",
    "- https://www.federalregister.gov/agencies\n",
    "- https://www.usa.gov/agency-index"
   ]
  },
  {
   "cell_type": "markdown",
   "id": "bc572ce4",
   "metadata": {
    "slideshow": {
     "slide_type": "slide"
    }
   },
   "source": [
    "> each agency, upon any <mark>request</mark> for records which (i) reasonably describes such records and (ii) is made in accordance with published rules stating the time, place, fees (if any), and procedures to be followed, shall make the records promptly available to any person"
   ]
  },
  {
   "cell_type": "markdown",
   "id": "4dc97b34",
   "metadata": {
    "slideshow": {
     "slide_type": "subslide"
    }
   },
   "source": [
    "## What counts as a request?\n",
    "\n",
    "It's as simple as writing a letter. It can be as short as a single sentence:\n",
    "\n",
    "> *Under the federal Freedom of Information Act, I request all emails sent by Secretary of State Anthony Blinken between July 26–July 31, 2023.*\n",
    "\n",
    "… or dozens of pages long. (They should probably be more than one sentence, but they do not have to be very long.)\n",
    "\n",
    "You can find many sample letters online, including [at FOIA.wiki](https://foia.wiki/wiki/Making_a_FOIA_Request#Sample_requests_and_templates) and [the National Freedom of Information Coalition](https://www.nfoic.org/sample-foia-request-letters/#foireq). You can also copy any language you'd like from the [Data Liberation Project's request letters](https://www.data-liberation-project.org/requests/)."
   ]
  },
  {
   "cell_type": "markdown",
   "id": "b31e1587",
   "metadata": {
    "slideshow": {
     "slide_type": "slide"
    }
   },
   "source": [
    "> each agency, upon any request <mark>for records</mark> which (i) reasonably describes such records and (ii) is made in accordance with published rules stating the time, place, fees (if any), and procedures to be followed, shall make the records promptly available to any person"
   ]
  },
  {
   "cell_type": "markdown",
   "id": "55f2cc10",
   "metadata": {
    "slideshow": {
     "slide_type": "subslide"
    }
   },
   "source": [
    "## What counts as a record?\n",
    "\n",
    "Surprise!: FOIA provides no official, legal definition. But, broadly speaking, courts and experts seem to agree: A record is anything *recorded*. This includes, \"books, papers, maps,\n",
    "photographs, machine readable materials, or other documentary materials, __regardless of\n",
    "physical form__ or characteristics, __made or received by an agency__.\""
   ]
  },
  {
   "cell_type": "markdown",
   "id": "0ff47f7f",
   "metadata": {
    "slideshow": {
     "slide_type": "subslide"
    }
   },
   "source": [
    "## What *doesn't* count as a record?\n",
    "\n",
    "Broadly: Information in the abstract.\n",
    "\n",
    "Let's test ourselves. Which of these requests do/don't seek records?"
   ]
  },
  {
   "cell_type": "markdown",
   "id": "8963ae13",
   "metadata": {
    "slideshow": {
     "slide_type": "subslide"
    }
   },
   "source": [
    "> *all emails sent by Secretary of State Anthony Blinken between July 26–July 31, 2023*"
   ]
  },
  {
   "cell_type": "markdown",
   "id": "a0c77719",
   "metadata": {
    "slideshow": {
     "slide_type": "subslide"
    }
   },
   "source": [
    "> *the amount of money spent on the US Embassy in Athens, Greece*"
   ]
  },
  {
   "cell_type": "markdown",
   "id": "475649bc",
   "metadata": {
    "slideshow": {
     "slide_type": "subslide"
    }
   },
   "source": [
    "> *all records indicating the amount of money spent on the US Embassy in Athens, Greece*"
   ]
  },
  {
   "cell_type": "markdown",
   "id": "b59e02c3",
   "metadata": {
    "slideshow": {
     "slide_type": "slide"
    }
   },
   "source": [
    "> each agency, upon any request for records which (i) <mark>reasonably describes</mark> such records and (ii) is made in accordance with published rules stating the time, place, fees (if any), and procedures to be followed, shall make the records promptly available to any person"
   ]
  },
  {
   "cell_type": "markdown",
   "id": "1dc70700",
   "metadata": {
    "slideshow": {
     "slide_type": "subslide"
    }
   },
   "source": [
    "> *all records indicating the amount of money spent on the US Embassy in Athens, Greece*\n",
    "\n",
    "… versus …\n",
    "\n",
    "> *all memos, internal reports, and emails — created since January 1, 2013 and held by the Department of State's Bureau of Overseas Buildings Operations — discussing operations, staffing, and maintenance costs of the US Embassy in Athens, Greece*"
   ]
  },
  {
   "cell_type": "markdown",
   "id": "337d1b38",
   "metadata": {
    "slideshow": {
     "slide_type": "subslide"
    }
   },
   "source": [
    "The more detail you can provide, the easier it will be for the agency to process your request. Supply, if you can:\n",
    "\n",
    "- What *subagency or office* holds the records\n",
    "- The *name* of the records\n",
    "- The *location* of the records (a particular computer system or archive)"
   ]
  },
  {
   "cell_type": "markdown",
   "id": "cd8fba17",
   "metadata": {
    "slideshow": {
     "slide_type": "subslide"
    }
   },
   "source": [
    "Some places to look for these details:\n",
    "\n",
    "- The agency's own public reports\n",
    "- Oversight reports from the agency's Inspector General, or from Congress\n",
    "- [The Federal Register](https://www.federalregister.gov/)"
   ]
  },
  {
   "cell_type": "markdown",
   "id": "5bc9ccd1",
   "metadata": {
    "slideshow": {
     "slide_type": "slide"
    }
   },
   "source": [
    "> each agency, upon any request for records which (i) reasonably describes such records and (ii) is made in accordance with published rules stating the time, place, <mark>fees (if any)</mark>, and procedures to be followed, shall make the records promptly available to any person"
   ]
  },
  {
   "cell_type": "markdown",
   "id": "13817bd4",
   "metadata": {
    "slideshow": {
     "slide_type": "subslide"
    }
   },
   "source": [
    "- The __bad news__: Agencies can charge you fees for searching, reviewing, and duplicating the records.\n",
    "<br/>\n",
    "<br/>\n",
    "- The __good news__: You can get many of these fees waived if (a) you're a member of the news media, and (b) \"if disclosure of the information is in the public interest because it is __likely to contribute significantly to public understanding of the operations or activities of the government__ and is not primarily in the commercial interest of the requester.\""
   ]
  },
  {
   "cell_type": "markdown",
   "id": "0ba95e4d",
   "metadata": {
    "slideshow": {
     "slide_type": "slide"
    }
   },
   "source": [
    "> each agency, upon any request for records which (i) reasonably describes such records and (ii) is made in accordance with published rules stating the time, place, fees (if any), and procedures to be followed, shall make the records <mark>promptly</mark> available to any person\n",
    "\n",
    "… or not so promptly 🤷‍♂️"
   ]
  },
  {
   "cell_type": "markdown",
   "id": "de736a34",
   "metadata": {
    "slideshow": {
     "slide_type": "slide"
    }
   },
   "source": [
    "## Exemptions\n",
    "\n",
    "Agencies are supposed to approach FOIA with a \"[presumption of openness](https://www.justice.gov/oip/oip-guidance-applying-presumption-openness-and-foreseeable-harm-standard)\". Any agency may only withhold records if:\n",
    "\n",
    "- It \"reasonably foresees that disclosure would harm an interest __protected by an exemption__\"\n",
    "- … or \"disclosure is prohibited by law\""
   ]
  },
  {
   "cell_type": "markdown",
   "id": "2a90c9ce",
   "metadata": {
    "slideshow": {
     "slide_type": "subslide"
    }
   },
   "source": [
    "The exemptions apply to:\n",
    "\n",
    "1. Records classified to protect national security\n",
    "2. Certain personnel records\n",
    "3. Records whose disclosure is prohibited by another law\n",
    "4. Trade secrets\n",
    "5. \"Privileged\" communications (internal deliberations, attorney-client, etc.)\n",
    "6. Records jeopardizing personal privacy\n",
    "7. Information that could interfere with law enforcement\n",
    "8. Records concerning the supervision of financial institutions\n",
    "9. Geological information about wells"
   ]
  },
  {
   "cell_type": "markdown",
   "id": "6917893d",
   "metadata": {
    "slideshow": {
     "slide_type": "slide"
    }
   },
   "source": [
    "## How to make a request\n",
    "\n",
    "- [FOIA.gov](https://www.foia.gov/)\n",
    "- [Muckrock](https://www.muckrock.com/)"
   ]
  },
  {
   "cell_type": "markdown",
   "id": "30d18660",
   "metadata": {
    "slideshow": {
     "slide_type": "slide"
    }
   },
   "source": [
    "## After you make a request\n",
    "\n",
    "- Your request will be assigned to a __FOIA officer__ at the agency, who will review your request\n",
    "- The agency should provide an \"__acknowledgment__\" letter within a few days\n",
    "- Then, theoretically, the agency has 20 business days to provide a \"__determination__\"\n",
    "- In practice, it can be months or years, particularly if your request is assigned to a \"__complex__\" processing track\n",
    "- You can contact the FOIA officer mentioned in the acknowledgment letter. Ask what progress has been made so far, and for an \"__estimated completion date__\""
   ]
  },
  {
   "cell_type": "markdown",
   "id": "0621095d",
   "metadata": {
    "slideshow": {
     "slide_type": "slide"
    }
   },
   "source": [
    "## When you get a response\n",
    "\n",
    "Some possible outcomes:\n",
    "\n",
    "- You get all the records you wanted, exactly how you wanted them 🎉\n",
    "- You get the records, but they're heavily redacted\n",
    "- You get some of the records, but not the complete set\n",
    "- You get the records, but in the wrong format\n",
    "- You get no records because the FOIA officer could not find any\n",
    "- You get no records because the FOIA officer said they were fully non-disclosable"
   ]
  },
  {
   "cell_type": "markdown",
   "id": "c615e5ad",
   "metadata": {
    "slideshow": {
     "slide_type": "subslide"
    }
   },
   "source": [
    "## You can appeal\n",
    "\n",
    "__Administrative appeals__:\n",
    "\n",
    "- Don't cost any money to file, and don't require legal representation.\n",
    "- Are reviewed by the agency's legal department\n",
    "- Can be made for various reasons, including:\n",
    "    - Inadequate search\n",
    "    - Incorrectly withheld / redacted records\n",
    "    - Accessibility / formatting issues\n",
    "    - Delay in responding"
   ]
  },
  {
   "cell_type": "markdown",
   "id": "839c2453",
   "metadata": {
    "slideshow": {
     "slide_type": "subslide"
    }
   },
   "source": [
    "## ... and you can sue\n",
    "\n",
    "If you disagree with the outcome of the appeal, you can __file a lawsuit in federal court__. These lawsuits:\n",
    "\n",
    "- Do cost money\n",
    "- … and generally require a lawyer\n",
    "- … but there are organizations that might represent you in court for free."
   ]
  },
  {
   "cell_type": "markdown",
   "id": "c83853ff",
   "metadata": {
    "slideshow": {
     "slide_type": "slide"
    }
   },
   "source": [
    "## Resources\n",
    "\n",
    "- [FOIA.gov](https://www.foia.gov/), an official resource and FOIA-filing site\n",
    "- [FOIA.wiki](http://foia.wiki/), from the [Reporters Committee for Freedom of the Press](https://rcfp.org/)\n",
    "- The Department of Justice's [Guide to the Freedom of Information Act](https://www.justice.gov/oip/doj-guide-freedom-information-act-0)\n",
    "- [MuckRock](https://www.muckrock.com/), for inspiration\n",
    "- [RCFP Open Government Guide](https://www.rcfp.org/open-government-guide/) for state-level laws"
   ]
  },
  {
   "cell_type": "markdown",
   "id": "b55753e0",
   "metadata": {
    "slideshow": {
     "slide_type": "skip"
    }
   },
   "source": [
    "---\n",
    "\n",
    "---\n",
    "\n",
    "---"
   ]
  },
  {
   "cell_type": "code",
   "execution_count": 9,
   "id": "907e7f3e",
   "metadata": {
    "slideshow": {
     "slide_type": "skip"
    }
   },
   "outputs": [
    {
     "data": {
      "text/html": [
       "<style>\n",
       "    mark {\n",
       "        background-color: yellow;\n",
       "        font-weight: bold;\n",
       "    }\n",
       "    \n",
       "    blockquote {\n",
       "        font-size: 1.25em;\n",
       "        line-height: 1.25;\n",
       "    }\n",
       "</style>\n"
      ],
      "text/plain": [
       "<IPython.core.display.HTML object>"
      ]
     },
     "metadata": {},
     "output_type": "display_data"
    }
   ],
   "source": [
    "%%html\n",
    "<style>\n",
    "    mark {\n",
    "        background-color: yellow;\n",
    "        font-weight: bold;\n",
    "    }\n",
    "    \n",
    "    blockquote {\n",
    "        font-size: 1.25em;\n",
    "        line-height: 1.25;\n",
    "    }\n",
    "</style>"
   ]
  }
 ],
 "metadata": {
  "celltoolbar": "Slideshow",
  "kernelspec": {
   "display_name": "Python 3 (ipykernel)",
   "language": "python",
   "name": "python3"
  },
  "language_info": {
   "codemirror_mode": {
    "name": "ipython",
    "version": 3
   },
   "file_extension": ".py",
   "mimetype": "text/x-python",
   "name": "python",
   "nbconvert_exporter": "python",
   "pygments_lexer": "ipython3",
   "version": "3.10.4"
  }
 },
 "nbformat": 4,
 "nbformat_minor": 5
}
