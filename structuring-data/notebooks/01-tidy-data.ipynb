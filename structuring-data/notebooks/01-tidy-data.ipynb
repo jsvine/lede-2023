{
 "cells": [
  {
   "cell_type": "markdown",
   "id": "64eb5c07",
   "metadata": {
    "slideshow": {
     "slide_type": "slide"
    }
   },
   "source": [
    "# 🧱 Structuring Data: Intro to Tidy Data\n",
    "\n",
    "*A simple, powerful structure for your data.*"
   ]
  },
  {
   "cell_type": "markdown",
   "id": "89173016",
   "metadata": {
    "slideshow": {
     "slide_type": "slide"
    }
   },
   "source": [
    "<center><a href=\"https://vita.had.co.nz/papers/tidy-data.html\">https://vita.had.co.nz/papers/tidy-data.html</a></center>\n",
    "\n",
    "\n",
    "![Tidy Data paper](../images/tidy-data-paper.png)"
   ]
  },
  {
   "cell_type": "markdown",
   "id": "5125ca14",
   "metadata": {
    "slideshow": {
     "slide_type": "subslide"
    }
   },
   "source": [
    "> A huge amount of effort is spent cleaning data to get it ready for analysis, but there\n",
    "has been little research on how to make data cleaning as easy and effective as possible.\n",
    "This paper tackles a small, but important, component of data cleaning: data tidying.\n",
    "Tidy datasets are easy to manipulate, model and visualise, and have a specific structure:\n",
    "each variable is a column, each observation is a row, and each type of observational unit\n",
    "is a table. "
   ]
  },
  {
   "cell_type": "markdown",
   "id": "1e063e98",
   "metadata": {
    "slideshow": {
     "slide_type": "subslide"
    }
   },
   "source": [
    "> A dataset is a collection of __values__, usually either numbers (if quantitative) or strings (if qualitative). \n",
    "\n",
    "> Values are organised in two ways. Every value belongs to a __variable__ and an __observation__. \n",
    "\n",
    "> A __variable__ contains all values that measure the same underlying attribute (like height, temperature, duration) across units. \n",
    "\n",
    "> An __observation__ contains all values measured on the same unit (like a person, or a day, or a race) across attributes."
   ]
  },
  {
   "cell_type": "markdown",
   "id": "0e7ccff5",
   "metadata": {
    "slideshow": {
     "slide_type": "subslide"
    }
   },
   "source": [
    "#  In \"tidy data\":\n",
    "\n",
    "> - Every __column__ is a __variable__.\n",
    "\n",
    "> - Every __row__ is an __observation__.\n",
    "\n",
    "> - Every __cell__ is a single __value__.\n",
    "\n",
    "Note: You want your __observational__ data tidy, but your __analyses__ can produce any \"shape\" of data."
   ]
  },
  {
   "cell_type": "markdown",
   "id": "fe5bfac9",
   "metadata": {
    "slideshow": {
     "slide_type": "slide"
    }
   },
   "source": [
    "# Examples of \"messy\" vs. \"tidy\""
   ]
  },
  {
   "cell_type": "code",
   "execution_count": 1,
   "id": "a0ca85d1",
   "metadata": {
    "slideshow": {
     "slide_type": "subslide"
    }
   },
   "outputs": [],
   "source": [
    "import pandas as pd"
   ]
  },
  {
   "cell_type": "code",
   "execution_count": 2,
   "id": "685b7f88",
   "metadata": {
    "slideshow": {
     "slide_type": "subslide"
    }
   },
   "outputs": [
    {
     "data": {
      "text/html": [
       "<div>\n",
       "<style scoped>\n",
       "    .dataframe tbody tr th:only-of-type {\n",
       "        vertical-align: middle;\n",
       "    }\n",
       "\n",
       "    .dataframe tbody tr th {\n",
       "        vertical-align: top;\n",
       "    }\n",
       "\n",
       "    .dataframe thead th {\n",
       "        text-align: right;\n",
       "    }\n",
       "</style>\n",
       "<table border=\"1\" class=\"dataframe\">\n",
       "  <thead>\n",
       "    <tr style=\"text-align: right;\">\n",
       "      <th></th>\n",
       "      <th>student</th>\n",
       "      <th>quiz_1</th>\n",
       "      <th>quiz_2</th>\n",
       "      <th>essay_1</th>\n",
       "      <th>essay_2</th>\n",
       "    </tr>\n",
       "  </thead>\n",
       "  <tbody>\n",
       "    <tr>\n",
       "      <th>0</th>\n",
       "      <td>Jarred</td>\n",
       "      <td>78</td>\n",
       "      <td>83</td>\n",
       "      <td>75</td>\n",
       "      <td>77</td>\n",
       "    </tr>\n",
       "    <tr>\n",
       "      <th>1</th>\n",
       "      <td>Richa</td>\n",
       "      <td>63</td>\n",
       "      <td>59</td>\n",
       "      <td>76</td>\n",
       "      <td>69</td>\n",
       "    </tr>\n",
       "    <tr>\n",
       "      <th>2</th>\n",
       "      <td>Ravi</td>\n",
       "      <td>73</td>\n",
       "      <td>70</td>\n",
       "      <td>64</td>\n",
       "      <td>94</td>\n",
       "    </tr>\n",
       "    <tr>\n",
       "      <th>3</th>\n",
       "      <td>Isabella</td>\n",
       "      <td>70</td>\n",
       "      <td>91</td>\n",
       "      <td>81</td>\n",
       "      <td>77</td>\n",
       "    </tr>\n",
       "    <tr>\n",
       "      <th>4</th>\n",
       "      <td>Janek</td>\n",
       "      <td>89</td>\n",
       "      <td>72</td>\n",
       "      <td>83</td>\n",
       "      <td>85</td>\n",
       "    </tr>\n",
       "  </tbody>\n",
       "</table>\n",
       "</div>"
      ],
      "text/plain": [
       "    student  quiz_1  quiz_2  essay_1  essay_2\n",
       "0    Jarred      78      83       75       77\n",
       "1     Richa      63      59       76       69\n",
       "2      Ravi      73      70       64       94\n",
       "3  Isabella      70      91       81       77\n",
       "4     Janek      89      72       83       85"
      ]
     },
     "execution_count": 2,
     "metadata": {},
     "output_type": "execute_result"
    }
   ],
   "source": [
    "students_raw_url = \"https://docs.google.com/spreadsheets/d/e/2PACX-1vScPt_dOJIulsY96YvXYVVR4PZWSpJfMJKjjJowaz_P_bwRfkAHxVViNG8_mm7Dpc_44bvLO0cwkfLD/pub?gid=0&single=true&output=csv\"\n",
    "students_raw = pd.read_csv(students_raw_url)\n",
    "students_raw"
   ]
  },
  {
   "cell_type": "markdown",
   "id": "38819675",
   "metadata": {
    "slideshow": {
     "slide_type": "-"
    }
   },
   "source": [
    "## Q: Is this \"messy\" or \"tidy\"?\n",
    "\n",
    "- What is the unit of observation?\n",
    "- What are the variables?"
   ]
  },
  {
   "cell_type": "markdown",
   "id": "59c2c4ef",
   "metadata": {
    "slideshow": {
     "slide_type": "subslide"
    }
   },
   "source": [
    "- Which student has highest average, across all assignments?\n",
    "- Who got the highest single score, and on what assignment?\n",
    "- Did students score higher on essays or quizzes?\n",
    "- Did students score higher the second time(s), overall?\n",
    "- Did scores improve/decrease more with quizzes or essays?\n",
    "- What student had the biggest gap between essay and quiz scores?"
   ]
  },
  {
   "cell_type": "code",
   "execution_count": 3,
   "id": "ffd48bac",
   "metadata": {
    "slideshow": {
     "slide_type": "-"
    }
   },
   "outputs": [],
   "source": [
    "# Live coding"
   ]
  },
  {
   "cell_type": "markdown",
   "id": "daf081be",
   "metadata": {
    "slideshow": {
     "slide_type": "subslide"
    }
   },
   "source": [
    "## Now let's look at the tidy version:"
   ]
  },
  {
   "cell_type": "code",
   "execution_count": 4,
   "id": "25a01430",
   "metadata": {
    "slideshow": {
     "slide_type": "subslide"
    }
   },
   "outputs": [
    {
     "data": {
      "text/html": [
       "<div>\n",
       "<style scoped>\n",
       "    .dataframe tbody tr th:only-of-type {\n",
       "        vertical-align: middle;\n",
       "    }\n",
       "\n",
       "    .dataframe tbody tr th {\n",
       "        vertical-align: top;\n",
       "    }\n",
       "\n",
       "    .dataframe thead th {\n",
       "        text-align: right;\n",
       "    }\n",
       "</style>\n",
       "<table border=\"1\" class=\"dataframe\">\n",
       "  <thead>\n",
       "    <tr style=\"text-align: right;\">\n",
       "      <th></th>\n",
       "      <th>student</th>\n",
       "      <th>work_type</th>\n",
       "      <th>work_num</th>\n",
       "      <th>score</th>\n",
       "    </tr>\n",
       "  </thead>\n",
       "  <tbody>\n",
       "    <tr>\n",
       "      <th>0</th>\n",
       "      <td>Jarred</td>\n",
       "      <td>quiz</td>\n",
       "      <td>1</td>\n",
       "      <td>78</td>\n",
       "    </tr>\n",
       "    <tr>\n",
       "      <th>1</th>\n",
       "      <td>Richa</td>\n",
       "      <td>quiz</td>\n",
       "      <td>1</td>\n",
       "      <td>63</td>\n",
       "    </tr>\n",
       "    <tr>\n",
       "      <th>2</th>\n",
       "      <td>Ravi</td>\n",
       "      <td>quiz</td>\n",
       "      <td>1</td>\n",
       "      <td>73</td>\n",
       "    </tr>\n",
       "    <tr>\n",
       "      <th>3</th>\n",
       "      <td>Isabella</td>\n",
       "      <td>quiz</td>\n",
       "      <td>1</td>\n",
       "      <td>70</td>\n",
       "    </tr>\n",
       "    <tr>\n",
       "      <th>4</th>\n",
       "      <td>Janek</td>\n",
       "      <td>quiz</td>\n",
       "      <td>1</td>\n",
       "      <td>89</td>\n",
       "    </tr>\n",
       "    <tr>\n",
       "      <th>5</th>\n",
       "      <td>Jarred</td>\n",
       "      <td>quiz</td>\n",
       "      <td>2</td>\n",
       "      <td>83</td>\n",
       "    </tr>\n",
       "    <tr>\n",
       "      <th>6</th>\n",
       "      <td>Richa</td>\n",
       "      <td>quiz</td>\n",
       "      <td>2</td>\n",
       "      <td>59</td>\n",
       "    </tr>\n",
       "  </tbody>\n",
       "</table>\n",
       "</div>"
      ],
      "text/plain": [
       "    student work_type  work_num  score\n",
       "0    Jarred      quiz         1     78\n",
       "1     Richa      quiz         1     63\n",
       "2      Ravi      quiz         1     73\n",
       "3  Isabella      quiz         1     70\n",
       "4     Janek      quiz         1     89\n",
       "5    Jarred      quiz         2     83\n",
       "6     Richa      quiz         2     59"
      ]
     },
     "execution_count": 4,
     "metadata": {},
     "output_type": "execute_result"
    }
   ],
   "source": [
    "students_tidy_url = \"https://docs.google.com/spreadsheets/d/e/2PACX-1vScPt_dOJIulsY96YvXYVVR4PZWSpJfMJKjjJowaz_P_bwRfkAHxVViNG8_mm7Dpc_44bvLO0cwkfLD/pub?gid=509891746&single=true&output=csv\"\n",
    "students_tidy = pd.read_csv(students_tidy_url)\n",
    "students_tidy.head(7)"
   ]
  },
  {
   "cell_type": "markdown",
   "id": "78e79aa0",
   "metadata": {
    "slideshow": {
     "slide_type": "subslide"
    }
   },
   "source": [
    "- Which student has highest average, across all assignments?\n",
    "- Who got the highest single score, and on what assignment?\n",
    "- Did students score higher on essays or quizzes?\n",
    "- Did students score higher the second time(s), overall?\n",
    "- Did scores improve/decrease more with quizzes or essays?\n",
    "- What student had the biggest gap between essay and quiz scores?"
   ]
  },
  {
   "cell_type": "code",
   "execution_count": 5,
   "id": "f2727dc2",
   "metadata": {
    "slideshow": {
     "slide_type": "-"
    }
   },
   "outputs": [],
   "source": [
    "# Live coding"
   ]
  },
  {
   "cell_type": "markdown",
   "id": "6c0d14a1",
   "metadata": {},
   "source": [
    "## Which student has highest average, across all assignments?"
   ]
  },
  {
   "cell_type": "code",
   "execution_count": 6,
   "id": "35bc755a",
   "metadata": {},
   "outputs": [
    {
     "data": {
      "text/plain": [
       "student\n",
       "Janek       82.25\n",
       "Isabella    79.75\n",
       "Jarred      78.25\n",
       "Ravi        75.25\n",
       "Richa       66.75\n",
       "Name: score, dtype: float64"
      ]
     },
     "execution_count": 6,
     "metadata": {},
     "output_type": "execute_result"
    }
   ],
   "source": [
    "(\n",
    "    students_tidy\n",
    "    .groupby(\"student\")\n",
    "    [\"score\"].mean()\n",
    "    .sort_values(ascending=False)\n",
    ")"
   ]
  },
  {
   "cell_type": "markdown",
   "id": "0daedb08",
   "metadata": {},
   "source": [
    "## Who got the highest single score, and on what assignment?"
   ]
  },
  {
   "cell_type": "code",
   "execution_count": 7,
   "id": "f4699619",
   "metadata": {},
   "outputs": [
    {
     "data": {
      "text/html": [
       "<div>\n",
       "<style scoped>\n",
       "    .dataframe tbody tr th:only-of-type {\n",
       "        vertical-align: middle;\n",
       "    }\n",
       "\n",
       "    .dataframe tbody tr th {\n",
       "        vertical-align: top;\n",
       "    }\n",
       "\n",
       "    .dataframe thead th {\n",
       "        text-align: right;\n",
       "    }\n",
       "</style>\n",
       "<table border=\"1\" class=\"dataframe\">\n",
       "  <thead>\n",
       "    <tr style=\"text-align: right;\">\n",
       "      <th></th>\n",
       "      <th>student</th>\n",
       "      <th>work_type</th>\n",
       "      <th>work_num</th>\n",
       "      <th>score</th>\n",
       "    </tr>\n",
       "  </thead>\n",
       "  <tbody>\n",
       "    <tr>\n",
       "      <th>17</th>\n",
       "      <td>Ravi</td>\n",
       "      <td>essay</td>\n",
       "      <td>2</td>\n",
       "      <td>94</td>\n",
       "    </tr>\n",
       "    <tr>\n",
       "      <th>8</th>\n",
       "      <td>Isabella</td>\n",
       "      <td>quiz</td>\n",
       "      <td>2</td>\n",
       "      <td>91</td>\n",
       "    </tr>\n",
       "    <tr>\n",
       "      <th>4</th>\n",
       "      <td>Janek</td>\n",
       "      <td>quiz</td>\n",
       "      <td>1</td>\n",
       "      <td>89</td>\n",
       "    </tr>\n",
       "  </tbody>\n",
       "</table>\n",
       "</div>"
      ],
      "text/plain": [
       "     student work_type  work_num  score\n",
       "17      Ravi     essay         2     94\n",
       "8   Isabella      quiz         2     91\n",
       "4      Janek      quiz         1     89"
      ]
     },
     "execution_count": 7,
     "metadata": {},
     "output_type": "execute_result"
    }
   ],
   "source": [
    "(\n",
    "    students_tidy\n",
    "    .sort_values(\"score\", ascending=False)\n",
    "    .head(3)\n",
    ")"
   ]
  },
  {
   "cell_type": "markdown",
   "id": "1f089281",
   "metadata": {},
   "source": [
    "## Did students score higher on essays or quizzes?"
   ]
  },
  {
   "cell_type": "code",
   "execution_count": 8,
   "id": "e046696f",
   "metadata": {},
   "outputs": [
    {
     "data": {
      "text/plain": [
       "work_type\n",
       "essay    78.1\n",
       "quiz     74.8\n",
       "Name: score, dtype: float64"
      ]
     },
     "execution_count": 8,
     "metadata": {},
     "output_type": "execute_result"
    }
   ],
   "source": [
    "(\n",
    "    students_tidy\n",
    "    .groupby(\"work_type\")\n",
    "    [\"score\"]\n",
    "    .mean()\n",
    ")"
   ]
  },
  {
   "cell_type": "markdown",
   "id": "ea47f443",
   "metadata": {},
   "source": [
    "## Did students score higher the second time(s), overall?"
   ]
  },
  {
   "cell_type": "code",
   "execution_count": 9,
   "id": "58d5b5d1",
   "metadata": {},
   "outputs": [
    {
     "data": {
      "text/plain": [
       "work_num\n",
       "1    75.2\n",
       "2    77.7\n",
       "Name: score, dtype: float64"
      ]
     },
     "execution_count": 9,
     "metadata": {},
     "output_type": "execute_result"
    }
   ],
   "source": [
    "(\n",
    "    students_tidy\n",
    "    .groupby(\"work_num\")\n",
    "    [\"score\"]\n",
    "    .mean()\n",
    ")"
   ]
  },
  {
   "cell_type": "markdown",
   "id": "bb73de31",
   "metadata": {},
   "source": [
    "## Did scores improve/decrease more with quizzes or essays?"
   ]
  },
  {
   "cell_type": "code",
   "execution_count": 10,
   "id": "54047af4",
   "metadata": {},
   "outputs": [
    {
     "data": {
      "text/html": [
       "<div>\n",
       "<style scoped>\n",
       "    .dataframe tbody tr th:only-of-type {\n",
       "        vertical-align: middle;\n",
       "    }\n",
       "\n",
       "    .dataframe tbody tr th {\n",
       "        vertical-align: top;\n",
       "    }\n",
       "\n",
       "    .dataframe thead th {\n",
       "        text-align: right;\n",
       "    }\n",
       "</style>\n",
       "<table border=\"1\" class=\"dataframe\">\n",
       "  <thead>\n",
       "    <tr style=\"text-align: right;\">\n",
       "      <th>work_num</th>\n",
       "      <th>1</th>\n",
       "      <th>2</th>\n",
       "      <th>change</th>\n",
       "    </tr>\n",
       "    <tr>\n",
       "      <th>work_type</th>\n",
       "      <th></th>\n",
       "      <th></th>\n",
       "      <th></th>\n",
       "    </tr>\n",
       "  </thead>\n",
       "  <tbody>\n",
       "    <tr>\n",
       "      <th>essay</th>\n",
       "      <td>75.8</td>\n",
       "      <td>80.4</td>\n",
       "      <td>4.6</td>\n",
       "    </tr>\n",
       "    <tr>\n",
       "      <th>quiz</th>\n",
       "      <td>74.6</td>\n",
       "      <td>75.0</td>\n",
       "      <td>0.4</td>\n",
       "    </tr>\n",
       "  </tbody>\n",
       "</table>\n",
       "</div>"
      ],
      "text/plain": [
       "work_num      1     2  change\n",
       "work_type                    \n",
       "essay      75.8  80.4     4.6\n",
       "quiz       74.6  75.0     0.4"
      ]
     },
     "execution_count": 10,
     "metadata": {},
     "output_type": "execute_result"
    }
   ],
   "source": [
    "(\n",
    "    students_tidy\n",
    "    .groupby([ \"work_type\", \"work_num\" ])\n",
    "    [\"score\"]\n",
    "    .mean()\n",
    "    .unstack()\n",
    "    .assign(\n",
    "        change = lambda df: df[2] - df[1]\n",
    "    )\n",
    ")"
   ]
  },
  {
   "cell_type": "markdown",
   "id": "d1f3e07d",
   "metadata": {},
   "source": [
    "## What student had the biggest gap between essay and quiz scores?"
   ]
  },
  {
   "cell_type": "code",
   "execution_count": 11,
   "id": "7baaeb32",
   "metadata": {},
   "outputs": [
    {
     "data": {
      "text/html": [
       "<div>\n",
       "<style scoped>\n",
       "    .dataframe tbody tr th:only-of-type {\n",
       "        vertical-align: middle;\n",
       "    }\n",
       "\n",
       "    .dataframe tbody tr th {\n",
       "        vertical-align: top;\n",
       "    }\n",
       "\n",
       "    .dataframe thead th {\n",
       "        text-align: right;\n",
       "    }\n",
       "</style>\n",
       "<table border=\"1\" class=\"dataframe\">\n",
       "  <thead>\n",
       "    <tr style=\"text-align: right;\">\n",
       "      <th>work_type</th>\n",
       "      <th>essay</th>\n",
       "      <th>quiz</th>\n",
       "      <th>diff</th>\n",
       "      <th>diff_abs</th>\n",
       "    </tr>\n",
       "    <tr>\n",
       "      <th>student</th>\n",
       "      <th></th>\n",
       "      <th></th>\n",
       "      <th></th>\n",
       "      <th></th>\n",
       "    </tr>\n",
       "  </thead>\n",
       "  <tbody>\n",
       "    <tr>\n",
       "      <th>Richa</th>\n",
       "      <td>72.5</td>\n",
       "      <td>61.0</td>\n",
       "      <td>11.5</td>\n",
       "      <td>11.5</td>\n",
       "    </tr>\n",
       "    <tr>\n",
       "      <th>Ravi</th>\n",
       "      <td>79.0</td>\n",
       "      <td>71.5</td>\n",
       "      <td>7.5</td>\n",
       "      <td>7.5</td>\n",
       "    </tr>\n",
       "    <tr>\n",
       "      <th>Jarred</th>\n",
       "      <td>76.0</td>\n",
       "      <td>80.5</td>\n",
       "      <td>-4.5</td>\n",
       "      <td>4.5</td>\n",
       "    </tr>\n",
       "    <tr>\n",
       "      <th>Janek</th>\n",
       "      <td>84.0</td>\n",
       "      <td>80.5</td>\n",
       "      <td>3.5</td>\n",
       "      <td>3.5</td>\n",
       "    </tr>\n",
       "    <tr>\n",
       "      <th>Isabella</th>\n",
       "      <td>79.0</td>\n",
       "      <td>80.5</td>\n",
       "      <td>-1.5</td>\n",
       "      <td>1.5</td>\n",
       "    </tr>\n",
       "  </tbody>\n",
       "</table>\n",
       "</div>"
      ],
      "text/plain": [
       "work_type  essay  quiz  diff  diff_abs\n",
       "student                               \n",
       "Richa       72.5  61.0  11.5      11.5\n",
       "Ravi        79.0  71.5   7.5       7.5\n",
       "Jarred      76.0  80.5  -4.5       4.5\n",
       "Janek       84.0  80.5   3.5       3.5\n",
       "Isabella    79.0  80.5  -1.5       1.5"
      ]
     },
     "execution_count": 11,
     "metadata": {},
     "output_type": "execute_result"
    }
   ],
   "source": [
    "(\n",
    "    students_tidy\n",
    "    .groupby([ \"student\", \"work_type\" ])\n",
    "    [\"score\"]\n",
    "    .mean()\n",
    "    .unstack()\n",
    "    .assign(\n",
    "        diff = lambda df: df[\"essay\"] - df[\"quiz\"],\n",
    "        diff_abs = lambda df: df[\"diff\"].abs()\n",
    "    )\n",
    "    .sort_values(\"diff_abs\", ascending=False)\n",
    ")"
   ]
  },
  {
   "cell_type": "markdown",
   "id": "6015dfb1",
   "metadata": {
    "slideshow": {
     "slide_type": "slide"
    }
   },
   "source": [
    "# How do we get from messy to tidy?\n",
    "\n",
    "Generally: `.melt(...)` ([documentation](https://pandas.pydata.org/docs/reference/api/pandas.melt.html))"
   ]
  },
  {
   "cell_type": "code",
   "execution_count": 12,
   "id": "7bcb64e7",
   "metadata": {
    "slideshow": {
     "slide_type": "subslide"
    }
   },
   "outputs": [
    {
     "data": {
      "text/html": [
       "<div>\n",
       "<style scoped>\n",
       "    .dataframe tbody tr th:only-of-type {\n",
       "        vertical-align: middle;\n",
       "    }\n",
       "\n",
       "    .dataframe tbody tr th {\n",
       "        vertical-align: top;\n",
       "    }\n",
       "\n",
       "    .dataframe thead th {\n",
       "        text-align: right;\n",
       "    }\n",
       "</style>\n",
       "<table border=\"1\" class=\"dataframe\">\n",
       "  <thead>\n",
       "    <tr style=\"text-align: right;\">\n",
       "      <th></th>\n",
       "      <th>variable</th>\n",
       "      <th>value</th>\n",
       "    </tr>\n",
       "  </thead>\n",
       "  <tbody>\n",
       "    <tr>\n",
       "      <th>0</th>\n",
       "      <td>student</td>\n",
       "      <td>Jarred</td>\n",
       "    </tr>\n",
       "    <tr>\n",
       "      <th>1</th>\n",
       "      <td>student</td>\n",
       "      <td>Richa</td>\n",
       "    </tr>\n",
       "    <tr>\n",
       "      <th>2</th>\n",
       "      <td>student</td>\n",
       "      <td>Ravi</td>\n",
       "    </tr>\n",
       "    <tr>\n",
       "      <th>3</th>\n",
       "      <td>student</td>\n",
       "      <td>Isabella</td>\n",
       "    </tr>\n",
       "    <tr>\n",
       "      <th>4</th>\n",
       "      <td>student</td>\n",
       "      <td>Janek</td>\n",
       "    </tr>\n",
       "    <tr>\n",
       "      <th>5</th>\n",
       "      <td>quiz_1</td>\n",
       "      <td>78</td>\n",
       "    </tr>\n",
       "    <tr>\n",
       "      <th>6</th>\n",
       "      <td>quiz_1</td>\n",
       "      <td>63</td>\n",
       "    </tr>\n",
       "    <tr>\n",
       "      <th>7</th>\n",
       "      <td>quiz_1</td>\n",
       "      <td>73</td>\n",
       "    </tr>\n",
       "    <tr>\n",
       "      <th>8</th>\n",
       "      <td>quiz_1</td>\n",
       "      <td>70</td>\n",
       "    </tr>\n",
       "    <tr>\n",
       "      <th>9</th>\n",
       "      <td>quiz_1</td>\n",
       "      <td>89</td>\n",
       "    </tr>\n",
       "    <tr>\n",
       "      <th>10</th>\n",
       "      <td>quiz_2</td>\n",
       "      <td>83</td>\n",
       "    </tr>\n",
       "    <tr>\n",
       "      <th>11</th>\n",
       "      <td>quiz_2</td>\n",
       "      <td>59</td>\n",
       "    </tr>\n",
       "    <tr>\n",
       "      <th>12</th>\n",
       "      <td>quiz_2</td>\n",
       "      <td>70</td>\n",
       "    </tr>\n",
       "    <tr>\n",
       "      <th>13</th>\n",
       "      <td>quiz_2</td>\n",
       "      <td>91</td>\n",
       "    </tr>\n",
       "    <tr>\n",
       "      <th>14</th>\n",
       "      <td>quiz_2</td>\n",
       "      <td>72</td>\n",
       "    </tr>\n",
       "    <tr>\n",
       "      <th>15</th>\n",
       "      <td>essay_1</td>\n",
       "      <td>75</td>\n",
       "    </tr>\n",
       "    <tr>\n",
       "      <th>16</th>\n",
       "      <td>essay_1</td>\n",
       "      <td>76</td>\n",
       "    </tr>\n",
       "    <tr>\n",
       "      <th>17</th>\n",
       "      <td>essay_1</td>\n",
       "      <td>64</td>\n",
       "    </tr>\n",
       "    <tr>\n",
       "      <th>18</th>\n",
       "      <td>essay_1</td>\n",
       "      <td>81</td>\n",
       "    </tr>\n",
       "    <tr>\n",
       "      <th>19</th>\n",
       "      <td>essay_1</td>\n",
       "      <td>83</td>\n",
       "    </tr>\n",
       "    <tr>\n",
       "      <th>20</th>\n",
       "      <td>essay_2</td>\n",
       "      <td>77</td>\n",
       "    </tr>\n",
       "    <tr>\n",
       "      <th>21</th>\n",
       "      <td>essay_2</td>\n",
       "      <td>69</td>\n",
       "    </tr>\n",
       "    <tr>\n",
       "      <th>22</th>\n",
       "      <td>essay_2</td>\n",
       "      <td>94</td>\n",
       "    </tr>\n",
       "    <tr>\n",
       "      <th>23</th>\n",
       "      <td>essay_2</td>\n",
       "      <td>77</td>\n",
       "    </tr>\n",
       "    <tr>\n",
       "      <th>24</th>\n",
       "      <td>essay_2</td>\n",
       "      <td>85</td>\n",
       "    </tr>\n",
       "  </tbody>\n",
       "</table>\n",
       "</div>"
      ],
      "text/plain": [
       "   variable     value\n",
       "0   student    Jarred\n",
       "1   student     Richa\n",
       "2   student      Ravi\n",
       "3   student  Isabella\n",
       "4   student     Janek\n",
       "5    quiz_1        78\n",
       "6    quiz_1        63\n",
       "7    quiz_1        73\n",
       "8    quiz_1        70\n",
       "9    quiz_1        89\n",
       "10   quiz_2        83\n",
       "11   quiz_2        59\n",
       "12   quiz_2        70\n",
       "13   quiz_2        91\n",
       "14   quiz_2        72\n",
       "15  essay_1        75\n",
       "16  essay_1        76\n",
       "17  essay_1        64\n",
       "18  essay_1        81\n",
       "19  essay_1        83\n",
       "20  essay_2        77\n",
       "21  essay_2        69\n",
       "22  essay_2        94\n",
       "23  essay_2        77\n",
       "24  essay_2        85"
      ]
     },
     "execution_count": 12,
     "metadata": {},
     "output_type": "execute_result"
    }
   ],
   "source": [
    "students_raw.melt()"
   ]
  },
  {
   "cell_type": "code",
   "execution_count": 13,
   "id": "41471496",
   "metadata": {
    "slideshow": {
     "slide_type": "subslide"
    }
   },
   "outputs": [
    {
     "data": {
      "text/html": [
       "<div>\n",
       "<style scoped>\n",
       "    .dataframe tbody tr th:only-of-type {\n",
       "        vertical-align: middle;\n",
       "    }\n",
       "\n",
       "    .dataframe tbody tr th {\n",
       "        vertical-align: top;\n",
       "    }\n",
       "\n",
       "    .dataframe thead th {\n",
       "        text-align: right;\n",
       "    }\n",
       "</style>\n",
       "<table border=\"1\" class=\"dataframe\">\n",
       "  <thead>\n",
       "    <tr style=\"text-align: right;\">\n",
       "      <th></th>\n",
       "      <th>student</th>\n",
       "      <th>variable</th>\n",
       "      <th>value</th>\n",
       "    </tr>\n",
       "  </thead>\n",
       "  <tbody>\n",
       "    <tr>\n",
       "      <th>0</th>\n",
       "      <td>Jarred</td>\n",
       "      <td>quiz_1</td>\n",
       "      <td>78</td>\n",
       "    </tr>\n",
       "    <tr>\n",
       "      <th>1</th>\n",
       "      <td>Richa</td>\n",
       "      <td>quiz_1</td>\n",
       "      <td>63</td>\n",
       "    </tr>\n",
       "    <tr>\n",
       "      <th>2</th>\n",
       "      <td>Ravi</td>\n",
       "      <td>quiz_1</td>\n",
       "      <td>73</td>\n",
       "    </tr>\n",
       "    <tr>\n",
       "      <th>3</th>\n",
       "      <td>Isabella</td>\n",
       "      <td>quiz_1</td>\n",
       "      <td>70</td>\n",
       "    </tr>\n",
       "    <tr>\n",
       "      <th>4</th>\n",
       "      <td>Janek</td>\n",
       "      <td>quiz_1</td>\n",
       "      <td>89</td>\n",
       "    </tr>\n",
       "    <tr>\n",
       "      <th>5</th>\n",
       "      <td>Jarred</td>\n",
       "      <td>quiz_2</td>\n",
       "      <td>83</td>\n",
       "    </tr>\n",
       "    <tr>\n",
       "      <th>6</th>\n",
       "      <td>Richa</td>\n",
       "      <td>quiz_2</td>\n",
       "      <td>59</td>\n",
       "    </tr>\n",
       "    <tr>\n",
       "      <th>7</th>\n",
       "      <td>Ravi</td>\n",
       "      <td>quiz_2</td>\n",
       "      <td>70</td>\n",
       "    </tr>\n",
       "    <tr>\n",
       "      <th>8</th>\n",
       "      <td>Isabella</td>\n",
       "      <td>quiz_2</td>\n",
       "      <td>91</td>\n",
       "    </tr>\n",
       "    <tr>\n",
       "      <th>9</th>\n",
       "      <td>Janek</td>\n",
       "      <td>quiz_2</td>\n",
       "      <td>72</td>\n",
       "    </tr>\n",
       "    <tr>\n",
       "      <th>10</th>\n",
       "      <td>Jarred</td>\n",
       "      <td>essay_1</td>\n",
       "      <td>75</td>\n",
       "    </tr>\n",
       "    <tr>\n",
       "      <th>11</th>\n",
       "      <td>Richa</td>\n",
       "      <td>essay_1</td>\n",
       "      <td>76</td>\n",
       "    </tr>\n",
       "    <tr>\n",
       "      <th>12</th>\n",
       "      <td>Ravi</td>\n",
       "      <td>essay_1</td>\n",
       "      <td>64</td>\n",
       "    </tr>\n",
       "    <tr>\n",
       "      <th>13</th>\n",
       "      <td>Isabella</td>\n",
       "      <td>essay_1</td>\n",
       "      <td>81</td>\n",
       "    </tr>\n",
       "    <tr>\n",
       "      <th>14</th>\n",
       "      <td>Janek</td>\n",
       "      <td>essay_1</td>\n",
       "      <td>83</td>\n",
       "    </tr>\n",
       "    <tr>\n",
       "      <th>15</th>\n",
       "      <td>Jarred</td>\n",
       "      <td>essay_2</td>\n",
       "      <td>77</td>\n",
       "    </tr>\n",
       "    <tr>\n",
       "      <th>16</th>\n",
       "      <td>Richa</td>\n",
       "      <td>essay_2</td>\n",
       "      <td>69</td>\n",
       "    </tr>\n",
       "    <tr>\n",
       "      <th>17</th>\n",
       "      <td>Ravi</td>\n",
       "      <td>essay_2</td>\n",
       "      <td>94</td>\n",
       "    </tr>\n",
       "    <tr>\n",
       "      <th>18</th>\n",
       "      <td>Isabella</td>\n",
       "      <td>essay_2</td>\n",
       "      <td>77</td>\n",
       "    </tr>\n",
       "    <tr>\n",
       "      <th>19</th>\n",
       "      <td>Janek</td>\n",
       "      <td>essay_2</td>\n",
       "      <td>85</td>\n",
       "    </tr>\n",
       "  </tbody>\n",
       "</table>\n",
       "</div>"
      ],
      "text/plain": [
       "     student variable  value\n",
       "0     Jarred   quiz_1     78\n",
       "1      Richa   quiz_1     63\n",
       "2       Ravi   quiz_1     73\n",
       "3   Isabella   quiz_1     70\n",
       "4      Janek   quiz_1     89\n",
       "5     Jarred   quiz_2     83\n",
       "6      Richa   quiz_2     59\n",
       "7       Ravi   quiz_2     70\n",
       "8   Isabella   quiz_2     91\n",
       "9      Janek   quiz_2     72\n",
       "10    Jarred  essay_1     75\n",
       "11     Richa  essay_1     76\n",
       "12      Ravi  essay_1     64\n",
       "13  Isabella  essay_1     81\n",
       "14     Janek  essay_1     83\n",
       "15    Jarred  essay_2     77\n",
       "16     Richa  essay_2     69\n",
       "17      Ravi  essay_2     94\n",
       "18  Isabella  essay_2     77\n",
       "19     Janek  essay_2     85"
      ]
     },
     "execution_count": 13,
     "metadata": {},
     "output_type": "execute_result"
    }
   ],
   "source": [
    "(\n",
    "    students_raw\n",
    "    .melt(id_vars=[\"student\"])\n",
    ")"
   ]
  },
  {
   "cell_type": "code",
   "execution_count": 14,
   "id": "a40a0abd",
   "metadata": {
    "slideshow": {
     "slide_type": "subslide"
    }
   },
   "outputs": [
    {
     "data": {
      "text/html": [
       "<div>\n",
       "<style scoped>\n",
       "    .dataframe tbody tr th:only-of-type {\n",
       "        vertical-align: middle;\n",
       "    }\n",
       "\n",
       "    .dataframe tbody tr th {\n",
       "        vertical-align: top;\n",
       "    }\n",
       "\n",
       "    .dataframe thead th {\n",
       "        text-align: right;\n",
       "    }\n",
       "</style>\n",
       "<table border=\"1\" class=\"dataframe\">\n",
       "  <thead>\n",
       "    <tr style=\"text-align: right;\">\n",
       "      <th></th>\n",
       "      <th>student</th>\n",
       "      <th>work_type</th>\n",
       "      <th>work_num</th>\n",
       "      <th>score</th>\n",
       "    </tr>\n",
       "  </thead>\n",
       "  <tbody>\n",
       "    <tr>\n",
       "      <th>0</th>\n",
       "      <td>Jarred</td>\n",
       "      <td>quiz</td>\n",
       "      <td>1</td>\n",
       "      <td>78</td>\n",
       "    </tr>\n",
       "    <tr>\n",
       "      <th>1</th>\n",
       "      <td>Richa</td>\n",
       "      <td>quiz</td>\n",
       "      <td>1</td>\n",
       "      <td>63</td>\n",
       "    </tr>\n",
       "    <tr>\n",
       "      <th>2</th>\n",
       "      <td>Ravi</td>\n",
       "      <td>quiz</td>\n",
       "      <td>1</td>\n",
       "      <td>73</td>\n",
       "    </tr>\n",
       "    <tr>\n",
       "      <th>3</th>\n",
       "      <td>Isabella</td>\n",
       "      <td>quiz</td>\n",
       "      <td>1</td>\n",
       "      <td>70</td>\n",
       "    </tr>\n",
       "    <tr>\n",
       "      <th>4</th>\n",
       "      <td>Janek</td>\n",
       "      <td>quiz</td>\n",
       "      <td>1</td>\n",
       "      <td>89</td>\n",
       "    </tr>\n",
       "    <tr>\n",
       "      <th>5</th>\n",
       "      <td>Jarred</td>\n",
       "      <td>quiz</td>\n",
       "      <td>2</td>\n",
       "      <td>83</td>\n",
       "    </tr>\n",
       "    <tr>\n",
       "      <th>6</th>\n",
       "      <td>Richa</td>\n",
       "      <td>quiz</td>\n",
       "      <td>2</td>\n",
       "      <td>59</td>\n",
       "    </tr>\n",
       "  </tbody>\n",
       "</table>\n",
       "</div>"
      ],
      "text/plain": [
       "    student work_type work_num  score\n",
       "0    Jarred      quiz        1     78\n",
       "1     Richa      quiz        1     63\n",
       "2      Ravi      quiz        1     73\n",
       "3  Isabella      quiz        1     70\n",
       "4     Janek      quiz        1     89\n",
       "5    Jarred      quiz        2     83\n",
       "6     Richa      quiz        2     59"
      ]
     },
     "execution_count": 14,
     "metadata": {},
     "output_type": "execute_result"
    }
   ],
   "source": [
    "students_tidy = (\n",
    "    students_raw\n",
    "    .melt(id_vars=[\"student\"], value_name=\"score\")\n",
    "    .assign(\n",
    "        work_type = lambda df: df[\"variable\"].str.split(\"_\").str.get(0),\n",
    "        work_num = lambda df: df[\"variable\"].str.split(\"_\").str.get(1),\n",
    "    )\n",
    "    .drop(columns = [ \"variable\" ])\n",
    "    [[\n",
    "        \"student\",\n",
    "        \"work_type\",\n",
    "        \"work_num\",\n",
    "        \"score\"\n",
    "    ]]\n",
    ")\n",
    "\n",
    "students_tidy.head(7)"
   ]
  },
  {
   "cell_type": "markdown",
   "id": "b44f9539",
   "metadata": {},
   "source": [
    "## How do we un-tidy?\n",
    "\n",
    "`.pivot(...)` ([documentation](https://pandas.pydata.org/docs/reference/api/pandas.DataFrame.pivot.html))"
   ]
  },
  {
   "cell_type": "code",
   "execution_count": 15,
   "id": "eb7e59de",
   "metadata": {},
   "outputs": [
    {
     "data": {
      "text/html": [
       "<div>\n",
       "<style scoped>\n",
       "    .dataframe tbody tr th:only-of-type {\n",
       "        vertical-align: middle;\n",
       "    }\n",
       "\n",
       "    .dataframe tbody tr th {\n",
       "        vertical-align: top;\n",
       "    }\n",
       "\n",
       "    .dataframe thead th {\n",
       "        text-align: right;\n",
       "    }\n",
       "</style>\n",
       "<table border=\"1\" class=\"dataframe\">\n",
       "  <thead>\n",
       "    <tr style=\"text-align: right;\">\n",
       "      <th>work_id</th>\n",
       "      <th>essay_1</th>\n",
       "      <th>essay_2</th>\n",
       "      <th>quiz_1</th>\n",
       "      <th>quiz_2</th>\n",
       "    </tr>\n",
       "    <tr>\n",
       "      <th>student</th>\n",
       "      <th></th>\n",
       "      <th></th>\n",
       "      <th></th>\n",
       "      <th></th>\n",
       "    </tr>\n",
       "  </thead>\n",
       "  <tbody>\n",
       "    <tr>\n",
       "      <th>Isabella</th>\n",
       "      <td>81</td>\n",
       "      <td>77</td>\n",
       "      <td>70</td>\n",
       "      <td>91</td>\n",
       "    </tr>\n",
       "    <tr>\n",
       "      <th>Janek</th>\n",
       "      <td>83</td>\n",
       "      <td>85</td>\n",
       "      <td>89</td>\n",
       "      <td>72</td>\n",
       "    </tr>\n",
       "    <tr>\n",
       "      <th>Jarred</th>\n",
       "      <td>75</td>\n",
       "      <td>77</td>\n",
       "      <td>78</td>\n",
       "      <td>83</td>\n",
       "    </tr>\n",
       "    <tr>\n",
       "      <th>Ravi</th>\n",
       "      <td>64</td>\n",
       "      <td>94</td>\n",
       "      <td>73</td>\n",
       "      <td>70</td>\n",
       "    </tr>\n",
       "    <tr>\n",
       "      <th>Richa</th>\n",
       "      <td>76</td>\n",
       "      <td>69</td>\n",
       "      <td>63</td>\n",
       "      <td>59</td>\n",
       "    </tr>\n",
       "  </tbody>\n",
       "</table>\n",
       "</div>"
      ],
      "text/plain": [
       "work_id   essay_1  essay_2  quiz_1  quiz_2\n",
       "student                                   \n",
       "Isabella       81       77      70      91\n",
       "Janek          83       85      89      72\n",
       "Jarred         75       77      78      83\n",
       "Ravi           64       94      73      70\n",
       "Richa          76       69      63      59"
      ]
     },
     "execution_count": 15,
     "metadata": {},
     "output_type": "execute_result"
    }
   ],
   "source": [
    "(\n",
    "    students_tidy\n",
    "    .assign(\n",
    "        work_id = lambda df: df[\"work_type\"] + \"_\" + df[\"work_num\"].astype(str)\n",
    "    )\n",
    "    .pivot(index=\"student\", columns=\"work_id\", values=\"score\")\n",
    ")"
   ]
  },
  {
   "cell_type": "markdown",
   "id": "ff196363",
   "metadata": {
    "slideshow": {
     "slide_type": "skip"
    }
   },
   "source": [
    "---\n",
    "\n",
    "---\n",
    "\n",
    "---"
   ]
  }
 ],
 "metadata": {
  "celltoolbar": "Slideshow",
  "kernelspec": {
   "display_name": "Python 3 (ipykernel)",
   "language": "python",
   "name": "python3"
  },
  "language_info": {
   "codemirror_mode": {
    "name": "ipython",
    "version": 3
   },
   "file_extension": ".py",
   "mimetype": "text/x-python",
   "name": "python",
   "nbconvert_exporter": "python",
   "pygments_lexer": "ipython3",
   "version": "3.10.4"
  }
 },
 "nbformat": 4,
 "nbformat_minor": 5
}
