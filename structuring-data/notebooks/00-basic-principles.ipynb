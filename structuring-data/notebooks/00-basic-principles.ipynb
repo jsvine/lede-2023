{
 "cells": [
  {
   "cell_type": "markdown",
   "id": "64eb5c07",
   "metadata": {
    "slideshow": {
     "slide_type": "slide"
    }
   },
   "source": [
    "# 🧱 Structuring Data: Basic Principles\n",
    "\n",
    "*A few guidelines to get you started.*"
   ]
  },
  {
   "cell_type": "markdown",
   "id": "ef869599",
   "metadata": {
    "slideshow": {
     "slide_type": "slide"
    }
   },
   "source": [
    "<center><a href=\"https://www.tandfonline.com/doi/full/10.1080/00031305.2017.1375989\">https://www.tandfonline.com/doi/full/10.1080/00031305.2017.1375989</a></center>\n",
    "\n",
    "![Broman/Woo article](../images/broman-woo.png)"
   ]
  },
  {
   "cell_type": "markdown",
   "id": "f25a7f5f",
   "metadata": {
    "slideshow": {
     "slide_type": "subslide"
    }
   },
   "source": [
    "## Be Consistent\n",
    "\n",
    "- Use consistent codes for __categorical variables__.\n",
    "- Use a consistent fixed code for any __missing values__.\n",
    "- Use consistent __variable names__.\n",
    "- Use consistent __subject identifiers__.\n",
    "- Use a consistent __data layout__ in multiple files.\n",
    "- Use consistent __file names__.\n",
    "- Use consistent phrases in your __notes__.\n",
    "- Be careful about __extra spaces__ within cells."
   ]
  },
  {
   "cell_type": "markdown",
   "id": "de4c1e32",
   "metadata": {
    "slideshow": {
     "slide_type": "subslide"
    }
   },
   "source": [
    "## Write Dates as YYYY-MM-DD\n",
    "\n",
    "> When entering dates, we strongly recommend using the global “ISO 8601” standard, YYYY-MM-DD, such as 2013-02-27. (See the related xkcd comic, https://xkcd.com/1179.)"
   ]
  },
  {
   "cell_type": "markdown",
   "id": "b609dd39",
   "metadata": {
    "slideshow": {
     "slide_type": "subslide"
    }
   },
   "source": [
    "## No Empty Cells\n",
    "\n",
    "> Fill in all cells. Use some common code for missing data. Not everyone agrees with us on this point (e.g., White et al. (Citation2013) stated a preference for leaving cells blank), but we would prefer to have “NA” or even a hyphen in the cells with missing data, to make it clear that the data are known to be missing rather than unintentionally left blank."
   ]
  },
  {
   "cell_type": "markdown",
   "id": "2728de54",
   "metadata": {
    "slideshow": {
     "slide_type": "subslide"
    }
   },
   "source": [
    "## Put Just One Thing in a Cell\n",
    "\n",
    "> The cells in your spreadsheet should each contain one piece of data. Do not put more than one thing in a cell."
   ]
  },
  {
   "cell_type": "markdown",
   "id": "7c28dd38",
   "metadata": {
    "slideshow": {
     "slide_type": "subslide"
    }
   },
   "source": [
    "## Make it a Rectangle\n",
    "\n",
    "> The best layout for your data within a spreadsheet is as a single big rectangle with rows corresponding to subjects and columns corresponding to variables. The first row should contain variable names, and please do not use more than one row for the variable names."
   ]
  },
  {
   "cell_type": "markdown",
   "id": "f56020b5",
   "metadata": {
    "slideshow": {
     "slide_type": "subslide"
    }
   },
   "source": [
    "## Create a Data Dictionary\n",
    "\n",
    "> It is helpful to have a separate file that explains what all of the variables are. It is helpful if this is laid out in rectangular form, so that the data analyst can make use of it in analyses."
   ]
  },
  {
   "cell_type": "markdown",
   "id": "d732345c",
   "metadata": {
    "slideshow": {
     "slide_type": "subslide"
    }
   },
   "source": [
    "## No Calculations in the Raw Data Files\n",
    "\n",
    "> We feel strongly that your primary data file should contain just the data and nothing else: no calculations, no graphs.\n",
    "\n",
    "> If you are doing calculations in your data file, that likely means you are regularly opening it and typing into it. Doing so incurs some risk that you will accidentally type junk into your data.\n",
    "\n",
    "> Your primary data file should be a pristine store of data. Write-protect it, back it up, and do not touch it."
   ]
  },
  {
   "cell_type": "markdown",
   "id": "649e4dd8",
   "metadata": {
    "slideshow": {
     "slide_type": "subslide"
    }
   },
   "source": [
    "## Do Not Use Font Color or Highlighting as Data\n",
    "\n",
    "> You might be tempted to highlight particular cells with suspicious data, or rows that should be ignored. Or the font or font color might have some meaning. Instead, add another column with an indicator variable (e.g., ”trusted” with values `TRUE` or `FALSE`)."
   ]
  },
  {
   "cell_type": "markdown",
   "id": "f0a96b4d",
   "metadata": {
    "slideshow": {
     "slide_type": "subslide"
    }
   },
   "source": [
    "> Karl Broman: [🧵10 fun facts about my paper with @kara_woo on Data Organization in Spreadsheets](https://fosstodon.org/@kbroman/110339581912808989)\n",
    "\n",
    "> […] 3. It's the 3rd most downloaded paper at The American Statistician, after two papers about p-values.\n",
    "\n",
    "> […] 10. I first met @kara_woo at the Baltimore Ballet. We danced together in the Nutcracker in 2004. […] https://youtu.be/5gtVjHj6NzU"
   ]
  },
  {
   "cell_type": "markdown",
   "id": "98a60139",
   "metadata": {
    "slideshow": {
     "slide_type": "skip"
    }
   },
   "source": [
    "---\n",
    "\n",
    "---\n",
    "\n",
    "---"
   ]
  }
 ],
 "metadata": {
  "celltoolbar": "Slideshow",
  "kernelspec": {
   "display_name": "Python 3 (ipykernel)",
   "language": "python",
   "name": "python3"
  },
  "language_info": {
   "codemirror_mode": {
    "name": "ipython",
    "version": 3
   },
   "file_extension": ".py",
   "mimetype": "text/x-python",
   "name": "python",
   "nbconvert_exporter": "python",
   "pygments_lexer": "ipython3",
   "version": "3.10.4"
  }
 },
 "nbformat": 4,
 "nbformat_minor": 5
}
