{
 "cells": [
  {
   "cell_type": "markdown",
   "id": "7edcd4d3",
   "metadata": {
    "slideshow": {
     "slide_type": "slide"
    }
   },
   "source": [
    "# 🧹 Cleaning Data, Part 3: \"Regular Expressions\"\n",
    "\n",
    "*i.e., Find/replace on steroids.*"
   ]
  },
  {
   "cell_type": "markdown",
   "id": "2b2fe90b",
   "metadata": {},
   "source": [
    "## `.strip(...)`, `.replace(...)`, etc. have their limits\n",
    "\n",
    "They deal with sets of explicit, pre-defined characters (e.g., the `\"$ \"` in `my_string.replace(\"$ \", \"\")`. But what if we don't know all characters we want to replace/strip/etc.?\n",
    "\n",
    "What if we want to clean based on ... *patterns*?"
   ]
  },
  {
   "cell_type": "markdown",
   "id": "93f789b8",
   "metadata": {
    "slideshow": {
     "slide_type": "slide"
    }
   },
   "source": [
    "## An example\n",
    "\n",
    "How would you extract the amounts from these strings?"
   ]
  },
  {
   "cell_type": "code",
   "execution_count": 1,
   "id": "e728cde7",
   "metadata": {
    "slideshow": {
     "slide_type": "-"
    }
   },
   "outputs": [],
   "source": [
    "amounts = [\n",
    "    \"   1,000.31   doLLaRs   \",\n",
    "    \"54 cents  \",\n",
    "    \"33 CENTS\",\n",
    "    \"Dollars: 10\" # <- this is our new wrinkle\n",
    "]"
   ]
  },
  {
   "cell_type": "markdown",
   "id": "73a1b0ec",
   "metadata": {
    "slideshow": {
     "slide_type": "subslide"
    }
   },
   "source": [
    "If we try to use the function we defined earlier, we'll get an error because the `Dollars: ` comes before the amount rather than afterward, and it's not as easy to strip out as just `$`."
   ]
  },
  {
   "cell_type": "code",
   "execution_count": 2,
   "id": "7fd9013b",
   "metadata": {
    "slideshow": {
     "slide_type": "skip"
    }
   },
   "outputs": [],
   "source": [
    "def clean_amount(amt):\n",
    "    if \"$\" in amt or \"dollar\" in amt.lower():\n",
    "        conversion = 1\n",
    "    elif \"cent\" in amt.lower():\n",
    "        conversion = 0.01\n",
    "    else:\n",
    "        raise ValueError(f\"Cannot determine unit for {amt}\")\n",
    "        \n",
    "    amt = amt.strip(\"$ \")\n",
    "    amt = amt.replace(\",\", \"\")\n",
    "    amt = amt.split(\" \")[0]\n",
    "    return float(amt) * conversion"
   ]
  },
  {
   "cell_type": "code",
   "execution_count": 3,
   "id": "edbbdbd3",
   "metadata": {
    "tags": [
     "raises-exception"
    ]
   },
   "outputs": [
    {
     "ename": "ValueError",
     "evalue": "could not convert string to float: 'Dollars:'",
     "output_type": "error",
     "traceback": [
      "\u001b[0;31m---------------------------------------------------------------------------\u001b[0m",
      "\u001b[0;31mValueError\u001b[0m                                Traceback (most recent call last)",
      "Cell \u001b[0;32mIn[3], line 1\u001b[0m\n\u001b[0;32m----> 1\u001b[0m \u001b[38;5;28;43msum\u001b[39;49m\u001b[43m(\u001b[49m\u001b[43mclean_amount\u001b[49m\u001b[43m(\u001b[49m\u001b[43ma\u001b[49m\u001b[43m)\u001b[49m\u001b[43m \u001b[49m\u001b[38;5;28;43;01mfor\u001b[39;49;00m\u001b[43m \u001b[49m\u001b[43ma\u001b[49m\u001b[43m \u001b[49m\u001b[38;5;129;43;01min\u001b[39;49;00m\u001b[43m \u001b[49m\u001b[43mamounts\u001b[49m\u001b[43m)\u001b[49m\n",
      "Cell \u001b[0;32mIn[3], line 1\u001b[0m, in \u001b[0;36m<genexpr>\u001b[0;34m(.0)\u001b[0m\n\u001b[0;32m----> 1\u001b[0m \u001b[38;5;28msum\u001b[39m(\u001b[43mclean_amount\u001b[49m\u001b[43m(\u001b[49m\u001b[43ma\u001b[49m\u001b[43m)\u001b[49m \u001b[38;5;28;01mfor\u001b[39;00m a \u001b[38;5;129;01min\u001b[39;00m amounts)\n",
      "Cell \u001b[0;32mIn[2], line 12\u001b[0m, in \u001b[0;36mclean_amount\u001b[0;34m(amt)\u001b[0m\n\u001b[1;32m     10\u001b[0m amt \u001b[38;5;241m=\u001b[39m amt\u001b[38;5;241m.\u001b[39mreplace(\u001b[38;5;124m\"\u001b[39m\u001b[38;5;124m,\u001b[39m\u001b[38;5;124m\"\u001b[39m, \u001b[38;5;124m\"\u001b[39m\u001b[38;5;124m\"\u001b[39m)\n\u001b[1;32m     11\u001b[0m amt \u001b[38;5;241m=\u001b[39m amt\u001b[38;5;241m.\u001b[39msplit(\u001b[38;5;124m\"\u001b[39m\u001b[38;5;124m \u001b[39m\u001b[38;5;124m\"\u001b[39m)[\u001b[38;5;241m0\u001b[39m]\n\u001b[0;32m---> 12\u001b[0m \u001b[38;5;28;01mreturn\u001b[39;00m \u001b[38;5;28;43mfloat\u001b[39;49m\u001b[43m(\u001b[49m\u001b[43mamt\u001b[49m\u001b[43m)\u001b[49m \u001b[38;5;241m*\u001b[39m conversion\n",
      "\u001b[0;31mValueError\u001b[0m: could not convert string to float: 'Dollars:'"
     ]
    }
   ],
   "source": [
    "sum(clean_amount(a) for a in amounts)"
   ]
  },
  {
   "cell_type": "markdown",
   "id": "4af92a40",
   "metadata": {
    "slideshow": {
     "slide_type": "subslide"
    }
   },
   "source": [
    "We *could* redefine our `.strip(...)` step to include every non-digit character ... but there's *got* to be a better way.\n",
    "\n",
    "Spoiler: There is!"
   ]
  },
  {
   "cell_type": "code",
   "execution_count": 4,
   "id": "2d97a8bd",
   "metadata": {
    "slideshow": {
     "slide_type": "fragment"
    }
   },
   "outputs": [
    {
     "name": "stdout",
     "output_type": "stream",
     "text": [
      "1000.31\n",
      "54\n",
      "33\n",
      "10\n"
     ]
    }
   ],
   "source": [
    "import re\n",
    "\n",
    "for amt in amounts:\n",
    "    print(re.sub(r\"[^\\d\\.]\", \"\", amt))"
   ]
  },
  {
   "cell_type": "code",
   "execution_count": 5,
   "id": "76d3491b",
   "metadata": {
    "slideshow": {
     "slide_type": "subslide"
    }
   },
   "outputs": [
    {
     "name": "stdout",
     "output_type": "stream",
     "text": [
      "1000.31 dollars\n",
      "54.0 cents\n",
      "33.0 cents\n",
      "10.0 dollars\n"
     ]
    }
   ],
   "source": [
    "for amt in amounts:\n",
    "    quantity = re.sub(r\"[^\\d\\.]\", \"\", amt)\n",
    "    unit_match = re.search(r\"([a-z]+)\", amt.lower())\n",
    "    unit = unit_match.group(1)\n",
    "    print(float(quantity), unit)"
   ]
  },
  {
   "cell_type": "markdown",
   "id": "4cad7ba7",
   "metadata": {
    "slideshow": {
     "slide_type": "slide"
    }
   },
   "source": [
    "## __Regular expressions__ (\"RegEx\")\n",
    "\n",
    "Regexes are:\n",
    "\n",
    "- Like \"Control-F\" on steroids\n",
    "- A (mostly) standard, purpose-tailored mini-language\n",
    "- Usable across virtually every programming language (Python, JavaScript, R, etc.) and environment (even Excel and Google Sheets)\n",
    "\n",
    "By analogy:\n",
    "\n",
    "- __HTML__ - for webpage content\n",
    "- __CSS__  - for styling webpages\n",
    "- __SQL__  - for querying databases\n",
    "- __RegEx__ - for searching and modifying patterns in text"
   ]
  },
  {
   "cell_type": "markdown",
   "id": "6282ec7f",
   "metadata": {
    "slideshow": {
     "slide_type": "subslide"
    }
   },
   "source": [
    "## Searching text for patterns\n",
    "\n",
    "Is X *in* my string?\n",
    "\n",
    "`re.search(pattern, text)`"
   ]
  },
  {
   "cell_type": "code",
   "execution_count": 6,
   "id": "e141684a",
   "metadata": {},
   "outputs": [
    {
     "name": "stdout",
     "output_type": "stream",
     "text": [
      "<re.Match object; span=(10, 11), match='2'>\n"
     ]
    }
   ],
   "source": [
    "print(re.search(r\"\\d\", \"There are 24 people in class\"))"
   ]
  },
  {
   "cell_type": "code",
   "execution_count": 7,
   "id": "fc62f70a",
   "metadata": {},
   "outputs": [
    {
     "name": "stdout",
     "output_type": "stream",
     "text": [
      "None\n"
     ]
    }
   ],
   "source": [
    "print(re.search(r\"\\d\", \"There are twenty-four people in class\"))"
   ]
  },
  {
   "cell_type": "markdown",
   "id": "3bd7ed8b",
   "metadata": {
    "slideshow": {
     "slide_type": "subslide"
    }
   },
   "source": [
    "Does my string *match* this pattern?\n",
    "\n",
    "`re.match(pattern, text)`"
   ]
  },
  {
   "cell_type": "code",
   "execution_count": 8,
   "id": "24295fdd",
   "metadata": {},
   "outputs": [
    {
     "name": "stdout",
     "output_type": "stream",
     "text": [
      "None\n"
     ]
    }
   ],
   "source": [
    "print(re.match(r\"\\d\", \"There are 24 people in class\"))"
   ]
  },
  {
   "cell_type": "code",
   "execution_count": 9,
   "id": "e4192405",
   "metadata": {},
   "outputs": [
    {
     "name": "stdout",
     "output_type": "stream",
     "text": [
      "<re.Match object; span=(0, 28), match='There are 24 people in class'>\n"
     ]
    }
   ],
   "source": [
    "print(re.match(r\"[A-Z].* \\d+ .*\", \"There are 24 people in class\"))"
   ]
  },
  {
   "cell_type": "markdown",
   "id": "4ef5db63",
   "metadata": {
    "slideshow": {
     "slide_type": "subslide"
    }
   },
   "source": [
    "## Extracting text, using patterns\n",
    "\n",
    "Regexes use parentheses to define \"capture groups\":"
   ]
  },
  {
   "cell_type": "code",
   "execution_count": 10,
   "id": "2275b400",
   "metadata": {},
   "outputs": [
    {
     "data": {
      "text/plain": [
       "'24'"
      ]
     },
     "execution_count": 10,
     "metadata": {},
     "output_type": "execute_result"
    }
   ],
   "source": [
    "match = re.search(r\"(\\d+)\", \"There are 24 people in class\")\n",
    "match.group(1)"
   ]
  },
  {
   "cell_type": "code",
   "execution_count": 11,
   "id": "96ca3cfe",
   "metadata": {},
   "outputs": [
    {
     "data": {
      "text/plain": [
       "['24', '10']"
      ]
     },
     "execution_count": 11,
     "metadata": {},
     "output_type": "execute_result"
    }
   ],
   "source": [
    "re.findall(r\"\\d+\", \"There are 24 people in class at 10 am\")"
   ]
  },
  {
   "cell_type": "markdown",
   "id": "8a4ecd75",
   "metadata": {
    "slideshow": {
     "slide_type": "subslide"
    }
   },
   "source": [
    "## Changing text, using patterns\n",
    "\n",
    "Like \"Find/Replace,\" but much more powerful.\n",
    "\n",
    "`re.sub(pattern, replacement, text)`"
   ]
  },
  {
   "cell_type": "code",
   "execution_count": 12,
   "id": "165aacdb",
   "metadata": {},
   "outputs": [
    {
     "data": {
      "text/plain": [
       "'2023-02-05'"
      ]
     },
     "execution_count": 12,
     "metadata": {},
     "output_type": "execute_result"
    }
   ],
   "source": [
    "ambiguous_date = \"02/05/2023\"\n",
    "re.sub(r\"(\\d+)/(\\d+)/(\\d+)\", r\"\\3-\\1-\\2\", ambiguous_date)"
   ]
  },
  {
   "cell_type": "code",
   "execution_count": 13,
   "id": "e8c58518",
   "metadata": {},
   "outputs": [
    {
     "data": {
      "text/plain": [
       "'😀: Hellllllo! 🤖: Beeeeeep!'"
      ]
     },
     "execution_count": 13,
     "metadata": {},
     "output_type": "execute_result"
    }
   ],
   "source": [
    "conversation = \"😀: Hello! 🤖: Beep!\"\n",
    "re.sub(r\"(.)\\1+\", r\"\\1\\1\\1\\1\\1\\1\", conversation)"
   ]
  },
  {
   "cell_type": "markdown",
   "id": "7652a2df",
   "metadata": {
    "slideshow": {
     "slide_type": "subslide"
    }
   },
   "source": [
    "Regular expressions are the heart and soul of gimmicks like this:\n",
    "\n",
    "- https://chrome.google.com/webstore/detail/cloud-to-butt-plus/apmlngnhgbnjpajelfkmabhkfapgnoai\n",
    "\n",
    "And mistakes like this:\n",
    "\n",
    "- https://www.nytimes.com/2018/03/06/us/politics/07dc-tradefacts.html"
   ]
  },
  {
   "cell_type": "markdown",
   "id": "fc3d880c",
   "metadata": {
    "slideshow": {
     "slide_type": "slide"
    }
   },
   "source": [
    "## \"But how do I actually write them?\""
   ]
  },
  {
   "cell_type": "markdown",
   "id": "67da765a",
   "metadata": {},
   "source": [
    "The __bad news__: There are some rules to learn.\n",
    "\n",
    "The __good news__: There aren't *too* many, and they're well worth learning."
   ]
  },
  {
   "cell_type": "markdown",
   "id": "d6fe3a6d",
   "metadata": {},
   "source": [
    "## The basics\n",
    "\n",
    "- Anchors\n",
    "- Character sets\n",
    "- Repetition\n",
    "- Groups"
   ]
  },
  {
   "cell_type": "markdown",
   "id": "c1ff8ce7",
   "metadata": {
    "slideshow": {
     "slide_type": "subslide"
    }
   },
   "source": [
    "### Anchors\n",
    "\n",
    "The most important of these:\n",
    "\n",
    "- `^`: The beginning of the line\n",
    "- `$`: The end of the line"
   ]
  },
  {
   "cell_type": "code",
   "execution_count": 14,
   "id": "025aeafb",
   "metadata": {
    "slideshow": {
     "slide_type": "subslide"
    }
   },
   "outputs": [],
   "source": [
    "def test_search(pattern, string):\n",
    "    m = re.search(pattern, string)\n",
    "    print(f\"{string} → {'Yes' if m else 'No'}\")"
   ]
  },
  {
   "cell_type": "code",
   "execution_count": 15,
   "id": "637249a4",
   "metadata": {
    "slideshow": {
     "slide_type": "subslide"
    }
   },
   "outputs": [
    {
     "name": "stdout",
     "output_type": "stream",
     "text": [
      "apple → Yes\n",
      "almond → Yes\n",
      "orange → No\n"
     ]
    }
   ],
   "source": [
    "pattern = r\"^a\"\n",
    "test_search(pattern, \"apple\")\n",
    "test_search(pattern, \"almond\")\n",
    "test_search(pattern, \"orange\")"
   ]
  },
  {
   "cell_type": "code",
   "execution_count": 16,
   "id": "ea8c5135",
   "metadata": {
    "slideshow": {
     "slide_type": "fragment"
    }
   },
   "outputs": [
    {
     "name": "stdout",
     "output_type": "stream",
     "text": [
      "apple → Yes\n",
      "almond → No\n",
      "orange → Yes\n"
     ]
    }
   ],
   "source": [
    "pattern = r\"e$\"\n",
    "test_search(pattern, \"apple\")\n",
    "test_search(pattern, \"almond\")\n",
    "test_search(pattern, \"orange\")"
   ]
  },
  {
   "cell_type": "markdown",
   "id": "9161e822",
   "metadata": {
    "slideshow": {
     "slide_type": "subslide"
    }
   },
   "source": [
    "### Character sets\n",
    "\n",
    "- `[abc123]`: A character that is *any* of a, b, c, 1, 2, or 3\n",
    "- `[^abc]`: A character that is *not* a, b, or c\n",
    "- `[a-z]`: Any of the lowercase characters between\n",
    "- `[0-9]` ... or `\\d`: Any digit\n",
    "- `\\s`: Any whitespace (space, tab, newline)\n",
    "- `.`: Anything! (Except for a newline.)\n",
    "- `\\.`: The literal period character"
   ]
  },
  {
   "cell_type": "code",
   "execution_count": 17,
   "id": "c2da5a87",
   "metadata": {
    "slideshow": {
     "slide_type": "subslide"
    }
   },
   "outputs": [
    {
     "name": "stdout",
     "output_type": "stream",
     "text": [
      "apple → Yes\n",
      "Apple → No\n",
      "IPHONE 13 → Yes\n"
     ]
    }
   ],
   "source": [
    "pattern = r\"[abcxyz123]\"\n",
    "test_search(pattern, \"apple\")\n",
    "test_search(pattern, \"Apple\")\n",
    "test_search(pattern, \"IPHONE 13\")"
   ]
  },
  {
   "cell_type": "code",
   "execution_count": 18,
   "id": "dc8e67ab",
   "metadata": {
    "slideshow": {
     "slide_type": "subslide"
    }
   },
   "outputs": [
    {
     "name": "stdout",
     "output_type": "stream",
     "text": [
      "apple → Yes\n",
      "Apple → Yes\n",
      "IPHONE 13 → No\n"
     ]
    }
   ],
   "source": [
    "pattern = r\"[a-z]\"\n",
    "test_search(pattern, \"apple\")\n",
    "test_search(pattern, \"Apple\")\n",
    "test_search(pattern, \"IPHONE 13\")"
   ]
  },
  {
   "cell_type": "code",
   "execution_count": 19,
   "id": "4195a75d",
   "metadata": {
    "slideshow": {
     "slide_type": "subslide"
    }
   },
   "outputs": [
    {
     "name": "stdout",
     "output_type": "stream",
     "text": [
      "apple → No\n",
      "Apple → No\n",
      "IPHONE 13 → Yes\n"
     ]
    }
   ],
   "source": [
    "pattern = r\"\\d\"\n",
    "test_search(pattern, \"apple\")\n",
    "test_search(pattern, \"Apple\")\n",
    "test_search(pattern, \"IPHONE 13\")"
   ]
  },
  {
   "cell_type": "code",
   "execution_count": 20,
   "id": "e4caed23",
   "metadata": {
    "slideshow": {
     "slide_type": "subslide"
    }
   },
   "outputs": [
    {
     "name": "stdout",
     "output_type": "stream",
     "text": [
      "apple → No\n",
      "Apple → No\n",
      "IPHONE 13 → Yes\n"
     ]
    }
   ],
   "source": [
    "pattern = r\"\\s\"\n",
    "test_search(pattern, \"apple\")\n",
    "test_search(pattern, \"Apple\")\n",
    "test_search(pattern, \"IPHONE 13\")"
   ]
  },
  {
   "cell_type": "markdown",
   "id": "fba35075",
   "metadata": {
    "slideshow": {
     "slide_type": "subslide"
    }
   },
   "source": [
    "### Repetition\n",
    "\n",
    "- `?`: Zero or one\n",
    "- `*`: Zero or more\n",
    "- `+`: One or more\n",
    "- `{5}`: Exactly five\n",
    "- `{,5}`: Up to five\n",
    "- `{5,}`: At least five\n",
    "- `{5,8}`: Between five and eight"
   ]
  },
  {
   "cell_type": "code",
   "execution_count": 21,
   "id": "a654d5a4",
   "metadata": {
    "slideshow": {
     "slide_type": "subslide"
    }
   },
   "outputs": [
    {
     "name": "stdout",
     "output_type": "stream",
     "text": [
      "Bu → Yes\n",
      "Buz → Yes\n",
      "Buzz → Yes\n",
      "Buzzzzz → Yes\n",
      "Buzzzzzz → Yes\n"
     ]
    }
   ],
   "source": [
    "pattern = r\"Buz?\"\n",
    "test_search(pattern, \"Bu\")\n",
    "test_search(pattern, \"Buz\")\n",
    "test_search(pattern, \"Buzz\")\n",
    "test_search(pattern, \"Buzzzzz\")\n",
    "test_search(pattern, \"Buzzzzzz\")"
   ]
  },
  {
   "cell_type": "code",
   "execution_count": 22,
   "id": "0c664568",
   "metadata": {
    "slideshow": {
     "slide_type": "subslide"
    }
   },
   "outputs": [
    {
     "name": "stdout",
     "output_type": "stream",
     "text": [
      "Bu → Yes\n",
      "Buz → Yes\n",
      "Buzz → No\n",
      "Buzzz → No\n",
      "Buzzzz → No\n"
     ]
    }
   ],
   "source": [
    "pattern = r\"Buz?$\"\n",
    "test_search(pattern, \"Bu\")\n",
    "test_search(pattern, \"Buz\")\n",
    "test_search(pattern, \"Buzz\")\n",
    "test_search(pattern, \"Buzzz\")\n",
    "test_search(pattern, \"Buzzzz\")"
   ]
  },
  {
   "cell_type": "code",
   "execution_count": 23,
   "id": "9ceb8176",
   "metadata": {
    "slideshow": {
     "slide_type": "subslide"
    }
   },
   "outputs": [
    {
     "name": "stdout",
     "output_type": "stream",
     "text": [
      "Bu → Yes\n",
      "Buz → Yes\n",
      "Buzz → Yes\n",
      "Buzzz → Yes\n",
      "Buzzzz → Yes\n"
     ]
    }
   ],
   "source": [
    "pattern = r\"Buz*$\"\n",
    "test_search(pattern, \"Bu\")\n",
    "test_search(pattern, \"Buz\")\n",
    "test_search(pattern, \"Buzz\")\n",
    "test_search(pattern, \"Buzzz\")\n",
    "test_search(pattern, \"Buzzzz\")"
   ]
  },
  {
   "cell_type": "code",
   "execution_count": 24,
   "id": "5a6c46bd",
   "metadata": {
    "slideshow": {
     "slide_type": "subslide"
    }
   },
   "outputs": [
    {
     "name": "stdout",
     "output_type": "stream",
     "text": [
      "Bu → No\n",
      "Buz → Yes\n",
      "Buzz → Yes\n",
      "Buzzz → Yes\n",
      "Buzzzz → Yes\n"
     ]
    }
   ],
   "source": [
    "pattern = r\"Buz+$\"\n",
    "test_search(pattern, \"Bu\")\n",
    "test_search(pattern, \"Buz\")\n",
    "test_search(pattern, \"Buzz\")\n",
    "test_search(pattern, \"Buzzz\")\n",
    "test_search(pattern, \"Buzzzz\")"
   ]
  },
  {
   "cell_type": "code",
   "execution_count": 25,
   "id": "83a2045a",
   "metadata": {
    "slideshow": {
     "slide_type": "subslide"
    }
   },
   "outputs": [
    {
     "name": "stdout",
     "output_type": "stream",
     "text": [
      "Bu → No\n",
      "Buz → No\n",
      "Buzz → No\n",
      "Buzzz → Yes\n",
      "Buzzzz → No\n"
     ]
    }
   ],
   "source": [
    "pattern = r\"Buz{3}$\"\n",
    "test_search(pattern, \"Bu\")\n",
    "test_search(pattern, \"Buz\")\n",
    "test_search(pattern, \"Buzz\")\n",
    "test_search(pattern, \"Buzzz\")\n",
    "test_search(pattern, \"Buzzzz\")"
   ]
  },
  {
   "cell_type": "code",
   "execution_count": 26,
   "id": "49c382cc",
   "metadata": {
    "slideshow": {
     "slide_type": "subslide"
    }
   },
   "outputs": [
    {
     "name": "stdout",
     "output_type": "stream",
     "text": [
      "Bu → No\n",
      "Buz → No\n",
      "Buzz → No\n",
      "Buzzz → Yes\n",
      "Buzzzz → Yes\n"
     ]
    }
   ],
   "source": [
    "pattern = r\"Buz{3,}$\"\n",
    "test_search(pattern, \"Bu\")\n",
    "test_search(pattern, \"Buz\")\n",
    "test_search(pattern, \"Buzz\")\n",
    "test_search(pattern, \"Buzzz\")\n",
    "test_search(pattern, \"Buzzzz\")"
   ]
  },
  {
   "cell_type": "code",
   "execution_count": 27,
   "id": "72a908d2",
   "metadata": {
    "slideshow": {
     "slide_type": "subslide"
    }
   },
   "outputs": [
    {
     "name": "stdout",
     "output_type": "stream",
     "text": [
      "Bu → No\n",
      "Buz → No\n",
      "Buzz → Yes\n",
      "Buzzz → Yes\n",
      "Buzzzz → No\n"
     ]
    }
   ],
   "source": [
    "pattern = r\"Buz{2,3}$\"\n",
    "test_search(pattern, \"Bu\")\n",
    "test_search(pattern, \"Buz\")\n",
    "test_search(pattern, \"Buzz\")\n",
    "test_search(pattern, \"Buzzz\")\n",
    "test_search(pattern, \"Buzzzz\")"
   ]
  },
  {
   "cell_type": "markdown",
   "id": "49842823",
   "metadata": {
    "slideshow": {
     "slide_type": "subslide"
    }
   },
   "source": [
    "### Groups\n",
    "\n",
    "- `(...)`: A group\n",
    "- `(abc|xyz)`: *Either* \"abc\" OR \"xyz\"\n",
    "- `\\1`, `\\2`: A reference to the first group, second group, etc."
   ]
  },
  {
   "cell_type": "code",
   "execution_count": 28,
   "id": "b505c3fc",
   "metadata": {
    "slideshow": {
     "slide_type": "subslide"
    }
   },
   "outputs": [
    {
     "name": "stdout",
     "output_type": "stream",
     "text": [
      "Ba → No\n",
      "Banana → Yes\n",
      "Bananana → Yes\n",
      "Banananan → No\n"
     ]
    }
   ],
   "source": [
    "pattern = r\"Ba(na)+$\"\n",
    "test_search(pattern, \"Ba\")\n",
    "test_search(pattern, \"Banana\")\n",
    "test_search(pattern, \"Bananana\")\n",
    "test_search(pattern, \"Banananan\")"
   ]
  },
  {
   "cell_type": "code",
   "execution_count": 29,
   "id": "eae9dea2",
   "metadata": {
    "slideshow": {
     "slide_type": "subslide"
    }
   },
   "outputs": [
    {
     "name": "stdout",
     "output_type": "stream",
     "text": [
      "Hello, World → Yes\n",
      "Hello, Lede → Yes\n",
      "Hello, Yellow → No\n"
     ]
    }
   ],
   "source": [
    "pattern = r\"Hello, (World|Lede)\"\n",
    "test_search(pattern, \"Hello, World\")\n",
    "test_search(pattern, \"Hello, Lede\")\n",
    "test_search(pattern, \"Hello, Yellow\")"
   ]
  },
  {
   "cell_type": "code",
   "execution_count": 30,
   "id": "ed4a1c3e",
   "metadata": {
    "slideshow": {
     "slide_type": "subslide"
    }
   },
   "outputs": [
    {
     "name": "stdout",
     "output_type": "stream",
     "text": [
      "Dog vs Dog → Yes\n",
      "Cat vs Cat → Yes\n",
      "Dog vs Cat → No\n"
     ]
    }
   ],
   "source": [
    "pattern = r\"^([^\\s]+) vs \\1\"\n",
    "test_search(pattern, \"Dog vs Dog\")\n",
    "test_search(pattern, \"Cat vs Cat\")\n",
    "test_search(pattern, \"Dog vs Cat\")"
   ]
  },
  {
   "cell_type": "code",
   "execution_count": 31,
   "id": "1cde204a",
   "metadata": {
    "slideshow": {
     "slide_type": "subslide"
    }
   },
   "outputs": [
    {
     "name": "stdout",
     "output_type": "stream",
     "text": [
      "Dog vs Dog → Yes\n",
      "Cat vs Cat → Yes\n",
      "Dog vs Cat → No\n"
     ]
    }
   ],
   "source": [
    "pattern = r\"^([^\\s]+) vs \\1\"\n",
    "test_search(pattern, \"Dog vs Dog\")\n",
    "test_search(pattern, \"Cat vs Cat\")\n",
    "test_search(pattern, \"Dog vs Cat\")"
   ]
  },
  {
   "cell_type": "code",
   "execution_count": 32,
   "id": "7131f187",
   "metadata": {
    "slideshow": {
     "slide_type": "subslide"
    }
   },
   "outputs": [
    {
     "data": {
      "text/plain": [
       "'Brooklyn, NY'"
      ]
     },
     "execution_count": 32,
     "metadata": {},
     "output_type": "execute_result"
    }
   ],
   "source": [
    "text = \"State: NY, City: Brooklyn\"\n",
    "pattern = r\"State: ([A-Z]{2}), City: ([^,]+)\"\n",
    "replacement = r\"\\2, \\1\"\n",
    "re.sub(pattern, replacement, text)"
   ]
  },
  {
   "cell_type": "markdown",
   "id": "3f9c84b1",
   "metadata": {
    "slideshow": {
     "slide_type": "slide"
    }
   },
   "source": [
    "## Regular expressions in Pandas\n",
    "\n",
    "- `.str.extract(pattern_with_group, expand=False)`\n",
    "- `.str.replace(pattern, replacement, regex=True)`\n",
    "- `.str.contains(pattern)`"
   ]
  },
  {
   "cell_type": "code",
   "execution_count": 33,
   "id": "c5f45494",
   "metadata": {
    "slideshow": {
     "slide_type": "subslide"
    }
   },
   "outputs": [],
   "source": [
    "import pandas as pd"
   ]
  },
  {
   "cell_type": "code",
   "execution_count": 34,
   "id": "5f5f6d2b",
   "metadata": {
    "slideshow": {
     "slide_type": "-"
    }
   },
   "outputs": [],
   "source": [
    "amounts = [\n",
    "    \"   1,000.31   doLLaRs   \",\n",
    "    \"54 cents  \",\n",
    "    \"33 CENTS\",\n",
    "    \"Dollars: 10\"\n",
    "]"
   ]
  },
  {
   "cell_type": "code",
   "execution_count": 35,
   "id": "d75c538f",
   "metadata": {
    "slideshow": {
     "slide_type": "-"
    }
   },
   "outputs": [
    {
     "data": {
      "text/html": [
       "<div>\n",
       "<style scoped>\n",
       "    .dataframe tbody tr th:only-of-type {\n",
       "        vertical-align: middle;\n",
       "    }\n",
       "\n",
       "    .dataframe tbody tr th {\n",
       "        vertical-align: top;\n",
       "    }\n",
       "\n",
       "    .dataframe thead th {\n",
       "        text-align: right;\n",
       "    }\n",
       "</style>\n",
       "<table border=\"1\" class=\"dataframe\">\n",
       "  <thead>\n",
       "    <tr style=\"text-align: right;\">\n",
       "      <th></th>\n",
       "      <th>raw</th>\n",
       "    </tr>\n",
       "  </thead>\n",
       "  <tbody>\n",
       "    <tr>\n",
       "      <th>0</th>\n",
       "      <td>1,000.31   doLLaRs</td>\n",
       "    </tr>\n",
       "    <tr>\n",
       "      <th>1</th>\n",
       "      <td>54 cents</td>\n",
       "    </tr>\n",
       "    <tr>\n",
       "      <th>2</th>\n",
       "      <td>33 CENTS</td>\n",
       "    </tr>\n",
       "    <tr>\n",
       "      <th>3</th>\n",
       "      <td>Dollars: 10</td>\n",
       "    </tr>\n",
       "  </tbody>\n",
       "</table>\n",
       "</div>"
      ],
      "text/plain": [
       "                        raw\n",
       "0     1,000.31   doLLaRs   \n",
       "1                54 cents  \n",
       "2                  33 CENTS\n",
       "3               Dollars: 10"
      ]
     },
     "execution_count": 35,
     "metadata": {},
     "output_type": "execute_result"
    }
   ],
   "source": [
    "amounts_df = pd.DataFrame({ \"raw\": amounts })\n",
    "amounts_df"
   ]
  },
  {
   "cell_type": "code",
   "execution_count": 36,
   "id": "4ae7e199",
   "metadata": {
    "slideshow": {
     "slide_type": "subslide"
    }
   },
   "outputs": [
    {
     "data": {
      "text/html": [
       "<div>\n",
       "<style scoped>\n",
       "    .dataframe tbody tr th:only-of-type {\n",
       "        vertical-align: middle;\n",
       "    }\n",
       "\n",
       "    .dataframe tbody tr th {\n",
       "        vertical-align: top;\n",
       "    }\n",
       "\n",
       "    .dataframe thead th {\n",
       "        text-align: right;\n",
       "    }\n",
       "</style>\n",
       "<table border=\"1\" class=\"dataframe\">\n",
       "  <thead>\n",
       "    <tr style=\"text-align: right;\">\n",
       "      <th></th>\n",
       "      <th>raw</th>\n",
       "      <th>quantity</th>\n",
       "    </tr>\n",
       "  </thead>\n",
       "  <tbody>\n",
       "    <tr>\n",
       "      <th>0</th>\n",
       "      <td>1,000.31   doLLaRs</td>\n",
       "      <td>1,000.31</td>\n",
       "    </tr>\n",
       "    <tr>\n",
       "      <th>1</th>\n",
       "      <td>54 cents</td>\n",
       "      <td>54</td>\n",
       "    </tr>\n",
       "    <tr>\n",
       "      <th>2</th>\n",
       "      <td>33 CENTS</td>\n",
       "      <td>33</td>\n",
       "    </tr>\n",
       "    <tr>\n",
       "      <th>3</th>\n",
       "      <td>Dollars: 10</td>\n",
       "      <td>10</td>\n",
       "    </tr>\n",
       "  </tbody>\n",
       "</table>\n",
       "</div>"
      ],
      "text/plain": [
       "                        raw  quantity\n",
       "0     1,000.31   doLLaRs     1,000.31\n",
       "1                54 cents          54\n",
       "2                  33 CENTS        33\n",
       "3               Dollars: 10        10"
      ]
     },
     "execution_count": 36,
     "metadata": {},
     "output_type": "execute_result"
    }
   ],
   "source": [
    "amounts_df[\"quantity\"] = (\n",
    "    amounts_df[\"raw\"]\n",
    "    .str.extract(r\"([\\d,\\.]+)\", expand=False)\n",
    ")\n",
    "\n",
    "amounts_df"
   ]
  },
  {
   "cell_type": "code",
   "execution_count": 37,
   "id": "20921f8e",
   "metadata": {
    "slideshow": {
     "slide_type": "subslide"
    }
   },
   "outputs": [
    {
     "data": {
      "text/html": [
       "<div>\n",
       "<style scoped>\n",
       "    .dataframe tbody tr th:only-of-type {\n",
       "        vertical-align: middle;\n",
       "    }\n",
       "\n",
       "    .dataframe tbody tr th {\n",
       "        vertical-align: top;\n",
       "    }\n",
       "\n",
       "    .dataframe thead th {\n",
       "        text-align: right;\n",
       "    }\n",
       "</style>\n",
       "<table border=\"1\" class=\"dataframe\">\n",
       "  <thead>\n",
       "    <tr style=\"text-align: right;\">\n",
       "      <th></th>\n",
       "      <th>raw</th>\n",
       "      <th>quantity</th>\n",
       "    </tr>\n",
       "  </thead>\n",
       "  <tbody>\n",
       "    <tr>\n",
       "      <th>0</th>\n",
       "      <td>1,000.31   doLLaRs</td>\n",
       "      <td>1000.31</td>\n",
       "    </tr>\n",
       "    <tr>\n",
       "      <th>1</th>\n",
       "      <td>54 cents</td>\n",
       "      <td>54.00</td>\n",
       "    </tr>\n",
       "    <tr>\n",
       "      <th>2</th>\n",
       "      <td>33 CENTS</td>\n",
       "      <td>33.00</td>\n",
       "    </tr>\n",
       "    <tr>\n",
       "      <th>3</th>\n",
       "      <td>Dollars: 10</td>\n",
       "      <td>10.00</td>\n",
       "    </tr>\n",
       "  </tbody>\n",
       "</table>\n",
       "</div>"
      ],
      "text/plain": [
       "                        raw  quantity\n",
       "0     1,000.31   doLLaRs      1000.31\n",
       "1                54 cents       54.00\n",
       "2                  33 CENTS     33.00\n",
       "3               Dollars: 10     10.00"
      ]
     },
     "execution_count": 37,
     "metadata": {},
     "output_type": "execute_result"
    }
   ],
   "source": [
    "amounts_df[\"quantity\"] = (\n",
    "    amounts_df[\"raw\"]\n",
    "    .str.extract(r\"([\\d,\\.]+)\", expand=False)\n",
    "    .str.replace(\",\", \"\")\n",
    "    .astype(float)    \n",
    ")\n",
    "\n",
    "amounts_df"
   ]
  },
  {
   "cell_type": "code",
   "execution_count": 38,
   "id": "b0fe8e88",
   "metadata": {
    "slideshow": {
     "slide_type": "subslide"
    }
   },
   "outputs": [
    {
     "data": {
      "text/html": [
       "<div>\n",
       "<style scoped>\n",
       "    .dataframe tbody tr th:only-of-type {\n",
       "        vertical-align: middle;\n",
       "    }\n",
       "\n",
       "    .dataframe tbody tr th {\n",
       "        vertical-align: top;\n",
       "    }\n",
       "\n",
       "    .dataframe thead th {\n",
       "        text-align: right;\n",
       "    }\n",
       "</style>\n",
       "<table border=\"1\" class=\"dataframe\">\n",
       "  <thead>\n",
       "    <tr style=\"text-align: right;\">\n",
       "      <th></th>\n",
       "      <th>0</th>\n",
       "      <th>1</th>\n",
       "    </tr>\n",
       "  </thead>\n",
       "  <tbody>\n",
       "    <tr>\n",
       "      <th>0</th>\n",
       "      <td>1,000.31</td>\n",
       "      <td>doLLaRs</td>\n",
       "    </tr>\n",
       "    <tr>\n",
       "      <th>1</th>\n",
       "      <td>54</td>\n",
       "      <td>cents</td>\n",
       "    </tr>\n",
       "    <tr>\n",
       "      <th>2</th>\n",
       "      <td>33</td>\n",
       "      <td>CENTS</td>\n",
       "    </tr>\n",
       "    <tr>\n",
       "      <th>3</th>\n",
       "      <td>10</td>\n",
       "      <td></td>\n",
       "    </tr>\n",
       "  </tbody>\n",
       "</table>\n",
       "</div>"
      ],
      "text/plain": [
       "          0              1\n",
       "0  1,000.31     doLLaRs   \n",
       "1        54        cents  \n",
       "2        33          CENTS\n",
       "3        10               "
      ]
     },
     "execution_count": 38,
     "metadata": {},
     "output_type": "execute_result"
    }
   ],
   "source": [
    "amounts_df[\"raw\"].str.extract(r\"([\\d,\\.]+)(.*)$\")"
   ]
  },
  {
   "cell_type": "code",
   "execution_count": 39,
   "id": "cc5d71f2",
   "metadata": {
    "slideshow": {
     "slide_type": "fragment"
    }
   },
   "outputs": [
    {
     "data": {
      "text/html": [
       "<div>\n",
       "<style scoped>\n",
       "    .dataframe tbody tr th:only-of-type {\n",
       "        vertical-align: middle;\n",
       "    }\n",
       "\n",
       "    .dataframe tbody tr th {\n",
       "        vertical-align: top;\n",
       "    }\n",
       "\n",
       "    .dataframe thead th {\n",
       "        text-align: right;\n",
       "    }\n",
       "</style>\n",
       "<table border=\"1\" class=\"dataframe\">\n",
       "  <thead>\n",
       "    <tr style=\"text-align: right;\">\n",
       "      <th></th>\n",
       "      <th>amount</th>\n",
       "      <th>suffix</th>\n",
       "    </tr>\n",
       "  </thead>\n",
       "  <tbody>\n",
       "    <tr>\n",
       "      <th>0</th>\n",
       "      <td>1,000.31</td>\n",
       "      <td>doLLaRs</td>\n",
       "    </tr>\n",
       "    <tr>\n",
       "      <th>1</th>\n",
       "      <td>54</td>\n",
       "      <td>cents</td>\n",
       "    </tr>\n",
       "    <tr>\n",
       "      <th>2</th>\n",
       "      <td>33</td>\n",
       "      <td>CENTS</td>\n",
       "    </tr>\n",
       "    <tr>\n",
       "      <th>3</th>\n",
       "      <td>10</td>\n",
       "      <td></td>\n",
       "    </tr>\n",
       "  </tbody>\n",
       "</table>\n",
       "</div>"
      ],
      "text/plain": [
       "     amount         suffix\n",
       "0  1,000.31     doLLaRs   \n",
       "1        54        cents  \n",
       "2        33          CENTS\n",
       "3        10               "
      ]
     },
     "execution_count": 39,
     "metadata": {},
     "output_type": "execute_result"
    }
   ],
   "source": [
    "amounts_df[\"raw\"].str.extract(r\"(?P<amount>[\\d,\\.]+)(?P<suffix>.*)$\")"
   ]
  },
  {
   "cell_type": "code",
   "execution_count": 40,
   "id": "c546b3b1",
   "metadata": {
    "slideshow": {
     "slide_type": "subslide"
    }
   },
   "outputs": [
    {
     "data": {
      "text/html": [
       "<div>\n",
       "<style scoped>\n",
       "    .dataframe tbody tr th:only-of-type {\n",
       "        vertical-align: middle;\n",
       "    }\n",
       "\n",
       "    .dataframe tbody tr th {\n",
       "        vertical-align: top;\n",
       "    }\n",
       "\n",
       "    .dataframe thead th {\n",
       "        text-align: right;\n",
       "    }\n",
       "</style>\n",
       "<table border=\"1\" class=\"dataframe\">\n",
       "  <thead>\n",
       "    <tr style=\"text-align: right;\">\n",
       "      <th></th>\n",
       "      <th>raw</th>\n",
       "      <th>quantity</th>\n",
       "    </tr>\n",
       "  </thead>\n",
       "  <tbody>\n",
       "    <tr>\n",
       "      <th>0</th>\n",
       "      <td>1,000.31   doLLaRs</td>\n",
       "      <td>1000.31</td>\n",
       "    </tr>\n",
       "    <tr>\n",
       "      <th>1</th>\n",
       "      <td>54 cents</td>\n",
       "      <td>54</td>\n",
       "    </tr>\n",
       "    <tr>\n",
       "      <th>2</th>\n",
       "      <td>33 CENTS</td>\n",
       "      <td>33</td>\n",
       "    </tr>\n",
       "    <tr>\n",
       "      <th>3</th>\n",
       "      <td>Dollars: 10</td>\n",
       "      <td>10</td>\n",
       "    </tr>\n",
       "  </tbody>\n",
       "</table>\n",
       "</div>"
      ],
      "text/plain": [
       "                        raw quantity\n",
       "0     1,000.31   doLLaRs     1000.31\n",
       "1                54 cents         54\n",
       "2                  33 CENTS       33\n",
       "3               Dollars: 10       10"
      ]
     },
     "execution_count": 40,
     "metadata": {},
     "output_type": "execute_result"
    }
   ],
   "source": [
    "amounts_df[\"quantity\"] = (\n",
    "    amounts_df[\"raw\"]\n",
    "    .str.replace(r\"[^\\.\\d]\", \"\", regex=True)\n",
    ")\n",
    "\n",
    "amounts_df"
   ]
  },
  {
   "cell_type": "code",
   "execution_count": 41,
   "id": "19c6a3d1",
   "metadata": {
    "slideshow": {
     "slide_type": "subslide"
    }
   },
   "outputs": [
    {
     "data": {
      "text/html": [
       "<div>\n",
       "<style scoped>\n",
       "    .dataframe tbody tr th:only-of-type {\n",
       "        vertical-align: middle;\n",
       "    }\n",
       "\n",
       "    .dataframe tbody tr th {\n",
       "        vertical-align: top;\n",
       "    }\n",
       "\n",
       "    .dataframe thead th {\n",
       "        text-align: right;\n",
       "    }\n",
       "</style>\n",
       "<table border=\"1\" class=\"dataframe\">\n",
       "  <thead>\n",
       "    <tr style=\"text-align: right;\">\n",
       "      <th></th>\n",
       "      <th>raw</th>\n",
       "      <th>quantity</th>\n",
       "      <th>is_dollars</th>\n",
       "    </tr>\n",
       "  </thead>\n",
       "  <tbody>\n",
       "    <tr>\n",
       "      <th>0</th>\n",
       "      <td>1,000.31   doLLaRs</td>\n",
       "      <td>1000.31</td>\n",
       "      <td>True</td>\n",
       "    </tr>\n",
       "    <tr>\n",
       "      <th>1</th>\n",
       "      <td>54 cents</td>\n",
       "      <td>54</td>\n",
       "      <td>False</td>\n",
       "    </tr>\n",
       "    <tr>\n",
       "      <th>2</th>\n",
       "      <td>33 CENTS</td>\n",
       "      <td>33</td>\n",
       "      <td>False</td>\n",
       "    </tr>\n",
       "    <tr>\n",
       "      <th>3</th>\n",
       "      <td>Dollars: 10</td>\n",
       "      <td>10</td>\n",
       "      <td>True</td>\n",
       "    </tr>\n",
       "  </tbody>\n",
       "</table>\n",
       "</div>"
      ],
      "text/plain": [
       "                        raw quantity  is_dollars\n",
       "0     1,000.31   doLLaRs     1000.31        True\n",
       "1                54 cents         54       False\n",
       "2                  33 CENTS       33       False\n",
       "3               Dollars: 10       10        True"
      ]
     },
     "execution_count": 41,
     "metadata": {},
     "output_type": "execute_result"
    }
   ],
   "source": [
    "amounts_df[\"is_dollars\"] = (\n",
    "    amounts_df[\"raw\"]\n",
    "    .str.contains(r\"dollars|USD|\\$\", case=False)\n",
    ")\n",
    "\n",
    "amounts_df"
   ]
  },
  {
   "cell_type": "code",
   "execution_count": 42,
   "id": "5b25a9b8",
   "metadata": {},
   "outputs": [
    {
     "data": {
      "text/html": [
       "<div>\n",
       "<style scoped>\n",
       "    .dataframe tbody tr th:only-of-type {\n",
       "        vertical-align: middle;\n",
       "    }\n",
       "\n",
       "    .dataframe tbody tr th {\n",
       "        vertical-align: top;\n",
       "    }\n",
       "\n",
       "    .dataframe thead th {\n",
       "        text-align: right;\n",
       "    }\n",
       "</style>\n",
       "<table border=\"1\" class=\"dataframe\">\n",
       "  <thead>\n",
       "    <tr style=\"text-align: right;\">\n",
       "      <th></th>\n",
       "      <th>raw</th>\n",
       "      <th>quantity</th>\n",
       "      <th>is_dollars</th>\n",
       "      <th>conversion</th>\n",
       "    </tr>\n",
       "  </thead>\n",
       "  <tbody>\n",
       "    <tr>\n",
       "      <th>0</th>\n",
       "      <td>1,000.31   doLLaRs</td>\n",
       "      <td>1000.31</td>\n",
       "      <td>True</td>\n",
       "      <td>1.00</td>\n",
       "    </tr>\n",
       "    <tr>\n",
       "      <th>1</th>\n",
       "      <td>54 cents</td>\n",
       "      <td>54</td>\n",
       "      <td>False</td>\n",
       "      <td>0.01</td>\n",
       "    </tr>\n",
       "    <tr>\n",
       "      <th>2</th>\n",
       "      <td>33 CENTS</td>\n",
       "      <td>33</td>\n",
       "      <td>False</td>\n",
       "      <td>0.01</td>\n",
       "    </tr>\n",
       "    <tr>\n",
       "      <th>3</th>\n",
       "      <td>Dollars: 10</td>\n",
       "      <td>10</td>\n",
       "      <td>True</td>\n",
       "      <td>1.00</td>\n",
       "    </tr>\n",
       "  </tbody>\n",
       "</table>\n",
       "</div>"
      ],
      "text/plain": [
       "                        raw quantity  is_dollars  conversion\n",
       "0     1,000.31   doLLaRs     1000.31        True        1.00\n",
       "1                54 cents         54       False        0.01\n",
       "2                  33 CENTS       33       False        0.01\n",
       "3               Dollars: 10       10        True        1.00"
      ]
     },
     "execution_count": 42,
     "metadata": {},
     "output_type": "execute_result"
    }
   ],
   "source": [
    "def get_conversion(is_dollars):\n",
    "    if is_dollars:\n",
    "        return 1\n",
    "    else:\n",
    "        return 0.01\n",
    "    \n",
    "amounts_df[\"conversion\"] = amounts_df[\"is_dollars\"].apply(get_conversion)\n",
    "amounts_df"
   ]
  },
  {
   "cell_type": "markdown",
   "id": "5dd54223",
   "metadata": {
    "slideshow": {
     "slide_type": "skip"
    }
   },
   "source": [
    "---\n",
    "\n",
    "---\n",
    "\n",
    "---"
   ]
  }
 ],
 "metadata": {
  "celltoolbar": "Slideshow",
  "kernelspec": {
   "display_name": "Python 3 (ipykernel)",
   "language": "python",
   "name": "python3"
  },
  "language_info": {
   "codemirror_mode": {
    "name": "ipython",
    "version": 3
   },
   "file_extension": ".py",
   "mimetype": "text/x-python",
   "name": "python",
   "nbconvert_exporter": "python",
   "pygments_lexer": "ipython3",
   "version": "3.10.4"
  }
 },
 "nbformat": 4,
 "nbformat_minor": 5
}
