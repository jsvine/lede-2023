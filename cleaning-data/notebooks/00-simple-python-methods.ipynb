{
 "cells": [
  {
   "cell_type": "markdown",
   "id": "d05c467b",
   "metadata": {
    "slideshow": {
     "slide_type": "slide"
    }
   },
   "source": [
    "# 🧹 Cleaning Data, Part 1: Helpful Python Functions\n",
    "\n",
    "*Basic methods for common issues.*"
   ]
  },
  {
   "cell_type": "markdown",
   "id": "1b5264f0",
   "metadata": {
    "slideshow": {
     "slide_type": "slide"
    }
   },
   "source": [
    "As you've probably gathered from your coursework so far, computer programs take things very literally. Differences that look small to humans — such as `\"1,000 dollars\"` vs. `\"1000 dollars\"` — can cause problems for computation."
   ]
  },
  {
   "cell_type": "markdown",
   "id": "41ac624a",
   "metadata": {
    "slideshow": {
     "slide_type": "subslide"
    }
   },
   "source": [
    "The data we get is rarely as clean as we'd like. So let's explore some options for cleaning.\n",
    "\n",
    "For starters, let's take a tour of common Python functions that can help."
   ]
  },
  {
   "cell_type": "markdown",
   "id": "3002c503",
   "metadata": {
    "slideshow": {
     "slide_type": "slide"
    }
   },
   "source": [
    "## Some common ways data can be messy"
   ]
  },
  {
   "cell_type": "markdown",
   "id": "e404f454",
   "metadata": {
    "slideshow": {
     "slide_type": "subslide"
    }
   },
   "source": [
    "__Problem__: Leading/trailing whitespace (or other characters)\n",
    "\n",
    "__Examples__:\n",
    "    \n",
    "- `Fish tacos    `\n",
    "- `    Fish tacos`\n",
    "- `   Fish tacos   `\n",
    "\n",
    "__Solution__: `.strip(...)`"
   ]
  },
  {
   "cell_type": "code",
   "execution_count": 1,
   "id": "4440755c",
   "metadata": {
    "slideshow": {
     "slide_type": "subslide"
    }
   },
   "outputs": [
    {
     "data": {
      "text/plain": [
       "'Fish tacos'"
      ]
     },
     "execution_count": 1,
     "metadata": {},
     "output_type": "execute_result"
    }
   ],
   "source": [
    "\"Fish tacos    \".strip()"
   ]
  },
  {
   "cell_type": "code",
   "execution_count": 2,
   "id": "433d6a8e",
   "metadata": {
    "slideshow": {
     "slide_type": "-"
    }
   },
   "outputs": [
    {
     "data": {
      "text/plain": [
       "'Fish tacos'"
      ]
     },
     "execution_count": 2,
     "metadata": {},
     "output_type": "execute_result"
    }
   ],
   "source": [
    "\"    Fish tacos\".strip()"
   ]
  },
  {
   "cell_type": "code",
   "execution_count": 3,
   "id": "3b6cca07",
   "metadata": {
    "slideshow": {
     "slide_type": "-"
    }
   },
   "outputs": [
    {
     "data": {
      "text/plain": [
       "'Fish tacos'"
      ]
     },
     "execution_count": 3,
     "metadata": {},
     "output_type": "execute_result"
    }
   ],
   "source": [
    "\"   Fish tacos   \".strip()"
   ]
  },
  {
   "cell_type": "markdown",
   "id": "027ded02",
   "metadata": {
    "slideshow": {
     "slide_type": "subslide"
    }
   },
   "source": [
    "By default, `.strip(...)` removes leading/trailing whitespace, but you can also tell it to remove different/other characters:"
   ]
  },
  {
   "cell_type": "code",
   "execution_count": 4,
   "id": "b1e5a713",
   "metadata": {
    "slideshow": {
     "slide_type": "-"
    }
   },
   "outputs": [
    {
     "data": {
      "text/plain": [
       "'Fish tacos'"
      ]
     },
     "execution_count": 4,
     "metadata": {},
     "output_type": "execute_result"
    }
   ],
   "source": [
    "\"///Fish tacos///\".strip(\"/\")"
   ]
  },
  {
   "cell_type": "code",
   "execution_count": 5,
   "id": "b29e2fac",
   "metadata": {
    "slideshow": {
     "slide_type": "-"
    }
   },
   "outputs": [
    {
     "data": {
      "text/plain": [
       "' / /Fish tacos/ / '"
      ]
     },
     "execution_count": 5,
     "metadata": {},
     "output_type": "execute_result"
    }
   ],
   "source": [
    "\"/ / /Fish tacos/ / /\".strip(\"/\")"
   ]
  },
  {
   "cell_type": "code",
   "execution_count": 6,
   "id": "e038707b",
   "metadata": {
    "slideshow": {
     "slide_type": "-"
    }
   },
   "outputs": [
    {
     "data": {
      "text/plain": [
       "'Fish tacos'"
      ]
     },
     "execution_count": 6,
     "metadata": {},
     "output_type": "execute_result"
    }
   ],
   "source": [
    "\"/ / /Fish tacos/ / /\".strip(\"/ \")"
   ]
  },
  {
   "cell_type": "markdown",
   "id": "1d1b7501",
   "metadata": {
    "slideshow": {
     "slide_type": "subslide"
    }
   },
   "source": [
    "__Problem__: Extra/junk characters elsewhere\n",
    "\n",
    "__Examples__:\n",
    "    \n",
    "- `1,000`\n",
    "- `I_want_spaces_instead`\n",
    "- `jsvine AT gmail DOT com`\n",
    "\n",
    "__Solution__: `.replace(...)`"
   ]
  },
  {
   "cell_type": "code",
   "execution_count": 7,
   "id": "cfd9ba1f",
   "metadata": {
    "slideshow": {
     "slide_type": "subslide"
    },
    "tags": [
     "raises-exception"
    ]
   },
   "outputs": [
    {
     "ename": "ValueError",
     "evalue": "invalid literal for int() with base 10: '1,000'",
     "output_type": "error",
     "traceback": [
      "\u001b[0;31m---------------------------------------------------------------------------\u001b[0m",
      "\u001b[0;31mValueError\u001b[0m                                Traceback (most recent call last)",
      "Cell \u001b[0;32mIn[7], line 1\u001b[0m\n\u001b[0;32m----> 1\u001b[0m \u001b[38;5;28;43mint\u001b[39;49m\u001b[43m(\u001b[49m\u001b[38;5;124;43m\"\u001b[39;49m\u001b[38;5;124;43m1,000\u001b[39;49m\u001b[38;5;124;43m\"\u001b[39;49m\u001b[43m)\u001b[49m\n",
      "\u001b[0;31mValueError\u001b[0m: invalid literal for int() with base 10: '1,000'"
     ]
    }
   ],
   "source": [
    "int(\"1,000\")"
   ]
  },
  {
   "cell_type": "code",
   "execution_count": 8,
   "id": "e2b27be5",
   "metadata": {
    "slideshow": {
     "slide_type": "fragment"
    }
   },
   "outputs": [
    {
     "data": {
      "text/plain": [
       "'1000'"
      ]
     },
     "execution_count": 8,
     "metadata": {},
     "output_type": "execute_result"
    }
   ],
   "source": [
    "\"1,000\".replace(\",\", \"\")"
   ]
  },
  {
   "cell_type": "code",
   "execution_count": 9,
   "id": "543d005a",
   "metadata": {
    "slideshow": {
     "slide_type": "fragment"
    }
   },
   "outputs": [
    {
     "data": {
      "text/plain": [
       "1000"
      ]
     },
     "execution_count": 9,
     "metadata": {},
     "output_type": "execute_result"
    }
   ],
   "source": [
    "int(\"1,000\".replace(\",\", \"\"))"
   ]
  },
  {
   "cell_type": "code",
   "execution_count": 10,
   "id": "e8b69b1d",
   "metadata": {
    "slideshow": {
     "slide_type": "subslide"
    }
   },
   "outputs": [
    {
     "data": {
      "text/plain": [
       "'I want spaces instead'"
      ]
     },
     "execution_count": 10,
     "metadata": {},
     "output_type": "execute_result"
    }
   ],
   "source": [
    "\"I_want_spaces_instead\".replace(\"_\", \" \")"
   ]
  },
  {
   "cell_type": "code",
   "execution_count": 11,
   "id": "f7a0d0f9",
   "metadata": {
    "slideshow": {
     "slide_type": "-"
    }
   },
   "outputs": [
    {
     "data": {
      "text/plain": [
       "'jsvine@gmail.com'"
      ]
     },
     "execution_count": 11,
     "metadata": {},
     "output_type": "execute_result"
    }
   ],
   "source": [
    "\"jsvine AT gmail DOT com\".replace(\" AT \", \"@\").replace(\" DOT \", \".\")"
   ]
  },
  {
   "cell_type": "markdown",
   "id": "e3ba698d",
   "metadata": {
    "slideshow": {
     "slide_type": "subslide"
    }
   },
   "source": [
    "__Problem__: Inconsistent upper/lower-casing\n",
    "\n",
    "__Examples__:\n",
    "\n",
    "- `Lede Program`\n",
    "- `LEDE PROGRAM`\n",
    "- `LeDe PROgram`\n",
    "\n",
    "__Solution__: `.upper()`/`.lower()`/`.title()`"
   ]
  },
  {
   "cell_type": "code",
   "execution_count": 12,
   "id": "8a045e36",
   "metadata": {
    "slideshow": {
     "slide_type": "subslide"
    },
    "tags": [
     "raises-exception"
    ]
   },
   "outputs": [
    {
     "data": {
      "text/plain": [
       "'LEDE PROGRAM'"
      ]
     },
     "execution_count": 12,
     "metadata": {},
     "output_type": "execute_result"
    }
   ],
   "source": [
    "\"LeDe PROgram\".upper()"
   ]
  },
  {
   "cell_type": "code",
   "execution_count": 13,
   "id": "f9cb44bc",
   "metadata": {
    "slideshow": {
     "slide_type": "-"
    },
    "tags": [
     "raises-exception"
    ]
   },
   "outputs": [
    {
     "data": {
      "text/plain": [
       "'lede program'"
      ]
     },
     "execution_count": 13,
     "metadata": {},
     "output_type": "execute_result"
    }
   ],
   "source": [
    "\"LeDe PROgram\".lower()"
   ]
  },
  {
   "cell_type": "code",
   "execution_count": 14,
   "id": "a885dc30",
   "metadata": {
    "slideshow": {
     "slide_type": "-"
    },
    "tags": [
     "raises-exception"
    ]
   },
   "outputs": [
    {
     "data": {
      "text/plain": [
       "'Lede Program'"
      ]
     },
     "execution_count": 14,
     "metadata": {},
     "output_type": "execute_result"
    }
   ],
   "source": [
    "\"LeDe PROgram\".title()"
   ]
  },
  {
   "cell_type": "markdown",
   "id": "470630c1",
   "metadata": {
    "slideshow": {
     "slide_type": "subslide"
    }
   },
   "source": [
    "__Problem__: One string contains 2+ chunks of information\n",
    "\n",
    "__Examples__:\n",
    "\n",
    "- `10 kgs`\n",
    "- `Smith, Jane`\n",
    "- `05/31/2023`\n",
    "\n",
    "__Solution__: `.split(...)`"
   ]
  },
  {
   "cell_type": "code",
   "execution_count": 15,
   "id": "87534372",
   "metadata": {
    "slideshow": {
     "slide_type": "subslide"
    },
    "tags": [
     "raises-exception"
    ]
   },
   "outputs": [
    {
     "data": {
      "text/plain": [
       "['10', 'kgs']"
      ]
     },
     "execution_count": 15,
     "metadata": {},
     "output_type": "execute_result"
    }
   ],
   "source": [
    "\"10 kgs\".split(\" \")"
   ]
  },
  {
   "cell_type": "code",
   "execution_count": 16,
   "id": "dc6777c0",
   "metadata": {
    "slideshow": {
     "slide_type": "-"
    }
   },
   "outputs": [
    {
     "data": {
      "text/plain": [
       "'10'"
      ]
     },
     "execution_count": 16,
     "metadata": {},
     "output_type": "execute_result"
    }
   ],
   "source": [
    "\"10 kgs\".split(\" \")[0]"
   ]
  },
  {
   "cell_type": "code",
   "execution_count": 17,
   "id": "54810b58",
   "metadata": {
    "slideshow": {
     "slide_type": "-"
    }
   },
   "outputs": [
    {
     "data": {
      "text/plain": [
       "10"
      ]
     },
     "execution_count": 17,
     "metadata": {},
     "output_type": "execute_result"
    }
   ],
   "source": [
    "int(\"10 kgs\".split(\" \")[0])"
   ]
  },
  {
   "cell_type": "code",
   "execution_count": 18,
   "id": "5ac92db2",
   "metadata": {
    "slideshow": {
     "slide_type": "subslide"
    }
   },
   "outputs": [
    {
     "data": {
      "text/plain": [
       "['Smith', 'Jane']"
      ]
     },
     "execution_count": 18,
     "metadata": {},
     "output_type": "execute_result"
    }
   ],
   "source": [
    "\"Smith, Jane\".split(\", \")"
   ]
  },
  {
   "cell_type": "code",
   "execution_count": 19,
   "id": "ec05c0c7",
   "metadata": {
    "slideshow": {
     "slide_type": "-"
    }
   },
   "outputs": [
    {
     "name": "stdout",
     "output_type": "stream",
     "text": [
      "Jane Smith\n"
     ]
    }
   ],
   "source": [
    "last, first = \"Smith, Jane\".split(\", \")\n",
    "print(f\"{first} {last}\")"
   ]
  },
  {
   "cell_type": "code",
   "execution_count": 20,
   "id": "3296ed8e",
   "metadata": {
    "slideshow": {
     "slide_type": "-"
    }
   },
   "outputs": [
    {
     "name": "stdout",
     "output_type": "stream",
     "text": [
      "2023-05-31\n"
     ]
    }
   ],
   "source": [
    "m, d, y = \"05/31/2023\".split(\"/\")\n",
    "print(\"-\".join([y, m, d]))"
   ]
  },
  {
   "cell_type": "markdown",
   "id": "1ce0b05e",
   "metadata": {
    "slideshow": {
     "slide_type": "slide"
    }
   },
   "source": [
    "## Exercise\n",
    "\n",
    "Write Python code that takes prints the total amount of money defined by this list:"
   ]
  },
  {
   "cell_type": "code",
   "execution_count": 21,
   "id": "f7517d1c",
   "metadata": {
    "slideshow": {
     "slide_type": "-"
    }
   },
   "outputs": [],
   "source": [
    "amounts = [\n",
    "    \"   1,000.31   doLLaRs   \",\n",
    "    \"500 Dollars  \",\n",
    "    \"25.03 USD\",\n",
    "    \"$10\"\n",
    "]"
   ]
  },
  {
   "cell_type": "markdown",
   "id": "9adc5c24",
   "metadata": {
    "slideshow": {
     "slide_type": "subslide"
    }
   },
   "source": [
    "## Exercise, Part 2\n",
    "\n",
    "Using the same list, write a function that causes the `sum(...)` statement to return the correct amount instead of erroring: "
   ]
  },
  {
   "cell_type": "code",
   "execution_count": 22,
   "id": "1c6f0b20",
   "metadata": {
    "slideshow": {
     "slide_type": "-"
    }
   },
   "outputs": [],
   "source": [
    "def clean_amount(amt):\n",
    "    return amt"
   ]
  },
  {
   "cell_type": "code",
   "execution_count": 23,
   "id": "a0c6bc1c",
   "metadata": {
    "slideshow": {
     "slide_type": "-"
    },
    "tags": [
     "raises-exception"
    ]
   },
   "outputs": [
    {
     "ename": "TypeError",
     "evalue": "unsupported operand type(s) for +: 'int' and 'str'",
     "output_type": "error",
     "traceback": [
      "\u001b[0;31m---------------------------------------------------------------------------\u001b[0m",
      "\u001b[0;31mTypeError\u001b[0m                                 Traceback (most recent call last)",
      "Cell \u001b[0;32mIn[23], line 1\u001b[0m\n\u001b[0;32m----> 1\u001b[0m \u001b[38;5;28;43msum\u001b[39;49m\u001b[43m(\u001b[49m\u001b[43mclean_amount\u001b[49m\u001b[43m(\u001b[49m\u001b[43ma\u001b[49m\u001b[43m)\u001b[49m\u001b[43m \u001b[49m\u001b[38;5;28;43;01mfor\u001b[39;49;00m\u001b[43m \u001b[49m\u001b[43ma\u001b[49m\u001b[43m \u001b[49m\u001b[38;5;129;43;01min\u001b[39;49;00m\u001b[43m \u001b[49m\u001b[43mamounts\u001b[49m\u001b[43m)\u001b[49m\n",
      "\u001b[0;31mTypeError\u001b[0m: unsupported operand type(s) for +: 'int' and 'str'"
     ]
    }
   ],
   "source": [
    "sum(clean_amount(a) for a in amounts)"
   ]
  },
  {
   "cell_type": "markdown",
   "id": "8d2e5c7e",
   "metadata": {
    "slideshow": {
     "slide_type": "subslide"
    }
   },
   "source": [
    "My solution:"
   ]
  },
  {
   "cell_type": "code",
   "execution_count": 24,
   "id": "8abe6f22",
   "metadata": {
    "slideshow": {
     "slide_type": "-"
    }
   },
   "outputs": [
    {
     "data": {
      "text/plain": [
       "1535.34"
      ]
     },
     "execution_count": 24,
     "metadata": {},
     "output_type": "execute_result"
    }
   ],
   "source": [
    "def clean_amount(amt):\n",
    "    amt = amt.strip(\"$ \")\n",
    "    amt = amt.replace(\",\", \"\")\n",
    "    amt = amt.split(\" \")[0]\n",
    "    return float(amt)\n",
    "\n",
    "sum(clean_amount(a) for a in amounts)"
   ]
  },
  {
   "cell_type": "markdown",
   "id": "051cb6b7",
   "metadata": {
    "slideshow": {
     "slide_type": "subslide"
    }
   },
   "source": [
    "## Exercise, Part 3\n",
    "\n",
    "Now let's try to do the same, but with this new wrinkle:"
   ]
  },
  {
   "cell_type": "code",
   "execution_count": 25,
   "id": "d6a48420",
   "metadata": {
    "slideshow": {
     "slide_type": "-"
    }
   },
   "outputs": [],
   "source": [
    "amounts = [\n",
    "    \"   1,000.31   doLLaRs   \",\n",
    "    \"54 cents  \",\n",
    "    \"33 CENTS\",\n",
    "    \"$10\"\n",
    "]"
   ]
  },
  {
   "cell_type": "code",
   "execution_count": 26,
   "id": "718ef2be",
   "metadata": {
    "slideshow": {
     "slide_type": "subslide"
    }
   },
   "outputs": [
    {
     "data": {
      "text/plain": [
       "1011.18"
      ]
     },
     "execution_count": 26,
     "metadata": {},
     "output_type": "execute_result"
    }
   ],
   "source": [
    "def clean_amount(amt):\n",
    "    if \"$\" in amt or \"dollar\" in amt.lower():\n",
    "        conversion = 1\n",
    "    elif \"cent\" in amt.lower():\n",
    "        conversion = 0.01\n",
    "    else:\n",
    "        raise ValueError(f\"Cannot determine unit for {amt}\")\n",
    "        \n",
    "    amt = amt.strip(\"$ \")\n",
    "    amt = amt.replace(\",\", \"\")\n",
    "    amt = amt.split(\" \")[0]\n",
    "    return float(amt) * conversion\n",
    "\n",
    "sum(clean_amount(a) for a in amounts)"
   ]
  },
  {
   "cell_type": "markdown",
   "id": "5dd54223",
   "metadata": {
    "slideshow": {
     "slide_type": "skip"
    }
   },
   "source": [
    "---\n",
    "\n",
    "---\n",
    "\n",
    "---"
   ]
  }
 ],
 "metadata": {
  "celltoolbar": "Slideshow",
  "kernelspec": {
   "display_name": "Python 3 (ipykernel)",
   "language": "python",
   "name": "python3"
  },
  "language_info": {
   "codemirror_mode": {
    "name": "ipython",
    "version": 3
   },
   "file_extension": ".py",
   "mimetype": "text/x-python",
   "name": "python",
   "nbconvert_exporter": "python",
   "pygments_lexer": "ipython3",
   "version": "3.10.4"
  }
 },
 "nbformat": 4,
 "nbformat_minor": 5
}
