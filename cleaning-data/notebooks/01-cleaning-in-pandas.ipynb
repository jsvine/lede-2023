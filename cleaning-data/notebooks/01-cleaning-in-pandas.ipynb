{
 "cells": [
  {
   "cell_type": "markdown",
   "id": "7edcd4d3",
   "metadata": {
    "slideshow": {
     "slide_type": "slide"
    }
   },
   "source": [
    "# 🧹 Cleaning Data, Part 2: Cleaning in Pandas\n",
    "\n",
    "*Same idea, different style.*"
   ]
  },
  {
   "cell_type": "markdown",
   "id": "7231cef5",
   "metadata": {
    "slideshow": {
     "slide_type": "slide"
    }
   },
   "source": [
    "Let's take that same list of amount descriptions, but this time make it a Pandas `Series`:"
   ]
  },
  {
   "cell_type": "code",
   "execution_count": 1,
   "id": "35ae054c",
   "metadata": {
    "slideshow": {
     "slide_type": "-"
    }
   },
   "outputs": [],
   "source": [
    "import pandas as pd"
   ]
  },
  {
   "cell_type": "code",
   "execution_count": 2,
   "id": "449ac477",
   "metadata": {
    "slideshow": {
     "slide_type": "-"
    }
   },
   "outputs": [
    {
     "data": {
      "text/plain": [
       "0       1,000.31   doLLaRs   \n",
       "1                  54 cents  \n",
       "2                    33 CENTS\n",
       "3                         $10\n",
       "dtype: object"
      ]
     },
     "execution_count": 2,
     "metadata": {},
     "output_type": "execute_result"
    }
   ],
   "source": [
    "amounts = pd.Series([\n",
    "    \"   1,000.31   doLLaRs   \",\n",
    "    \"54 cents  \",\n",
    "    \"33 CENTS\",\n",
    "    \"$10\"\n",
    "])\n",
    "\n",
    "amounts"
   ]
  },
  {
   "cell_type": "markdown",
   "id": "4020af42",
   "metadata": {
    "slideshow": {
     "slide_type": "subslide"
    }
   },
   "source": [
    "In Pandas, you can use the same methods we explored in plain Python, but you access them through each Series' `.str` attribute:\n",
    "\n",
    "|Plain|Pandas|\n",
    "|:-----|:------|\n",
    "|`my_string.strip()`|`my_series.str.strip()`|\n",
    "|`my_string.replace(\"a\", \"b\")`|`my_series.str.replace(\"a\", \"b\")`|\n",
    "|... and so on||"
   ]
  },
  {
   "cell_type": "markdown",
   "id": "8298e787",
   "metadata": {
    "slideshow": {
     "slide_type": "subslide"
    }
   },
   "source": [
    "Let's try it out:"
   ]
  },
  {
   "cell_type": "code",
   "execution_count": 3,
   "id": "57da6335",
   "metadata": {
    "slideshow": {
     "slide_type": "-"
    }
   },
   "outputs": [
    {
     "data": {
      "text/plain": [
       "0    1,000.31   doLLaRs\n",
       "1              54 cents\n",
       "2              33 CENTS\n",
       "3                    10\n",
       "dtype: object"
      ]
     },
     "execution_count": 3,
     "metadata": {},
     "output_type": "execute_result"
    }
   ],
   "source": [
    "amounts.str.strip(\"$ \")"
   ]
  },
  {
   "cell_type": "code",
   "execution_count": 4,
   "id": "962618f9",
   "metadata": {
    "slideshow": {
     "slide_type": "subslide"
    }
   },
   "outputs": [
    {
     "data": {
      "text/plain": [
       "0       1000.31   doLLaRs   \n",
       "1                 54 cents  \n",
       "2                   33 CENTS\n",
       "3                        $10\n",
       "dtype: object"
      ]
     },
     "execution_count": 4,
     "metadata": {},
     "output_type": "execute_result"
    }
   ],
   "source": [
    "amounts.str.replace(\",\", \"\")"
   ]
  },
  {
   "cell_type": "code",
   "execution_count": 5,
   "id": "988af05e",
   "metadata": {
    "slideshow": {
     "slide_type": "subslide"
    }
   },
   "outputs": [
    {
     "data": {
      "text/plain": [
       "0       1,000.31   dollars   \n",
       "1                  54 cents  \n",
       "2                    33 cents\n",
       "3                         $10\n",
       "dtype: object"
      ]
     },
     "execution_count": 5,
     "metadata": {},
     "output_type": "execute_result"
    }
   ],
   "source": [
    "amounts.str.lower()"
   ]
  },
  {
   "cell_type": "code",
   "execution_count": 6,
   "id": "15700706",
   "metadata": {
    "slideshow": {
     "slide_type": "subslide"
    }
   },
   "outputs": [
    {
     "data": {
      "text/plain": [
       "0    [, , , 1,000.31, , , doLLaRs, , , ]\n",
       "1                        [54, cents, , ]\n",
       "2                            [33, CENTS]\n",
       "3                                  [$10]\n",
       "dtype: object"
      ]
     },
     "execution_count": 6,
     "metadata": {},
     "output_type": "execute_result"
    }
   ],
   "source": [
    "amounts.str.split(\" \")"
   ]
  },
  {
   "cell_type": "markdown",
   "id": "bdb40a20",
   "metadata": {
    "slideshow": {
     "slide_type": "subslide"
    }
   },
   "source": [
    "`.str.get(num)` is helpful to combine with `.str.split(...)`. It's equivalent to `my_list[num]` in plain Python:"
   ]
  },
  {
   "cell_type": "code",
   "execution_count": 7,
   "id": "9f92ee60",
   "metadata": {
    "slideshow": {
     "slide_type": "subslide"
    }
   },
   "outputs": [
    {
     "data": {
      "text/plain": [
       "0    [, , , 1,000.31, , , doLLaRs, , , ]\n",
       "1                        [54, cents, , ]\n",
       "2                            [33, CENTS]\n",
       "3                                  [$10]\n",
       "dtype: object"
      ]
     },
     "execution_count": 7,
     "metadata": {},
     "output_type": "execute_result"
    }
   ],
   "source": [
    "amounts.str.split(\" \")"
   ]
  },
  {
   "cell_type": "code",
   "execution_count": 8,
   "id": "e12f293d",
   "metadata": {
    "slideshow": {
     "slide_type": "-"
    }
   },
   "outputs": [
    {
     "data": {
      "text/plain": [
       "0       \n",
       "1     54\n",
       "2     33\n",
       "3    $10\n",
       "dtype: object"
      ]
     },
     "execution_count": 8,
     "metadata": {},
     "output_type": "execute_result"
    }
   ],
   "source": [
    "amounts.str.split(\" \").str.get(0)"
   ]
  },
  {
   "cell_type": "code",
   "execution_count": 9,
   "id": "922903ec",
   "metadata": {
    "slideshow": {
     "slide_type": "subslide"
    }
   },
   "outputs": [
    {
     "data": {
      "text/plain": [
       "0         \n",
       "1         \n",
       "2    CENTS\n",
       "3      $10\n",
       "dtype: object"
      ]
     },
     "execution_count": 9,
     "metadata": {},
     "output_type": "execute_result"
    }
   ],
   "source": [
    "amounts.str.split(\" \").str.get(-1)"
   ]
  },
  {
   "cell_type": "markdown",
   "id": "86978be0",
   "metadata": {
    "slideshow": {
     "slide_type": "subslide"
    }
   },
   "source": [
    "Now, let's put it all together to get the __quantities__ from the amount descriptions (ignoring, for now, whether they represent the number of dollars or cents):"
   ]
  },
  {
   "cell_type": "code",
   "execution_count": 10,
   "id": "fac31935",
   "metadata": {
    "slideshow": {
     "slide_type": "-"
    }
   },
   "outputs": [
    {
     "data": {
      "text/plain": [
       "0    1000.31\n",
       "1         54\n",
       "2         33\n",
       "3         10\n",
       "dtype: object"
      ]
     },
     "execution_count": 10,
     "metadata": {},
     "output_type": "execute_result"
    }
   ],
   "source": [
    "(\n",
    "    amounts\n",
    "    .str.strip(\"$ \")\n",
    "    .str.replace(\",\", \"\")\n",
    "    .str.split()\n",
    "    .str.get(0)\n",
    ")"
   ]
  },
  {
   "cell_type": "markdown",
   "id": "d3448477",
   "metadata": {
    "slideshow": {
     "slide_type": "subslide"
    }
   },
   "source": [
    "For handing dollars vs. cents, there are a couple of ways to do it:\n",
    "\n",
    "- A very Pandas-y way (works, but a bit overly complex)\n",
    "- Just writing a normal Python function, and passing it to `amounts.apply(...)`"
   ]
  },
  {
   "cell_type": "code",
   "execution_count": 11,
   "id": "84d4cfe3",
   "metadata": {
    "slideshow": {
     "slide_type": "subslide"
    }
   },
   "outputs": [],
   "source": [
    "def get_conversion(amt):\n",
    "    if \"$\" in amt or \"dollar\" in amt.lower():\n",
    "        conversion = 1\n",
    "    elif \"cent\" in amt.lower():\n",
    "        conversion = 0.01\n",
    "    else:\n",
    "        raise ValueError(f\"Cannot determine unit for {amt}\")\n",
    "    return conversion"
   ]
  },
  {
   "cell_type": "code",
   "execution_count": 12,
   "id": "4ba0659d",
   "metadata": {
    "slideshow": {
     "slide_type": "-"
    }
   },
   "outputs": [
    {
     "data": {
      "text/plain": [
       "0    1.00\n",
       "1    0.01\n",
       "2    0.01\n",
       "3    1.00\n",
       "dtype: float64"
      ]
     },
     "execution_count": 12,
     "metadata": {},
     "output_type": "execute_result"
    }
   ],
   "source": [
    "amounts.apply(get_conversion)"
   ]
  },
  {
   "cell_type": "markdown",
   "id": "b5f20ee2",
   "metadata": {
    "slideshow": {
     "slide_type": "slide"
    }
   },
   "source": [
    "Let's tie it all together, creating a `DataFrame` with:\n",
    "\n",
    "- The raw, original description\n",
    "- The quantity extracted\n",
    "- The conversion factor\n",
    "\n",
    "... which we'll use to convert to the dollars-normalized values, so we can `sum` it all up."
   ]
  },
  {
   "cell_type": "code",
   "execution_count": 13,
   "id": "1bd0c0e6",
   "metadata": {
    "slideshow": {
     "slide_type": "subslide"
    }
   },
   "outputs": [
    {
     "data": {
      "text/html": [
       "<div>\n",
       "<style scoped>\n",
       "    .dataframe tbody tr th:only-of-type {\n",
       "        vertical-align: middle;\n",
       "    }\n",
       "\n",
       "    .dataframe tbody tr th {\n",
       "        vertical-align: top;\n",
       "    }\n",
       "\n",
       "    .dataframe thead th {\n",
       "        text-align: right;\n",
       "    }\n",
       "</style>\n",
       "<table border=\"1\" class=\"dataframe\">\n",
       "  <thead>\n",
       "    <tr style=\"text-align: right;\">\n",
       "      <th></th>\n",
       "      <th>raw</th>\n",
       "    </tr>\n",
       "  </thead>\n",
       "  <tbody>\n",
       "    <tr>\n",
       "      <th>0</th>\n",
       "      <td>1,000.31   doLLaRs</td>\n",
       "    </tr>\n",
       "    <tr>\n",
       "      <th>1</th>\n",
       "      <td>54 cents</td>\n",
       "    </tr>\n",
       "    <tr>\n",
       "      <th>2</th>\n",
       "      <td>33 CENTS</td>\n",
       "    </tr>\n",
       "    <tr>\n",
       "      <th>3</th>\n",
       "      <td>$10</td>\n",
       "    </tr>\n",
       "  </tbody>\n",
       "</table>\n",
       "</div>"
      ],
      "text/plain": [
       "                        raw\n",
       "0     1,000.31   doLLaRs   \n",
       "1                54 cents  \n",
       "2                  33 CENTS\n",
       "3                       $10"
      ]
     },
     "execution_count": 13,
     "metadata": {},
     "output_type": "execute_result"
    }
   ],
   "source": [
    "amounts_df = pd.DataFrame({\n",
    "    \"raw\": amounts\n",
    "})\n",
    "\n",
    "amounts_df"
   ]
  },
  {
   "cell_type": "code",
   "execution_count": 14,
   "id": "5681fdae",
   "metadata": {
    "slideshow": {
     "slide_type": "subslide"
    }
   },
   "outputs": [
    {
     "data": {
      "text/html": [
       "<div>\n",
       "<style scoped>\n",
       "    .dataframe tbody tr th:only-of-type {\n",
       "        vertical-align: middle;\n",
       "    }\n",
       "\n",
       "    .dataframe tbody tr th {\n",
       "        vertical-align: top;\n",
       "    }\n",
       "\n",
       "    .dataframe thead th {\n",
       "        text-align: right;\n",
       "    }\n",
       "</style>\n",
       "<table border=\"1\" class=\"dataframe\">\n",
       "  <thead>\n",
       "    <tr style=\"text-align: right;\">\n",
       "      <th></th>\n",
       "      <th>raw</th>\n",
       "      <th>quantity</th>\n",
       "    </tr>\n",
       "  </thead>\n",
       "  <tbody>\n",
       "    <tr>\n",
       "      <th>0</th>\n",
       "      <td>1,000.31   doLLaRs</td>\n",
       "      <td>1000.31</td>\n",
       "    </tr>\n",
       "    <tr>\n",
       "      <th>1</th>\n",
       "      <td>54 cents</td>\n",
       "      <td>54.00</td>\n",
       "    </tr>\n",
       "    <tr>\n",
       "      <th>2</th>\n",
       "      <td>33 CENTS</td>\n",
       "      <td>33.00</td>\n",
       "    </tr>\n",
       "    <tr>\n",
       "      <th>3</th>\n",
       "      <td>$10</td>\n",
       "      <td>10.00</td>\n",
       "    </tr>\n",
       "  </tbody>\n",
       "</table>\n",
       "</div>"
      ],
      "text/plain": [
       "                        raw  quantity\n",
       "0     1,000.31   doLLaRs      1000.31\n",
       "1                54 cents       54.00\n",
       "2                  33 CENTS     33.00\n",
       "3                       $10     10.00"
      ]
     },
     "execution_count": 14,
     "metadata": {},
     "output_type": "execute_result"
    }
   ],
   "source": [
    "amounts_df[\"quantity\"] = (\n",
    "    amounts_df[\"raw\"]\n",
    "    .str.strip(\"$ \")\n",
    "    .str.replace(\",\", \"\")\n",
    "    .str.split()\n",
    "    .str.get(0)\n",
    "    .astype(float)\n",
    ")\n",
    "\n",
    "amounts_df"
   ]
  },
  {
   "cell_type": "code",
   "execution_count": 15,
   "id": "55609203",
   "metadata": {
    "slideshow": {
     "slide_type": "subslide"
    }
   },
   "outputs": [
    {
     "data": {
      "text/html": [
       "<div>\n",
       "<style scoped>\n",
       "    .dataframe tbody tr th:only-of-type {\n",
       "        vertical-align: middle;\n",
       "    }\n",
       "\n",
       "    .dataframe tbody tr th {\n",
       "        vertical-align: top;\n",
       "    }\n",
       "\n",
       "    .dataframe thead th {\n",
       "        text-align: right;\n",
       "    }\n",
       "</style>\n",
       "<table border=\"1\" class=\"dataframe\">\n",
       "  <thead>\n",
       "    <tr style=\"text-align: right;\">\n",
       "      <th></th>\n",
       "      <th>raw</th>\n",
       "      <th>quantity</th>\n",
       "      <th>conversion</th>\n",
       "    </tr>\n",
       "  </thead>\n",
       "  <tbody>\n",
       "    <tr>\n",
       "      <th>0</th>\n",
       "      <td>1,000.31   doLLaRs</td>\n",
       "      <td>1000.31</td>\n",
       "      <td>1.00</td>\n",
       "    </tr>\n",
       "    <tr>\n",
       "      <th>1</th>\n",
       "      <td>54 cents</td>\n",
       "      <td>54.00</td>\n",
       "      <td>0.01</td>\n",
       "    </tr>\n",
       "    <tr>\n",
       "      <th>2</th>\n",
       "      <td>33 CENTS</td>\n",
       "      <td>33.00</td>\n",
       "      <td>0.01</td>\n",
       "    </tr>\n",
       "    <tr>\n",
       "      <th>3</th>\n",
       "      <td>$10</td>\n",
       "      <td>10.00</td>\n",
       "      <td>1.00</td>\n",
       "    </tr>\n",
       "  </tbody>\n",
       "</table>\n",
       "</div>"
      ],
      "text/plain": [
       "                        raw  quantity  conversion\n",
       "0     1,000.31   doLLaRs      1000.31        1.00\n",
       "1                54 cents       54.00        0.01\n",
       "2                  33 CENTS     33.00        0.01\n",
       "3                       $10     10.00        1.00"
      ]
     },
     "execution_count": 15,
     "metadata": {},
     "output_type": "execute_result"
    }
   ],
   "source": [
    "amounts_df[\"conversion\"] = amounts_df[\"raw\"].apply(get_conversion)\n",
    "\n",
    "amounts_df"
   ]
  },
  {
   "cell_type": "code",
   "execution_count": 16,
   "id": "6f53d8aa",
   "metadata": {
    "slideshow": {
     "slide_type": "subslide"
    }
   },
   "outputs": [
    {
     "data": {
      "text/html": [
       "<div>\n",
       "<style scoped>\n",
       "    .dataframe tbody tr th:only-of-type {\n",
       "        vertical-align: middle;\n",
       "    }\n",
       "\n",
       "    .dataframe tbody tr th {\n",
       "        vertical-align: top;\n",
       "    }\n",
       "\n",
       "    .dataframe thead th {\n",
       "        text-align: right;\n",
       "    }\n",
       "</style>\n",
       "<table border=\"1\" class=\"dataframe\">\n",
       "  <thead>\n",
       "    <tr style=\"text-align: right;\">\n",
       "      <th></th>\n",
       "      <th>raw</th>\n",
       "      <th>quantity</th>\n",
       "      <th>conversion</th>\n",
       "      <th>dollars</th>\n",
       "    </tr>\n",
       "  </thead>\n",
       "  <tbody>\n",
       "    <tr>\n",
       "      <th>0</th>\n",
       "      <td>1,000.31   doLLaRs</td>\n",
       "      <td>1000.31</td>\n",
       "      <td>1.00</td>\n",
       "      <td>1000.31</td>\n",
       "    </tr>\n",
       "    <tr>\n",
       "      <th>1</th>\n",
       "      <td>54 cents</td>\n",
       "      <td>54.00</td>\n",
       "      <td>0.01</td>\n",
       "      <td>0.54</td>\n",
       "    </tr>\n",
       "    <tr>\n",
       "      <th>2</th>\n",
       "      <td>33 CENTS</td>\n",
       "      <td>33.00</td>\n",
       "      <td>0.01</td>\n",
       "      <td>0.33</td>\n",
       "    </tr>\n",
       "    <tr>\n",
       "      <th>3</th>\n",
       "      <td>$10</td>\n",
       "      <td>10.00</td>\n",
       "      <td>1.00</td>\n",
       "      <td>10.00</td>\n",
       "    </tr>\n",
       "  </tbody>\n",
       "</table>\n",
       "</div>"
      ],
      "text/plain": [
       "                        raw  quantity  conversion  dollars\n",
       "0     1,000.31   doLLaRs      1000.31        1.00  1000.31\n",
       "1                54 cents       54.00        0.01     0.54\n",
       "2                  33 CENTS     33.00        0.01     0.33\n",
       "3                       $10     10.00        1.00    10.00"
      ]
     },
     "execution_count": 16,
     "metadata": {},
     "output_type": "execute_result"
    }
   ],
   "source": [
    "amounts_df[\"dollars\"] = amounts_df[\"quantity\"] * amounts_df[\"conversion\"]\n",
    "\n",
    "amounts_df"
   ]
  },
  {
   "cell_type": "code",
   "execution_count": 17,
   "id": "3d7c6c9e",
   "metadata": {
    "slideshow": {
     "slide_type": "fragment"
    }
   },
   "outputs": [
    {
     "data": {
      "text/plain": [
       "1011.18"
      ]
     },
     "execution_count": 17,
     "metadata": {},
     "output_type": "execute_result"
    }
   ],
   "source": [
    "amounts_df[\"dollars\"].sum()"
   ]
  },
  {
   "cell_type": "markdown",
   "id": "0e7c3f4a",
   "metadata": {
    "slideshow": {
     "slide_type": "slide"
    }
   },
   "source": [
    "## Interlude: Chaining in Pandas\n",
    "\n",
    "After using Pandas for (literally 😬) a decade, I've settled on a style that I feel is *my* favorite balance of expressive, flexible, and maintainable. It makes heavy use of `DataFrame.assign()`, method-chaining, and `lambda` functions.\n",
    "\n",
    "For our example exercise, it'd look like this:"
   ]
  },
  {
   "cell_type": "code",
   "execution_count": 18,
   "id": "2ace73d4",
   "metadata": {
    "slideshow": {
     "slide_type": "subslide"
    }
   },
   "outputs": [
    {
     "data": {
      "text/html": [
       "<div>\n",
       "<style scoped>\n",
       "    .dataframe tbody tr th:only-of-type {\n",
       "        vertical-align: middle;\n",
       "    }\n",
       "\n",
       "    .dataframe tbody tr th {\n",
       "        vertical-align: top;\n",
       "    }\n",
       "\n",
       "    .dataframe thead th {\n",
       "        text-align: right;\n",
       "    }\n",
       "</style>\n",
       "<table border=\"1\" class=\"dataframe\">\n",
       "  <thead>\n",
       "    <tr style=\"text-align: right;\">\n",
       "      <th></th>\n",
       "      <th>raw</th>\n",
       "      <th>quantity</th>\n",
       "      <th>conversion</th>\n",
       "      <th>dollars</th>\n",
       "    </tr>\n",
       "  </thead>\n",
       "  <tbody>\n",
       "    <tr>\n",
       "      <th>0</th>\n",
       "      <td>1,000.31   doLLaRs</td>\n",
       "      <td>1000.31</td>\n",
       "      <td>1.00</td>\n",
       "      <td>1000.31</td>\n",
       "    </tr>\n",
       "    <tr>\n",
       "      <th>1</th>\n",
       "      <td>54 cents</td>\n",
       "      <td>54.00</td>\n",
       "      <td>0.01</td>\n",
       "      <td>0.54</td>\n",
       "    </tr>\n",
       "    <tr>\n",
       "      <th>2</th>\n",
       "      <td>33 CENTS</td>\n",
       "      <td>33.00</td>\n",
       "      <td>0.01</td>\n",
       "      <td>0.33</td>\n",
       "    </tr>\n",
       "    <tr>\n",
       "      <th>3</th>\n",
       "      <td>$10</td>\n",
       "      <td>10.00</td>\n",
       "      <td>1.00</td>\n",
       "      <td>10.00</td>\n",
       "    </tr>\n",
       "  </tbody>\n",
       "</table>\n",
       "</div>"
      ],
      "text/plain": [
       "                        raw  quantity  conversion  dollars\n",
       "0     1,000.31   doLLaRs      1000.31        1.00  1000.31\n",
       "1                54 cents       54.00        0.01     0.54\n",
       "2                  33 CENTS     33.00        0.01     0.33\n",
       "3                       $10     10.00        1.00    10.00"
      ]
     },
     "execution_count": 18,
     "metadata": {},
     "output_type": "execute_result"
    }
   ],
   "source": [
    "(\n",
    "    pd.DataFrame({ \"raw\": amounts })\n",
    "    .assign(\n",
    "        quantity = lambda df: (\n",
    "            df[\"raw\"]\n",
    "            .str.strip(\"$ \")\n",
    "            .str.replace(\",\", \"\")\n",
    "            .str.split()\n",
    "            .str.get(0)\n",
    "            .astype(float)\n",
    "        ),\n",
    "        conversion = lambda df: df[\"raw\"].apply(get_conversion),\n",
    "        dollars = lambda df: df[\"quantity\"] * df[\"conversion\"],\n",
    "    )\n",
    ")"
   ]
  },
  {
   "cell_type": "markdown",
   "id": "5dd54223",
   "metadata": {
    "slideshow": {
     "slide_type": "skip"
    }
   },
   "source": [
    "---\n",
    "\n",
    "---\n",
    "\n",
    "---"
   ]
  }
 ],
 "metadata": {
  "celltoolbar": "Slideshow",
  "kernelspec": {
   "display_name": "Python 3 (ipykernel)",
   "language": "python",
   "name": "python3"
  },
  "language_info": {
   "codemirror_mode": {
    "name": "ipython",
    "version": 3
   },
   "file_extension": ".py",
   "mimetype": "text/x-python",
   "name": "python",
   "nbconvert_exporter": "python",
   "pygments_lexer": "ipython3",
   "version": "3.10.4"
  }
 },
 "nbformat": 4,
 "nbformat_minor": 5
}
